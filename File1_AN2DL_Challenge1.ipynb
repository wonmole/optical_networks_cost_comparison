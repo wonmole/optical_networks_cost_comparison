{
  "cells": [
    {
      "cell_type": "code",
      "execution_count": null,
      "metadata": {
        "colab": {
          "base_uri": "https://localhost:8080/"
        },
        "id": "ZXz1Ahrva4NN",
        "outputId": "4bf57a76-e831-4c2a-e0ef-861b1744b98e"
      },
      "outputs": [
        {
          "name": "stdout",
          "output_type": "stream",
          "text": [
            "Mounted at /gdrive\n"
          ]
        }
      ],
      "source": [
        "from google.colab import drive\n",
        "drive.mount('/gdrive')"
      ]
    },
    {
      "cell_type": "code",
      "execution_count": null,
      "metadata": {
        "colab": {
          "base_uri": "https://localhost:8080/"
        },
        "id": "iZ_FE2ILbLb1",
        "outputId": "ad7db10e-6194-437a-9a36-504b01087909"
      },
      "outputs": [
        {
          "name": "stdout",
          "output_type": "stream",
          "text": [
            "/gdrive/My Drive\n"
          ]
        }
      ],
      "source": [
        "%cd /gdrive/My Drive/"
      ]
    },
    {
      "cell_type": "code",
      "execution_count": 1,
      "metadata": {
        "colab": {
          "base_uri": "https://localhost:8080/"
        },
        "id": "AT6Gh6X_NLSo",
        "outputId": "da1d4900-028a-4eea-bc5f-3c22d8e8c91c"
      },
      "outputs": [
        {
          "output_type": "stream",
          "name": "stdout",
          "text": [
            "2.9.2\n"
          ]
        }
      ],
      "source": [
        "import tensorflow as tf\n",
        "import numpy as np\n",
        "import os\n",
        "import random\n",
        "import pandas as pd\n",
        "import seaborn as sns\n",
        "import matplotlib as mpl\n",
        "import matplotlib.pyplot as plt\n",
        "from sklearn.model_selection import train_test_split\n",
        "from sklearn.metrics import accuracy_score, f1_score, precision_score, recall_score\n",
        "from sklearn.metrics import confusion_matrix, classification_report, ConfusionMatrixDisplay\n",
        "\n",
        "tfk = tf.keras\n",
        "tfkl = tf.keras.layers\n",
        "print(tf.__version__)"
      ]
    },
    {
      "cell_type": "code",
      "execution_count": null,
      "metadata": {
        "id": "nNxt1wWHWJFZ"
      },
      "outputs": [],
      "source": [
        "# Random seed for reproducibility\n",
        "seed = 42\n",
        "\n",
        "random.seed(seed)\n",
        "os.environ['PYTHONHASHSEED'] = str(seed)\n",
        "np.random.seed(seed)\n",
        "tf.random.set_seed(seed)\n",
        "tf.compat.v1.set_random_seed(seed)"
      ]
    },
    {
      "cell_type": "code",
      "execution_count": null,
      "metadata": {
        "colab": {
          "base_uri": "https://localhost:8080/"
        },
        "id": "t3BIQzLNzstV",
        "outputId": "5476994d-b77e-406f-d064-973392bc2811"
      },
      "outputs": [
        {
          "name": "stdout",
          "output_type": "stream",
          "text": [
            "Found 2836 images belonging to 8 classes.\n",
            "Found 706 images belonging to 8 classes.\n"
          ]
        }
      ],
      "source": [
        "from keras.preprocessing.image import ImageDataGenerator\n",
        "\n",
        "valid_data_gen = ImageDataGenerator(rescale=1/255., validation_split=0.2)\n",
        "\n",
        "# Create an instance of ImageDataGenerator with Data Augmentation\n",
        "aug_train_data_gen = ImageDataGenerator(rotation_range=90,\n",
        "                                        height_shift_range=50,\n",
        "                                        width_shift_range=50,\n",
        "                                        zoom_range=0.3,\n",
        "                                        horizontal_flip=True,\n",
        "                                        vertical_flip=True, \n",
        "                                        fill_mode='reflect',\n",
        "                                        shear_range=0.2,\n",
        "                                        validation_split=0.2,\n",
        "                                        rescale=1/255.) # rescale value is multiplied to the image\n",
        "\n",
        "# Obtain a data generator with the 'ImageDataGenerator.flow_from_directory' method\n",
        "aug_train_gen = aug_train_data_gen.flow_from_directory(directory='/gdrive/My Drive/AN2DL/training_data_final',\n",
        "                                                       target_size=(256,256),\n",
        "                                                       color_mode='rgb',\n",
        "                                                       classes=None, # can be set to labels\n",
        "                                                       class_mode='categorical',\n",
        "                                                       batch_size=64,\n",
        "                                                       subset='training',\n",
        "                                                       shuffle=True,\n",
        "                                                       seed=seed)\n",
        "\n",
        "valid_gen = valid_data_gen.flow_from_directory('/gdrive/My Drive/AN2DL/training_data_final',\n",
        "                                              target_size=(256,256),\n",
        "                                              batch_size=64,\n",
        "                                              color_mode='rgb',\n",
        "                                              class_mode='categorical',\n",
        "                                              classes=None,\n",
        "                                              subset='validation',\n",
        "                                              shuffle=True,\n",
        "                                              seed=seed)"
      ]
    },
    {
      "cell_type": "code",
      "execution_count": null,
      "metadata": {
        "colab": {
          "base_uri": "https://localhost:8080/"
        },
        "id": "AlnGI4a6zQHm",
        "outputId": "f35dc5db-b8a1-4d61-8886-c5d5d6f1389f"
      },
      "outputs": [
        {
          "name": "stdout",
          "output_type": "stream",
          "text": [
            "Assigned labels\n",
            "{'Species1': 0, 'Species2': 1, 'Species3': 2, 'Species4': 3, 'Species5': 4, 'Species6': 5, 'Species7': 6, 'Species8': 7}\n",
            "\n",
            "Target classes\n",
            "[0 0 0 ... 7 7 7]\n"
          ]
        }
      ],
      "source": [
        "print(\"Assigned labels\")\n",
        "print(aug_train_gen.class_indices)\n",
        "print()\n",
        "print(\"Target classes\")\n",
        "print(aug_train_gen.classes)"
      ]
    },
    {
      "cell_type": "code",
      "execution_count": null,
      "metadata": {
        "id": "_3GTtYuI2uAZ"
      },
      "outputs": [],
      "source": [
        "input_shape = (256, 256, 3)\n",
        "epochs = 200"
      ]
    },
    {
      "cell_type": "markdown",
      "source": [
        "# Generating class weights\n",
        "To handle imbalanced classes"
      ],
      "metadata": {
        "id": "0fht6DqOk7z-"
      }
    },
    {
      "cell_type": "code",
      "execution_count": null,
      "metadata": {
        "colab": {
          "base_uri": "https://localhost:8080/",
          "height": 300
        },
        "id": "6gms965w79-Y",
        "outputId": "9358b345-2022-4502-98e6-acd28b9ca97a"
      },
      "outputs": [
        {
          "name": "stdout",
          "output_type": "stream",
          "text": [
            "dict_items([(0, 149), (1, 426), (2, 412), (3, 409), (4, 425), (5, 178), (6, 430), (7, 407)])\n"
          ]
        },
        {
          "data": {
            "text/plain": [
              "<BarContainer object of 8 artists>"
            ]
          },
          "execution_count": 14,
          "metadata": {},
          "output_type": "execute_result"
        },
        {
          "data": {
            "image/png": "[encoded data removed]",
            "text/plain": [
              "<Figure size 432x288 with 1 Axes>"
            ]
          },
          "metadata": {},
          "output_type": "display_data"
        }
      ],
      "source": [
        "from collections import Counter\n",
        "\n",
        "counter = Counter(aug_train_gen.classes)\n",
        "\n",
        "print(counter.items())\n",
        "\n",
        "plt.bar(list(counter.keys()),list(counter.values()))"
      ]
    },
    {
      "cell_type": "code",
      "execution_count": null,
      "metadata": {
        "id": "pJZhhRqSAufQ"
      },
      "outputs": [],
      "source": [
        "from sklearn.utils import class_weight \n",
        "class_weights = class_weight.compute_class_weight(\n",
        "           class_weight='balanced',\n",
        "            classes=np.unique(aug_train_gen.classes), \n",
        "            y=aug_train_gen.classes)\n",
        "class_weights_dict = dict(zip(np.unique(aug_train_gen.classes), class_weights)),\n",
        "class_weights_dict"
      ]
    },
    {
      "cell_type": "markdown",
      "source": [
        "# CNN built from scratch"
      ],
      "metadata": {
        "id": "Ui2H3zUbk4yO"
      }
    },
    {
      "cell_type": "code",
      "execution_count": null,
      "metadata": {
        "id": "SrjNVbpl2Hrs"
      },
      "outputs": [],
      "source": [
        "def build_model(input_shape):\n",
        "\n",
        "    # Build the neural network layer by layer\n",
        "    input_layer = tfkl.Input(shape=input_shape, name='input_layer')\n",
        "\n",
        "    conv1 = tfkl.Conv2D(\n",
        "        filters=32,\n",
        "        kernel_size=3,\n",
        "        padding = 'same',\n",
        "        activation = 'relu',\n",
        "        kernel_initializer = tfk.initializers.HeUniform(seed)\n",
        "    )(input_layer)\n",
        "    pool1 = tfkl.MaxPooling2D()(conv1)\n",
        "\n",
        "    conv2 = tfkl.Conv2D(\n",
        "        filters=64,\n",
        "        kernel_size=3,\n",
        "        padding = 'same',\n",
        "        activation = 'relu',\n",
        "        kernel_initializer = tfk.initializers.HeUniform(seed)\n",
        "    )(pool1)\n",
        "    pool2 = tfkl.MaxPooling2D()(conv2)\n",
        "\n",
        "    conv3 = tfkl.Conv2D(\n",
        "        filters=128,\n",
        "        kernel_size=3,\n",
        "        padding = 'same',\n",
        "        activation = 'relu',\n",
        "        kernel_initializer = tfk.initializers.HeUniform(seed)\n",
        "    )(pool2)\n",
        "    pool3 = tfkl.MaxPooling2D()(conv3)\n",
        "\n",
        "    conv4 = tfkl.Conv2D(\n",
        "        filters=256,\n",
        "        kernel_size=3,\n",
        "        padding = 'same',\n",
        "        activation = 'relu',\n",
        "        kernel_initializer = tfk.initializers.HeUniform(seed)\n",
        "    )(pool3)\n",
        "    pool4 = tfkl.MaxPooling2D()(conv4)\n",
        "\n",
        "    conv5 = tfkl.Conv2D(\n",
        "        filters=512,\n",
        "        kernel_size=3,\n",
        "        padding = 'same',\n",
        "        activation = 'relu',\n",
        "        kernel_initializer = tfk.initializers.HeUniform(seed)\n",
        "    )(pool4)\n",
        "    pool5 = tfkl.MaxPooling2D()(conv5)\n",
        "\n",
        "    flattening_layer = tfkl.Flatten(name='Flatten')(pool5)\n",
        "    dropout = tfkl.Dropout(0.3, seed=seed)(flattening_layer)\n",
        "    classifier_layer = tfkl.Dense(units=512, name='Classifier', kernel_initializer=tfk.initializers.HeUniform(seed), activation='relu')(dropout)\n",
        "    dropout = tfkl.Dropout(0.3, seed=seed)(classifier_layer)\n",
        "    output_layer = tfkl.Dense(units=8, activation='softmax', kernel_initializer=tfk.initializers.GlorotUniform(seed), name='output_layer')(dropout)\n",
        "\n",
        "    # Connect input and output through the Model class\n",
        "    model = tfk.Model(inputs=input_layer, outputs=output_layer, name='model')\n",
        "\n",
        "    # Compile the model\n",
        "    model.compile(loss=tfk.losses.CategoricalCrossentropy(), optimizer=tfk.optimizers.Adam(), metrics='accuracy')\n",
        "\n",
        "    # Return the model\n",
        "    return model"
      ]
    },
    {
      "cell_type": "code",
      "execution_count": null,
      "metadata": {
        "id": "ADEKsv6s2e4s"
      },
      "outputs": [],
      "source": [
        "# Utility function to create folders and callbacks for training\n",
        "from datetime import datetime\n",
        "\n",
        "def create_folders_and_callbacks(model_name):\n",
        "\n",
        "  exps_dir = os.path.join('data_augmentation_experiments')\n",
        "  if not os.path.exists(exps_dir):\n",
        "      os.makedirs(exps_dir)\n",
        "\n",
        "  now = datetime.now().strftime('%b%d_%H-%M-%S')\n",
        "\n",
        "  exp_dir = os.path.join(exps_dir, model_name + '_' + str(now))\n",
        "  if not os.path.exists(exp_dir):\n",
        "      os.makedirs(exp_dir)\n",
        "      \n",
        "  callbacks = []\n",
        "\n",
        "  # Model checkpoint\n",
        "  # ----------------\n",
        "  ckpt_dir = os.path.join(exp_dir, 'ckpts')\n",
        "  if not os.path.exists(ckpt_dir):\n",
        "      os.makedirs(ckpt_dir)\n",
        "\n",
        "  ckpt_callback = tf.keras.callbacks.ModelCheckpoint(filepath=os.path.join(ckpt_dir, 'cp.ckpt'), \n",
        "                                                     save_weights_only=True, # True to save only weights\n",
        "                                                     save_best_only=False) # True to save only the best epoch \n",
        "  callbacks.append(ckpt_callback)\n",
        "\n",
        "  # Visualize Learning on Tensorboard\n",
        "  # ---------------------------------\n",
        "  tb_dir = os.path.join(exp_dir, 'tb_logs')\n",
        "  if not os.path.exists(tb_dir):\n",
        "      os.makedirs(tb_dir)\n",
        "      \n",
        "  # By default shows losses and metrics for both training and validation\n",
        "  tb_callback = tf.keras.callbacks.TensorBoard(log_dir=tb_dir, \n",
        "                                               profile_batch=0,\n",
        "                                               histogram_freq=1)  # if > 0 (epochs) shows weights histograms\n",
        "  callbacks.append(tb_callback)\n",
        "\n",
        "  # Early Stopping\n",
        "  # --------------\n",
        "  es_callback = tf.keras.callbacks.EarlyStopping(monitor='val_loss', patience=10, restore_best_weights=True)\n",
        "  callbacks.append(es_callback)\n",
        "\n",
        "  return callbacks"
      ]
    },
    {
      "cell_type": "code",
      "execution_count": null,
      "metadata": {
        "colab": {
          "base_uri": "https://localhost:8080/"
        },
        "id": "rfx6H_JK2k8N",
        "outputId": "35d17a7d-e20f-4c75-bb2d-073845eaa72c"
      },
      "outputs": [
        {
          "name": "stdout",
          "output_type": "stream",
          "text": [
            "Model: \"model\"\n",
            "_________________________________________________________________\n",
            " Layer (type)                Output Shape              Param #   \n",
            "=================================================================\n",
            " input_layer (InputLayer)    [(None, 256, 256, 3)]     0         \n",
            "                                                                 \n",
            " conv2d (Conv2D)             (None, 256, 256, 32)      896       \n",
            "                                                                 \n",
            " max_pooling2d (MaxPooling2D  (None, 128, 128, 32)     0         \n",
            " )                                                               \n",
            "                                                                 \n",
            " conv2d_1 (Conv2D)           (None, 128, 128, 64)      18496     \n",
            "                                                                 \n",
            " max_pooling2d_1 (MaxPooling  (None, 64, 64, 64)       0         \n",
            " 2D)                                                             \n",
            "                                                                 \n",
            " conv2d_2 (Conv2D)           (None, 64, 64, 128)       73856     \n",
            "                                                                 \n",
            " max_pooling2d_2 (MaxPooling  (None, 32, 32, 128)      0         \n",
            " 2D)                                                             \n",
            "                                                                 \n",
            " conv2d_3 (Conv2D)           (None, 32, 32, 256)       295168    \n",
            "                                                                 \n",
            " max_pooling2d_3 (MaxPooling  (None, 16, 16, 256)      0         \n",
            " 2D)                                                             \n",
            "                                                                 \n",
            " conv2d_4 (Conv2D)           (None, 16, 16, 512)       1180160   \n",
            "                                                                 \n",
            " max_pooling2d_4 (MaxPooling  (None, 8, 8, 512)        0         \n",
            " 2D)                                                             \n",
            "                                                                 \n",
            " Flatten (Flatten)           (None, 32768)             0         \n",
            "                                                                 \n",
            " dropout (Dropout)           (None, 32768)             0         \n",
            "                                                                 \n",
            " Classifier (Dense)          (None, 512)               16777728  \n",
            "                                                                 \n",
            " dropout_1 (Dropout)         (None, 512)               0         \n",
            "                                                                 \n",
            " output_layer (Dense)        (None, 8)                 4104      \n",
            "                                                                 \n",
            "=================================================================\n",
            "Total params: 18,350,408\n",
            "Trainable params: 18,350,408\n",
            "Non-trainable params: 0\n",
            "_________________________________________________________________\n"
          ]
        }
      ],
      "source": [
        "# Build model (for  augmentation training)\n",
        "model = build_model(input_shape)\n",
        "model.summary()"
      ]
    },
    {
      "cell_type": "code",
      "execution_count": null,
      "metadata": {
        "colab": {
          "base_uri": "https://localhost:8080/"
        },
        "id": "PHNHtUzq3BvC",
        "outputId": "47fa78d7-ddeb-4c17-bbbc-f56371871062"
      },
      "outputs": [
        {
          "name": "stdout",
          "output_type": "stream",
          "text": [
            "Epoch 1/100\n",
            "23/23 [==============================] - 415s 18s/step - loss: 5.3876 - accuracy: 0.1707 - val_loss: 1.8955 - val_accuracy: 0.2408\n",
            "Epoch 2/100\n",
            "23/23 [==============================] - 48s 2s/step - loss: 1.8446 - accuracy: 0.2870 - val_loss: 1.8789 - val_accuracy: 0.2592\n",
            "Epoch 3/100\n",
            "23/23 [==============================] - 49s 2s/step - loss: 1.7928 - accuracy: 0.2906 - val_loss: 1.8720 - val_accuracy: 0.2436\n",
            "Epoch 4/100\n",
            "23/23 [==============================] - 48s 2s/step - loss: 1.7373 - accuracy: 0.3068 - val_loss: 1.6750 - val_accuracy: 0.3116\n",
            "Epoch 5/100\n",
            "23/23 [==============================] - 48s 2s/step - loss: 1.5921 - accuracy: 0.3946 - val_loss: 1.5763 - val_accuracy: 0.3796\n",
            "Epoch 6/100\n",
            "23/23 [==============================] - 47s 2s/step - loss: 1.5804 - accuracy: 0.4207 - val_loss: 1.6254 - val_accuracy: 0.3598\n",
            "Epoch 7/100\n",
            "23/23 [==============================] - 48s 2s/step - loss: 1.5076 - accuracy: 0.4369 - val_loss: 1.7682 - val_accuracy: 0.3782\n",
            "Epoch 8/100\n",
            "23/23 [==============================] - 49s 2s/step - loss: 1.4661 - accuracy: 0.4587 - val_loss: 1.7255 - val_accuracy: 0.3555\n",
            "Epoch 9/100\n",
            "23/23 [==============================] - 48s 2s/step - loss: 1.4334 - accuracy: 0.4679 - val_loss: 1.4726 - val_accuracy: 0.4462\n",
            "Epoch 10/100\n",
            "23/23 [==============================] - 48s 2s/step - loss: 1.4628 - accuracy: 0.4457 - val_loss: 1.5196 - val_accuracy: 0.4178\n",
            "Epoch 11/100\n",
            "23/23 [==============================] - 48s 2s/step - loss: 1.4153 - accuracy: 0.4848 - val_loss: 1.6764 - val_accuracy: 0.3867\n",
            "Epoch 12/100\n",
            "23/23 [==============================] - 48s 2s/step - loss: 1.3807 - accuracy: 0.4968 - val_loss: 1.3530 - val_accuracy: 0.5071\n",
            "Epoch 13/100\n",
            "23/23 [==============================] - 49s 2s/step - loss: 1.3367 - accuracy: 0.5085 - val_loss: 1.3127 - val_accuracy: 0.5212\n",
            "Epoch 14/100\n",
            "23/23 [==============================] - 48s 2s/step - loss: 1.2931 - accuracy: 0.5219 - val_loss: 1.4235 - val_accuracy: 0.4646\n",
            "Epoch 15/100\n",
            "23/23 [==============================] - 48s 2s/step - loss: 1.3096 - accuracy: 0.5219 - val_loss: 1.3082 - val_accuracy: 0.5227\n",
            "Epoch 16/100\n",
            "23/23 [==============================] - 48s 2s/step - loss: 1.2993 - accuracy: 0.5243 - val_loss: 1.3626 - val_accuracy: 0.4873\n",
            "Epoch 17/100\n",
            "23/23 [==============================] - 47s 2s/step - loss: 1.2506 - accuracy: 0.5427 - val_loss: 1.3828 - val_accuracy: 0.5113\n",
            "Epoch 18/100\n",
            "23/23 [==============================] - 48s 2s/step - loss: 1.2174 - accuracy: 0.5515 - val_loss: 1.3074 - val_accuracy: 0.4986\n",
            "Epoch 19/100\n",
            "23/23 [==============================] - 48s 2s/step - loss: 1.2072 - accuracy: 0.5638 - val_loss: 1.2650 - val_accuracy: 0.5212\n",
            "Epoch 20/100\n",
            "23/23 [==============================] - 47s 2s/step - loss: 1.2087 - accuracy: 0.5677 - val_loss: 1.2022 - val_accuracy: 0.5595\n",
            "Epoch 21/100\n",
            "23/23 [==============================] - 54s 2s/step - loss: 1.1773 - accuracy: 0.5751 - val_loss: 1.2103 - val_accuracy: 0.5283\n",
            "Epoch 22/100\n",
            "23/23 [==============================] - 49s 2s/step - loss: 1.1693 - accuracy: 0.5783 - val_loss: 1.1866 - val_accuracy: 0.5425\n",
            "Epoch 23/100\n",
            "23/23 [==============================] - 48s 2s/step - loss: 1.1482 - accuracy: 0.5860 - val_loss: 1.1358 - val_accuracy: 0.5878\n",
            "Epoch 24/100\n",
            "23/23 [==============================] - 48s 2s/step - loss: 1.1527 - accuracy: 0.5772 - val_loss: 1.0885 - val_accuracy: 0.6006\n",
            "Epoch 25/100\n",
            "23/23 [==============================] - 48s 2s/step - loss: 1.1166 - accuracy: 0.5910 - val_loss: 1.2096 - val_accuracy: 0.5538\n",
            "Epoch 26/100\n",
            "23/23 [==============================] - 48s 2s/step - loss: 1.0921 - accuracy: 0.5987 - val_loss: 1.1650 - val_accuracy: 0.5779\n",
            "Epoch 27/100\n",
            "23/23 [==============================] - 47s 2s/step - loss: 1.1074 - accuracy: 0.6030 - val_loss: 1.2120 - val_accuracy: 0.5623\n",
            "Epoch 28/100\n",
            "23/23 [==============================] - 48s 2s/step - loss: 1.0187 - accuracy: 0.6410 - val_loss: 1.0323 - val_accuracy: 0.6289\n",
            "Epoch 29/100\n",
            "23/23 [==============================] - 48s 2s/step - loss: 1.0370 - accuracy: 0.6248 - val_loss: 0.9598 - val_accuracy: 0.6586\n",
            "Epoch 30/100\n",
            "23/23 [==============================] - 48s 2s/step - loss: 1.0285 - accuracy: 0.6181 - val_loss: 0.9749 - val_accuracy: 0.6416\n",
            "Epoch 31/100\n",
            "23/23 [==============================] - 48s 2s/step - loss: 1.0133 - accuracy: 0.6414 - val_loss: 1.1273 - val_accuracy: 0.5680\n",
            "Epoch 32/100\n",
            "23/23 [==============================] - 49s 2s/step - loss: 1.0296 - accuracy: 0.6273 - val_loss: 1.0135 - val_accuracy: 0.6105\n",
            "Epoch 33/100\n",
            "23/23 [==============================] - 48s 2s/step - loss: 1.0444 - accuracy: 0.6206 - val_loss: 1.1051 - val_accuracy: 0.5878\n",
            "Epoch 34/100\n",
            "23/23 [==============================] - 47s 2s/step - loss: 1.0453 - accuracy: 0.6153 - val_loss: 1.1734 - val_accuracy: 0.5963\n",
            "Epoch 35/100\n",
            "23/23 [==============================] - 48s 2s/step - loss: 1.0045 - accuracy: 0.6407 - val_loss: 1.0539 - val_accuracy: 0.6204\n",
            "Epoch 36/100\n",
            "23/23 [==============================] - 48s 2s/step - loss: 1.0511 - accuracy: 0.6209 - val_loss: 1.0626 - val_accuracy: 0.6232\n",
            "Epoch 37/100\n",
            "23/23 [==============================] - 47s 2s/step - loss: 0.9878 - accuracy: 0.6449 - val_loss: 0.9618 - val_accuracy: 0.6459\n",
            "Epoch 38/100\n",
            "23/23 [==============================] - 48s 2s/step - loss: 0.9411 - accuracy: 0.6484 - val_loss: 1.0818 - val_accuracy: 0.6317\n",
            "Epoch 39/100\n",
            "23/23 [==============================] - 48s 2s/step - loss: 0.9610 - accuracy: 0.6446 - val_loss: 1.0718 - val_accuracy: 0.6346\n"
          ]
        }
      ],
      "source": [
        "# Create folders and callbacks and fit\n",
        "aug_callbacks = create_folders_and_callbacks(model_name='CNN_Aug')\n",
        "\n",
        "# Train the model\n",
        "history = model.fit(\n",
        "    x = aug_train_gen,\n",
        "    epochs = epochs,\n",
        "    validation_data = valid_gen,\n",
        "    callbacks = aug_callbacks,\n",
        ").history"
      ]
    },
    {
      "cell_type": "code",
      "execution_count": null,
      "metadata": {
        "colab": {
          "base_uri": "https://localhost:8080/",
          "height": 655
        },
        "id": "ozCV6NJ83STB",
        "outputId": "acf3f312-e4bb-4ea9-cfe5-dd516e22238f"
      },
      "outputs": [
        {
          "data": {
            "image/png": "[encoded data removed]",
            "text/plain": [
              "<Figure size 1440x360 with 1 Axes>"
            ]
          },
          "metadata": {},
          "output_type": "display_data"
        },
        {
          "data": {
            "image/png": "[encoded data removed]",
            "text/plain": [
              "<Figure size 1440x360 with 1 Axes>"
            ]
          },
          "metadata": {},
          "output_type": "display_data"
        }
      ],
      "source": [
        "# Plot the training\n",
        "plt.figure(figsize=(20,5))\n",
        "plt.plot(history['loss'], label='Training', alpha=.8, color='#ff7f0e')\n",
        "plt.plot(history['val_loss'], label='Validation', alpha=.8, color='#4D61E2')\n",
        "plt.legend(loc='upper left')\n",
        "plt.title('Categorical Crossentropy')\n",
        "plt.grid(alpha=.3)\n",
        "\n",
        "plt.figure(figsize=(20,5))\n",
        "plt.plot(history['accuracy'], label='Training', alpha=.8, color='#ff7f0e')\n",
        "plt.plot(history['val_accuracy'], label='Validation', alpha=.8, color='#4D61E2')\n",
        "plt.legend(loc='upper left')\n",
        "plt.title('Accuracy')\n",
        "plt.grid(alpha=.3)\n",
        "\n",
        "plt.show()"
      ]
    },
    {
      "cell_type": "code",
      "execution_count": null,
      "metadata": {
        "colab": {
          "base_uri": "https://localhost:8080/"
        },
        "id": "FwMVbW_uInv-",
        "outputId": "ba7e7da0-6e05-497d-821d-c0fb6bc39768"
      },
      "outputs": [
        {
          "name": "stderr",
          "output_type": "stream",
          "text": [
            "WARNING:absl:Found untraced functions such as _jit_compiled_convolution_op, _jit_compiled_convolution_op, _jit_compiled_convolution_op, _jit_compiled_convolution_op, _jit_compiled_convolution_op while saving (showing 5 of 5). These functions will not be directly callable after loading.\n"
          ]
        }
      ],
      "source": [
        "# Save best epoch model\n",
        "model.save(\"data_augmentation_experiments/CNN_Aug_Best128\")"
      ]
    },
    {
      "cell_type": "markdown",
      "source": [
        "# Transfer Learning - ResNet50V2"
      ],
      "metadata": {
        "id": "Oit0a4s0lLcx"
      }
    },
    {
      "cell_type": "code",
      "execution_count": null,
      "metadata": {
        "colab": {
          "base_uri": "https://localhost:8080/"
        },
        "id": "gqhpTz6fJBvz",
        "outputId": "2f1117cd-fe27-4b16-fb5d-d25fa08f0ee2"
      },
      "outputs": [
        {
          "name": "stdout",
          "output_type": "stream",
          "text": [
            "Downloading data from https://storage.googleapis.com/tensorflow/keras-applications/resnet/resnet50v2_weights_tf_dim_ordering_tf_kernels_notop.h5\n",
            "94668760/94668760 [==============================] - 5s 0us/step\n",
            "Model: \"sequential_1\"\n",
            "_________________________________________________________________\n",
            " Layer (type)                Output Shape              Param #   \n",
            "=================================================================\n",
            " resnet50v2 (Functional)     (None, 8, 8, 2048)        23564800  \n",
            "                                                                 \n",
            " flatten_1 (Flatten)         (None, 131072)            0         \n",
            "                                                                 \n",
            " dense_3 (Dense)             (None, 64)                8388672   \n",
            "                                                                 \n",
            " dense_4 (Dense)             (None, 32)                2080      \n",
            "                                                                 \n",
            " dense_5 (Dense)             (None, 8)                 264       \n",
            "                                                                 \n",
            "=================================================================\n",
            "Total params: 31,955,816\n",
            "Trainable params: 31,910,376\n",
            "Non-trainable params: 45,440\n",
            "_________________________________________________________________\n"
          ]
        }
      ],
      "source": [
        "resnet = tf.keras.applications.ResNet50V2(weights='imagenet', include_top=False, input_shape=input_shape)\n",
        "\n",
        "model_resnet = tf.keras.Sequential()\n",
        "model_resnet.add(resnet)\n",
        "model_resnet.add(tf.keras.layers.Flatten())\n",
        "model_resnet.add(tf.keras.layers.Dense(units=64, activation='relu', kernel_regularizer=tf.keras.regularizers.l2(0.0001)))\n",
        "model_resnet.add(tf.keras.layers.Dense(units=32, activation='relu', kernel_regularizer=tf.keras.regularizers.l2(0.0001)))\n",
        "model_resnet.add(tf.keras.layers.Dense(units=8, activation='softmax'))\n",
        "\n",
        "model_resnet.summary()"
      ]
    },
    {
      "cell_type": "code",
      "execution_count": null,
      "metadata": {
        "id": "VtaKjnuLKM1C"
      },
      "outputs": [],
      "source": [
        "loss = tf.keras.losses.CategoricalCrossentropy()\n",
        "lr = 1e-5\n",
        "optimizer = tf.keras.optimizers.Adam(learning_rate=lr)\n",
        "metrics = ['accuracy']\n",
        "model_resnet.compile(optimizer=optimizer, loss=loss, metrics=metrics)"
      ]
    },
    {
      "cell_type": "code",
      "execution_count": null,
      "metadata": {
        "colab": {
          "base_uri": "https://localhost:8080/"
        },
        "id": "DSNq7A1TKt38",
        "outputId": "b04adbef-b8a1-4217-ed03-de6c00967f21"
      },
      "outputs": [
        {
          "name": "stdout",
          "output_type": "stream",
          "text": [
            "Epoch 1/100\n",
            "23/23 [==============================] - 81s 3s/step - loss: 1.9217 - accuracy: 0.2817 - val_loss: 2.3552 - val_accuracy: 0.1926\n",
            "Epoch 2/100\n",
            "23/23 [==============================] - 66s 3s/step - loss: 1.5659 - accuracy: 0.4376 - val_loss: 2.4690 - val_accuracy: 0.2450\n",
            "Epoch 3/100\n",
            "23/23 [==============================] - 66s 3s/step - loss: 1.3425 - accuracy: 0.5261 - val_loss: 2.7071 - val_accuracy: 0.2790\n",
            "Epoch 4/100\n",
            "23/23 [==============================] - 66s 3s/step - loss: 1.1976 - accuracy: 0.5832 - val_loss: 2.6322 - val_accuracy: 0.3329\n",
            "Epoch 5/100\n",
            "23/23 [==============================] - 65s 3s/step - loss: 1.0665 - accuracy: 0.6382 - val_loss: 2.3952 - val_accuracy: 0.3810\n",
            "Epoch 6/100\n",
            "23/23 [==============================] - 65s 3s/step - loss: 0.9988 - accuracy: 0.6580 - val_loss: 2.1095 - val_accuracy: 0.4334\n",
            "Epoch 7/100\n",
            "23/23 [==============================] - 65s 3s/step - loss: 0.8868 - accuracy: 0.7031 - val_loss: 1.7643 - val_accuracy: 0.5142\n",
            "Epoch 8/100\n",
            "23/23 [==============================] - 64s 3s/step - loss: 0.8246 - accuracy: 0.7250 - val_loss: 1.5715 - val_accuracy: 0.5467\n",
            "Epoch 9/100\n",
            "23/23 [==============================] - 66s 3s/step - loss: 0.8033 - accuracy: 0.7281 - val_loss: 1.4655 - val_accuracy: 0.5751\n",
            "Epoch 10/100\n",
            "23/23 [==============================] - 65s 3s/step - loss: 0.7851 - accuracy: 0.7352 - val_loss: 1.2740 - val_accuracy: 0.6147\n",
            "Epoch 11/100\n",
            "23/23 [==============================] - 64s 3s/step - loss: 0.7401 - accuracy: 0.7553 - val_loss: 1.0754 - val_accuracy: 0.6586\n",
            "Epoch 12/100\n",
            "23/23 [==============================] - 64s 3s/step - loss: 0.6751 - accuracy: 0.7655 - val_loss: 1.0147 - val_accuracy: 0.6714\n",
            "Epoch 13/100\n",
            "23/23 [==============================] - 65s 3s/step - loss: 0.6419 - accuracy: 0.7839 - val_loss: 1.2649 - val_accuracy: 0.6374\n",
            "Epoch 14/100\n",
            "23/23 [==============================] - 63s 3s/step - loss: 0.6231 - accuracy: 0.7891 - val_loss: 0.8748 - val_accuracy: 0.7040\n",
            "Epoch 15/100\n",
            "23/23 [==============================] - 64s 3s/step - loss: 0.5839 - accuracy: 0.8078 - val_loss: 0.8328 - val_accuracy: 0.7210\n",
            "Epoch 16/100\n",
            "23/23 [==============================] - 64s 3s/step - loss: 0.5648 - accuracy: 0.8110 - val_loss: 0.8356 - val_accuracy: 0.7295\n",
            "Epoch 17/100\n",
            "23/23 [==============================] - 63s 3s/step - loss: 0.5558 - accuracy: 0.8121 - val_loss: 0.7847 - val_accuracy: 0.7450\n",
            "Epoch 18/100\n",
            "23/23 [==============================] - 65s 3s/step - loss: 0.5404 - accuracy: 0.8124 - val_loss: 0.7891 - val_accuracy: 0.7479\n",
            "Epoch 19/100\n",
            "23/23 [==============================] - 64s 3s/step - loss: 0.4842 - accuracy: 0.8311 - val_loss: 0.7090 - val_accuracy: 0.7762\n",
            "Epoch 20/100\n",
            "23/23 [==============================] - 64s 3s/step - loss: 0.4855 - accuracy: 0.8403 - val_loss: 0.7231 - val_accuracy: 0.7748\n",
            "Epoch 21/100\n",
            "23/23 [==============================] - 64s 3s/step - loss: 0.4821 - accuracy: 0.8325 - val_loss: 0.6520 - val_accuracy: 0.7989\n",
            "Epoch 22/100\n",
            "23/23 [==============================] - 65s 3s/step - loss: 0.4692 - accuracy: 0.8459 - val_loss: 0.5879 - val_accuracy: 0.8116\n",
            "Epoch 23/100\n",
            "23/23 [==============================] - 64s 3s/step - loss: 0.4294 - accuracy: 0.8551 - val_loss: 0.6499 - val_accuracy: 0.7989\n",
            "Epoch 24/100\n",
            "23/23 [==============================] - 64s 3s/step - loss: 0.4144 - accuracy: 0.8516 - val_loss: 0.6202 - val_accuracy: 0.8031\n",
            "Epoch 25/100\n",
            "23/23 [==============================] - 64s 3s/step - loss: 0.3937 - accuracy: 0.8731 - val_loss: 0.6222 - val_accuracy: 0.8017\n",
            "Epoch 26/100\n",
            "23/23 [==============================] - 64s 3s/step - loss: 0.3882 - accuracy: 0.8713 - val_loss: 0.7060 - val_accuracy: 0.7946\n",
            "Epoch 27/100\n",
            "23/23 [==============================] - 65s 3s/step - loss: 0.3779 - accuracy: 0.8766 - val_loss: 0.6003 - val_accuracy: 0.8144\n",
            "Epoch 28/100\n",
            "23/23 [==============================] - 64s 3s/step - loss: 0.3734 - accuracy: 0.8769 - val_loss: 0.7012 - val_accuracy: 0.8017\n",
            "Epoch 29/100\n",
            "23/23 [==============================] - 64s 3s/step - loss: 0.3601 - accuracy: 0.8755 - val_loss: 0.5512 - val_accuracy: 0.8343\n",
            "Epoch 30/100\n",
            "23/23 [==============================] - 64s 3s/step - loss: 0.3460 - accuracy: 0.8847 - val_loss: 0.5563 - val_accuracy: 0.8357\n",
            "Epoch 31/100\n",
            "23/23 [==============================] - 64s 3s/step - loss: 0.3371 - accuracy: 0.8932 - val_loss: 0.5564 - val_accuracy: 0.8343\n",
            "Epoch 32/100\n",
            "23/23 [==============================] - 66s 3s/step - loss: 0.3293 - accuracy: 0.8903 - val_loss: 0.5815 - val_accuracy: 0.8300\n",
            "Epoch 33/100\n",
            "23/23 [==============================] - 64s 3s/step - loss: 0.3197 - accuracy: 0.8925 - val_loss: 0.6377 - val_accuracy: 0.8215\n",
            "Epoch 34/100\n",
            "23/23 [==============================] - 64s 3s/step - loss: 0.2798 - accuracy: 0.9076 - val_loss: 0.5947 - val_accuracy: 0.8428\n",
            "Epoch 35/100\n",
            "23/23 [==============================] - 63s 3s/step - loss: 0.2910 - accuracy: 0.9034 - val_loss: 0.6241 - val_accuracy: 0.8456\n",
            "Epoch 36/100\n",
            "23/23 [==============================] - 64s 3s/step - loss: 0.2880 - accuracy: 0.9069 - val_loss: 0.6693 - val_accuracy: 0.8159\n",
            "Epoch 37/100\n",
            "23/23 [==============================] - 64s 3s/step - loss: 0.2946 - accuracy: 0.8981 - val_loss: 0.6012 - val_accuracy: 0.8329\n",
            "Epoch 38/100\n",
            "23/23 [==============================] - 63s 3s/step - loss: 0.2460 - accuracy: 0.9178 - val_loss: 0.6029 - val_accuracy: 0.8442\n",
            "Epoch 39/100\n",
            "23/23 [==============================] - 63s 3s/step - loss: 0.2761 - accuracy: 0.8995 - val_loss: 0.6508 - val_accuracy: 0.8272\n"
          ]
        }
      ],
      "source": [
        "# Create folders and callbacks and fit\n",
        "resnet50_callbacks = create_folders_and_callbacks(model_name='CNN_TF_RESNET50')\n",
        "\n",
        "# Train the model\n",
        "history = model_resnet.fit(\n",
        "    x = aug_train_gen,\n",
        "    epochs = epochs,\n",
        "    validation_data = valid_gen,\n",
        "    callbacks = resnet50_callbacks,\n",
        ").history"
      ]
    },
    {
      "cell_type": "code",
      "execution_count": null,
      "metadata": {
        "colab": {
          "base_uri": "https://localhost:8080/",
          "height": 655
        },
        "id": "j4TnLiKOfFnX",
        "outputId": "441493f3-005c-4aa2-d681-36357de11001"
      },
      "outputs": [
        {
          "data": {
            "image/png": "[encoded data removed]",
            "text/plain": [
              "<Figure size 1440x360 with 1 Axes>"
            ]
          },
          "metadata": {},
          "output_type": "display_data"
        },
        {
          "data": {
            "image/png": "[encoded data removed]",
            "text/plain": [
              "<Figure size 1440x360 with 1 Axes>"
            ]
          },
          "metadata": {},
          "output_type": "display_data"
        }
      ],
      "source": [
        "# Plot the training\n",
        "plt.figure(figsize=(20,5))\n",
        "plt.plot(history['loss'], label='Training', alpha=.8, color='#ff7f0e')\n",
        "plt.plot(history['val_loss'], label='Validation', alpha=.8, color='#4D61E2')\n",
        "plt.legend(loc='upper left')\n",
        "plt.title('Categorical Crossentropy')\n",
        "plt.grid(alpha=.3)\n",
        "\n",
        "plt.figure(figsize=(20,5))\n",
        "plt.plot(history['accuracy'], label='Training', alpha=.8, color='#ff7f0e')\n",
        "plt.plot(history['val_accuracy'], label='Validation', alpha=.8, color='#4D61E2')\n",
        "plt.legend(loc='upper left')\n",
        "plt.title('Accuracy')\n",
        "plt.grid(alpha=.3)\n",
        "\n",
        "plt.show()"
      ]
    },
    {
      "cell_type": "markdown",
      "source": [
        "# Transfer Learning - VGG19\n",
        "\n"
      ],
      "metadata": {
        "id": "S9gXOVFnlWIU"
      }
    },
    {
      "cell_type": "code",
      "execution_count": null,
      "metadata": {
        "colab": {
          "base_uri": "https://localhost:8080/"
        },
        "id": "WlrlbJj9L_8B",
        "outputId": "8174c768-49ac-4b1a-ba88-5d9532dce26e"
      },
      "outputs": [
        {
          "name": "stdout",
          "output_type": "stream",
          "text": [
            "Downloading data from https://storage.googleapis.com/tensorflow/keras-applications/vgg19/vgg19_weights_tf_dim_ordering_tf_kernels_notop.h5\n",
            "80134624/80134624 [==============================] - 4s 0us/step\n",
            "Model: \"sequential\"\n",
            "_________________________________________________________________\n",
            " Layer (type)                Output Shape              Param #   \n",
            "=================================================================\n",
            " vgg19 (Functional)          (None, 8, 8, 512)         20024384  \n",
            "                                                                 \n",
            " flatten (Flatten)           (None, 32768)             0         \n",
            "                                                                 \n",
            " dense (Dense)               (None, 64)                2097216   \n",
            "                                                                 \n",
            " dense_1 (Dense)             (None, 32)                2080      \n",
            "                                                                 \n",
            " dense_2 (Dense)             (None, 8)                 264       \n",
            "                                                                 \n",
            "=================================================================\n",
            "Total params: 22,123,944\n",
            "Trainable params: 22,123,944\n",
            "Non-trainable params: 0\n",
            "_________________________________________________________________\n"
          ]
        }
      ],
      "source": [
        "model_vgg19 = tf.keras.Sequential()\n",
        "vgg19 = tf.keras.applications.VGG19(weights='imagenet', include_top=False, input_shape=input_shape)\n",
        "model_vgg19.add(vgg19)\n",
        "model_vgg19.add(tf.keras.layers.Flatten())\n",
        "model_vgg19.add(tf.keras.layers.Dense(units=64, activation='relu', kernel_regularizer=tf.keras.regularizers.l2(0.01),kernel_initializer = tfk.initializers.HeUniform(seed)))\n",
        "model_vgg19.add(tf.keras.layers.Dense(units=32, activation='relu', kernel_regularizer=tf.keras.regularizers.l2(0.01),kernel_initializer = tfk.initializers.HeUniform(seed)))\n",
        "model_vgg19.add(tf.keras.layers.Dense(units=8, activation='softmax'))\n",
        "\n",
        "model_vgg19.compile(optimizer=optimizer, loss=loss, metrics=metrics)\n",
        "\n",
        "\n",
        "model_vgg19.summary()"
      ]
    },
    {
      "cell_type": "code",
      "execution_count": null,
      "metadata": {
        "id": "UnTZ1DV9sgv2"
      },
      "outputs": [],
      "source": [
        "loss = tf.keras.losses.CategoricalCrossentropy()\n",
        "lr = 5e-5\n",
        "optimizer = tf.keras.optimizers.Adam(learning_rate=lr)\n",
        "metrics = ['accuracy']\n",
        "model_vgg19.compile(optimizer=optimizer, loss=loss, metrics=metrics)"
      ]
    },
    {
      "cell_type": "code",
      "execution_count": null,
      "metadata": {
        "colab": {
          "base_uri": "https://localhost:8080/"
        },
        "id": "ibl5bdvqQ1xC",
        "outputId": "a607b8b5-d060-42c1-949a-0c8e30bb205b"
      },
      "outputs": [
        {
          "name": "stdout",
          "output_type": "stream",
          "text": [
            "Epoch 1/200\n",
            "45/45 [==============================] - 93s 2s/step - loss: 3.5047 - accuracy: 0.3163 - val_loss: 3.1044 - val_accuracy: 0.4348\n",
            "Epoch 2/200\n",
            "45/45 [==============================] - 72s 2s/step - loss: 2.9206 - accuracy: 0.4644 - val_loss: 2.6913 - val_accuracy: 0.5014\n",
            "Epoch 3/200\n",
            "45/45 [==============================] - 72s 2s/step - loss: 2.6458 - accuracy: 0.5060 - val_loss: 2.6482 - val_accuracy: 0.4674\n",
            "Epoch 4/200\n",
            "45/45 [==============================] - 72s 2s/step - loss: 2.4100 - accuracy: 0.5638 - val_loss: 2.6115 - val_accuracy: 0.4703\n",
            "Epoch 5/200\n",
            "45/45 [==============================] - 78s 2s/step - loss: 2.1892 - accuracy: 0.6266 - val_loss: 2.0799 - val_accuracy: 0.6176\n",
            "Epoch 6/200\n",
            "45/45 [==============================] - 72s 2s/step - loss: 2.0323 - accuracy: 0.6756 - val_loss: 1.8745 - val_accuracy: 0.7125\n",
            "Epoch 7/200\n",
            "45/45 [==============================] - 72s 2s/step - loss: 1.9391 - accuracy: 0.6911 - val_loss: 1.9099 - val_accuracy: 0.7068\n",
            "Epoch 8/200\n",
            "45/45 [==============================] - 71s 2s/step - loss: 1.8092 - accuracy: 0.7221 - val_loss: 1.9849 - val_accuracy: 0.6331\n",
            "Epoch 9/200\n",
            "45/45 [==============================] - 72s 2s/step - loss: 1.7576 - accuracy: 0.7264 - val_loss: 1.8604 - val_accuracy: 0.6601\n",
            "Epoch 10/200\n",
            "45/45 [==============================] - 74s 2s/step - loss: 1.6417 - accuracy: 0.7599 - val_loss: 1.6022 - val_accuracy: 0.7720\n",
            "Epoch 11/200\n",
            "45/45 [==============================] - 72s 2s/step - loss: 1.5993 - accuracy: 0.7719 - val_loss: 1.6252 - val_accuracy: 0.7323\n",
            "Epoch 12/200\n",
            "45/45 [==============================] - 73s 2s/step - loss: 1.5396 - accuracy: 0.7757 - val_loss: 1.6556 - val_accuracy: 0.7280\n",
            "Epoch 13/200\n",
            "45/45 [==============================] - 73s 2s/step - loss: 1.4987 - accuracy: 0.7909 - val_loss: 1.7454 - val_accuracy: 0.6941\n",
            "Epoch 14/200\n",
            "45/45 [==============================] - 72s 2s/step - loss: 1.4752 - accuracy: 0.7955 - val_loss: 1.7122 - val_accuracy: 0.6983\n",
            "Epoch 15/200\n",
            "45/45 [==============================] - 72s 2s/step - loss: 1.4037 - accuracy: 0.8011 - val_loss: 1.5637 - val_accuracy: 0.7606\n",
            "Epoch 16/200\n",
            "45/45 [==============================] - 72s 2s/step - loss: 1.3693 - accuracy: 0.8078 - val_loss: 1.5247 - val_accuracy: 0.7720\n",
            "Epoch 17/200\n",
            "45/45 [==============================] - 73s 2s/step - loss: 1.4298 - accuracy: 0.7839 - val_loss: 1.3602 - val_accuracy: 0.8144\n",
            "Epoch 18/200\n",
            "45/45 [==============================] - 73s 2s/step - loss: 1.2748 - accuracy: 0.8427 - val_loss: 1.4748 - val_accuracy: 0.7734\n",
            "Epoch 19/200\n",
            "45/45 [==============================] - 73s 2s/step - loss: 1.2922 - accuracy: 0.8216 - val_loss: 1.4170 - val_accuracy: 0.7748\n",
            "Epoch 20/200\n",
            "45/45 [==============================] - 72s 2s/step - loss: 1.2046 - accuracy: 0.8484 - val_loss: 1.3779 - val_accuracy: 0.7847\n",
            "Epoch 21/200\n",
            "45/45 [==============================] - 78s 2s/step - loss: 1.2171 - accuracy: 0.8399 - val_loss: 1.2924 - val_accuracy: 0.8159\n",
            "Epoch 22/200\n",
            "45/45 [==============================] - 72s 2s/step - loss: 1.1683 - accuracy: 0.8607 - val_loss: 1.2122 - val_accuracy: 0.8272\n",
            "Epoch 23/200\n",
            "45/45 [==============================] - 72s 2s/step - loss: 1.1885 - accuracy: 0.8452 - val_loss: 1.2950 - val_accuracy: 0.8045\n",
            "Epoch 24/200\n",
            "45/45 [==============================] - 72s 2s/step - loss: 1.1446 - accuracy: 0.8516 - val_loss: 1.4003 - val_accuracy: 0.7677\n",
            "Epoch 25/200\n",
            "45/45 [==============================] - 71s 2s/step - loss: 1.1492 - accuracy: 0.8403 - val_loss: 1.1758 - val_accuracy: 0.8428\n",
            "Epoch 26/200\n",
            "45/45 [==============================] - 74s 2s/step - loss: 1.0697 - accuracy: 0.8720 - val_loss: 1.1784 - val_accuracy: 0.8343\n",
            "Epoch 27/200\n",
            "45/45 [==============================] - 72s 2s/step - loss: 1.0570 - accuracy: 0.8738 - val_loss: 1.1302 - val_accuracy: 0.8484\n",
            "Epoch 28/200\n",
            "45/45 [==============================] - 73s 2s/step - loss: 1.0136 - accuracy: 0.8833 - val_loss: 1.2741 - val_accuracy: 0.8102\n",
            "Epoch 29/200\n",
            "45/45 [==============================] - 71s 2s/step - loss: 1.0849 - accuracy: 0.8547 - val_loss: 1.2313 - val_accuracy: 0.8059\n",
            "Epoch 30/200\n",
            "45/45 [==============================] - 73s 2s/step - loss: 1.0199 - accuracy: 0.8759 - val_loss: 1.1586 - val_accuracy: 0.8187\n",
            "Epoch 31/200\n",
            "45/45 [==============================] - 72s 2s/step - loss: 1.0805 - accuracy: 0.8523 - val_loss: 1.1970 - val_accuracy: 0.8088\n",
            "Epoch 32/200\n",
            "45/45 [==============================] - 72s 2s/step - loss: 0.9831 - accuracy: 0.8791 - val_loss: 1.1318 - val_accuracy: 0.8484\n",
            "Epoch 33/200\n",
            "45/45 [==============================] - 74s 2s/step - loss: 0.9575 - accuracy: 0.8872 - val_loss: 1.0587 - val_accuracy: 0.8584\n",
            "Epoch 34/200\n",
            "45/45 [==============================] - 72s 2s/step - loss: 0.9207 - accuracy: 0.8946 - val_loss: 1.2082 - val_accuracy: 0.8173\n",
            "Epoch 35/200\n",
            "45/45 [==============================] - 73s 2s/step - loss: 0.8986 - accuracy: 0.8939 - val_loss: 1.1358 - val_accuracy: 0.8272\n",
            "Epoch 36/200\n",
            "45/45 [==============================] - 72s 2s/step - loss: 0.8893 - accuracy: 0.8988 - val_loss: 1.0812 - val_accuracy: 0.8513\n",
            "Epoch 37/200\n",
            "45/45 [==============================] - 73s 2s/step - loss: 0.8890 - accuracy: 0.8977 - val_loss: 1.0576 - val_accuracy: 0.8456\n",
            "Epoch 38/200\n",
            "45/45 [==============================] - 73s 2s/step - loss: 0.8843 - accuracy: 0.8921 - val_loss: 0.9671 - val_accuracy: 0.8768\n",
            "Epoch 39/200\n",
            "45/45 [==============================] - 73s 2s/step - loss: 0.8292 - accuracy: 0.9164 - val_loss: 1.0020 - val_accuracy: 0.8640\n",
            "Epoch 40/200\n",
            "45/45 [==============================] - 72s 2s/step - loss: 0.8251 - accuracy: 0.9111 - val_loss: 1.0656 - val_accuracy: 0.8442\n",
            "Epoch 41/200\n",
            "45/45 [==============================] - 72s 2s/step - loss: 0.9118 - accuracy: 0.8773 - val_loss: 1.0604 - val_accuracy: 0.8244\n",
            "Epoch 42/200\n",
            "45/45 [==============================] - 72s 2s/step - loss: 0.8156 - accuracy: 0.9101 - val_loss: 1.0594 - val_accuracy: 0.8286\n",
            "Epoch 43/200\n",
            "45/45 [==============================] - 72s 2s/step - loss: 0.8167 - accuracy: 0.9101 - val_loss: 0.9638 - val_accuracy: 0.8669\n",
            "Epoch 44/200\n",
            "45/45 [==============================] - 73s 2s/step - loss: 0.7685 - accuracy: 0.9214 - val_loss: 0.9806 - val_accuracy: 0.8442\n",
            "Epoch 45/200\n",
            "45/45 [==============================] - 72s 2s/step - loss: 0.7519 - accuracy: 0.9270 - val_loss: 0.8965 - val_accuracy: 0.8853\n",
            "Epoch 46/200\n",
            "45/45 [==============================] - 73s 2s/step - loss: 0.7474 - accuracy: 0.9214 - val_loss: 0.9536 - val_accuracy: 0.8669\n",
            "Epoch 47/200\n",
            "45/45 [==============================] - 72s 2s/step - loss: 0.7261 - accuracy: 0.9274 - val_loss: 1.1170 - val_accuracy: 0.7946\n",
            "Epoch 48/200\n",
            "45/45 [==============================] - 73s 2s/step - loss: 0.7363 - accuracy: 0.9178 - val_loss: 0.9986 - val_accuracy: 0.8414\n",
            "Epoch 49/200\n",
            "45/45 [==============================] - 73s 2s/step - loss: 0.7258 - accuracy: 0.9249 - val_loss: 0.9707 - val_accuracy: 0.8541\n",
            "Epoch 50/200\n",
            "45/45 [==============================] - 78s 2s/step - loss: 0.6820 - accuracy: 0.9327 - val_loss: 0.9889 - val_accuracy: 0.8598\n",
            "Epoch 51/200\n",
            "45/45 [==============================] - 72s 2s/step - loss: 0.6453 - accuracy: 0.9432 - val_loss: 0.9339 - val_accuracy: 0.8782\n",
            "Epoch 52/200\n",
            "45/45 [==============================] - 72s 2s/step - loss: 0.7005 - accuracy: 0.9252 - val_loss: 0.8266 - val_accuracy: 0.9008\n",
            "Epoch 53/200\n",
            "45/45 [==============================] - 72s 2s/step - loss: 0.6917 - accuracy: 0.9270 - val_loss: 0.9185 - val_accuracy: 0.8527\n",
            "Epoch 54/200\n",
            "45/45 [==============================] - 72s 2s/step - loss: 0.6931 - accuracy: 0.9231 - val_loss: 0.8736 - val_accuracy: 0.8768\n",
            "Epoch 55/200\n",
            "45/45 [==============================] - 73s 2s/step - loss: 0.6591 - accuracy: 0.9344 - val_loss: 0.7983 - val_accuracy: 0.9065\n",
            "Epoch 56/200\n",
            "45/45 [==============================] - 72s 2s/step - loss: 0.6263 - accuracy: 0.9418 - val_loss: 0.9368 - val_accuracy: 0.8654\n",
            "Epoch 57/200\n",
            "45/45 [==============================] - 73s 2s/step - loss: 0.6246 - accuracy: 0.9436 - val_loss: 0.9206 - val_accuracy: 0.8626\n",
            "Epoch 58/200\n",
            "45/45 [==============================] - 72s 2s/step - loss: 0.6547 - accuracy: 0.9270 - val_loss: 0.9642 - val_accuracy: 0.8499\n",
            "Epoch 59/200\n",
            "45/45 [==============================] - 73s 2s/step - loss: 0.6523 - accuracy: 0.9270 - val_loss: 0.8783 - val_accuracy: 0.8654\n",
            "Epoch 60/200\n",
            "45/45 [==============================] - 76s 2s/step - loss: 0.6286 - accuracy: 0.9341 - val_loss: 1.0336 - val_accuracy: 0.8229\n",
            "Epoch 61/200\n",
            "45/45 [==============================] - 73s 2s/step - loss: 0.6277 - accuracy: 0.9348 - val_loss: 0.9249 - val_accuracy: 0.8414\n",
            "Epoch 62/200\n",
            "45/45 [==============================] - 71s 2s/step - loss: 0.6228 - accuracy: 0.9288 - val_loss: 0.8809 - val_accuracy: 0.8654\n",
            "Epoch 63/200\n",
            "45/45 [==============================] - 72s 2s/step - loss: 0.5852 - accuracy: 0.9404 - val_loss: 1.0385 - val_accuracy: 0.8343\n",
            "Epoch 64/200\n",
            "45/45 [==============================] - 72s 2s/step - loss: 0.6010 - accuracy: 0.9337 - val_loss: 0.8866 - val_accuracy: 0.8598\n",
            "Epoch 65/200\n",
            "45/45 [==============================] - 72s 2s/step - loss: 0.5988 - accuracy: 0.9390 - val_loss: 1.0163 - val_accuracy: 0.8159\n"
          ]
        }
      ],
      "source": [
        "# Create folders and callbacks and fit\n",
        "vgg19_callbacks = create_folders_and_callbacks(model_name='CNN_TL_VGG19_BS64')\n",
        "\n",
        "# Train the model\n",
        "vgg19_history = model_vgg19.fit(\n",
        "    x = aug_train_gen,\n",
        "    epochs = epochs,\n",
        "    validation_data = valid_gen,\n",
        "    callbacks = vgg19_callbacks,\n",
        ").history"
      ]
    },
    {
      "cell_type": "code",
      "execution_count": null,
      "metadata": {
        "colab": {
          "base_uri": "https://localhost:8080/"
        },
        "id": "9HjQ0Ehn_MQI",
        "outputId": "49d273eb-8c63-44bc-d6f7-5bc98fe4fe55"
      },
      "outputs": [
        {
          "name": "stderr",
          "output_type": "stream",
          "text": [
            "WARNING:absl:Found untraced functions such as _jit_compiled_convolution_op, _jit_compiled_convolution_op, _jit_compiled_convolution_op, _jit_compiled_convolution_op, _jit_compiled_convolution_op while saving (showing 5 of 16). These functions will not be directly callable after loading.\n"
          ]
        }
      ],
      "source": [
        "model_vgg19.save(\"data_augmentation_experiments/CNN_TL_VGG19_BS64\")"
      ]
    },
    {
      "cell_type": "code",
      "execution_count": null,
      "metadata": {
        "colab": {
          "base_uri": "https://localhost:8080/",
          "height": 655
        },
        "id": "6gOkxpdw_ksy",
        "outputId": "295a3b67-374b-49de-abb8-800f54458606"
      },
      "outputs": [
        {
          "data": {
            "image/png": "[encoded data removed]",
            "text/plain": [
              "<Figure size 1440x360 with 1 Axes>"
            ]
          },
          "metadata": {},
          "output_type": "display_data"
        },
        {
          "data": {
            "image/png": "[encoded data removed]",
            "text/plain": [
              "<Figure size 1440x360 with 1 Axes>"
            ]
          },
          "metadata": {},
          "output_type": "display_data"
        }
      ],
      "source": [
        "# Plot the training\n",
        "plt.figure(figsize=(20,5))\n",
        "plt.plot(vgg19_history['loss'], label='Training', alpha=.8, color='#ff7f0e')\n",
        "plt.plot(vgg19_history['val_loss'], label='Validation', alpha=.8, color='#4D61E2')\n",
        "plt.legend(loc='upper left')\n",
        "plt.title('Categorical Crossentropy')\n",
        "plt.grid(alpha=.3)\n",
        "\n",
        "plt.figure(figsize=(20,5))\n",
        "plt.plot(vgg19_history['accuracy'], label='Training', alpha=.8, color='#ff7f0e')\n",
        "plt.plot(vgg19_history['val_accuracy'], label='Validation', alpha=.8, color='#4D61E2')\n",
        "plt.legend(loc='upper left')\n",
        "plt.title('Accuracy')\n",
        "plt.grid(alpha=.3)\n",
        "\n",
        "plt.show()"
      ]
    },
    {
      "cell_type": "markdown",
      "source": [
        "## Fine Tuning - VGG19"
      ],
      "metadata": {
        "id": "Pw2NjwDGlncy"
      }
    },
    {
      "cell_type": "code",
      "execution_count": null,
      "metadata": {
        "colab": {
          "base_uri": "https://localhost:8080/"
        },
        "id": "CD_4lRaMi_bx",
        "outputId": "4aafd6de-21c3-42f4-c271-7d752bb43ee4"
      },
      "outputs": [
        {
          "name": "stdout",
          "output_type": "stream",
          "text": [
            "Model: \"sequential_1\"\n",
            "_________________________________________________________________\n",
            " Layer (type)                Output Shape              Param #   \n",
            "=================================================================\n",
            " vgg19 (Functional)          (None, 8, 8, 512)         20024384  \n",
            "                                                                 \n",
            " flatten_1 (Flatten)         (None, 32768)             0         \n",
            "                                                                 \n",
            " dense_3 (Dense)             (None, 64)                2097216   \n",
            "                                                                 \n",
            " dense_4 (Dense)             (None, 32)                2080      \n",
            "                                                                 \n",
            " dense_5 (Dense)             (None, 8)                 264       \n",
            "                                                                 \n",
            "=================================================================\n",
            "Total params: 22,123,944\n",
            "Trainable params: 22,123,944\n",
            "Non-trainable params: 0\n",
            "_________________________________________________________________\n"
          ]
        }
      ],
      "source": [
        "## Fine Tuning VGG19\n",
        "ft_vgg19_model = tfk.models.load_model(\"data_augmentation_experiments/CNN_TL_VGG19_BS64\")\n",
        "ft_vgg19_model.summary()"
      ]
    },
    {
      "cell_type": "code",
      "execution_count": null,
      "metadata": {
        "colab": {
          "base_uri": "https://localhost:8080/"
        },
        "id": "rGECVO8Rjmnn",
        "outputId": "8eb904dc-22aa-4937-b955-0bb16107466f"
      },
      "outputs": [
        {
          "name": "stdout",
          "output_type": "stream",
          "text": [
            "0 input_2 True\n",
            "1 block1_conv1 True\n",
            "2 block1_conv2 True\n",
            "3 block1_pool True\n",
            "4 block2_conv1 True\n",
            "5 block2_conv2 True\n",
            "6 block2_pool True\n",
            "7 block3_conv1 True\n",
            "8 block3_conv2 True\n",
            "9 block3_conv3 True\n",
            "10 block3_conv4 True\n",
            "11 block3_pool True\n",
            "12 block4_conv1 True\n",
            "13 block4_conv2 True\n",
            "14 block4_conv3 True\n",
            "15 block4_conv4 True\n",
            "16 block4_pool True\n",
            "17 block5_conv1 True\n",
            "18 block5_conv2 True\n",
            "19 block5_conv3 True\n",
            "20 block5_conv4 True\n",
            "21 block5_pool True\n"
          ]
        }
      ],
      "source": [
        "ft_vgg19_model.get_layer('vgg19').trainable = True\n",
        "for i, layer in enumerate(ft_vgg19_model.get_layer('vgg19').layers):\n",
        "   print(i, layer.name, ft_vgg19_model.trainable)"
      ]
    },
    {
      "cell_type": "code",
      "execution_count": null,
      "metadata": {
        "colab": {
          "base_uri": "https://localhost:8080/"
        },
        "id": "0UMz-j6CjqfP",
        "outputId": "b8510246-d3b5-4ff8-ace4-e5d214af90c4"
      },
      "outputs": [
        {
          "name": "stdout",
          "output_type": "stream",
          "text": [
            "0 input_2 False\n",
            "1 block1_conv1 False\n",
            "2 block1_conv2 False\n",
            "3 block1_pool False\n",
            "4 block2_conv1 False\n",
            "5 block2_conv2 False\n",
            "6 block2_pool False\n",
            "7 block3_conv1 False\n",
            "8 block3_conv2 False\n",
            "9 block3_conv3 False\n",
            "10 block3_conv4 False\n",
            "11 block3_pool False\n",
            "12 block4_conv1 False\n",
            "13 block4_conv2 False\n",
            "14 block4_conv3 False\n",
            "15 block4_conv4 False\n",
            "16 block4_pool False\n",
            "17 block5_conv1 True\n",
            "18 block5_conv2 True\n",
            "19 block5_conv3 True\n",
            "20 block5_conv4 True\n",
            "21 block5_pool True\n",
            "Model: \"sequential_1\"\n",
            "_________________________________________________________________\n",
            " Layer (type)                Output Shape              Param #   \n",
            "=================================================================\n",
            " vgg19 (Functional)          (None, 8, 8, 512)         20024384  \n",
            "                                                                 \n",
            " flatten_1 (Flatten)         (None, 32768)             0         \n",
            "                                                                 \n",
            " dense_3 (Dense)             (None, 64)                2097216   \n",
            "                                                                 \n",
            " dense_4 (Dense)             (None, 32)                2080      \n",
            "                                                                 \n",
            " dense_5 (Dense)             (None, 8)                 264       \n",
            "                                                                 \n",
            "=================================================================\n",
            "Total params: 22,123,944\n",
            "Trainable params: 11,538,792\n",
            "Non-trainable params: 10,585,152\n",
            "_________________________________________________________________\n"
          ]
        }
      ],
      "source": [
        "# Freeze first N layers, e.g., until 14th\n",
        "for i, layer in enumerate(ft_vgg19_model.get_layer('vgg19').layers[:17]):\n",
        "  layer.trainable=False\n",
        "for i, layer in enumerate(ft_vgg19_model.get_layer('vgg19').layers):\n",
        "   print(i, layer.name, layer.trainable)\n",
        "ft_vgg19_model.summary()"
      ]
    },
    {
      "cell_type": "code",
      "execution_count": null,
      "metadata": {
        "id": "rYFhndaxjwhn"
      },
      "outputs": [],
      "source": [
        "loss = tf.keras.losses.CategoricalCrossentropy()\n",
        "lr = 5e-5\n",
        "optimizer = tf.keras.optimizers.Adam(learning_rate=lr)\n",
        "metrics = ['accuracy']\n",
        "ft_vgg19_model.compile(loss=loss, optimizer=optimizer, metrics=metrics)"
      ]
    },
    {
      "cell_type": "code",
      "execution_count": null,
      "metadata": {
        "colab": {
          "base_uri": "https://localhost:8080/",
          "height": 363
        },
        "id": "Rh_ezp46j0d7",
        "outputId": "4372d2b0-7522-41be-b361-fad0daad4088"
      },
      "outputs": [
        {
          "ename": "AttributeError",
          "evalue": "ignored",
          "output_type": "error",
          "traceback": [
            "\u001b[0;31m---------------------------------------------------------------------------\u001b[0m",
            "\u001b[0;31mAttributeError\u001b[0m                            Traceback (most recent call last)",
            "\u001b[0;32m<ipython-input-16-3a0a90d1ba1d>\u001b[0m in \u001b[0;36m<module>\u001b[0;34m\u001b[0m\n\u001b[1;32m      7\u001b[0m     \u001b[0mepochs\u001b[0m \u001b[0;34m=\u001b[0m \u001b[0mepochs\u001b[0m\u001b[0;34m,\u001b[0m\u001b[0;34m\u001b[0m\u001b[0;34m\u001b[0m\u001b[0m\n\u001b[1;32m      8\u001b[0m     \u001b[0mvalidation_data\u001b[0m \u001b[0;34m=\u001b[0m \u001b[0mvalid_gen\u001b[0m\u001b[0;34m,\u001b[0m\u001b[0;34m\u001b[0m\u001b[0;34m\u001b[0m\u001b[0m\n\u001b[0;32m----> 9\u001b[0;31m     \u001b[0mcallbacks\u001b[0m \u001b[0;34m=\u001b[0m \u001b[0mft_vgg19_model\u001b[0m\u001b[0;34m,\u001b[0m\u001b[0;34m\u001b[0m\u001b[0;34m\u001b[0m\u001b[0m\n\u001b[0m\u001b[1;32m     10\u001b[0m ).history\n",
            "\u001b[0;32m/usr/local/lib/python3.7/dist-packages/keras/utils/traceback_utils.py\u001b[0m in \u001b[0;36merror_handler\u001b[0;34m(*args, **kwargs)\u001b[0m\n\u001b[1;32m     65\u001b[0m     \u001b[0;32mexcept\u001b[0m \u001b[0mException\u001b[0m \u001b[0;32mas\u001b[0m \u001b[0me\u001b[0m\u001b[0;34m:\u001b[0m  \u001b[0;31m# pylint: disable=broad-except\u001b[0m\u001b[0;34m\u001b[0m\u001b[0;34m\u001b[0m\u001b[0m\n\u001b[1;32m     66\u001b[0m       \u001b[0mfiltered_tb\u001b[0m \u001b[0;34m=\u001b[0m \u001b[0m_process_traceback_frames\u001b[0m\u001b[0;34m(\u001b[0m\u001b[0me\u001b[0m\u001b[0;34m.\u001b[0m\u001b[0m__traceback__\u001b[0m\u001b[0;34m)\u001b[0m\u001b[0;34m\u001b[0m\u001b[0;34m\u001b[0m\u001b[0m\n\u001b[0;32m---> 67\u001b[0;31m       \u001b[0;32mraise\u001b[0m \u001b[0me\u001b[0m\u001b[0;34m.\u001b[0m\u001b[0mwith_traceback\u001b[0m\u001b[0;34m(\u001b[0m\u001b[0mfiltered_tb\u001b[0m\u001b[0;34m)\u001b[0m \u001b[0;32mfrom\u001b[0m \u001b[0;32mNone\u001b[0m\u001b[0;34m\u001b[0m\u001b[0;34m\u001b[0m\u001b[0m\n\u001b[0m\u001b[1;32m     68\u001b[0m     \u001b[0;32mfinally\u001b[0m\u001b[0;34m:\u001b[0m\u001b[0;34m\u001b[0m\u001b[0;34m\u001b[0m\u001b[0m\n\u001b[1;32m     69\u001b[0m       \u001b[0;32mdel\u001b[0m \u001b[0mfiltered_tb\u001b[0m\u001b[0;34m\u001b[0m\u001b[0;34m\u001b[0m\u001b[0m\n",
            "\u001b[0;32m/usr/local/lib/python3.7/dist-packages/keras/callbacks.py\u001b[0m in \u001b[0;36mset_model\u001b[0;34m(self, model)\u001b[0m\n\u001b[1;32m    285\u001b[0m       \u001b[0mmodel\u001b[0m\u001b[0;34m.\u001b[0m\u001b[0mhistory\u001b[0m \u001b[0;34m=\u001b[0m \u001b[0mself\u001b[0m\u001b[0;34m.\u001b[0m\u001b[0m_history\u001b[0m\u001b[0;34m\u001b[0m\u001b[0;34m\u001b[0m\u001b[0m\n\u001b[1;32m    286\u001b[0m     \u001b[0;32mfor\u001b[0m \u001b[0mcallback\u001b[0m \u001b[0;32min\u001b[0m \u001b[0mself\u001b[0m\u001b[0;34m.\u001b[0m\u001b[0mcallbacks\u001b[0m\u001b[0;34m:\u001b[0m\u001b[0;34m\u001b[0m\u001b[0;34m\u001b[0m\u001b[0m\n\u001b[0;32m--> 287\u001b[0;31m       \u001b[0mcallback\u001b[0m\u001b[0;34m.\u001b[0m\u001b[0mset_model\u001b[0m\u001b[0;34m(\u001b[0m\u001b[0mmodel\u001b[0m\u001b[0;34m)\u001b[0m\u001b[0;34m\u001b[0m\u001b[0;34m\u001b[0m\u001b[0m\n\u001b[0m\u001b[1;32m    288\u001b[0m \u001b[0;34m\u001b[0m\u001b[0m\n\u001b[1;32m    289\u001b[0m   \u001b[0;32mdef\u001b[0m \u001b[0m_call_batch_hook\u001b[0m\u001b[0;34m(\u001b[0m\u001b[0mself\u001b[0m\u001b[0;34m,\u001b[0m \u001b[0mmode\u001b[0m\u001b[0;34m,\u001b[0m \u001b[0mhook\u001b[0m\u001b[0;34m,\u001b[0m \u001b[0mbatch\u001b[0m\u001b[0;34m,\u001b[0m \u001b[0mlogs\u001b[0m\u001b[0;34m=\u001b[0m\u001b[0;32mNone\u001b[0m\u001b[0;34m)\u001b[0m\u001b[0;34m:\u001b[0m\u001b[0;34m\u001b[0m\u001b[0;34m\u001b[0m\u001b[0m\n",
            "\u001b[0;31mAttributeError\u001b[0m: 'Sequential' object has no attribute 'set_model'"
          ]
        }
      ],
      "source": [
        "# Create folders and callbacks and fit\n",
        "vgg19_ft_callbacks = create_folders_and_callbacks(model_name='CNN_TL_VGG19_BS64_FT')\n",
        "\n",
        "# Train the model\n",
        "ft_vgg19_history = ft_vgg19_model.fit(\n",
        "    x = aug_train_gen,\n",
        "    epochs = epochs,\n",
        "    validation_data = valid_gen,\n",
        "    callbacks = vgg19_ft_callbacks,\n",
        ").history"
      ]
    },
    {
      "cell_type": "markdown",
      "source": [
        "# Transfer Learning - InceptionV3\n",
        "Adam Optimizer"
      ],
      "metadata": {
        "id": "r0510cpCmIqC"
      }
    },
    {
      "cell_type": "code",
      "execution_count": null,
      "metadata": {
        "colab": {
          "base_uri": "https://localhost:8080/"
        },
        "id": "QdraZgozj-ln",
        "outputId": "f801381d-12a8-4d4c-f8ef-186491ad7bd3"
      },
      "outputs": [
        {
          "name": "stdout",
          "output_type": "stream",
          "text": [
            "Downloading data from https://storage.googleapis.com/tensorflow/keras-applications/inception_v3/inception_v3_weights_tf_dim_ordering_tf_kernels_notop.h5\n",
            "87910968/87910968 [==============================] - 1s 0us/step\n",
            "Model: \"sequential\"\n",
            "_________________________________________________________________\n",
            " Layer (type)                Output Shape              Param #   \n",
            "=================================================================\n",
            " inception_v3 (Functional)   (None, 6, 6, 2048)        21802784  \n",
            "                                                                 \n",
            " flatten (Flatten)           (None, 73728)             0         \n",
            "                                                                 \n",
            " dense (Dense)               (None, 64)                4718656   \n",
            "                                                                 \n",
            " dense_1 (Dense)             (None, 32)                2080      \n",
            "                                                                 \n",
            " dense_2 (Dense)             (None, 8)                 264       \n",
            "                                                                 \n",
            "=================================================================\n",
            "Total params: 26,523,784\n",
            "Trainable params: 26,489,352\n",
            "Non-trainable params: 34,432\n",
            "_________________________________________________________________\n"
          ]
        }
      ],
      "source": [
        "iv3 = tf.keras.applications.InceptionV3(weights='imagenet', include_top=False, input_shape=input_shape)\n",
        "model_iv3 = tf.keras.Sequential()\n",
        "model_iv3.add(iv3)\n",
        "model_iv3.add(tf.keras.layers.Flatten())\n",
        "model_iv3.add(tf.keras.layers.Dense(units=64, activation='relu', kernel_regularizer=tf.keras.regularizers.l2(0.0001)))\n",
        "model_iv3.add(tf.keras.layers.Dense(units=32, activation='relu', kernel_regularizer=tf.keras.regularizers.l2(0.0001)))\n",
        "model_iv3.add(tf.keras.layers.Dense(units=8, activation='softmax'))\n",
        "\n",
        "model_iv3.summary()"
      ]
    },
    {
      "cell_type": "code",
      "execution_count": null,
      "metadata": {
        "id": "9nwXgzzhkdzs"
      },
      "outputs": [],
      "source": [
        "loss = tf.keras.losses.CategoricalCrossentropy()\n",
        "lr = 1e-5\n",
        "optimizer = tf.keras.optimizers.Adam(learning_rate=lr)\n",
        "metrics = ['accuracy']\n",
        "model_iv3.compile(optimizer=optimizer, loss=loss, metrics=metrics)"
      ]
    },
    {
      "cell_type": "code",
      "execution_count": null,
      "metadata": {
        "colab": {
          "background_save": true,
          "base_uri": "https://localhost:8080/"
        },
        "id": "9QpBJclQkhzd",
        "outputId": "5bc161fe-233a-493f-984a-1c54e6e692f3"
      },
      "outputs": [
        {
          "name": "stdout",
          "output_type": "stream",
          "text": [
            "Epoch 1/100\n",
            "39/39 [==============================] - 1832s 46s/step - loss: 2.0366 - accuracy: 0.2058 - val_loss: 1.9556 - val_accuracy: 0.2280\n",
            "Epoch 2/100\n",
            "39/39 [==============================] - 1678s 43s/step - loss: 1.8768 - accuracy: 0.2944 - val_loss: 1.8286 - val_accuracy: 0.3144\n",
            "Epoch 3/100\n",
            "39/39 [==============================] - 1687s 43s/step - loss: 1.7439 - accuracy: 0.3508 - val_loss: 1.6727 - val_accuracy: 0.3754\n",
            "Epoch 4/100\n",
            "39/39 [==============================] - 1670s 43s/step - loss: 1.5933 - accuracy: 0.4144 - val_loss: 1.5577 - val_accuracy: 0.4391\n",
            "Epoch 5/100\n",
            "39/39 [==============================] - 1666s 43s/step - loss: 1.4958 - accuracy: 0.4559 - val_loss: 1.4564 - val_accuracy: 0.4632\n",
            "Epoch 6/100\n",
            "39/39 [==============================] - 1674s 43s/step - loss: 1.3887 - accuracy: 0.5115 - val_loss: 1.3700 - val_accuracy: 0.5042\n",
            "Epoch 7/100\n",
            "39/39 [==============================] - 1632s 42s/step - loss: 1.3293 - accuracy: 0.5417 - val_loss: 1.3035 - val_accuracy: 0.5482\n",
            "Epoch 8/100\n",
            "39/39 [==============================] - 1626s 42s/step - loss: 1.2528 - accuracy: 0.5775 - val_loss: 1.2667 - val_accuracy: 0.5609\n",
            "Epoch 9/100\n",
            "39/39 [==============================] - 1667s 43s/step - loss: 1.1980 - accuracy: 0.5836 - val_loss: 1.2030 - val_accuracy: 0.5807\n",
            "Epoch 10/100\n",
            "20/39 [==============>...............] - ETA: 12:21 - loss: 1.1132 - accuracy: 0.6078"
          ]
        }
      ],
      "source": [
        "# Create folders and callbacks and fit\n",
        "iv3_callbacks = create_folders_and_callbacks(model_name='CNN_TF_IV3')\n",
        "\n",
        "# Train the model\n",
        "history = model_iv3.fit(\n",
        "    x = aug_train_gen,\n",
        "    epochs = epochs,\n",
        "    validation_data = valid_gen,\n",
        "    callbacks = iv3_callbacks,\n",
        ").history"
      ]
    },
    {
      "cell_type": "code",
      "execution_count": null,
      "metadata": {
        "colab": {
          "base_uri": "https://localhost:8080/",
          "height": 655
        },
        "id": "Hwhpqd8o6J2a",
        "outputId": "736138ce-6af8-4d99-e623-41d6b93ac4b1"
      },
      "outputs": [
        {
          "data": {
            "image/png": "[encoded data removed]",
            "text/plain": [
              "<Figure size 1440x360 with 1 Axes>"
            ]
          },
          "metadata": {},
          "output_type": "display_data"
        },
        {
          "data": {
            "image/png": "[encoded data removed]",
            "text/plain": [
              "<Figure size 1440x360 with 1 Axes>"
            ]
          },
          "metadata": {},
          "output_type": "display_data"
        }
      ],
      "source": [
        "# Plot the training\n",
        "plt.figure(figsize=(20,5))\n",
        "plt.plot(history['loss'], label='Training', alpha=.8, color='#ff7f0e')\n",
        "plt.plot(history['val_loss'], label='Validation', alpha=.8, color='#4D61E2')\n",
        "plt.legend(loc='upper left')\n",
        "plt.title('Categorical Crossentropy')\n",
        "plt.grid(alpha=.3)\n",
        "\n",
        "plt.figure(figsize=(20,5))\n",
        "plt.plot(history['accuracy'], label='Training', alpha=.8, color='#ff7f0e')\n",
        "plt.plot(history['val_accuracy'], label='Validation', alpha=.8, color='#4D61E2')\n",
        "plt.legend(loc='upper left')\n",
        "plt.title('Accuracy')\n",
        "plt.grid(alpha=.3)\n",
        "\n",
        "plt.show()"
      ]
    },
    {
      "cell_type": "code",
      "execution_count": null,
      "metadata": {
        "colab": {
          "base_uri": "https://localhost:8080/"
        },
        "id": "v2WceJnW6hpp",
        "outputId": "ff7aaa92-c9ac-49c4-abb4-ca77cfecba77"
      },
      "outputs": [
        {
          "name": "stderr",
          "output_type": "stream",
          "text": [
            "WARNING:absl:Found untraced functions such as _jit_compiled_convolution_op, _jit_compiled_convolution_op, _jit_compiled_convolution_op, _jit_compiled_convolution_op, _jit_compiled_convolution_op while saving (showing 5 of 94). These functions will not be directly callable after loading.\n"
          ]
        }
      ],
      "source": [
        "# Save best epoch model\n",
        "model_iv3.save(\"data_augmentation_experiments/CNN_TL_IV3_BS32\")"
      ]
    },
    {
      "cell_type": "markdown",
      "source": [
        "# Transfer Learning - ResNet101V2\n",
        "Adam Optimizer\n",
        "\n"
      ],
      "metadata": {
        "id": "WM2GpDs1mZqu"
      }
    },
    {
      "cell_type": "code",
      "execution_count": null,
      "metadata": {
        "colab": {
          "base_uri": "https://localhost:8080/"
        },
        "id": "n7Htp1hbWA6G",
        "outputId": "7e4c580b-2cde-4908-c021-dbf4e0de3b2f"
      },
      "outputs": [
        {
          "name": "stdout",
          "output_type": "stream",
          "text": [
            "Downloading data from https://storage.googleapis.com/tensorflow/keras-applications/resnet/resnet101v2_weights_tf_dim_ordering_tf_kernels_notop.h5\n",
            "171317808/171317808 [==============================] - 1s 0us/step\n",
            "Model: \"sequential_1\"\n",
            "_________________________________________________________________\n",
            " Layer (type)                Output Shape              Param #   \n",
            "=================================================================\n",
            " resnet101v2 (Functional)    (None, 8, 8, 2048)        42626560  \n",
            "                                                                 \n",
            " flatten_1 (Flatten)         (None, 131072)            0         \n",
            "                                                                 \n",
            " dense_3 (Dense)             (None, 64)                8388672   \n",
            "                                                                 \n",
            " dense_4 (Dense)             (None, 32)                2080      \n",
            "                                                                 \n",
            " dense_5 (Dense)             (None, 8)                 264       \n",
            "                                                                 \n",
            "=================================================================\n",
            "Total params: 51,017,576\n",
            "Trainable params: 50,919,912\n",
            "Non-trainable params: 97,664\n",
            "_________________________________________________________________\n"
          ]
        }
      ],
      "source": [
        "resnet101v2 = tf.keras.applications.ResNet101V2(weights='imagenet', include_top=False, input_shape=input_shape)\n",
        "model_resnet101v2 = tf.keras.Sequential()\n",
        "model_resnet101v2.add(resnet101v2)\n",
        "model_resnet101v2.add(tf.keras.layers.Flatten())\n",
        "model_resnet101v2.add(tf.keras.layers.Dense(units=64, activation='relu', kernel_regularizer=tf.keras.regularizers.l2(0.0001)))\n",
        "model_resnet101v2.add(tf.keras.layers.Dense(units=32, activation='relu', kernel_regularizer=tf.keras.regularizers.l2(0.0001)))\n",
        "model_resnet101v2.add(tf.keras.layers.Dense(units=8, activation='softmax'))\n",
        "\n",
        "model_resnet101v2.summary()"
      ]
    },
    {
      "cell_type": "code",
      "execution_count": null,
      "metadata": {
        "id": "KFoaXB7901_d"
      },
      "outputs": [],
      "source": [
        "loss = tf.keras.losses.CategoricalCrossentropy()\n",
        "lr = 5e-5\n",
        "optimizer = tf.keras.optimizers.Adam(learning_rate=lr)\n",
        "metrics = ['accuracy']\n",
        "model_resnet101v2.compile(optimizer=optimizer, loss=loss, metrics=metrics)"
      ]
    },
    {
      "cell_type": "code",
      "execution_count": null,
      "metadata": {
        "colab": {
          "base_uri": "https://localhost:8080/"
        },
        "id": "vRnovKnp07zU",
        "outputId": "eefc4dd1-a9c5-4f47-a729-1f31217d7fd2"
      },
      "outputs": [
        {
          "name": "stdout",
          "output_type": "stream",
          "text": [
            "Epoch 1/200\n",
            "45/45 [==============================] - 98s 2s/step - loss: 1.9137 - accuracy: 0.3138 - val_loss: 2.0017 - val_accuracy: 0.2989\n",
            "Epoch 2/200\n",
            "45/45 [==============================] - 78s 2s/step - loss: 1.4115 - accuracy: 0.5173 - val_loss: 2.2200 - val_accuracy: 0.3768\n",
            "Epoch 3/200\n",
            "45/45 [==============================] - 79s 2s/step - loss: 1.1548 - accuracy: 0.6037 - val_loss: 1.9130 - val_accuracy: 0.4561\n",
            "Epoch 4/200\n",
            "45/45 [==============================] - 77s 2s/step - loss: 1.0005 - accuracy: 0.6562 - val_loss: 1.5057 - val_accuracy: 0.5538\n",
            "Epoch 5/200\n",
            "45/45 [==============================] - 79s 2s/step - loss: 0.8479 - accuracy: 0.7165 - val_loss: 1.2051 - val_accuracy: 0.6317\n",
            "Epoch 6/200\n",
            "45/45 [==============================] - 79s 2s/step - loss: 0.7675 - accuracy: 0.7437 - val_loss: 0.9611 - val_accuracy: 0.7082\n",
            "Epoch 7/200\n",
            "45/45 [==============================] - 77s 2s/step - loss: 0.6789 - accuracy: 0.7676 - val_loss: 0.8072 - val_accuracy: 0.7564\n",
            "Epoch 8/200\n",
            "45/45 [==============================] - 79s 2s/step - loss: 0.6319 - accuracy: 0.7881 - val_loss: 0.7137 - val_accuracy: 0.7875\n",
            "Epoch 9/200\n",
            "45/45 [==============================] - 79s 2s/step - loss: 0.5604 - accuracy: 0.8135 - val_loss: 0.6673 - val_accuracy: 0.7819\n",
            "Epoch 10/200\n",
            "45/45 [==============================] - 77s 2s/step - loss: 0.5682 - accuracy: 0.8082 - val_loss: 0.6274 - val_accuracy: 0.8074\n",
            "Epoch 11/200\n",
            "45/45 [==============================] - 78s 2s/step - loss: 0.5027 - accuracy: 0.8325 - val_loss: 0.5890 - val_accuracy: 0.8187\n",
            "Epoch 12/200\n",
            "45/45 [==============================] - 77s 2s/step - loss: 0.4629 - accuracy: 0.8491 - val_loss: 0.6088 - val_accuracy: 0.8116\n",
            "Epoch 13/200\n",
            "45/45 [==============================] - 78s 2s/step - loss: 0.4416 - accuracy: 0.8558 - val_loss: 0.5867 - val_accuracy: 0.8258\n",
            "Epoch 14/200\n",
            "45/45 [==============================] - 77s 2s/step - loss: 0.4304 - accuracy: 0.8586 - val_loss: 0.5725 - val_accuracy: 0.8385\n",
            "Epoch 15/200\n",
            "45/45 [==============================] - 78s 2s/step - loss: 0.3843 - accuracy: 0.8762 - val_loss: 0.5478 - val_accuracy: 0.8399\n",
            "Epoch 16/200\n",
            "45/45 [==============================] - 77s 2s/step - loss: 0.3875 - accuracy: 0.8685 - val_loss: 0.5717 - val_accuracy: 0.8300\n",
            "Epoch 17/200\n",
            "45/45 [==============================] - 78s 2s/step - loss: 0.3682 - accuracy: 0.8773 - val_loss: 0.4770 - val_accuracy: 0.8654\n",
            "Epoch 18/200\n",
            "45/45 [==============================] - 77s 2s/step - loss: 0.3760 - accuracy: 0.8791 - val_loss: 0.5525 - val_accuracy: 0.8399\n",
            "Epoch 19/200\n",
            "45/45 [==============================] - 79s 2s/step - loss: 0.3529 - accuracy: 0.8882 - val_loss: 0.4568 - val_accuracy: 0.8654\n",
            "Epoch 20/200\n",
            "45/45 [==============================] - 77s 2s/step - loss: 0.3259 - accuracy: 0.8914 - val_loss: 0.4757 - val_accuracy: 0.8669\n",
            "Epoch 21/200\n",
            "45/45 [==============================] - 78s 2s/step - loss: 0.3077 - accuracy: 0.8942 - val_loss: 0.4603 - val_accuracy: 0.8683\n",
            "Epoch 22/200\n",
            "45/45 [==============================] - 77s 2s/step - loss: 0.2738 - accuracy: 0.9080 - val_loss: 0.4449 - val_accuracy: 0.8697\n",
            "Epoch 23/200\n",
            "45/45 [==============================] - 78s 2s/step - loss: 0.2882 - accuracy: 0.9080 - val_loss: 0.4759 - val_accuracy: 0.8612\n",
            "Epoch 24/200\n",
            "45/45 [==============================] - 77s 2s/step - loss: 0.2495 - accuracy: 0.9189 - val_loss: 0.4733 - val_accuracy: 0.8683\n",
            "Epoch 25/200\n",
            "45/45 [==============================] - 78s 2s/step - loss: 0.2478 - accuracy: 0.9168 - val_loss: 0.6674 - val_accuracy: 0.8187\n",
            "Epoch 26/200\n",
            "45/45 [==============================] - 78s 2s/step - loss: 0.2726 - accuracy: 0.9126 - val_loss: 0.4602 - val_accuracy: 0.8711\n",
            "Epoch 27/200\n",
            "45/45 [==============================] - 79s 2s/step - loss: 0.2222 - accuracy: 0.9291 - val_loss: 0.4731 - val_accuracy: 0.8768\n",
            "Epoch 28/200\n",
            "45/45 [==============================] - 78s 2s/step - loss: 0.2381 - accuracy: 0.9207 - val_loss: 0.4892 - val_accuracy: 0.8669\n",
            "Epoch 29/200\n",
            "45/45 [==============================] - 78s 2s/step - loss: 0.2256 - accuracy: 0.9270 - val_loss: 0.4957 - val_accuracy: 0.8754\n",
            "Epoch 30/200\n",
            "45/45 [==============================] - 77s 2s/step - loss: 0.2187 - accuracy: 0.9348 - val_loss: 0.4804 - val_accuracy: 0.8782\n",
            "Epoch 31/200\n",
            "45/45 [==============================] - 78s 2s/step - loss: 0.1917 - accuracy: 0.9386 - val_loss: 0.5608 - val_accuracy: 0.8711\n",
            "Epoch 32/200\n",
            "45/45 [==============================] - 79s 2s/step - loss: 0.2055 - accuracy: 0.9362 - val_loss: 0.5745 - val_accuracy: 0.8555\n"
          ]
        }
      ],
      "source": [
        "# Create folders and callbacks and fit\n",
        "resnet101v2_callbacks = create_folders_and_callbacks(model_name='CNN_TF_RESNET101V2')\n",
        "\n",
        "# Train the model\n",
        "history = model_resnet101v2.fit(\n",
        "    x = aug_train_gen,\n",
        "    epochs = epochs,\n",
        "    validation_data = valid_gen,\n",
        "    callbacks = resnet101v2_callbacks,\n",
        ").history"
      ]
    },
    {
      "cell_type": "code",
      "execution_count": null,
      "metadata": {
        "colab": {
          "base_uri": "https://localhost:8080/"
        },
        "id": "ZvIv2tt7FYOJ",
        "outputId": "b490bb91-4fdf-463a-c854-e977b332d9b6"
      },
      "outputs": [
        {
          "name": "stderr",
          "output_type": "stream",
          "text": [
            "WARNING:absl:Found untraced functions such as _jit_compiled_convolution_op, _jit_compiled_convolution_op, _jit_compiled_convolution_op, _jit_compiled_convolution_op, _jit_compiled_convolution_op while saving (showing 5 of 104). These functions will not be directly callable after loading.\n"
          ]
        }
      ],
      "source": [
        "model_resnet101v2.save(\"data_augmentation_experiments/CNN_TL_RESNET101V2_BS64\")"
      ]
    },
    {
      "cell_type": "markdown",
      "source": [
        "## Fine Tuning - ResNet101V2"
      ],
      "metadata": {
        "id": "hYWYxsyzmkxj"
      }
    },
    {
      "cell_type": "code",
      "execution_count": null,
      "metadata": {
        "colab": {
          "base_uri": "https://localhost:8080/"
        },
        "id": "0Pwx4n31GARP",
        "outputId": "1076afff-89c2-4a4c-c02a-301706417af3"
      },
      "outputs": [
        {
          "name": "stdout",
          "output_type": "stream",
          "text": [
            "Model: \"sequential_1\"\n",
            "_________________________________________________________________\n",
            " Layer (type)                Output Shape              Param #   \n",
            "=================================================================\n",
            " resnet101v2 (Functional)    (None, 8, 8, 2048)        42626560  \n",
            "                                                                 \n",
            " flatten_1 (Flatten)         (None, 131072)            0         \n",
            "                                                                 \n",
            " dense_3 (Dense)             (None, 64)                8388672   \n",
            "                                                                 \n",
            " dense_4 (Dense)             (None, 32)                2080      \n",
            "                                                                 \n",
            " dense_5 (Dense)             (None, 8)                 264       \n",
            "                                                                 \n",
            "=================================================================\n",
            "Total params: 51,017,576\n",
            "Trainable params: 50,919,912\n",
            "Non-trainable params: 97,664\n",
            "_________________________________________________________________\n"
          ]
        }
      ],
      "source": [
        "## Fine Tuning\n",
        "ft_model = tfk.models.load_model(\"data_augmentation_experiments/CNN_TL_RESNET101V2_BS64\")\n",
        "ft_model.summary()"
      ]
    },
    {
      "cell_type": "code",
      "execution_count": null,
      "metadata": {
        "colab": {
          "base_uri": "https://localhost:8080/"
        },
        "id": "OjxQs9RxfiQv",
        "outputId": "b7f2480b-f8c5-4072-e24a-e16bf796d26e"
      },
      "outputs": [
        {
          "name": "stdout",
          "output_type": "stream",
          "text": [
            "0 input_2 True\n",
            "1 conv1_pad True\n",
            "2 conv1_conv True\n",
            "3 pool1_pad True\n",
            "4 pool1_pool True\n",
            "5 conv2_block1_preact_bn True\n",
            "6 conv2_block1_preact_relu True\n",
            "7 conv2_block1_1_conv True\n",
            "8 conv2_block1_1_bn True\n",
            "9 conv2_block1_1_relu True\n",
            "10 conv2_block1_2_pad True\n",
            "11 conv2_block1_2_conv True\n",
            "12 conv2_block1_2_bn True\n",
            "13 conv2_block1_2_relu True\n",
            "14 conv2_block1_0_conv True\n",
            "15 conv2_block1_3_conv True\n",
            "16 conv2_block1_out True\n",
            "17 conv2_block2_preact_bn True\n",
            "18 conv2_block2_preact_relu True\n",
            "19 conv2_block2_1_conv True\n",
            "20 conv2_block2_1_bn True\n",
            "21 conv2_block2_1_relu True\n",
            "22 conv2_block2_2_pad True\n",
            "23 conv2_block2_2_conv True\n",
            "24 conv2_block2_2_bn True\n",
            "25 conv2_block2_2_relu True\n",
            "26 conv2_block2_3_conv True\n",
            "27 conv2_block2_out True\n",
            "28 conv2_block3_preact_bn True\n",
            "29 conv2_block3_preact_relu True\n",
            "30 conv2_block3_1_conv True\n",
            "31 conv2_block3_1_bn True\n",
            "32 conv2_block3_1_relu True\n",
            "33 conv2_block3_2_pad True\n",
            "34 conv2_block3_2_conv True\n",
            "35 conv2_block3_2_bn True\n",
            "36 conv2_block3_2_relu True\n",
            "37 max_pooling2d True\n",
            "38 conv2_block3_3_conv True\n",
            "39 conv2_block3_out True\n",
            "40 conv3_block1_preact_bn True\n",
            "41 conv3_block1_preact_relu True\n",
            "42 conv3_block1_1_conv True\n",
            "43 conv3_block1_1_bn True\n",
            "44 conv3_block1_1_relu True\n",
            "45 conv3_block1_2_pad True\n",
            "46 conv3_block1_2_conv True\n",
            "47 conv3_block1_2_bn True\n",
            "48 conv3_block1_2_relu True\n",
            "49 conv3_block1_0_conv True\n",
            "50 conv3_block1_3_conv True\n",
            "51 conv3_block1_out True\n",
            "52 conv3_block2_preact_bn True\n",
            "53 conv3_block2_preact_relu True\n",
            "54 conv3_block2_1_conv True\n",
            "55 conv3_block2_1_bn True\n",
            "56 conv3_block2_1_relu True\n",
            "57 conv3_block2_2_pad True\n",
            "58 conv3_block2_2_conv True\n",
            "59 conv3_block2_2_bn True\n",
            "60 conv3_block2_2_relu True\n",
            "61 conv3_block2_3_conv True\n",
            "62 conv3_block2_out True\n",
            "63 conv3_block3_preact_bn True\n",
            "64 conv3_block3_preact_relu True\n",
            "65 conv3_block3_1_conv True\n",
            "66 conv3_block3_1_bn True\n",
            "67 conv3_block3_1_relu True\n",
            "68 conv3_block3_2_pad True\n",
            "69 conv3_block3_2_conv True\n",
            "70 conv3_block3_2_bn True\n",
            "71 conv3_block3_2_relu True\n",
            "72 conv3_block3_3_conv True\n",
            "73 conv3_block3_out True\n",
            "74 conv3_block4_preact_bn True\n",
            "75 conv3_block4_preact_relu True\n",
            "76 conv3_block4_1_conv True\n",
            "77 conv3_block4_1_bn True\n",
            "78 conv3_block4_1_relu True\n",
            "79 conv3_block4_2_pad True\n",
            "80 conv3_block4_2_conv True\n",
            "81 conv3_block4_2_bn True\n",
            "82 conv3_block4_2_relu True\n",
            "83 max_pooling2d_1 True\n",
            "84 conv3_block4_3_conv True\n",
            "85 conv3_block4_out True\n",
            "86 conv4_block1_preact_bn True\n",
            "87 conv4_block1_preact_relu True\n",
            "88 conv4_block1_1_conv True\n",
            "89 conv4_block1_1_bn True\n",
            "90 conv4_block1_1_relu True\n",
            "91 conv4_block1_2_pad True\n",
            "92 conv4_block1_2_conv True\n",
            "93 conv4_block1_2_bn True\n",
            "94 conv4_block1_2_relu True\n",
            "95 conv4_block1_0_conv True\n",
            "96 conv4_block1_3_conv True\n",
            "97 conv4_block1_out True\n",
            "98 conv4_block2_preact_bn True\n",
            "99 conv4_block2_preact_relu True\n",
            "100 conv4_block2_1_conv True\n",
            "101 conv4_block2_1_bn True\n",
            "102 conv4_block2_1_relu True\n",
            "103 conv4_block2_2_pad True\n",
            "104 conv4_block2_2_conv True\n",
            "105 conv4_block2_2_bn True\n",
            "106 conv4_block2_2_relu True\n",
            "107 conv4_block2_3_conv True\n",
            "108 conv4_block2_out True\n",
            "109 conv4_block3_preact_bn True\n",
            "110 conv4_block3_preact_relu True\n",
            "111 conv4_block3_1_conv True\n",
            "112 conv4_block3_1_bn True\n",
            "113 conv4_block3_1_relu True\n",
            "114 conv4_block3_2_pad True\n",
            "115 conv4_block3_2_conv True\n",
            "116 conv4_block3_2_bn True\n",
            "117 conv4_block3_2_relu True\n",
            "118 conv4_block3_3_conv True\n",
            "119 conv4_block3_out True\n",
            "120 conv4_block4_preact_bn True\n",
            "121 conv4_block4_preact_relu True\n",
            "122 conv4_block4_1_conv True\n",
            "123 conv4_block4_1_bn True\n",
            "124 conv4_block4_1_relu True\n",
            "125 conv4_block4_2_pad True\n",
            "126 conv4_block4_2_conv True\n",
            "127 conv4_block4_2_bn True\n",
            "128 conv4_block4_2_relu True\n",
            "129 conv4_block4_3_conv True\n",
            "130 conv4_block4_out True\n",
            "131 conv4_block5_preact_bn True\n",
            "132 conv4_block5_preact_relu True\n",
            "133 conv4_block5_1_conv True\n",
            "134 conv4_block5_1_bn True\n",
            "135 conv4_block5_1_relu True\n",
            "136 conv4_block5_2_pad True\n",
            "137 conv4_block5_2_conv True\n",
            "138 conv4_block5_2_bn True\n",
            "139 conv4_block5_2_relu True\n",
            "140 conv4_block5_3_conv True\n",
            "141 conv4_block5_out True\n",
            "142 conv4_block6_preact_bn True\n",
            "143 conv4_block6_preact_relu True\n",
            "144 conv4_block6_1_conv True\n",
            "145 conv4_block6_1_bn True\n",
            "146 conv4_block6_1_relu True\n",
            "147 conv4_block6_2_pad True\n",
            "148 conv4_block6_2_conv True\n",
            "149 conv4_block6_2_bn True\n",
            "150 conv4_block6_2_relu True\n",
            "151 conv4_block6_3_conv True\n",
            "152 conv4_block6_out True\n",
            "153 conv4_block7_preact_bn True\n",
            "154 conv4_block7_preact_relu True\n",
            "155 conv4_block7_1_conv True\n",
            "156 conv4_block7_1_bn True\n",
            "157 conv4_block7_1_relu True\n",
            "158 conv4_block7_2_pad True\n",
            "159 conv4_block7_2_conv True\n",
            "160 conv4_block7_2_bn True\n",
            "161 conv4_block7_2_relu True\n",
            "162 conv4_block7_3_conv True\n",
            "163 conv4_block7_out True\n",
            "164 conv4_block8_preact_bn True\n",
            "165 conv4_block8_preact_relu True\n",
            "166 conv4_block8_1_conv True\n",
            "167 conv4_block8_1_bn True\n",
            "168 conv4_block8_1_relu True\n",
            "169 conv4_block8_2_pad True\n",
            "170 conv4_block8_2_conv True\n",
            "171 conv4_block8_2_bn True\n",
            "172 conv4_block8_2_relu True\n",
            "173 conv4_block8_3_conv True\n",
            "174 conv4_block8_out True\n",
            "175 conv4_block9_preact_bn True\n",
            "176 conv4_block9_preact_relu True\n",
            "177 conv4_block9_1_conv True\n",
            "178 conv4_block9_1_bn True\n",
            "179 conv4_block9_1_relu True\n",
            "180 conv4_block9_2_pad True\n",
            "181 conv4_block9_2_conv True\n",
            "182 conv4_block9_2_bn True\n",
            "183 conv4_block9_2_relu True\n",
            "184 conv4_block9_3_conv True\n",
            "185 conv4_block9_out True\n",
            "186 conv4_block10_preact_bn True\n",
            "187 conv4_block10_preact_relu True\n",
            "188 conv4_block10_1_conv True\n",
            "189 conv4_block10_1_bn True\n",
            "190 conv4_block10_1_relu True\n",
            "191 conv4_block10_2_pad True\n",
            "192 conv4_block10_2_conv True\n",
            "193 conv4_block10_2_bn True\n",
            "194 conv4_block10_2_relu True\n",
            "195 conv4_block10_3_conv True\n",
            "196 conv4_block10_out True\n",
            "197 conv4_block11_preact_bn True\n",
            "198 conv4_block11_preact_relu True\n",
            "199 conv4_block11_1_conv True\n",
            "200 conv4_block11_1_bn True\n",
            "201 conv4_block11_1_relu True\n",
            "202 conv4_block11_2_pad True\n",
            "203 conv4_block11_2_conv True\n",
            "204 conv4_block11_2_bn True\n",
            "205 conv4_block11_2_relu True\n",
            "206 conv4_block11_3_conv True\n",
            "207 conv4_block11_out True\n",
            "208 conv4_block12_preact_bn True\n",
            "209 conv4_block12_preact_relu True\n",
            "210 conv4_block12_1_conv True\n",
            "211 conv4_block12_1_bn True\n",
            "212 conv4_block12_1_relu True\n",
            "213 conv4_block12_2_pad True\n",
            "214 conv4_block12_2_conv True\n",
            "215 conv4_block12_2_bn True\n",
            "216 conv4_block12_2_relu True\n",
            "217 conv4_block12_3_conv True\n",
            "218 conv4_block12_out True\n",
            "219 conv4_block13_preact_bn True\n",
            "220 conv4_block13_preact_relu True\n",
            "221 conv4_block13_1_conv True\n",
            "222 conv4_block13_1_bn True\n",
            "223 conv4_block13_1_relu True\n",
            "224 conv4_block13_2_pad True\n",
            "225 conv4_block13_2_conv True\n",
            "226 conv4_block13_2_bn True\n",
            "227 conv4_block13_2_relu True\n",
            "228 conv4_block13_3_conv True\n",
            "229 conv4_block13_out True\n",
            "230 conv4_block14_preact_bn True\n",
            "231 conv4_block14_preact_relu True\n",
            "232 conv4_block14_1_conv True\n",
            "233 conv4_block14_1_bn True\n",
            "234 conv4_block14_1_relu True\n",
            "235 conv4_block14_2_pad True\n",
            "236 conv4_block14_2_conv True\n",
            "237 conv4_block14_2_bn True\n",
            "238 conv4_block14_2_relu True\n",
            "239 conv4_block14_3_conv True\n",
            "240 conv4_block14_out True\n",
            "241 conv4_block15_preact_bn True\n",
            "242 conv4_block15_preact_relu True\n",
            "243 conv4_block15_1_conv True\n",
            "244 conv4_block15_1_bn True\n",
            "245 conv4_block15_1_relu True\n",
            "246 conv4_block15_2_pad True\n",
            "247 conv4_block15_2_conv True\n",
            "248 conv4_block15_2_bn True\n",
            "249 conv4_block15_2_relu True\n",
            "250 conv4_block15_3_conv True\n",
            "251 conv4_block15_out True\n",
            "252 conv4_block16_preact_bn True\n",
            "253 conv4_block16_preact_relu True\n",
            "254 conv4_block16_1_conv True\n",
            "255 conv4_block16_1_bn True\n",
            "256 conv4_block16_1_relu True\n",
            "257 conv4_block16_2_pad True\n",
            "258 conv4_block16_2_conv True\n",
            "259 conv4_block16_2_bn True\n",
            "260 conv4_block16_2_relu True\n",
            "261 conv4_block16_3_conv True\n",
            "262 conv4_block16_out True\n",
            "263 conv4_block17_preact_bn True\n",
            "264 conv4_block17_preact_relu True\n",
            "265 conv4_block17_1_conv True\n",
            "266 conv4_block17_1_bn True\n",
            "267 conv4_block17_1_relu True\n",
            "268 conv4_block17_2_pad True\n",
            "269 conv4_block17_2_conv True\n",
            "270 conv4_block17_2_bn True\n",
            "271 conv4_block17_2_relu True\n",
            "272 conv4_block17_3_conv True\n",
            "273 conv4_block17_out True\n",
            "274 conv4_block18_preact_bn True\n",
            "275 conv4_block18_preact_relu True\n",
            "276 conv4_block18_1_conv True\n",
            "277 conv4_block18_1_bn True\n",
            "278 conv4_block18_1_relu True\n",
            "279 conv4_block18_2_pad True\n",
            "280 conv4_block18_2_conv True\n",
            "281 conv4_block18_2_bn True\n",
            "282 conv4_block18_2_relu True\n",
            "283 conv4_block18_3_conv True\n",
            "284 conv4_block18_out True\n",
            "285 conv4_block19_preact_bn True\n",
            "286 conv4_block19_preact_relu True\n",
            "287 conv4_block19_1_conv True\n",
            "288 conv4_block19_1_bn True\n",
            "289 conv4_block19_1_relu True\n",
            "290 conv4_block19_2_pad True\n",
            "291 conv4_block19_2_conv True\n",
            "292 conv4_block19_2_bn True\n",
            "293 conv4_block19_2_relu True\n",
            "294 conv4_block19_3_conv True\n",
            "295 conv4_block19_out True\n",
            "296 conv4_block20_preact_bn True\n",
            "297 conv4_block20_preact_relu True\n",
            "298 conv4_block20_1_conv True\n",
            "299 conv4_block20_1_bn True\n",
            "300 conv4_block20_1_relu True\n",
            "301 conv4_block20_2_pad True\n",
            "302 conv4_block20_2_conv True\n",
            "303 conv4_block20_2_bn True\n",
            "304 conv4_block20_2_relu True\n",
            "305 conv4_block20_3_conv True\n",
            "306 conv4_block20_out True\n",
            "307 conv4_block21_preact_bn True\n",
            "308 conv4_block21_preact_relu True\n",
            "309 conv4_block21_1_conv True\n",
            "310 conv4_block21_1_bn True\n",
            "311 conv4_block21_1_relu True\n",
            "312 conv4_block21_2_pad True\n",
            "313 conv4_block21_2_conv True\n",
            "314 conv4_block21_2_bn True\n",
            "315 conv4_block21_2_relu True\n",
            "316 conv4_block21_3_conv True\n",
            "317 conv4_block21_out True\n",
            "318 conv4_block22_preact_bn True\n",
            "319 conv4_block22_preact_relu True\n",
            "320 conv4_block22_1_conv True\n",
            "321 conv4_block22_1_bn True\n",
            "322 conv4_block22_1_relu True\n",
            "323 conv4_block22_2_pad True\n",
            "324 conv4_block22_2_conv True\n",
            "325 conv4_block22_2_bn True\n",
            "326 conv4_block22_2_relu True\n",
            "327 conv4_block22_3_conv True\n",
            "328 conv4_block22_out True\n",
            "329 conv4_block23_preact_bn True\n",
            "330 conv4_block23_preact_relu True\n",
            "331 conv4_block23_1_conv True\n",
            "332 conv4_block23_1_bn True\n",
            "333 conv4_block23_1_relu True\n",
            "334 conv4_block23_2_pad True\n",
            "335 conv4_block23_2_conv True\n",
            "336 conv4_block23_2_bn True\n",
            "337 conv4_block23_2_relu True\n",
            "338 max_pooling2d_2 True\n",
            "339 conv4_block23_3_conv True\n",
            "340 conv4_block23_out True\n",
            "341 conv5_block1_preact_bn True\n",
            "342 conv5_block1_preact_relu True\n",
            "343 conv5_block1_1_conv True\n",
            "344 conv5_block1_1_bn True\n",
            "345 conv5_block1_1_relu True\n",
            "346 conv5_block1_2_pad True\n",
            "347 conv5_block1_2_conv True\n",
            "348 conv5_block1_2_bn True\n",
            "349 conv5_block1_2_relu True\n",
            "350 conv5_block1_0_conv True\n",
            "351 conv5_block1_3_conv True\n",
            "352 conv5_block1_out True\n",
            "353 conv5_block2_preact_bn True\n",
            "354 conv5_block2_preact_relu True\n",
            "355 conv5_block2_1_conv True\n",
            "356 conv5_block2_1_bn True\n",
            "357 conv5_block2_1_relu True\n",
            "358 conv5_block2_2_pad True\n",
            "359 conv5_block2_2_conv True\n",
            "360 conv5_block2_2_bn True\n",
            "361 conv5_block2_2_relu True\n",
            "362 conv5_block2_3_conv True\n",
            "363 conv5_block2_out True\n",
            "364 conv5_block3_preact_bn True\n",
            "365 conv5_block3_preact_relu True\n",
            "366 conv5_block3_1_conv True\n",
            "367 conv5_block3_1_bn True\n",
            "368 conv5_block3_1_relu True\n",
            "369 conv5_block3_2_pad True\n",
            "370 conv5_block3_2_conv True\n",
            "371 conv5_block3_2_bn True\n",
            "372 conv5_block3_2_relu True\n",
            "373 conv5_block3_3_conv True\n",
            "374 conv5_block3_out True\n",
            "375 post_bn True\n",
            "376 post_relu True\n"
          ]
        }
      ],
      "source": [
        "ft_model.get_layer('resnet101v2').trainable = True\n",
        "for i, layer in enumerate(ft_model.get_layer('resnet101v2').layers):\n",
        "   print(i, layer.name, layer.trainable)"
      ]
    },
    {
      "cell_type": "code",
      "execution_count": null,
      "metadata": {
        "colab": {
          "base_uri": "https://localhost:8080/"
        },
        "id": "XLQlny1bgBgg",
        "outputId": "072cd50b-9027-425a-cffb-4efa6f91931a"
      },
      "outputs": [
        {
          "name": "stdout",
          "output_type": "stream",
          "text": [
            "0 input_2 False\n",
            "1 conv1_pad False\n",
            "2 conv1_conv False\n",
            "3 pool1_pad False\n",
            "4 pool1_pool False\n",
            "5 conv2_block1_preact_bn False\n",
            "6 conv2_block1_preact_relu False\n",
            "7 conv2_block1_1_conv False\n",
            "8 conv2_block1_1_bn False\n",
            "9 conv2_block1_1_relu False\n",
            "10 conv2_block1_2_pad False\n",
            "11 conv2_block1_2_conv False\n",
            "12 conv2_block1_2_bn False\n",
            "13 conv2_block1_2_relu False\n",
            "14 conv2_block1_0_conv False\n",
            "15 conv2_block1_3_conv False\n",
            "16 conv2_block1_out False\n",
            "17 conv2_block2_preact_bn False\n",
            "18 conv2_block2_preact_relu False\n",
            "19 conv2_block2_1_conv False\n",
            "20 conv2_block2_1_bn False\n",
            "21 conv2_block2_1_relu False\n",
            "22 conv2_block2_2_pad False\n",
            "23 conv2_block2_2_conv False\n",
            "24 conv2_block2_2_bn False\n",
            "25 conv2_block2_2_relu False\n",
            "26 conv2_block2_3_conv False\n",
            "27 conv2_block2_out False\n",
            "28 conv2_block3_preact_bn False\n",
            "29 conv2_block3_preact_relu False\n",
            "30 conv2_block3_1_conv False\n",
            "31 conv2_block3_1_bn False\n",
            "32 conv2_block3_1_relu False\n",
            "33 conv2_block3_2_pad False\n",
            "34 conv2_block3_2_conv False\n",
            "35 conv2_block3_2_bn False\n",
            "36 conv2_block3_2_relu False\n",
            "37 max_pooling2d False\n",
            "38 conv2_block3_3_conv False\n",
            "39 conv2_block3_out False\n",
            "40 conv3_block1_preact_bn False\n",
            "41 conv3_block1_preact_relu False\n",
            "42 conv3_block1_1_conv False\n",
            "43 conv3_block1_1_bn False\n",
            "44 conv3_block1_1_relu False\n",
            "45 conv3_block1_2_pad False\n",
            "46 conv3_block1_2_conv False\n",
            "47 conv3_block1_2_bn False\n",
            "48 conv3_block1_2_relu False\n",
            "49 conv3_block1_0_conv False\n",
            "50 conv3_block1_3_conv False\n",
            "51 conv3_block1_out False\n",
            "52 conv3_block2_preact_bn False\n",
            "53 conv3_block2_preact_relu False\n",
            "54 conv3_block2_1_conv False\n",
            "55 conv3_block2_1_bn False\n",
            "56 conv3_block2_1_relu False\n",
            "57 conv3_block2_2_pad False\n",
            "58 conv3_block2_2_conv False\n",
            "59 conv3_block2_2_bn False\n",
            "60 conv3_block2_2_relu False\n",
            "61 conv3_block2_3_conv False\n",
            "62 conv3_block2_out False\n",
            "63 conv3_block3_preact_bn False\n",
            "64 conv3_block3_preact_relu False\n",
            "65 conv3_block3_1_conv False\n",
            "66 conv3_block3_1_bn False\n",
            "67 conv3_block3_1_relu False\n",
            "68 conv3_block3_2_pad False\n",
            "69 conv3_block3_2_conv False\n",
            "70 conv3_block3_2_bn False\n",
            "71 conv3_block3_2_relu False\n",
            "72 conv3_block3_3_conv False\n",
            "73 conv3_block3_out False\n",
            "74 conv3_block4_preact_bn False\n",
            "75 conv3_block4_preact_relu False\n",
            "76 conv3_block4_1_conv False\n",
            "77 conv3_block4_1_bn False\n",
            "78 conv3_block4_1_relu False\n",
            "79 conv3_block4_2_pad False\n",
            "80 conv3_block4_2_conv False\n",
            "81 conv3_block4_2_bn False\n",
            "82 conv3_block4_2_relu False\n",
            "83 max_pooling2d_1 False\n",
            "84 conv3_block4_3_conv False\n",
            "85 conv3_block4_out False\n",
            "86 conv4_block1_preact_bn False\n",
            "87 conv4_block1_preact_relu False\n",
            "88 conv4_block1_1_conv False\n",
            "89 conv4_block1_1_bn False\n",
            "90 conv4_block1_1_relu False\n",
            "91 conv4_block1_2_pad False\n",
            "92 conv4_block1_2_conv False\n",
            "93 conv4_block1_2_bn False\n",
            "94 conv4_block1_2_relu False\n",
            "95 conv4_block1_0_conv False\n",
            "96 conv4_block1_3_conv False\n",
            "97 conv4_block1_out False\n",
            "98 conv4_block2_preact_bn False\n",
            "99 conv4_block2_preact_relu False\n",
            "100 conv4_block2_1_conv False\n",
            "101 conv4_block2_1_bn False\n",
            "102 conv4_block2_1_relu False\n",
            "103 conv4_block2_2_pad False\n",
            "104 conv4_block2_2_conv False\n",
            "105 conv4_block2_2_bn False\n",
            "106 conv4_block2_2_relu False\n",
            "107 conv4_block2_3_conv False\n",
            "108 conv4_block2_out False\n",
            "109 conv4_block3_preact_bn False\n",
            "110 conv4_block3_preact_relu False\n",
            "111 conv4_block3_1_conv False\n",
            "112 conv4_block3_1_bn False\n",
            "113 conv4_block3_1_relu False\n",
            "114 conv4_block3_2_pad False\n",
            "115 conv4_block3_2_conv False\n",
            "116 conv4_block3_2_bn False\n",
            "117 conv4_block3_2_relu False\n",
            "118 conv4_block3_3_conv False\n",
            "119 conv4_block3_out False\n",
            "120 conv4_block4_preact_bn False\n",
            "121 conv4_block4_preact_relu False\n",
            "122 conv4_block4_1_conv False\n",
            "123 conv4_block4_1_bn False\n",
            "124 conv4_block4_1_relu False\n",
            "125 conv4_block4_2_pad False\n",
            "126 conv4_block4_2_conv False\n",
            "127 conv4_block4_2_bn False\n",
            "128 conv4_block4_2_relu False\n",
            "129 conv4_block4_3_conv False\n",
            "130 conv4_block4_out False\n",
            "131 conv4_block5_preact_bn False\n",
            "132 conv4_block5_preact_relu False\n",
            "133 conv4_block5_1_conv False\n",
            "134 conv4_block5_1_bn False\n",
            "135 conv4_block5_1_relu False\n",
            "136 conv4_block5_2_pad False\n",
            "137 conv4_block5_2_conv False\n",
            "138 conv4_block5_2_bn False\n",
            "139 conv4_block5_2_relu False\n",
            "140 conv4_block5_3_conv False\n",
            "141 conv4_block5_out False\n",
            "142 conv4_block6_preact_bn False\n",
            "143 conv4_block6_preact_relu False\n",
            "144 conv4_block6_1_conv False\n",
            "145 conv4_block6_1_bn False\n",
            "146 conv4_block6_1_relu False\n",
            "147 conv4_block6_2_pad False\n",
            "148 conv4_block6_2_conv False\n",
            "149 conv4_block6_2_bn False\n",
            "150 conv4_block6_2_relu False\n",
            "151 conv4_block6_3_conv False\n",
            "152 conv4_block6_out False\n",
            "153 conv4_block7_preact_bn False\n",
            "154 conv4_block7_preact_relu False\n",
            "155 conv4_block7_1_conv False\n",
            "156 conv4_block7_1_bn False\n",
            "157 conv4_block7_1_relu False\n",
            "158 conv4_block7_2_pad False\n",
            "159 conv4_block7_2_conv False\n",
            "160 conv4_block7_2_bn False\n",
            "161 conv4_block7_2_relu False\n",
            "162 conv4_block7_3_conv False\n",
            "163 conv4_block7_out False\n",
            "164 conv4_block8_preact_bn False\n",
            "165 conv4_block8_preact_relu False\n",
            "166 conv4_block8_1_conv False\n",
            "167 conv4_block8_1_bn False\n",
            "168 conv4_block8_1_relu False\n",
            "169 conv4_block8_2_pad False\n",
            "170 conv4_block8_2_conv False\n",
            "171 conv4_block8_2_bn False\n",
            "172 conv4_block8_2_relu False\n",
            "173 conv4_block8_3_conv False\n",
            "174 conv4_block8_out False\n",
            "175 conv4_block9_preact_bn False\n",
            "176 conv4_block9_preact_relu False\n",
            "177 conv4_block9_1_conv False\n",
            "178 conv4_block9_1_bn False\n",
            "179 conv4_block9_1_relu False\n",
            "180 conv4_block9_2_pad False\n",
            "181 conv4_block9_2_conv False\n",
            "182 conv4_block9_2_bn False\n",
            "183 conv4_block9_2_relu False\n",
            "184 conv4_block9_3_conv False\n",
            "185 conv4_block9_out False\n",
            "186 conv4_block10_preact_bn False\n",
            "187 conv4_block10_preact_relu False\n",
            "188 conv4_block10_1_conv False\n",
            "189 conv4_block10_1_bn False\n",
            "190 conv4_block10_1_relu False\n",
            "191 conv4_block10_2_pad False\n",
            "192 conv4_block10_2_conv False\n",
            "193 conv4_block10_2_bn False\n",
            "194 conv4_block10_2_relu False\n",
            "195 conv4_block10_3_conv False\n",
            "196 conv4_block10_out False\n",
            "197 conv4_block11_preact_bn False\n",
            "198 conv4_block11_preact_relu False\n",
            "199 conv4_block11_1_conv False\n",
            "200 conv4_block11_1_bn False\n",
            "201 conv4_block11_1_relu False\n",
            "202 conv4_block11_2_pad False\n",
            "203 conv4_block11_2_conv False\n",
            "204 conv4_block11_2_bn False\n",
            "205 conv4_block11_2_relu False\n",
            "206 conv4_block11_3_conv False\n",
            "207 conv4_block11_out False\n",
            "208 conv4_block12_preact_bn False\n",
            "209 conv4_block12_preact_relu False\n",
            "210 conv4_block12_1_conv False\n",
            "211 conv4_block12_1_bn False\n",
            "212 conv4_block12_1_relu False\n",
            "213 conv4_block12_2_pad False\n",
            "214 conv4_block12_2_conv False\n",
            "215 conv4_block12_2_bn False\n",
            "216 conv4_block12_2_relu False\n",
            "217 conv4_block12_3_conv False\n",
            "218 conv4_block12_out False\n",
            "219 conv4_block13_preact_bn False\n",
            "220 conv4_block13_preact_relu False\n",
            "221 conv4_block13_1_conv False\n",
            "222 conv4_block13_1_bn False\n",
            "223 conv4_block13_1_relu False\n",
            "224 conv4_block13_2_pad False\n",
            "225 conv4_block13_2_conv False\n",
            "226 conv4_block13_2_bn False\n",
            "227 conv4_block13_2_relu False\n",
            "228 conv4_block13_3_conv False\n",
            "229 conv4_block13_out False\n",
            "230 conv4_block14_preact_bn False\n",
            "231 conv4_block14_preact_relu False\n",
            "232 conv4_block14_1_conv False\n",
            "233 conv4_block14_1_bn False\n",
            "234 conv4_block14_1_relu False\n",
            "235 conv4_block14_2_pad False\n",
            "236 conv4_block14_2_conv False\n",
            "237 conv4_block14_2_bn False\n",
            "238 conv4_block14_2_relu False\n",
            "239 conv4_block14_3_conv False\n",
            "240 conv4_block14_out False\n",
            "241 conv4_block15_preact_bn False\n",
            "242 conv4_block15_preact_relu False\n",
            "243 conv4_block15_1_conv False\n",
            "244 conv4_block15_1_bn False\n",
            "245 conv4_block15_1_relu False\n",
            "246 conv4_block15_2_pad False\n",
            "247 conv4_block15_2_conv False\n",
            "248 conv4_block15_2_bn False\n",
            "249 conv4_block15_2_relu False\n",
            "250 conv4_block15_3_conv False\n",
            "251 conv4_block15_out False\n",
            "252 conv4_block16_preact_bn False\n",
            "253 conv4_block16_preact_relu False\n",
            "254 conv4_block16_1_conv False\n",
            "255 conv4_block16_1_bn False\n",
            "256 conv4_block16_1_relu False\n",
            "257 conv4_block16_2_pad False\n",
            "258 conv4_block16_2_conv False\n",
            "259 conv4_block16_2_bn False\n",
            "260 conv4_block16_2_relu False\n",
            "261 conv4_block16_3_conv False\n",
            "262 conv4_block16_out False\n",
            "263 conv4_block17_preact_bn False\n",
            "264 conv4_block17_preact_relu False\n",
            "265 conv4_block17_1_conv False\n",
            "266 conv4_block17_1_bn False\n",
            "267 conv4_block17_1_relu False\n",
            "268 conv4_block17_2_pad False\n",
            "269 conv4_block17_2_conv False\n",
            "270 conv4_block17_2_bn False\n",
            "271 conv4_block17_2_relu False\n",
            "272 conv4_block17_3_conv False\n",
            "273 conv4_block17_out False\n",
            "274 conv4_block18_preact_bn False\n",
            "275 conv4_block18_preact_relu False\n",
            "276 conv4_block18_1_conv False\n",
            "277 conv4_block18_1_bn False\n",
            "278 conv4_block18_1_relu False\n",
            "279 conv4_block18_2_pad False\n",
            "280 conv4_block18_2_conv False\n",
            "281 conv4_block18_2_bn False\n",
            "282 conv4_block18_2_relu False\n",
            "283 conv4_block18_3_conv False\n",
            "284 conv4_block18_out False\n",
            "285 conv4_block19_preact_bn False\n",
            "286 conv4_block19_preact_relu False\n",
            "287 conv4_block19_1_conv False\n",
            "288 conv4_block19_1_bn False\n",
            "289 conv4_block19_1_relu False\n",
            "290 conv4_block19_2_pad False\n",
            "291 conv4_block19_2_conv False\n",
            "292 conv4_block19_2_bn False\n",
            "293 conv4_block19_2_relu False\n",
            "294 conv4_block19_3_conv False\n",
            "295 conv4_block19_out False\n",
            "296 conv4_block20_preact_bn False\n",
            "297 conv4_block20_preact_relu False\n",
            "298 conv4_block20_1_conv False\n",
            "299 conv4_block20_1_bn False\n",
            "300 conv4_block20_1_relu False\n",
            "301 conv4_block20_2_pad False\n",
            "302 conv4_block20_2_conv False\n",
            "303 conv4_block20_2_bn False\n",
            "304 conv4_block20_2_relu False\n",
            "305 conv4_block20_3_conv False\n",
            "306 conv4_block20_out False\n",
            "307 conv4_block21_preact_bn False\n",
            "308 conv4_block21_preact_relu False\n",
            "309 conv4_block21_1_conv False\n",
            "310 conv4_block21_1_bn False\n",
            "311 conv4_block21_1_relu False\n",
            "312 conv4_block21_2_pad False\n",
            "313 conv4_block21_2_conv False\n",
            "314 conv4_block21_2_bn False\n",
            "315 conv4_block21_2_relu False\n",
            "316 conv4_block21_3_conv False\n",
            "317 conv4_block21_out False\n",
            "318 conv4_block22_preact_bn False\n",
            "319 conv4_block22_preact_relu False\n",
            "320 conv4_block22_1_conv False\n",
            "321 conv4_block22_1_bn False\n",
            "322 conv4_block22_1_relu False\n",
            "323 conv4_block22_2_pad False\n",
            "324 conv4_block22_2_conv False\n",
            "325 conv4_block22_2_bn False\n",
            "326 conv4_block22_2_relu False\n",
            "327 conv4_block22_3_conv False\n",
            "328 conv4_block22_out False\n",
            "329 conv4_block23_preact_bn False\n",
            "330 conv4_block23_preact_relu False\n",
            "331 conv4_block23_1_conv False\n",
            "332 conv4_block23_1_bn False\n",
            "333 conv4_block23_1_relu False\n",
            "334 conv4_block23_2_pad False\n",
            "335 conv4_block23_2_conv False\n",
            "336 conv4_block23_2_bn False\n",
            "337 conv4_block23_2_relu False\n",
            "338 max_pooling2d_2 False\n",
            "339 conv4_block23_3_conv False\n",
            "340 conv4_block23_out False\n",
            "341 conv5_block1_preact_bn True\n",
            "342 conv5_block1_preact_relu True\n",
            "343 conv5_block1_1_conv True\n",
            "344 conv5_block1_1_bn True\n",
            "345 conv5_block1_1_relu True\n",
            "346 conv5_block1_2_pad True\n",
            "347 conv5_block1_2_conv True\n",
            "348 conv5_block1_2_bn True\n",
            "349 conv5_block1_2_relu True\n",
            "350 conv5_block1_0_conv True\n",
            "351 conv5_block1_3_conv True\n",
            "352 conv5_block1_out True\n",
            "353 conv5_block2_preact_bn True\n",
            "354 conv5_block2_preact_relu True\n",
            "355 conv5_block2_1_conv True\n",
            "356 conv5_block2_1_bn True\n",
            "357 conv5_block2_1_relu True\n",
            "358 conv5_block2_2_pad True\n",
            "359 conv5_block2_2_conv True\n",
            "360 conv5_block2_2_bn True\n",
            "361 conv5_block2_2_relu True\n",
            "362 conv5_block2_3_conv True\n",
            "363 conv5_block2_out True\n",
            "364 conv5_block3_preact_bn True\n",
            "365 conv5_block3_preact_relu True\n",
            "366 conv5_block3_1_conv True\n",
            "367 conv5_block3_1_bn True\n",
            "368 conv5_block3_1_relu True\n",
            "369 conv5_block3_2_pad True\n",
            "370 conv5_block3_2_conv True\n",
            "371 conv5_block3_2_bn True\n",
            "372 conv5_block3_2_relu True\n",
            "373 conv5_block3_3_conv True\n",
            "374 conv5_block3_out True\n",
            "375 post_bn True\n",
            "376 post_relu True\n",
            "Model: \"sequential_1\"\n",
            "_________________________________________________________________\n",
            " Layer (type)                Output Shape              Param #   \n",
            "=================================================================\n",
            " resnet101v2 (Functional)    (None, 8, 8, 2048)        42626560  \n",
            "                                                                 \n",
            " flatten_1 (Flatten)         (None, 131072)            0         \n",
            "                                                                 \n",
            " dense_3 (Dense)             (None, 64)                8388672   \n",
            "                                                                 \n",
            " dense_4 (Dense)             (None, 32)                2080      \n",
            "                                                                 \n",
            " dense_5 (Dense)             (None, 8)                 264       \n",
            "                                                                 \n",
            "=================================================================\n",
            "Total params: 51,017,576\n",
            "Trainable params: 23,361,896\n",
            "Non-trainable params: 27,655,680\n",
            "_________________________________________________________________\n"
          ]
        }
      ],
      "source": [
        "# Freeze first N layers, e.g., until 14th\n",
        "for i, layer in enumerate(ft_model.get_layer('resnet101v2').layers[:341]):\n",
        "  layer.trainable=False\n",
        "for i, layer in enumerate(ft_model.get_layer('resnet101v2').layers):\n",
        "   print(i, layer.name, layer.trainable)\n",
        "ft_model.summary()"
      ]
    },
    {
      "cell_type": "code",
      "execution_count": null,
      "metadata": {
        "id": "RL-yOqVuhZDC"
      },
      "outputs": [],
      "source": [
        "loss = tf.keras.losses.CategoricalCrossentropy()\n",
        "lr = 5e-5\n",
        "optimizer = tf.keras.optimizers.Adam(learning_rate=lr)\n",
        "metrics = ['accuracy']\n",
        "ft_model.compile(loss=loss, optimizer=optimizer, metrics=metrics)"
      ]
    },
    {
      "cell_type": "code",
      "execution_count": null,
      "metadata": {
        "colab": {
          "base_uri": "https://localhost:8080/"
        },
        "id": "ccOLFGb-hlEa",
        "outputId": "bd836ee5-a6ae-492e-afd7-a61119b968b8"
      },
      "outputs": [
        {
          "name": "stdout",
          "output_type": "stream",
          "text": [
            "Epoch 1/200\n",
            "45/45 [==============================] - 571s 12s/step - loss: 0.2789 - accuracy: 0.9059 - val_loss: 0.5178 - val_accuracy: 0.8541\n",
            "Epoch 2/200\n",
            "45/45 [==============================] - 67s 1s/step - loss: 0.2663 - accuracy: 0.9136 - val_loss: 0.5337 - val_accuracy: 0.8541\n",
            "Epoch 3/200\n",
            "45/45 [==============================] - 67s 1s/step - loss: 0.2484 - accuracy: 0.9242 - val_loss: 0.4948 - val_accuracy: 0.8711\n",
            "Epoch 4/200\n",
            "45/45 [==============================] - 67s 1s/step - loss: 0.2452 - accuracy: 0.9210 - val_loss: 0.5637 - val_accuracy: 0.8569\n",
            "Epoch 5/200\n",
            "45/45 [==============================] - 64s 1s/step - loss: 0.2378 - accuracy: 0.9164 - val_loss: 0.4617 - val_accuracy: 0.8909\n",
            "Epoch 6/200\n",
            "45/45 [==============================] - 66s 1s/step - loss: 0.2043 - accuracy: 0.9379 - val_loss: 0.4629 - val_accuracy: 0.8782\n",
            "Epoch 7/200\n",
            "45/45 [==============================] - 63s 1s/step - loss: 0.2141 - accuracy: 0.9305 - val_loss: 0.4915 - val_accuracy: 0.8768\n",
            "Epoch 8/200\n",
            "45/45 [==============================] - 66s 1s/step - loss: 0.1995 - accuracy: 0.9334 - val_loss: 0.4551 - val_accuracy: 0.8810\n",
            "Epoch 9/200\n",
            "45/45 [==============================] - 63s 1s/step - loss: 0.1871 - accuracy: 0.9415 - val_loss: 0.4742 - val_accuracy: 0.8683\n",
            "Epoch 10/200\n",
            "45/45 [==============================] - 66s 1s/step - loss: 0.1963 - accuracy: 0.9334 - val_loss: 0.5053 - val_accuracy: 0.8768\n",
            "Epoch 11/200\n",
            "45/45 [==============================] - 64s 1s/step - loss: 0.1745 - accuracy: 0.9411 - val_loss: 0.5289 - val_accuracy: 0.8683\n",
            "Epoch 12/200\n",
            "45/45 [==============================] - 65s 1s/step - loss: 0.1805 - accuracy: 0.9411 - val_loss: 0.5127 - val_accuracy: 0.8640\n",
            "Epoch 13/200\n",
            "45/45 [==============================] - 65s 1s/step - loss: 0.1606 - accuracy: 0.9489 - val_loss: 0.5572 - val_accuracy: 0.8555\n",
            "Epoch 14/200\n",
            "45/45 [==============================] - 65s 1s/step - loss: 0.1920 - accuracy: 0.9397 - val_loss: 0.5161 - val_accuracy: 0.8626\n",
            "Epoch 15/200\n",
            "45/45 [==============================] - 64s 1s/step - loss: 0.1577 - accuracy: 0.9485 - val_loss: 0.4563 - val_accuracy: 0.8796\n",
            "Epoch 16/200\n",
            "45/45 [==============================] - 64s 1s/step - loss: 0.1689 - accuracy: 0.9464 - val_loss: 0.4609 - val_accuracy: 0.8739\n",
            "Epoch 17/200\n",
            "45/45 [==============================] - 64s 1s/step - loss: 0.1396 - accuracy: 0.9616 - val_loss: 0.5083 - val_accuracy: 0.8739\n",
            "Epoch 18/200\n",
            "45/45 [==============================] - 63s 1s/step - loss: 0.1630 - accuracy: 0.9478 - val_loss: 0.5242 - val_accuracy: 0.8768\n"
          ]
        }
      ],
      "source": [
        "# Create folders and callbacks and fit\n",
        "resnet101v2_ft_callbacks = create_folders_and_callbacks(model_name='CNN_TF_RESNET101V2')\n",
        "\n",
        "# Train the model\n",
        "history = ft_model.fit(\n",
        "    x = aug_train_gen,\n",
        "    epochs = epochs,\n",
        "    validation_data = valid_gen,\n",
        "    callbacks = resnet101v2_ft_callbacks,\n",
        ").history"
      ]
    },
    {
      "cell_type": "code",
      "execution_count": null,
      "metadata": {
        "colab": {
          "base_uri": "https://localhost:8080/",
          "height": 655
        },
        "id": "y6WJXK5Uo8VK",
        "outputId": "f9b8bcc0-7bff-449d-9d63-93f29d45d066"
      },
      "outputs": [
        {
          "data": {
            "image/png": "[encoded data removed]",
            "text/plain": [
              "<Figure size 1080x360 with 1 Axes>"
            ]
          },
          "metadata": {},
          "output_type": "display_data"
        },
        {
          "data": {
            "image/png": "[encoded data removed]",
            "text/plain": [
              "<Figure size 1080x360 with 1 Axes>"
            ]
          },
          "metadata": {},
          "output_type": "display_data"
        }
      ],
      "source": [
        "# Plot the training\n",
        "plt.figure(figsize=(15,5))\n",
        "plt.plot(history['loss'], alpha=.3, color='#2ABC3D', linestyle='--')\n",
        "plt.plot(history['val_loss'], label='Fine Tuning', alpha=.8, color='#2ABC3D')\n",
        "plt.legend(loc='upper left')\n",
        "plt.title('Categorical Crossentropy')\n",
        "plt.grid(alpha=.3)\n",
        "\n",
        "plt.figure(figsize=(15,5))\n",
        "plt.plot(history['accuracy'], alpha=.3, color='#2ABC3D', linestyle='--')\n",
        "plt.plot(history['val_accuracy'], label='Fine Tuning', alpha=.8, color='#2ABC3D')\n",
        "plt.legend(loc='upper left')\n",
        "plt.title('Accuracy')\n",
        "plt.grid(alpha=.3)\n",
        "\n",
        "plt.show()"
      ]
    },
    {
      "cell_type": "code",
      "execution_count": null,
      "metadata": {
        "colab": {
          "base_uri": "https://localhost:8080/"
        },
        "id": "I3qcTGavpfUT",
        "outputId": "6ea1d87d-fff4-4200-dc37-900b5a9518f9"
      },
      "outputs": [
        {
          "name": "stderr",
          "output_type": "stream",
          "text": [
            "WARNING:absl:Found untraced functions such as _jit_compiled_convolution_op, _jit_compiled_convolution_op, _jit_compiled_convolution_op, _jit_compiled_convolution_op, _jit_compiled_convolution_op while saving (showing 5 of 104). These functions will not be directly callable after loading.\n"
          ]
        }
      ],
      "source": [
        "ft_model.save(\"data_augmentation_experiments/CNN_TL_RESNET101V2_BS64_FT\")"
      ]
    },
    {
      "cell_type": "markdown",
      "source": [
        "# Keras Tuner - Failed Approach"
      ],
      "metadata": {
        "id": "jVsGJllEnJpI"
      }
    },
    {
      "cell_type": "code",
      "execution_count": null,
      "metadata": {
        "id": "RUql9w0frW54"
      },
      "outputs": [],
      "source": [
        "### KERAS TUNER\n",
        "iv3 = tf.keras.applications.InceptionV3(weights='imagenet', include_top=False, input_shape=input_shape)\n",
        "model_iv3 = tf.keras.Sequential()\n",
        "model_iv3.add(iv3)\n",
        "model_iv3.add(tf.keras.layers.Flatten())\n",
        "model_iv3.add(tf.keras.layers.Dense(units=64, activation='relu', kernel_regularizer=tf.keras.regularizers.l2(0.0001)))\n",
        "model_iv3.add(tf.keras.layers.Dense(units=32, activation='relu', kernel_regularizer=tf.keras.regularizers.l2(0.0001)))\n",
        "model_iv3.add(tf.keras.layers.Dense(units=8, activation='softmax'))\n",
        "\n",
        "model_iv3.summary()"
      ]
    },
    {
      "cell_type": "code",
      "execution_count": null,
      "metadata": {
        "id": "XpW6YW7hrhYl"
      },
      "outputs": [],
      "source": [
        "!pip install -q -U keras-tuner\n",
        "import keras_tuner\n",
        "\n",
        "def call_existing_code(dense_units_1, dense_units_2, activation, dropout, lr):\n",
        "    iv3 = tf.keras.applications.InceptionV3(weights='imagenet', include_top=False, input_shape=input_shape)\n",
        "    model_iv3 = tf.keras.Sequential()\n",
        "    model_iv3.add(tf.keras.layers.Flatten())\n",
        "    model_iv3.add(tf.keras.layers.Dense(units=dense_units_1, activation=activation, kernel_regularizer=tf.keras.regularizers.l2(0.0001)))\n",
        "    model_iv3.add(tf.keras.layers.Dense(units=dense_units_2, activation=activation, kernel_regularizer=tf.keras.regularizers.l2(0.0001)))\n",
        "    if dropout:\n",
        "        model_iv3.add(tf.keras.layers.Dropout(rate=0.25))\n",
        "    model_iv3.add(tf.keras.layers.Dense(8, activation=\"softmax\"))\n",
        "    model_iv3.compile(\n",
        "        optimizer=tf.keras.optimizers.Adam(learning_rate=lr),\n",
        "        loss=\"categorical_crossentropy\",\n",
        "        metrics=[\"accuracy\"],\n",
        "    )\n",
        "    return model_iv3\n",
        "\n",
        "\n",
        "def build_model(hp):\n",
        "    dense_units_1 = hp.Int(\"units1\", min_value=32, max_value=256, step=32)\n",
        "    dense_units_2 = hp.Int(\"units2\", min_value=16, max_value=128, step=32)\n",
        "    activation = hp.Choice(\"activation\", [\"relu\", \"tanh\"])\n",
        "    dropout = hp.Boolean(\"dropout\")\n",
        "    lr = hp.Float(\"lr\", min_value=1e-5, max_value=1e-3, sampling=\"log\")\n",
        "    # call existing model-building code with the hyperparameter values.\n",
        "    model = call_existing_code(\n",
        "        dense_units_1=dense_units_1, dense_units_2=dense_units_2, activation=activation, dropout=dropout, lr=lr\n",
        "    )\n",
        "    return model\n",
        "\n",
        "\n",
        "#build_model(keras_tuner.HyperParameters())\n",
        "tuner = keras_tuner.Hyperband(\n",
        "    hypermodel=build_model,\n",
        "    objective=\"val_accuracy\",\n",
        "    max_epochs=10,\n",
        "    directory=\"data_augmentation_experiments/KT_HP_1\",\n",
        "    project_name=\"AN2DL-Challenge1\",\n",
        ")\n",
        "stop_early = tf.keras.callbacks.EarlyStopping(monitor='val_loss', patience=5)"
      ]
    },
    {
      "cell_type": "code",
      "execution_count": null,
      "metadata": {
        "colab": {
          "base_uri": "https://localhost:8080/",
          "height": 678
        },
        "id": "LudlYghrvz-O",
        "outputId": "aa27e461-91de-4999-8ad7-1298dc77cce2"
      },
      "outputs": [
        {
          "name": "stdout",
          "output_type": "stream",
          "text": [
            "\n",
            "Search: Running Trial #1\n",
            "\n",
            "Value             |Best Value So Far |Hyperparameter\n",
            "128               |?                 |units1\n",
            "80                |?                 |units2\n",
            "tanh              |?                 |activation\n",
            "False             |?                 |dropout\n",
            "0.00055947        |?                 |lr\n",
            "2                 |?                 |tuner/epochs\n",
            "0                 |?                 |tuner/initial_epoch\n",
            "2                 |?                 |tuner/bracket\n",
            "0                 |?                 |tuner/round\n",
            "\n",
            "Epoch 1/2\n",
            "45/45 [==============================] - ETA: 0s - loss: 2.3956 - accuracy: 0.1460 "
          ]
        },
        {
          "name": "stderr",
          "output_type": "stream",
          "text": [
            "WARNING:tensorflow:Early stopping conditioned on metric `val_loss` which is not available. Available metrics are: loss,accuracy\n"
          ]
        },
        {
          "name": "stdout",
          "output_type": "stream",
          "text": [
            "\b\b\b\b\b\b\b\b\b\b\b\b\b\b\b\b\b\b\b\b\b\b\b\b\b\b\b\b\b\b\b\b\b\b\b\b\b\b\b\b\b\b\b\b\b\b\b\b\b\b\b\b\b\b\b\b\b\b\b\b\b\b\b\b\b\b\b\b\b\b\b\b\b\b\b\b\b\b\b\b\b\b\r45/45 [==============================] - 478s 11s/step - loss: 2.3956 - accuracy: 0.1460\n",
            "Epoch 2/2\n",
            "45/45 [==============================] - ETA: 0s - loss: 2.0993 - accuracy: 0.1361"
          ]
        },
        {
          "name": "stderr",
          "output_type": "stream",
          "text": [
            "WARNING:tensorflow:Early stopping conditioned on metric `val_loss` which is not available. Available metrics are: loss,accuracy\n"
          ]
        },
        {
          "name": "stdout",
          "output_type": "stream",
          "text": [
            "\b\b\b\b\b\b\b\b\b\b\b\b\b\b\b\b\b\b\b\b\b\b\b\b\b\b\b\b\b\b\b\b\b\b\b\b\b\b\b\b\b\b\b\b\b\b\b\b\b\b\b\b\b\b\b\b\b\b\b\b\b\b\b\b\b\b\b\b\b\b\b\b\b\b\b\b\b\b\b\b\b\b\r45/45 [==============================] - 48s 1s/step - loss: 2.0993 - accuracy: 0.1361\n"
          ]
        },
        {
          "ename": "KeyError",
          "evalue": "ignored",
          "output_type": "error",
          "traceback": [
            "\u001b[0;31m---------------------------------------------------------------------------\u001b[0m",
            "\u001b[0;31mKeyError\u001b[0m                                  Traceback (most recent call last)",
            "\u001b[0;32m<ipython-input-23-c83e2e256620>\u001b[0m in \u001b[0;36m<module>\u001b[0;34m\u001b[0m\n\u001b[0;32m----> 1\u001b[0;31m \u001b[0mtuner\u001b[0m\u001b[0;34m.\u001b[0m\u001b[0msearch\u001b[0m\u001b[0;34m(\u001b[0m\u001b[0maug_train_gen\u001b[0m\u001b[0;34m,\u001b[0m \u001b[0mepochs\u001b[0m\u001b[0;34m=\u001b[0m\u001b[0;36m50\u001b[0m\u001b[0;34m,\u001b[0m \u001b[0mcallbacks\u001b[0m\u001b[0;34m=\u001b[0m\u001b[0;34m[\u001b[0m\u001b[0mstop_early\u001b[0m\u001b[0;34m]\u001b[0m\u001b[0;34m)\u001b[0m\u001b[0;34m\u001b[0m\u001b[0;34m\u001b[0m\u001b[0m\n\u001b[0m",
            "\u001b[0;32m/usr/local/lib/python3.7/dist-packages/keras_tuner/engine/base_tuner.py\u001b[0m in \u001b[0;36msearch\u001b[0;34m(self, *fit_args, **fit_kwargs)\u001b[0m\n\u001b[1;32m    203\u001b[0m                     tuner_utils.convert_to_metrics_dict(\n\u001b[1;32m    204\u001b[0m                         \u001b[0mresults\u001b[0m\u001b[0;34m,\u001b[0m\u001b[0;34m\u001b[0m\u001b[0;34m\u001b[0m\u001b[0m\n\u001b[0;32m--> 205\u001b[0;31m                         \u001b[0mself\u001b[0m\u001b[0;34m.\u001b[0m\u001b[0moracle\u001b[0m\u001b[0;34m.\u001b[0m\u001b[0mobjective\u001b[0m\u001b[0;34m,\u001b[0m\u001b[0;34m\u001b[0m\u001b[0;34m\u001b[0m\u001b[0m\n\u001b[0m\u001b[1;32m    206\u001b[0m                     ),\n\u001b[1;32m    207\u001b[0m                     \u001b[0mstep\u001b[0m\u001b[0;34m=\u001b[0m\u001b[0mtuner_utils\u001b[0m\u001b[0;34m.\u001b[0m\u001b[0mget_best_step\u001b[0m\u001b[0;34m(\u001b[0m\u001b[0mresults\u001b[0m\u001b[0;34m,\u001b[0m \u001b[0mself\u001b[0m\u001b[0;34m.\u001b[0m\u001b[0moracle\u001b[0m\u001b[0;34m.\u001b[0m\u001b[0mobjective\u001b[0m\u001b[0;34m)\u001b[0m\u001b[0;34m,\u001b[0m\u001b[0;34m\u001b[0m\u001b[0;34m\u001b[0m\u001b[0m\n",
            "\u001b[0;32m/usr/local/lib/python3.7/dist-packages/keras_tuner/engine/tuner_utils.py\u001b[0m in \u001b[0;36mconvert_to_metrics_dict\u001b[0;34m(results, objective)\u001b[0m\n\u001b[1;32m    264\u001b[0m     \u001b[0;32mif\u001b[0m \u001b[0misinstance\u001b[0m\u001b[0;34m(\u001b[0m\u001b[0mresults\u001b[0m\u001b[0;34m,\u001b[0m \u001b[0mlist\u001b[0m\u001b[0;34m)\u001b[0m\u001b[0;34m:\u001b[0m\u001b[0;34m\u001b[0m\u001b[0;34m\u001b[0m\u001b[0m\n\u001b[1;32m    265\u001b[0m         return average_metrics_dicts(\n\u001b[0;32m--> 266\u001b[0;31m             \u001b[0;34m[\u001b[0m\u001b[0mconvert_to_metrics_dict\u001b[0m\u001b[0;34m(\u001b[0m\u001b[0melem\u001b[0m\u001b[0;34m,\u001b[0m \u001b[0mobjective\u001b[0m\u001b[0;34m)\u001b[0m \u001b[0;32mfor\u001b[0m \u001b[0melem\u001b[0m \u001b[0;32min\u001b[0m \u001b[0mresults\u001b[0m\u001b[0;34m]\u001b[0m\u001b[0;34m\u001b[0m\u001b[0;34m\u001b[0m\u001b[0m\n\u001b[0m\u001b[1;32m    267\u001b[0m         )\n\u001b[1;32m    268\u001b[0m \u001b[0;34m\u001b[0m\u001b[0m\n",
            "\u001b[0;32m/usr/local/lib/python3.7/dist-packages/keras_tuner/engine/tuner_utils.py\u001b[0m in \u001b[0;36m<listcomp>\u001b[0;34m(.0)\u001b[0m\n\u001b[1;32m    264\u001b[0m     \u001b[0;32mif\u001b[0m \u001b[0misinstance\u001b[0m\u001b[0;34m(\u001b[0m\u001b[0mresults\u001b[0m\u001b[0;34m,\u001b[0m \u001b[0mlist\u001b[0m\u001b[0;34m)\u001b[0m\u001b[0;34m:\u001b[0m\u001b[0;34m\u001b[0m\u001b[0;34m\u001b[0m\u001b[0m\n\u001b[1;32m    265\u001b[0m         return average_metrics_dicts(\n\u001b[0;32m--> 266\u001b[0;31m             \u001b[0;34m[\u001b[0m\u001b[0mconvert_to_metrics_dict\u001b[0m\u001b[0;34m(\u001b[0m\u001b[0melem\u001b[0m\u001b[0;34m,\u001b[0m \u001b[0mobjective\u001b[0m\u001b[0;34m)\u001b[0m \u001b[0;32mfor\u001b[0m \u001b[0melem\u001b[0m \u001b[0;32min\u001b[0m \u001b[0mresults\u001b[0m\u001b[0;34m]\u001b[0m\u001b[0;34m\u001b[0m\u001b[0;34m\u001b[0m\u001b[0m\n\u001b[0m\u001b[1;32m    267\u001b[0m         )\n\u001b[1;32m    268\u001b[0m \u001b[0;34m\u001b[0m\u001b[0m\n",
            "\u001b[0;32m/usr/local/lib/python3.7/dist-packages/keras_tuner/engine/tuner_utils.py\u001b[0m in \u001b[0;36mconvert_to_metrics_dict\u001b[0;34m(results, objective)\u001b[0m\n\u001b[1;32m    278\u001b[0m     \u001b[0;32mif\u001b[0m \u001b[0misinstance\u001b[0m\u001b[0;34m(\u001b[0m\u001b[0mresults\u001b[0m\u001b[0;34m,\u001b[0m \u001b[0mkeras\u001b[0m\u001b[0;34m.\u001b[0m\u001b[0mcallbacks\u001b[0m\u001b[0;34m.\u001b[0m\u001b[0mHistory\u001b[0m\u001b[0;34m)\u001b[0m\u001b[0;34m:\u001b[0m\u001b[0;34m\u001b[0m\u001b[0;34m\u001b[0m\u001b[0m\n\u001b[1;32m    279\u001b[0m         best_value, _ = _get_best_value_and_best_epoch_from_history(\n\u001b[0;32m--> 280\u001b[0;31m             \u001b[0mresults\u001b[0m\u001b[0;34m,\u001b[0m \u001b[0mobjective\u001b[0m\u001b[0;34m\u001b[0m\u001b[0;34m\u001b[0m\u001b[0m\n\u001b[0m\u001b[1;32m    281\u001b[0m         )\n\u001b[1;32m    282\u001b[0m         \u001b[0;32mreturn\u001b[0m \u001b[0mbest_value\u001b[0m\u001b[0;34m\u001b[0m\u001b[0;34m\u001b[0m\u001b[0m\n",
            "\u001b[0;32m/usr/local/lib/python3.7/dist-packages/keras_tuner/engine/tuner_utils.py\u001b[0m in \u001b[0;36m_get_best_value_and_best_epoch_from_history\u001b[0;34m(history, objective)\u001b[0m\n\u001b[1;32m    248\u001b[0m     \u001b[0mbest_epoch\u001b[0m \u001b[0;34m=\u001b[0m \u001b[0;36m0\u001b[0m\u001b[0;34m\u001b[0m\u001b[0;34m\u001b[0m\u001b[0m\n\u001b[1;32m    249\u001b[0m     \u001b[0;32mfor\u001b[0m \u001b[0mepoch\u001b[0m\u001b[0;34m,\u001b[0m \u001b[0mmetrics\u001b[0m \u001b[0;32min\u001b[0m \u001b[0mepoch_metrics\u001b[0m\u001b[0;34m.\u001b[0m\u001b[0mitems\u001b[0m\u001b[0;34m(\u001b[0m\u001b[0;34m)\u001b[0m\u001b[0;34m:\u001b[0m\u001b[0;34m\u001b[0m\u001b[0;34m\u001b[0m\u001b[0m\n\u001b[0;32m--> 250\u001b[0;31m         \u001b[0mobjective_value\u001b[0m \u001b[0;34m=\u001b[0m \u001b[0mobjective\u001b[0m\u001b[0;34m.\u001b[0m\u001b[0mget_value\u001b[0m\u001b[0;34m(\u001b[0m\u001b[0mmetrics\u001b[0m\u001b[0;34m)\u001b[0m\u001b[0;34m\u001b[0m\u001b[0;34m\u001b[0m\u001b[0m\n\u001b[0m\u001b[1;32m    251\u001b[0m         \u001b[0;31m# Support multi-objective.\u001b[0m\u001b[0;34m\u001b[0m\u001b[0;34m\u001b[0m\u001b[0;34m\u001b[0m\u001b[0m\n\u001b[1;32m    252\u001b[0m         \u001b[0;32mif\u001b[0m \u001b[0mobjective\u001b[0m\u001b[0;34m.\u001b[0m\u001b[0mname\u001b[0m \u001b[0;32mnot\u001b[0m \u001b[0;32min\u001b[0m \u001b[0mmetrics\u001b[0m\u001b[0;34m:\u001b[0m\u001b[0;34m\u001b[0m\u001b[0;34m\u001b[0m\u001b[0m\n",
            "\u001b[0;32m/usr/local/lib/python3.7/dist-packages/keras_tuner/engine/objective.py\u001b[0m in \u001b[0;36mget_value\u001b[0;34m(self, logs)\u001b[0m\n\u001b[1;32m     53\u001b[0m             \u001b[0mThe\u001b[0m \u001b[0mobjective\u001b[0m \u001b[0mvalue\u001b[0m\u001b[0;34m.\u001b[0m\u001b[0;34m\u001b[0m\u001b[0;34m\u001b[0m\u001b[0m\n\u001b[1;32m     54\u001b[0m         \"\"\"\n\u001b[0;32m---> 55\u001b[0;31m         \u001b[0;32mreturn\u001b[0m \u001b[0mlogs\u001b[0m\u001b[0;34m[\u001b[0m\u001b[0mself\u001b[0m\u001b[0;34m.\u001b[0m\u001b[0mname\u001b[0m\u001b[0;34m]\u001b[0m\u001b[0;34m\u001b[0m\u001b[0;34m\u001b[0m\u001b[0m\n\u001b[0m\u001b[1;32m     56\u001b[0m \u001b[0;34m\u001b[0m\u001b[0m\n\u001b[1;32m     57\u001b[0m     \u001b[0;32mdef\u001b[0m \u001b[0mbetter_than\u001b[0m\u001b[0;34m(\u001b[0m\u001b[0mself\u001b[0m\u001b[0;34m,\u001b[0m \u001b[0ma\u001b[0m\u001b[0;34m,\u001b[0m \u001b[0mb\u001b[0m\u001b[0;34m)\u001b[0m\u001b[0;34m:\u001b[0m\u001b[0;34m\u001b[0m\u001b[0;34m\u001b[0m\u001b[0m\n",
            "\u001b[0;31mKeyError\u001b[0m: 'val_accuracy'"
          ]
        }
      ],
      "source": [
        "tuner.search(aug_train_gen, val_gen, epochs=50, callbacks=[stop_early])"
      ]
    },
    {
      "cell_type": "markdown",
      "source": [
        "# Transfer Learning - InceptionV3\n",
        "SGD Optimizer"
      ],
      "metadata": {
        "id": "Zdl6U6aAnbZV"
      }
    },
    {
      "cell_type": "code",
      "execution_count": null,
      "metadata": {
        "colab": {
          "base_uri": "https://localhost:8080/"
        },
        "id": "PiTY2xpy0l8g",
        "outputId": "67c854ac-86e9-4a94-bc99-de36460e6b99"
      },
      "outputs": [
        {
          "name": "stdout",
          "output_type": "stream",
          "text": [
            "Downloading data from https://storage.googleapis.com/tensorflow/keras-applications/inception_v3/inception_v3_weights_tf_dim_ordering_tf_kernels_notop.h5\n",
            "87910968/87910968 [==============================] - 0s 0us/step\n",
            "Model: \"tl_model\"\n",
            "_________________________________________________________________\n",
            " Layer (type)                Output Shape              Param #   \n",
            "=================================================================\n",
            " input_2 (InputLayer)        [(None, 256, 256, 3)]     0         \n",
            "                                                                 \n",
            " inception_v3 (Functional)   (None, 6, 6, 2048)        21802784  \n",
            "                                                                 \n",
            " Flattening (Flatten)        (None, 73728)             0         \n",
            "                                                                 \n",
            " dropout (Dropout)           (None, 73728)             0         \n",
            "                                                                 \n",
            " dense (Dense)               (None, 8)                 589832    \n",
            "                                                                 \n",
            "=================================================================\n",
            "Total params: 22,392,616\n",
            "Trainable params: 22,358,184\n",
            "Non-trainable params: 34,432\n",
            "_________________________________________________________________\n"
          ]
        }
      ],
      "source": [
        "## InceptionV3\n",
        "iv3 = tf.keras.applications.InceptionV3(weights='imagenet', include_top=False, input_shape=input_shape)\n",
        "inputs = tfk.Input(shape=input_shape)\n",
        "x = iv3(inputs)\n",
        "x = tfkl.Flatten(name='Flattening')(x)\n",
        "x = tfkl.Dropout(0.3, seed=seed)(x)  \n",
        "output_layer = tfkl.Dense(\n",
        "    8, \n",
        "    activation='softmax',\n",
        "    kernel_initializer = tfk.initializers.GlorotUniform(seed))(x)\n",
        "\n",
        "\n",
        "tl_model = tfk.Model(inputs=inputs, outputs=output_layer, name='tl_model')\n",
        "\n",
        "# Compile the model\n",
        "tl_model.compile(loss=tfk.losses.CategoricalCrossentropy(), optimizer=tfk.optimizers.SGD(), metrics=['accuracy'])\n",
        "\n",
        "\n",
        "tl_model.summary()"
      ]
    },
    {
      "cell_type": "code",
      "execution_count": null,
      "metadata": {
        "colab": {
          "base_uri": "https://localhost:8080/"
        },
        "id": "b7b0QscT4Tma",
        "outputId": "bf9cf319-9a27-43ac-9124-ed3e9d2d7803"
      },
      "outputs": [
        {
          "name": "stdout",
          "output_type": "stream",
          "text": [
            "Epoch 1/200\n",
            "45/45 [==============================] - 482s 10s/step - loss: 3.0713 - accuracy: 0.1943 - val_loss: 3.2237 - val_accuracy: 0.1700\n",
            "Epoch 2/200\n",
            "45/45 [==============================] - 58s 1s/step - loss: 1.9590 - accuracy: 0.3607 - val_loss: 2.5067 - val_accuracy: 0.2450\n",
            "Epoch 3/200\n",
            "45/45 [==============================] - 58s 1s/step - loss: 1.5870 - accuracy: 0.4915 - val_loss: 1.7078 - val_accuracy: 0.3669\n",
            "Epoch 4/200\n",
            "45/45 [==============================] - 58s 1s/step - loss: 1.3419 - accuracy: 0.5681 - val_loss: 1.2499 - val_accuracy: 0.5439\n",
            "Epoch 5/200\n",
            "45/45 [==============================] - 57s 1s/step - loss: 1.2323 - accuracy: 0.6054 - val_loss: 1.1329 - val_accuracy: 0.5963\n",
            "Epoch 6/200\n",
            "45/45 [==============================] - 57s 1s/step - loss: 1.0159 - accuracy: 0.6693 - val_loss: 1.1038 - val_accuracy: 0.6331\n",
            "Epoch 7/200\n",
            "45/45 [==============================] - 57s 1s/step - loss: 0.9127 - accuracy: 0.6971 - val_loss: 0.9777 - val_accuracy: 0.6771\n",
            "Epoch 8/200\n",
            "45/45 [==============================] - 58s 1s/step - loss: 0.8493 - accuracy: 0.7257 - val_loss: 1.4403 - val_accuracy: 0.6870\n",
            "Epoch 9/200\n",
            "45/45 [==============================] - 57s 1s/step - loss: 0.7683 - accuracy: 0.7451 - val_loss: 0.9213 - val_accuracy: 0.7280\n",
            "Epoch 10/200\n",
            "45/45 [==============================] - 57s 1s/step - loss: 0.6965 - accuracy: 0.7634 - val_loss: 0.6867 - val_accuracy: 0.7720\n",
            "Epoch 11/200\n",
            "45/45 [==============================] - 57s 1s/step - loss: 0.6329 - accuracy: 0.7870 - val_loss: 0.6286 - val_accuracy: 0.7932\n",
            "Epoch 12/200\n",
            "45/45 [==============================] - 57s 1s/step - loss: 0.6095 - accuracy: 0.8022 - val_loss: 0.5903 - val_accuracy: 0.7904\n",
            "Epoch 13/200\n",
            "45/45 [==============================] - 57s 1s/step - loss: 0.5433 - accuracy: 0.8089 - val_loss: 0.7203 - val_accuracy: 0.7337\n",
            "Epoch 14/200\n",
            "45/45 [==============================] - 57s 1s/step - loss: 0.5294 - accuracy: 0.8170 - val_loss: 0.6892 - val_accuracy: 0.7677\n",
            "Epoch 15/200\n",
            "45/45 [==============================] - 59s 1s/step - loss: 0.4977 - accuracy: 0.8255 - val_loss: 0.5564 - val_accuracy: 0.8031\n",
            "Epoch 16/200\n",
            "45/45 [==============================] - 57s 1s/step - loss: 0.4567 - accuracy: 0.8459 - val_loss: 0.4972 - val_accuracy: 0.8201\n",
            "Epoch 17/200\n",
            "45/45 [==============================] - 57s 1s/step - loss: 0.4529 - accuracy: 0.8438 - val_loss: 0.4568 - val_accuracy: 0.8484\n",
            "Epoch 18/200\n",
            "45/45 [==============================] - 57s 1s/step - loss: 0.4413 - accuracy: 0.8445 - val_loss: 0.4821 - val_accuracy: 0.8428\n",
            "Epoch 19/200\n",
            "45/45 [==============================] - 58s 1s/step - loss: 0.4052 - accuracy: 0.8540 - val_loss: 0.4591 - val_accuracy: 0.8456\n",
            "Epoch 20/200\n",
            "45/45 [==============================] - 57s 1s/step - loss: 0.3932 - accuracy: 0.8650 - val_loss: 0.5591 - val_accuracy: 0.8229\n",
            "Epoch 21/200\n",
            "45/45 [==============================] - 57s 1s/step - loss: 0.3752 - accuracy: 0.8692 - val_loss: 0.5038 - val_accuracy: 0.8300\n",
            "Epoch 22/200\n",
            "45/45 [==============================] - 57s 1s/step - loss: 0.3738 - accuracy: 0.8734 - val_loss: 0.4962 - val_accuracy: 0.8499\n",
            "Epoch 23/200\n",
            "45/45 [==============================] - 58s 1s/step - loss: 0.3379 - accuracy: 0.8762 - val_loss: 0.5535 - val_accuracy: 0.8329\n",
            "Epoch 24/200\n",
            "45/45 [==============================] - 57s 1s/step - loss: 0.3286 - accuracy: 0.8854 - val_loss: 0.5020 - val_accuracy: 0.8555\n",
            "Epoch 25/200\n",
            "45/45 [==============================] - 57s 1s/step - loss: 0.3150 - accuracy: 0.8886 - val_loss: 0.5495 - val_accuracy: 0.8470\n",
            "Epoch 26/200\n",
            "45/45 [==============================] - 58s 1s/step - loss: 0.3161 - accuracy: 0.8886 - val_loss: 0.5661 - val_accuracy: 0.8499\n",
            "Epoch 27/200\n",
            "45/45 [==============================] - 57s 1s/step - loss: 0.3072 - accuracy: 0.8963 - val_loss: 0.4528 - val_accuracy: 0.8626\n",
            "Epoch 28/200\n",
            "45/45 [==============================] - 57s 1s/step - loss: 0.3101 - accuracy: 0.8882 - val_loss: 0.4930 - val_accuracy: 0.8499\n",
            "Epoch 29/200\n",
            "45/45 [==============================] - 58s 1s/step - loss: 0.2795 - accuracy: 0.8999 - val_loss: 0.4778 - val_accuracy: 0.8669\n",
            "Epoch 30/200\n",
            "45/45 [==============================] - 57s 1s/step - loss: 0.2747 - accuracy: 0.8967 - val_loss: 0.8798 - val_accuracy: 0.8725\n",
            "Epoch 31/200\n",
            "45/45 [==============================] - 57s 1s/step - loss: 0.2649 - accuracy: 0.9101 - val_loss: 0.5154 - val_accuracy: 0.8456\n",
            "Epoch 32/200\n",
            "45/45 [==============================] - 56s 1s/step - loss: 0.2685 - accuracy: 0.9083 - val_loss: 0.5389 - val_accuracy: 0.8456\n",
            "Epoch 33/200\n",
            "45/45 [==============================] - 58s 1s/step - loss: 0.2652 - accuracy: 0.9069 - val_loss: 0.5268 - val_accuracy: 0.8711\n",
            "Epoch 34/200\n",
            "45/45 [==============================] - 57s 1s/step - loss: 0.2634 - accuracy: 0.9069 - val_loss: 0.4616 - val_accuracy: 0.8711\n",
            "Epoch 35/200\n",
            "45/45 [==============================] - 57s 1s/step - loss: 0.2228 - accuracy: 0.9252 - val_loss: 0.4105 - val_accuracy: 0.8754\n",
            "Epoch 36/200\n",
            "45/45 [==============================] - 57s 1s/step - loss: 0.2393 - accuracy: 0.9122 - val_loss: 0.4189 - val_accuracy: 0.8810\n",
            "Epoch 37/200\n",
            "45/45 [==============================] - 58s 1s/step - loss: 0.1905 - accuracy: 0.9295 - val_loss: 0.4033 - val_accuracy: 0.8725\n",
            "Epoch 38/200\n",
            "45/45 [==============================] - 57s 1s/step - loss: 0.2117 - accuracy: 0.9263 - val_loss: 0.4294 - val_accuracy: 0.8739\n",
            "Epoch 39/200\n",
            "45/45 [==============================] - 57s 1s/step - loss: 0.1945 - accuracy: 0.9365 - val_loss: 0.4262 - val_accuracy: 0.8768\n",
            "Epoch 40/200\n",
            "45/45 [==============================] - 57s 1s/step - loss: 0.1995 - accuracy: 0.9260 - val_loss: 0.4130 - val_accuracy: 0.8654\n",
            "Epoch 41/200\n",
            "45/45 [==============================] - 58s 1s/step - loss: 0.2177 - accuracy: 0.9207 - val_loss: 0.4771 - val_accuracy: 0.8640\n",
            "Epoch 42/200\n",
            "45/45 [==============================] - 57s 1s/step - loss: 0.1791 - accuracy: 0.9369 - val_loss: 0.4424 - val_accuracy: 0.8853\n",
            "Epoch 43/200\n",
            "45/45 [==============================] - 57s 1s/step - loss: 0.1878 - accuracy: 0.9327 - val_loss: 0.3693 - val_accuracy: 0.8980\n",
            "Epoch 44/200\n",
            "45/45 [==============================] - 57s 1s/step - loss: 0.1705 - accuracy: 0.9379 - val_loss: 0.4604 - val_accuracy: 0.8725\n",
            "Epoch 45/200\n",
            "45/45 [==============================] - 57s 1s/step - loss: 0.1816 - accuracy: 0.9312 - val_loss: 0.4184 - val_accuracy: 0.8867\n",
            "Epoch 46/200\n",
            "45/45 [==============================] - 57s 1s/step - loss: 0.1640 - accuracy: 0.9383 - val_loss: 0.3776 - val_accuracy: 0.8853\n",
            "Epoch 47/200\n",
            "45/45 [==============================] - 57s 1s/step - loss: 0.1749 - accuracy: 0.9383 - val_loss: 0.3715 - val_accuracy: 0.8924\n",
            "Epoch 48/200\n",
            "45/45 [==============================] - 58s 1s/step - loss: 0.1483 - accuracy: 0.9506 - val_loss: 0.3898 - val_accuracy: 0.8952\n",
            "Epoch 49/200\n",
            "45/45 [==============================] - 57s 1s/step - loss: 0.1639 - accuracy: 0.9450 - val_loss: 0.3638 - val_accuracy: 0.8881\n",
            "Epoch 50/200\n",
            "45/45 [==============================] - 57s 1s/step - loss: 0.1284 - accuracy: 0.9538 - val_loss: 0.3731 - val_accuracy: 0.8924\n",
            "Epoch 51/200\n",
            "45/45 [==============================] - 57s 1s/step - loss: 0.1502 - accuracy: 0.9492 - val_loss: 0.5354 - val_accuracy: 0.8768\n",
            "Epoch 52/200\n",
            "45/45 [==============================] - 58s 1s/step - loss: 0.1318 - accuracy: 0.9542 - val_loss: 0.3974 - val_accuracy: 0.8895\n",
            "Epoch 53/200\n",
            "45/45 [==============================] - 59s 1s/step - loss: 0.1004 - accuracy: 0.9619 - val_loss: 0.4389 - val_accuracy: 0.8810\n",
            "Epoch 54/200\n",
            "45/45 [==============================] - 57s 1s/step - loss: 0.1064 - accuracy: 0.9594 - val_loss: 0.5308 - val_accuracy: 0.8640\n",
            "Epoch 55/200\n",
            "45/45 [==============================] - 58s 1s/step - loss: 0.1234 - accuracy: 0.9584 - val_loss: 0.4051 - val_accuracy: 0.8881\n",
            "Epoch 56/200\n",
            "45/45 [==============================] - 57s 1s/step - loss: 0.1139 - accuracy: 0.9612 - val_loss: 0.3794 - val_accuracy: 0.8839\n",
            "Epoch 57/200\n",
            "45/45 [==============================] - 57s 1s/step - loss: 0.1296 - accuracy: 0.9570 - val_loss: 0.3519 - val_accuracy: 0.9008\n",
            "Epoch 58/200\n",
            "45/45 [==============================] - 57s 1s/step - loss: 0.1051 - accuracy: 0.9637 - val_loss: 0.4306 - val_accuracy: 0.8938\n",
            "Epoch 59/200\n",
            "45/45 [==============================] - 58s 1s/step - loss: 0.1270 - accuracy: 0.9577 - val_loss: 0.3605 - val_accuracy: 0.8966\n",
            "Epoch 60/200\n",
            "45/45 [==============================] - 57s 1s/step - loss: 0.0994 - accuracy: 0.9661 - val_loss: 0.3756 - val_accuracy: 0.9037\n",
            "Epoch 61/200\n",
            "45/45 [==============================] - 57s 1s/step - loss: 0.1260 - accuracy: 0.9563 - val_loss: 0.3866 - val_accuracy: 0.8952\n",
            "Epoch 62/200\n",
            "45/45 [==============================] - 57s 1s/step - loss: 0.0998 - accuracy: 0.9665 - val_loss: 0.4552 - val_accuracy: 0.8768\n",
            "Epoch 63/200\n",
            "45/45 [==============================] - 58s 1s/step - loss: 0.1280 - accuracy: 0.9549 - val_loss: 0.3443 - val_accuracy: 0.8966\n",
            "Epoch 64/200\n",
            "45/45 [==============================] - 57s 1s/step - loss: 0.0965 - accuracy: 0.9623 - val_loss: 0.3945 - val_accuracy: 0.8895\n",
            "Epoch 65/200\n",
            "45/45 [==============================] - 57s 1s/step - loss: 0.1086 - accuracy: 0.9630 - val_loss: 0.4259 - val_accuracy: 0.8810\n",
            "Epoch 66/200\n",
            "45/45 [==============================] - 58s 1s/step - loss: 0.0965 - accuracy: 0.9644 - val_loss: 0.3700 - val_accuracy: 0.8938\n",
            "Epoch 67/200\n",
            "45/45 [==============================] - 57s 1s/step - loss: 0.0968 - accuracy: 0.9721 - val_loss: 0.3677 - val_accuracy: 0.9093\n",
            "Epoch 68/200\n",
            "45/45 [==============================] - 57s 1s/step - loss: 0.0973 - accuracy: 0.9637 - val_loss: 0.3328 - val_accuracy: 0.9093\n",
            "Epoch 69/200\n",
            "45/45 [==============================] - 57s 1s/step - loss: 0.0934 - accuracy: 0.9707 - val_loss: 0.4082 - val_accuracy: 0.8952\n",
            "Epoch 70/200\n",
            "45/45 [==============================] - 58s 1s/step - loss: 0.0937 - accuracy: 0.9654 - val_loss: 0.3890 - val_accuracy: 0.8924\n",
            "Epoch 71/200\n",
            "45/45 [==============================] - 57s 1s/step - loss: 0.0952 - accuracy: 0.9665 - val_loss: 0.3738 - val_accuracy: 0.9051\n",
            "Epoch 72/200\n",
            "45/45 [==============================] - 57s 1s/step - loss: 0.0765 - accuracy: 0.9750 - val_loss: 0.3326 - val_accuracy: 0.9136\n",
            "Epoch 73/200\n",
            "45/45 [==============================] - 57s 1s/step - loss: 0.0930 - accuracy: 0.9665 - val_loss: 0.3685 - val_accuracy: 0.9150\n",
            "Epoch 74/200\n",
            "45/45 [==============================] - 58s 1s/step - loss: 0.0948 - accuracy: 0.9690 - val_loss: 0.3071 - val_accuracy: 0.9207\n",
            "Epoch 75/200\n",
            "45/45 [==============================] - 57s 1s/step - loss: 0.0762 - accuracy: 0.9767 - val_loss: 0.3377 - val_accuracy: 0.9263\n",
            "Epoch 76/200\n",
            "45/45 [==============================] - 58s 1s/step - loss: 0.0865 - accuracy: 0.9693 - val_loss: 0.3732 - val_accuracy: 0.9051\n",
            "Epoch 77/200\n",
            "45/45 [==============================] - 57s 1s/step - loss: 0.0759 - accuracy: 0.9750 - val_loss: 0.4435 - val_accuracy: 0.8924\n",
            "Epoch 78/200\n",
            "45/45 [==============================] - 57s 1s/step - loss: 0.0828 - accuracy: 0.9693 - val_loss: 0.3762 - val_accuracy: 0.9122\n",
            "Epoch 79/200\n",
            "45/45 [==============================] - 56s 1s/step - loss: 0.0798 - accuracy: 0.9750 - val_loss: 0.3170 - val_accuracy: 0.9122\n",
            "Epoch 80/200\n",
            "45/45 [==============================] - 56s 1s/step - loss: 0.0760 - accuracy: 0.9757 - val_loss: 0.4056 - val_accuracy: 0.8994\n",
            "Epoch 81/200\n",
            "45/45 [==============================] - 57s 1s/step - loss: 0.0798 - accuracy: 0.9736 - val_loss: 0.3326 - val_accuracy: 0.9164\n",
            "Epoch 82/200\n",
            "45/45 [==============================] - 56s 1s/step - loss: 0.0814 - accuracy: 0.9704 - val_loss: 0.4181 - val_accuracy: 0.9150\n",
            "Epoch 83/200\n",
            "45/45 [==============================] - 56s 1s/step - loss: 0.0763 - accuracy: 0.9718 - val_loss: 0.3737 - val_accuracy: 0.9193\n",
            "Epoch 84/200\n",
            "45/45 [==============================] - 56s 1s/step - loss: 0.0728 - accuracy: 0.9739 - val_loss: 0.4023 - val_accuracy: 0.8980\n"
          ]
        }
      ],
      "source": [
        "# Create folders and callbacks and fit\n",
        "iv3_tl_callbacks = create_folders_and_callbacks(model_name='CNN_TL_EX_IV3_BS64_SGD')\n",
        "\n",
        "# Train the model\n",
        "iv3_tl_history = tl_model.fit(\n",
        "    x = aug_train_gen,\n",
        "    epochs = epochs,\n",
        "    validation_data = valid_gen,\n",
        "    callbacks = iv3_tl_callbacks,\n",
        ").history"
      ]
    },
    {
      "cell_type": "code",
      "execution_count": null,
      "metadata": {
        "colab": {
          "base_uri": "https://localhost:8080/"
        },
        "id": "bPp_-iu7NI32",
        "outputId": "e3c3daf9-a1da-4b16-9b94-c46c9da70c6c"
      },
      "outputs": [
        {
          "name": "stderr",
          "output_type": "stream",
          "text": [
            "WARNING:absl:Found untraced functions such as _jit_compiled_convolution_op, _jit_compiled_convolution_op, _jit_compiled_convolution_op, _jit_compiled_convolution_op, _jit_compiled_convolution_op while saving (showing 5 of 94). These functions will not be directly callable after loading.\n"
          ]
        }
      ],
      "source": [
        "# Save best epoch model\n",
        "tl_model.save(\"data_augmentation_experiments/CNN_TL_EX_IV3_BS64_SGD\")"
      ]
    },
    {
      "cell_type": "code",
      "execution_count": null,
      "metadata": {
        "colab": {
          "base_uri": "https://localhost:8080/",
          "height": 655
        },
        "id": "Qwqxm3dTNQ4q",
        "outputId": "599ea6a7-ec82-4528-c29d-965eb599e527"
      },
      "outputs": [
        {
          "data": {
            "image/png": "[encoded data removed]",
            "text/plain": [
              "<Figure size 1440x360 with 1 Axes>"
            ]
          },
          "metadata": {},
          "output_type": "display_data"
        },
        {
          "data": {
            "image/png": "[encoded data removed]",
            "text/plain": [
              "<Figure size 1440x360 with 1 Axes>"
            ]
          },
          "metadata": {},
          "output_type": "display_data"
        }
      ],
      "source": [
        "# Plot the training\n",
        "plt.figure(figsize=(20,5))\n",
        "plt.plot(iv3_tl_history['loss'], label='Training', alpha=.8, color='#ff7f0e')\n",
        "plt.plot(iv3_tl_history['val_loss'], label='Validation', alpha=.8, color='#4D61E2')\n",
        "plt.legend(loc='upper left')\n",
        "plt.title('Categorical Crossentropy')\n",
        "plt.grid(alpha=.3)\n",
        "\n",
        "plt.figure(figsize=(20,5))\n",
        "plt.plot(iv3_tl_history['accuracy'], label='Training', alpha=.8, color='#ff7f0e')\n",
        "plt.plot(iv3_tl_history['val_accuracy'], label='Validation', alpha=.8, color='#4D61E2')\n",
        "plt.legend(loc='upper left')\n",
        "plt.title('Accuracy')\n",
        "plt.grid(alpha=.3)\n",
        "\n",
        "plt.show()"
      ]
    },
    {
      "cell_type": "code",
      "execution_count": null,
      "metadata": {
        "id": "gcsMr72hOf8l"
      },
      "outputs": [],
      "source": [
        "tl_model.save(\"data_augmentation_experiments/CNN_TL_EX_IV3_BS64_SGD.h5\")"
      ]
    },
    {
      "cell_type": "markdown",
      "source": [
        "# Training on Original and Augmented Data"
      ],
      "metadata": {
        "id": "ET3e3l7VnjBY"
      }
    },
    {
      "cell_type": "code",
      "execution_count": null,
      "metadata": {
        "colab": {
          "base_uri": "https://localhost:8080/"
        },
        "id": "ws9n-O3HeSqO",
        "outputId": "12242b8f-fa7d-4fa7-df47-7a3d0edef1ac"
      },
      "outputs": [
        {
          "name": "stdout",
          "output_type": "stream",
          "text": [
            "Found 186 validated image filenames.\n",
            "Found 532 validated image filenames.\n",
            "Found 515 validated image filenames.\n",
            "Found 511 validated image filenames.\n",
            "Found 531 validated image filenames.\n",
            "Found 222 validated image filenames.\n",
            "Found 537 validated image filenames.\n",
            "Found 508 validated image filenames.\n"
          ]
        }
      ],
      "source": [
        "import shutil\n",
        "sdir=r'AN2DL'\n",
        "aug_dir=os.path.join(sdir,'augmented_images')\n",
        "if os.path.isdir(aug_dir): # see if aug_dir exists if so remove it to get a clean slate\n",
        "    shutil.rmtree(aug_dir)\n",
        "os.mkdir(aug_dir) # make a new empty aug_dir\n",
        "filepaths=[]\n",
        "labels=[]\n",
        "# iterate through original_images and create a dataframe of the form filepaths, labels\n",
        "original_images_dir=os.path.join(sdir, 'training_data_final')\n",
        "target_names = ['Species1', 'Species2', 'Species3', 'Species4', 'Species5', 'Species6', 'Species7', 'Species8']\n",
        "for klass in target_names:\n",
        "    os.mkdir(os.path.join(aug_dir,klass)) # make the class subdirectories in the aug_dir\n",
        "    classpath=os.path.join(original_images_dir, klass) # get the path to the classes\n",
        "    flist=os.listdir(classpath)# for each class the the list of files in the class    \n",
        "    for f in flist:        \n",
        "        fpath=os.path.join(classpath, f) # get the path to the file\n",
        "        filepaths.append(fpath)\n",
        "        labels.append(klass)\n",
        "    Fseries=pd.Series(filepaths, name='filepaths')\n",
        "    Lseries=pd.Series(labels, name='labels')\n",
        "df=pd.concat([Fseries, Lseries], axis=1) # create the dataframe\n",
        "gen=ImageDataGenerator(rotation_range=90,\n",
        "                                        height_shift_range=50,\n",
        "                                        width_shift_range=50,\n",
        "                                        zoom_range=0.3,\n",
        "                                        horizontal_flip=True,\n",
        "                                        vertical_flip=True, \n",
        "                                        fill_mode='reflect',\n",
        "                                        shear_range=0.2,\n",
        "                                        validation_split=0.2,\n",
        "                                        rescale=1/255.)\n",
        "groups=df.groupby('labels') # group by class\n",
        "for label in df['labels'].unique():  # for every class               \n",
        "    group=groups.get_group(label)  # a dataframe holding only rows with the specified label \n",
        "    sample_count=len(group)   # determine how many samples there are in this class  \n",
        "    aug_img_count=0\n",
        "    target_dir=os.path.join(aug_dir, label)  # define where to write the images    \n",
        "    aug_gen=gen.flow_from_dataframe( group,  x_col='filepaths', y_col=None, target_size=(96,96), class_mode=None,\n",
        "                                        batch_size=1, shuffle=False, save_to_dir=target_dir, save_prefix='aug-',\n",
        "                                        save_format='jpg')\n",
        "    while aug_img_count<len(group):\n",
        "        images=next(aug_gen)            \n",
        "        aug_img_count += len(images) "
      ]
    },
    {
      "cell_type": "code",
      "execution_count": null,
      "metadata": {
        "colab": {
          "base_uri": "https://localhost:8080/"
        },
        "id": "38yQ35w0EIf7",
        "outputId": "001ae243-a04b-4fdd-a47f-469f39cf3ff5"
      },
      "outputs": [
        {
          "name": "stdout",
          "output_type": "stream",
          "text": [
            "Found 5679 images belonging to 8 classes.\n",
            "Found 1415 images belonging to 8 classes.\n"
          ]
        }
      ],
      "source": [
        "## Train on original and augmented data\n",
        "from keras.preprocessing.image import ImageDataGenerator\n",
        "\n",
        "valid_data_gen = ImageDataGenerator(rescale=1/255., validation_split=0.2)\n",
        "\n",
        "# Create an instance of ImageDataGenerator with Data Augmentation\n",
        "comb_train_data_gen = ImageDataGenerator(validation_split=0.2,\n",
        "                                        rescale=1/255.) # rescale value is multiplied to the image\n",
        "\n",
        "# Obtain a data generator with the 'ImageDataGenerator.flow_from_directory' method\n",
        "train_gen = comb_train_data_gen.flow_from_directory(directory='/gdrive/My Drive/AN2DL/training_data_combined',\n",
        "                                                       target_size=(256,256),\n",
        "                                                       color_mode='rgb',\n",
        "                                                       classes=None, # can be set to labels\n",
        "                                                       class_mode='categorical',\n",
        "                                                       batch_size=64,\n",
        "                                                       subset='training',\n",
        "                                                       shuffle=True,\n",
        "                                                       seed=seed)\n",
        "\n",
        "valid_gen = valid_data_gen.flow_from_directory('/gdrive/My Drive/AN2DL/training_data_combined',\n",
        "                                              target_size=(256,256),\n",
        "                                              batch_size=64,\n",
        "                                              color_mode='rgb',\n",
        "                                              class_mode='categorical',\n",
        "                                              classes=None,\n",
        "                                              subset='validation',\n",
        "                                              shuffle=True,\n",
        "                                              seed=seed)"
      ]
    },
    {
      "cell_type": "code",
      "execution_count": null,
      "metadata": {
        "colab": {
          "base_uri": "https://localhost:8080/"
        },
        "id": "gmJL4uxs5jQS",
        "outputId": "e8e367ce-a7e5-4ff9-dfcc-1b09d7e9cf14"
      },
      "outputs": [
        {
          "name": "stdout",
          "output_type": "stream",
          "text": [
            "Assigned labels\n",
            "{'Species1': 0, 'Species2': 1, 'Species3': 2, 'Species4': 3, 'Species5': 4, 'Species6': 5, 'Species7': 6, 'Species8': 7}\n",
            "\n",
            "Target classes\n",
            "[0 0 0 ... 7 7 7]\n"
          ]
        }
      ],
      "source": [
        "print(\"Assigned labels\")\n",
        "print(train_gen.class_indices)\n",
        "print()\n",
        "print(\"Target classes\")\n",
        "print(train_gen.classes)"
      ]
    },
    {
      "cell_type": "code",
      "execution_count": null,
      "metadata": {
        "colab": {
          "base_uri": "https://localhost:8080/"
        },
        "id": "NonMNZO35yfN",
        "outputId": "3e4457ee-7cb3-437f-940b-c62bc1611dfd"
      },
      "outputs": [
        {
          "data": {
            "text/plain": [
              "({0: 2.3821308724832213,\n",
              "  1: 0.8322098475967175,\n",
              "  2: 0.8542418772563177,\n",
              "  3: 0.8678178484107579,\n",
              "  4: 0.8351470588235295,\n",
              "  5: 1.9940308988764044,\n",
              "  6: 0.8254360465116279,\n",
              "  7: 0.8731549815498155},)"
            ]
          },
          "execution_count": 10,
          "metadata": {},
          "output_type": "execute_result"
        }
      ],
      "source": [
        "from sklearn.utils import class_weight \n",
        "class_weights = class_weight.compute_class_weight(\n",
        "           class_weight='balanced',\n",
        "            classes=np.unique(train_gen.classes), \n",
        "            y=train_gen.classes)\n",
        "class_weights_dict = dict(zip(np.unique(train_gen.classes), class_weights)),\n",
        "class_weights_dict"
      ]
    },
    {
      "cell_type": "code",
      "execution_count": null,
      "metadata": {
        "colab": {
          "base_uri": "https://localhost:8080/"
        },
        "id": "fva_4qJe6G6U",
        "outputId": "06093372-7137-46bb-e708-6ce9a244fea1"
      },
      "outputs": [
        {
          "name": "stdout",
          "output_type": "stream",
          "text": [
            "Downloading data from https://storage.googleapis.com/tensorflow/keras-applications/inception_v3/inception_v3_weights_tf_dim_ordering_tf_kernels_notop.h5\n",
            "87910968/87910968 [==============================] - 1s 0us/step\n",
            "Model: \"tl_model\"\n",
            "_________________________________________________________________\n",
            " Layer (type)                Output Shape              Param #   \n",
            "=================================================================\n",
            " input_2 (InputLayer)        [(None, 256, 256, 3)]     0         \n",
            "                                                                 \n",
            " inception_v3 (Functional)   (None, 6, 6, 2048)        21802784  \n",
            "                                                                 \n",
            " Flattening (Flatten)        (None, 73728)             0         \n",
            "                                                                 \n",
            " dropout (Dropout)           (None, 73728)             0         \n",
            "                                                                 \n",
            " dense (Dense)               (None, 8)                 589832    \n",
            "                                                                 \n",
            "=================================================================\n",
            "Total params: 22,392,616\n",
            "Trainable params: 22,358,184\n",
            "Non-trainable params: 34,432\n",
            "_________________________________________________________________\n"
          ]
        }
      ],
      "source": [
        "## InceptionV3\n",
        "iv3 = tf.keras.applications.InceptionV3(weights='imagenet', include_top=False, input_shape=input_shape)\n",
        "inputs = tfk.Input(shape=input_shape)\n",
        "x = iv3(inputs)\n",
        "x = tfkl.Flatten(name='Flattening')(x)\n",
        "x = tfkl.Dropout(0.3, seed=seed)(x)  \n",
        "output_layer = tfkl.Dense(\n",
        "    8, \n",
        "    activation='softmax',\n",
        "    kernel_initializer = tfk.initializers.GlorotUniform(seed))(x)\n",
        "\n",
        "\n",
        "tl_model = tfk.Model(inputs=inputs, outputs=output_layer, name='tl_model')\n",
        "\n",
        "# Compile the model\n",
        "tl_model.compile(loss=tfk.losses.CategoricalCrossentropy(), optimizer=tfk.optimizers.SGD(), metrics=['accuracy'])\n",
        "\n",
        "\n",
        "tl_model.summary()"
      ]
    },
    {
      "cell_type": "code",
      "execution_count": null,
      "metadata": {
        "colab": {
          "background_save": true,
          "base_uri": "https://localhost:8080/"
        },
        "id": "KDCRoznK6YLQ",
        "outputId": "b5ba792c-7b02-4de0-9981-236804fd1387"
      },
      "outputs": [
        {
          "name": "stdout",
          "output_type": "stream",
          "text": [
            "Epoch 1/200\n",
            "89/89 [==============================] - 4169s 47s/step - loss: 2.4809 - accuracy: 0.3277 - val_loss: 1.6987 - val_accuracy: 0.3237\n",
            "Epoch 2/200\n",
            "89/89 [==============================] - 4193s 47s/step - loss: 1.1749 - accuracy: 0.5769 - val_loss: 1.3841 - val_accuracy: 0.4615\n",
            "Epoch 3/200\n",
            "13/89 [===>..........................] - ETA: 54:58 - loss: 0.9095 - accuracy: 0.6863"
          ]
        }
      ],
      "source": [
        "# Create folders and callbacks and fit\n",
        "iv3_tl_callbacks = create_folders_and_callbacks(model_name='CNN_IV3_BS64_SGD_COMB')\n",
        "\n",
        "# Train the model\n",
        "iv3_tl_history = tl_model.fit(\n",
        "    x = train_gen,\n",
        "    epochs = epochs,\n",
        "    validation_data = valid_gen,\n",
        "    callbacks = iv3_tl_callbacks,\n",
        ").history"
      ]
    }
  ],
  "metadata": {
    "colab": {
      "provenance": [],
      "collapsed_sections": [
        "0fht6DqOk7z-",
        "Ui2H3zUbk4yO",
        "Oit0a4s0lLcx",
        "S9gXOVFnlWIU",
        "Pw2NjwDGlncy",
        "r0510cpCmIqC",
        "WM2GpDs1mZqu",
        "hYWYxsyzmkxj",
        "jVsGJllEnJpI",
        "Zdl6U6aAnbZV",
        "ET3e3l7VnjBY"
      ]
    },
    "gpuClass": "standard",
    "kernelspec": {
      "display_name": "Python 3",
      "name": "python3"
    },
    "language_info": {
      "name": "python"
    }
  },
  "nbformat": 4,
  "nbformat_minor": 0
}