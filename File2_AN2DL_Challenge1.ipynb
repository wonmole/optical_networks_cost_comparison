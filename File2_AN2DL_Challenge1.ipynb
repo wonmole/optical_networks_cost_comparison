{
  "cells": [
    {
      "cell_type": "code",
      "execution_count": 1,
      "metadata": {
        "colab": {
          "base_uri": "https://localhost:8080/"
        },
        "id": "ZXz1Ahrva4NN",
        "outputId": "e07e6754-51a9-440b-a5e1-5bc96cbeac03"
      },
      "outputs": [
        {
          "output_type": "stream",
          "name": "stdout",
          "text": [
            "Mounted at /gdrive\n"
          ]
        }
      ],
      "source": [
        "from google.colab import drive\n",
        "drive.mount('/gdrive')"
      ]
    },
    {
      "cell_type": "code",
      "execution_count": 2,
      "metadata": {
        "colab": {
          "base_uri": "https://localhost:8080/"
        },
        "id": "iZ_FE2ILbLb1",
        "outputId": "04431453-d63d-403f-f322-dafaa4dbcb89"
      },
      "outputs": [
        {
          "output_type": "stream",
          "name": "stdout",
          "text": [
            "/gdrive/My Drive\n"
          ]
        }
      ],
      "source": [
        "%cd /gdrive/My Drive/"
      ]
    },
    {
      "cell_type": "code",
      "execution_count": 40,
      "metadata": {
        "colab": {
          "base_uri": "https://localhost:8080/"
        },
        "id": "AT6Gh6X_NLSo",
        "outputId": "1f03a62f-a80f-466c-ca3c-5e3f8ff2174d"
      },
      "outputs": [
        {
          "output_type": "stream",
          "name": "stdout",
          "text": [
            "2.9.2\n"
          ]
        }
      ],
      "source": [
        "import tensorflow as tf\n",
        "import numpy as np\n",
        "import os\n",
        "import random\n",
        "import pandas as pd\n",
        "import seaborn as sns\n",
        "import matplotlib as mpl\n",
        "import matplotlib.pyplot as plt\n",
        "from sklearn.model_selection import train_test_split\n",
        "from sklearn.metrics import accuracy_score, f1_score, precision_score, recall_score\n",
        "from sklearn.metrics import confusion_matrix, classification_report, ConfusionMatrixDisplay\n",
        "\n",
        "tfk = tf.keras\n",
        "tfkl = tf.keras.layers\n",
        "print(tf.__version__)"
      ]
    },
    {
      "cell_type": "code",
      "execution_count": 4,
      "metadata": {
        "id": "nNxt1wWHWJFZ"
      },
      "outputs": [],
      "source": [
        "# Random seed for reproducibility\n",
        "seed = 42\n",
        "\n",
        "random.seed(seed)\n",
        "os.environ['PYTHONHASHSEED'] = str(seed)\n",
        "np.random.seed(seed)\n",
        "tf.random.set_seed(seed)\n",
        "tf.compat.v1.set_random_seed(seed)"
      ]
    },
    {
      "cell_type": "code",
      "execution_count": 34,
      "metadata": {
        "colab": {
          "base_uri": "https://localhost:8080/"
        },
        "id": "t3BIQzLNzstV",
        "outputId": "b1d33e22-32a3-4b3e-c629-6fe72d66a35b"
      },
      "outputs": [
        {
          "output_type": "stream",
          "name": "stdout",
          "text": [
            "Found 2836 images belonging to 8 classes.\n",
            "Found 706 images belonging to 8 classes.\n"
          ]
        }
      ],
      "source": [
        "from keras.preprocessing.image import ImageDataGenerator\n",
        "\n",
        "valid_data_gen = ImageDataGenerator(rescale=1/255., validation_split=0.2)\n",
        "\n",
        "# Create an instance of ImageDataGenerator with Data Augmentation\n",
        "aug_train_data_gen = ImageDataGenerator(rotation_range=90,\n",
        "                                        height_shift_range=50,\n",
        "                                        width_shift_range=50,\n",
        "                                        zoom_range=0.3,\n",
        "                                        horizontal_flip=True,\n",
        "                                        vertical_flip=True, \n",
        "                                        fill_mode='reflect',\n",
        "                                        shear_range=0.2,\n",
        "                                        validation_split=0.2,\n",
        "                                        rescale=1/255.) # rescale value is multiplied to the image\n",
        "\n",
        "# Obtain a data generator with the 'ImageDataGenerator.flow_from_directory' method\n",
        "aug_train_gen = aug_train_data_gen.flow_from_directory(directory='/gdrive/My Drive/AN2DL/training_data_final',\n",
        "                                                       target_size=(256,256),\n",
        "                                                       color_mode='rgb',\n",
        "                                                       classes=None, # can be set to labels\n",
        "                                                       class_mode='categorical',\n",
        "                                                       batch_size=64,\n",
        "                                                       subset='training',\n",
        "                                                       shuffle=True,\n",
        "                                                       seed=seed)\n",
        "\n",
        "valid_gen = valid_data_gen.flow_from_directory('/gdrive/My Drive/AN2DL/training_data_final',\n",
        "                                              target_size=(256,256),\n",
        "                                              batch_size=64,\n",
        "                                              color_mode='rgb',\n",
        "                                              class_mode='categorical',\n",
        "                                              classes=None,\n",
        "                                              subset='validation',\n",
        "                                              shuffle=True,\n",
        "                                              seed=seed)"
      ]
    },
    {
      "cell_type": "code",
      "execution_count": 6,
      "metadata": {
        "colab": {
          "base_uri": "https://localhost:8080/"
        },
        "id": "AlnGI4a6zQHm",
        "outputId": "65bb407d-f576-4b48-f1ea-71d0b7b17b89"
      },
      "outputs": [
        {
          "output_type": "stream",
          "name": "stdout",
          "text": [
            "Assigned labels\n",
            "{'Species1': 0, 'Species2': 1, 'Species3': 2, 'Species4': 3, 'Species5': 4, 'Species6': 5, 'Species7': 6, 'Species8': 7}\n",
            "\n",
            "Target classes\n",
            "[0 0 0 ... 7 7 7]\n"
          ]
        }
      ],
      "source": [
        "print(\"Assigned labels\")\n",
        "print(aug_train_gen.class_indices)\n",
        "print()\n",
        "print(\"Target classes\")\n",
        "print(aug_train_gen.classes)"
      ]
    },
    {
      "cell_type": "code",
      "execution_count": 7,
      "metadata": {
        "id": "_3GTtYuI2uAZ"
      },
      "outputs": [],
      "source": [
        "# Settled on these values after multiple attempts on using various values\n",
        "input_shape = (256, 256, 3)\n",
        "epochs = 200"
      ]
    },
    {
      "cell_type": "markdown",
      "source": [
        "# CNN built from scratch"
      ],
      "metadata": {
        "id": "jIP7fh_Zjksp"
      }
    },
    {
      "cell_type": "code",
      "execution_count": 8,
      "metadata": {
        "id": "SrjNVbpl2Hrs"
      },
      "outputs": [],
      "source": [
        "#########################################\n",
        "# CNN built from scratch\n",
        "#########################################\n",
        "\n",
        "def build_model(input_shape):\n",
        "\n",
        "    # Build the neural network layer by layer\n",
        "    input_layer = tfkl.Input(shape=input_shape, name='input_layer')\n",
        "\n",
        "    conv1 = tfkl.Conv2D(\n",
        "        filters=32,\n",
        "        kernel_size=3,\n",
        "        padding = 'same',\n",
        "        activation = 'relu',\n",
        "        kernel_initializer = tfk.initializers.HeUniform(seed)\n",
        "    )(input_layer)\n",
        "    pool1 = tfkl.MaxPooling2D()(conv1)\n",
        "\n",
        "    conv2 = tfkl.Conv2D(\n",
        "        filters=64,\n",
        "        kernel_size=3,\n",
        "        padding = 'same',\n",
        "        activation = 'relu',\n",
        "        kernel_initializer = tfk.initializers.HeUniform(seed)\n",
        "    )(pool1)\n",
        "    pool2 = tfkl.MaxPooling2D()(conv2)\n",
        "\n",
        "    conv3 = tfkl.Conv2D(\n",
        "        filters=128,\n",
        "        kernel_size=3,\n",
        "        padding = 'same',\n",
        "        activation = 'relu',\n",
        "        kernel_initializer = tfk.initializers.HeUniform(seed)\n",
        "    )(pool2)\n",
        "    pool3 = tfkl.MaxPooling2D()(conv3)\n",
        "\n",
        "    conv4 = tfkl.Conv2D(\n",
        "        filters=256,\n",
        "        kernel_size=3,\n",
        "        padding = 'same',\n",
        "        activation = 'relu',\n",
        "        kernel_initializer = tfk.initializers.HeUniform(seed)\n",
        "    )(pool3)\n",
        "    pool4 = tfkl.MaxPooling2D()(conv4)\n",
        "\n",
        "    conv5 = tfkl.Conv2D(\n",
        "        filters=512,\n",
        "        kernel_size=3,\n",
        "        padding = 'same',\n",
        "        activation = 'relu',\n",
        "        kernel_initializer = tfk.initializers.HeUniform(seed)\n",
        "    )(pool4)\n",
        "    pool5 = tfkl.MaxPooling2D()(conv5)\n",
        "\n",
        "    flattening_layer = tfkl.Flatten(name='Flatten')(pool5)\n",
        "    dropout = tfkl.Dropout(0.3, seed=seed)(flattening_layer)\n",
        "    classifier_layer = tfkl.Dense(units=512, name='Classifier', kernel_initializer=tfk.initializers.HeUniform(seed), activation='relu')(dropout)\n",
        "    dropout = tfkl.Dropout(0.3, seed=seed)(classifier_layer)\n",
        "    output_layer = tfkl.Dense(units=8, activation='softmax', kernel_initializer=tfk.initializers.GlorotUniform(seed), name='output_layer')(dropout)\n",
        "\n",
        "    # Connect input and output through the Model class\n",
        "    model = tfk.Model(inputs=input_layer, outputs=output_layer, name='model')\n",
        "\n",
        "    # Compile the model\n",
        "    model.compile(loss=tfk.losses.CategoricalCrossentropy(), optimizer=tfk.optimizers.Adam(), metrics='accuracy')\n",
        "\n",
        "    # Return the model\n",
        "    return model"
      ]
    },
    {
      "cell_type": "code",
      "execution_count": 9,
      "metadata": {
        "id": "ADEKsv6s2e4s"
      },
      "outputs": [],
      "source": [
        "# Utility function to create folders and callbacks for training\n",
        "from datetime import datetime\n",
        "\n",
        "def create_folders_and_callbacks(model_name):\n",
        "\n",
        "  exps_dir = os.path.join('data_augmentation_experiments')\n",
        "  if not os.path.exists(exps_dir):\n",
        "      os.makedirs(exps_dir)\n",
        "\n",
        "  now = datetime.now().strftime('%b%d_%H-%M-%S')\n",
        "\n",
        "  exp_dir = os.path.join(exps_dir, model_name + '_' + str(now))\n",
        "  if not os.path.exists(exp_dir):\n",
        "      os.makedirs(exp_dir)\n",
        "      \n",
        "  callbacks = []\n",
        "\n",
        "  # Model checkpoint\n",
        "  # ----------------\n",
        "  ckpt_dir = os.path.join(exp_dir, 'ckpts')\n",
        "  if not os.path.exists(ckpt_dir):\n",
        "      os.makedirs(ckpt_dir)\n",
        "\n",
        "  ckpt_callback = tf.keras.callbacks.ModelCheckpoint(filepath=os.path.join(ckpt_dir, 'cp.ckpt'), \n",
        "                                                     save_weights_only=True, # True to save only weights\n",
        "                                                     save_best_only=False) # True to save only the best epoch \n",
        "  callbacks.append(ckpt_callback)\n",
        "\n",
        "  # Visualize Learning on Tensorboard\n",
        "  # ---------------------------------\n",
        "  tb_dir = os.path.join(exp_dir, 'tb_logs')\n",
        "  if not os.path.exists(tb_dir):\n",
        "      os.makedirs(tb_dir)\n",
        "      \n",
        "  # By default shows losses and metrics for both training and validation\n",
        "  tb_callback = tf.keras.callbacks.TensorBoard(log_dir=tb_dir, \n",
        "                                               profile_batch=0,\n",
        "                                               histogram_freq=1)  # if > 0 (epochs) shows weights histograms\n",
        "  callbacks.append(tb_callback)\n",
        "\n",
        "  # Early Stopping\n",
        "  # --------------\n",
        "  es_callback = tf.keras.callbacks.EarlyStopping(monitor='val_loss', patience=10, restore_best_weights=True)\n",
        "  callbacks.append(es_callback)\n",
        "\n",
        "  return callbacks"
      ]
    },
    {
      "cell_type": "code",
      "execution_count": null,
      "metadata": {
        "colab": {
          "base_uri": "https://localhost:8080/"
        },
        "id": "rfx6H_JK2k8N",
        "outputId": "35d17a7d-e20f-4c75-bb2d-073845eaa72c"
      },
      "outputs": [
        {
          "name": "stdout",
          "output_type": "stream",
          "text": [
            "Model: \"model\"\n",
            "_________________________________________________________________\n",
            " Layer (type)                Output Shape              Param #   \n",
            "=================================================================\n",
            " input_layer (InputLayer)    [(None, 256, 256, 3)]     0         \n",
            "                                                                 \n",
            " conv2d (Conv2D)             (None, 256, 256, 32)      896       \n",
            "                                                                 \n",
            " max_pooling2d (MaxPooling2D  (None, 128, 128, 32)     0         \n",
            " )                                                               \n",
            "                                                                 \n",
            " conv2d_1 (Conv2D)           (None, 128, 128, 64)      18496     \n",
            "                                                                 \n",
            " max_pooling2d_1 (MaxPooling  (None, 64, 64, 64)       0         \n",
            " 2D)                                                             \n",
            "                                                                 \n",
            " conv2d_2 (Conv2D)           (None, 64, 64, 128)       73856     \n",
            "                                                                 \n",
            " max_pooling2d_2 (MaxPooling  (None, 32, 32, 128)      0         \n",
            " 2D)                                                             \n",
            "                                                                 \n",
            " conv2d_3 (Conv2D)           (None, 32, 32, 256)       295168    \n",
            "                                                                 \n",
            " max_pooling2d_3 (MaxPooling  (None, 16, 16, 256)      0         \n",
            " 2D)                                                             \n",
            "                                                                 \n",
            " conv2d_4 (Conv2D)           (None, 16, 16, 512)       1180160   \n",
            "                                                                 \n",
            " max_pooling2d_4 (MaxPooling  (None, 8, 8, 512)        0         \n",
            " 2D)                                                             \n",
            "                                                                 \n",
            " Flatten (Flatten)           (None, 32768)             0         \n",
            "                                                                 \n",
            " dropout (Dropout)           (None, 32768)             0         \n",
            "                                                                 \n",
            " Classifier (Dense)          (None, 512)               16777728  \n",
            "                                                                 \n",
            " dropout_1 (Dropout)         (None, 512)               0         \n",
            "                                                                 \n",
            " output_layer (Dense)        (None, 8)                 4104      \n",
            "                                                                 \n",
            "=================================================================\n",
            "Total params: 18,350,408\n",
            "Trainable params: 18,350,408\n",
            "Non-trainable params: 0\n",
            "_________________________________________________________________\n"
          ]
        }
      ],
      "source": [
        "# Build model (for  augmentation training)\n",
        "model = build_model(input_shape)\n",
        "model.summary()"
      ]
    },
    {
      "cell_type": "code",
      "execution_count": null,
      "metadata": {
        "colab": {
          "base_uri": "https://localhost:8080/"
        },
        "id": "PHNHtUzq3BvC",
        "outputId": "47fa78d7-ddeb-4c17-bbbc-f56371871062"
      },
      "outputs": [
        {
          "name": "stdout",
          "output_type": "stream",
          "text": [
            "Epoch 1/100\n",
            "23/23 [==============================] - 415s 18s/step - loss: 5.3876 - accuracy: 0.1707 - val_loss: 1.8955 - val_accuracy: 0.2408\n",
            "Epoch 2/100\n",
            "23/23 [==============================] - 48s 2s/step - loss: 1.8446 - accuracy: 0.2870 - val_loss: 1.8789 - val_accuracy: 0.2592\n",
            "Epoch 3/100\n",
            "23/23 [==============================] - 49s 2s/step - loss: 1.7928 - accuracy: 0.2906 - val_loss: 1.8720 - val_accuracy: 0.2436\n",
            "Epoch 4/100\n",
            "23/23 [==============================] - 48s 2s/step - loss: 1.7373 - accuracy: 0.3068 - val_loss: 1.6750 - val_accuracy: 0.3116\n",
            "Epoch 5/100\n",
            "23/23 [==============================] - 48s 2s/step - loss: 1.5921 - accuracy: 0.3946 - val_loss: 1.5763 - val_accuracy: 0.3796\n",
            "Epoch 6/100\n",
            "23/23 [==============================] - 47s 2s/step - loss: 1.5804 - accuracy: 0.4207 - val_loss: 1.6254 - val_accuracy: 0.3598\n",
            "Epoch 7/100\n",
            "23/23 [==============================] - 48s 2s/step - loss: 1.5076 - accuracy: 0.4369 - val_loss: 1.7682 - val_accuracy: 0.3782\n",
            "Epoch 8/100\n",
            "23/23 [==============================] - 49s 2s/step - loss: 1.4661 - accuracy: 0.4587 - val_loss: 1.7255 - val_accuracy: 0.3555\n",
            "Epoch 9/100\n",
            "23/23 [==============================] - 48s 2s/step - loss: 1.4334 - accuracy: 0.4679 - val_loss: 1.4726 - val_accuracy: 0.4462\n",
            "Epoch 10/100\n",
            "23/23 [==============================] - 48s 2s/step - loss: 1.4628 - accuracy: 0.4457 - val_loss: 1.5196 - val_accuracy: 0.4178\n",
            "Epoch 11/100\n",
            "23/23 [==============================] - 48s 2s/step - loss: 1.4153 - accuracy: 0.4848 - val_loss: 1.6764 - val_accuracy: 0.3867\n",
            "Epoch 12/100\n",
            "23/23 [==============================] - 48s 2s/step - loss: 1.3807 - accuracy: 0.4968 - val_loss: 1.3530 - val_accuracy: 0.5071\n",
            "Epoch 13/100\n",
            "23/23 [==============================] - 49s 2s/step - loss: 1.3367 - accuracy: 0.5085 - val_loss: 1.3127 - val_accuracy: 0.5212\n",
            "Epoch 14/100\n",
            "23/23 [==============================] - 48s 2s/step - loss: 1.2931 - accuracy: 0.5219 - val_loss: 1.4235 - val_accuracy: 0.4646\n",
            "Epoch 15/100\n",
            "23/23 [==============================] - 48s 2s/step - loss: 1.3096 - accuracy: 0.5219 - val_loss: 1.3082 - val_accuracy: 0.5227\n",
            "Epoch 16/100\n",
            "23/23 [==============================] - 48s 2s/step - loss: 1.2993 - accuracy: 0.5243 - val_loss: 1.3626 - val_accuracy: 0.4873\n",
            "Epoch 17/100\n",
            "23/23 [==============================] - 47s 2s/step - loss: 1.2506 - accuracy: 0.5427 - val_loss: 1.3828 - val_accuracy: 0.5113\n",
            "Epoch 18/100\n",
            "23/23 [==============================] - 48s 2s/step - loss: 1.2174 - accuracy: 0.5515 - val_loss: 1.3074 - val_accuracy: 0.4986\n",
            "Epoch 19/100\n",
            "23/23 [==============================] - 48s 2s/step - loss: 1.2072 - accuracy: 0.5638 - val_loss: 1.2650 - val_accuracy: 0.5212\n",
            "Epoch 20/100\n",
            "23/23 [==============================] - 47s 2s/step - loss: 1.2087 - accuracy: 0.5677 - val_loss: 1.2022 - val_accuracy: 0.5595\n",
            "Epoch 21/100\n",
            "23/23 [==============================] - 54s 2s/step - loss: 1.1773 - accuracy: 0.5751 - val_loss: 1.2103 - val_accuracy: 0.5283\n",
            "Epoch 22/100\n",
            "23/23 [==============================] - 49s 2s/step - loss: 1.1693 - accuracy: 0.5783 - val_loss: 1.1866 - val_accuracy: 0.5425\n",
            "Epoch 23/100\n",
            "23/23 [==============================] - 48s 2s/step - loss: 1.1482 - accuracy: 0.5860 - val_loss: 1.1358 - val_accuracy: 0.5878\n",
            "Epoch 24/100\n",
            "23/23 [==============================] - 48s 2s/step - loss: 1.1527 - accuracy: 0.5772 - val_loss: 1.0885 - val_accuracy: 0.6006\n",
            "Epoch 25/100\n",
            "23/23 [==============================] - 48s 2s/step - loss: 1.1166 - accuracy: 0.5910 - val_loss: 1.2096 - val_accuracy: 0.5538\n",
            "Epoch 26/100\n",
            "23/23 [==============================] - 48s 2s/step - loss: 1.0921 - accuracy: 0.5987 - val_loss: 1.1650 - val_accuracy: 0.5779\n",
            "Epoch 27/100\n",
            "23/23 [==============================] - 47s 2s/step - loss: 1.1074 - accuracy: 0.6030 - val_loss: 1.2120 - val_accuracy: 0.5623\n",
            "Epoch 28/100\n",
            "23/23 [==============================] - 48s 2s/step - loss: 1.0187 - accuracy: 0.6410 - val_loss: 1.0323 - val_accuracy: 0.6289\n",
            "Epoch 29/100\n",
            "23/23 [==============================] - 48s 2s/step - loss: 1.0370 - accuracy: 0.6248 - val_loss: 0.9598 - val_accuracy: 0.6586\n",
            "Epoch 30/100\n",
            "23/23 [==============================] - 48s 2s/step - loss: 1.0285 - accuracy: 0.6181 - val_loss: 0.9749 - val_accuracy: 0.6416\n",
            "Epoch 31/100\n",
            "23/23 [==============================] - 48s 2s/step - loss: 1.0133 - accuracy: 0.6414 - val_loss: 1.1273 - val_accuracy: 0.5680\n",
            "Epoch 32/100\n",
            "23/23 [==============================] - 49s 2s/step - loss: 1.0296 - accuracy: 0.6273 - val_loss: 1.0135 - val_accuracy: 0.6105\n",
            "Epoch 33/100\n",
            "23/23 [==============================] - 48s 2s/step - loss: 1.0444 - accuracy: 0.6206 - val_loss: 1.1051 - val_accuracy: 0.5878\n",
            "Epoch 34/100\n",
            "23/23 [==============================] - 47s 2s/step - loss: 1.0453 - accuracy: 0.6153 - val_loss: 1.1734 - val_accuracy: 0.5963\n",
            "Epoch 35/100\n",
            "23/23 [==============================] - 48s 2s/step - loss: 1.0045 - accuracy: 0.6407 - val_loss: 1.0539 - val_accuracy: 0.6204\n",
            "Epoch 36/100\n",
            "23/23 [==============================] - 48s 2s/step - loss: 1.0511 - accuracy: 0.6209 - val_loss: 1.0626 - val_accuracy: 0.6232\n",
            "Epoch 37/100\n",
            "23/23 [==============================] - 47s 2s/step - loss: 0.9878 - accuracy: 0.6449 - val_loss: 0.9618 - val_accuracy: 0.6459\n",
            "Epoch 38/100\n",
            "23/23 [==============================] - 48s 2s/step - loss: 0.9411 - accuracy: 0.6484 - val_loss: 1.0818 - val_accuracy: 0.6317\n",
            "Epoch 39/100\n",
            "23/23 [==============================] - 48s 2s/step - loss: 0.9610 - accuracy: 0.6446 - val_loss: 1.0718 - val_accuracy: 0.6346\n"
          ]
        }
      ],
      "source": [
        "# Create folders and callbacks and fit\n",
        "aug_callbacks = create_folders_and_callbacks(model_name='CNN_Aug')\n",
        "\n",
        "# Train CNN model built from scratch\n",
        "history = model.fit(\n",
        "    x = aug_train_gen,\n",
        "    epochs = epochs,\n",
        "    validation_data = valid_gen,\n",
        "    callbacks = aug_callbacks,\n",
        ").history"
      ]
    },
    {
      "cell_type": "code",
      "execution_count": null,
      "metadata": {
        "colab": {
          "base_uri": "https://localhost:8080/",
          "height": 655
        },
        "id": "ozCV6NJ83STB",
        "outputId": "acf3f312-e4bb-4ea9-cfe5-dd516e22238f"
      },
      "outputs": [
        {
          "data": {
            "image/png": "[encoded data removed]",
            "text/plain": [
              "<Figure size 1440x360 with 1 Axes>"
            ]
          },
          "metadata": {},
          "output_type": "display_data"
        },
        {
          "data": {
            "image/png": "[encoded data removed]",
            "text/plain": [
              "<Figure size 1440x360 with 1 Axes>"
            ]
          },
          "metadata": {},
          "output_type": "display_data"
        }
      ],
      "source": [
        "# Plot the training\n",
        "plt.figure(figsize=(20,5))\n",
        "plt.plot(history['loss'], label='Training', alpha=.8, color='#ff7f0e')\n",
        "plt.plot(history['val_loss'], label='Validation', alpha=.8, color='#4D61E2')\n",
        "plt.legend(loc='upper left')\n",
        "plt.title('Categorical Crossentropy')\n",
        "plt.grid(alpha=.3)\n",
        "\n",
        "plt.figure(figsize=(20,5))\n",
        "plt.plot(history['accuracy'], label='Training', alpha=.8, color='#ff7f0e')\n",
        "plt.plot(history['val_accuracy'], label='Validation', alpha=.8, color='#4D61E2')\n",
        "plt.legend(loc='upper left')\n",
        "plt.title('Accuracy')\n",
        "plt.grid(alpha=.3)\n",
        "\n",
        "plt.show()"
      ]
    },
    {
      "cell_type": "code",
      "execution_count": null,
      "metadata": {
        "colab": {
          "base_uri": "https://localhost:8080/"
        },
        "id": "FwMVbW_uInv-",
        "outputId": "ba7e7da0-6e05-497d-821d-c0fb6bc39768"
      },
      "outputs": [
        {
          "name": "stderr",
          "output_type": "stream",
          "text": [
            "WARNING:absl:Found untraced functions such as _jit_compiled_convolution_op, _jit_compiled_convolution_op, _jit_compiled_convolution_op, _jit_compiled_convolution_op, _jit_compiled_convolution_op while saving (showing 5 of 5). These functions will not be directly callable after loading.\n"
          ]
        }
      ],
      "source": [
        "# Save best epoch model\n",
        "model.save(\"data_augmentation_experiments/CNN_Aug_Best128\")"
      ]
    },
    {
      "cell_type": "markdown",
      "source": [
        "# Transfer Learning - ResNet50V2"
      ],
      "metadata": {
        "id": "X5uZVUG1b_-u"
      }
    },
    {
      "cell_type": "code",
      "execution_count": null,
      "metadata": {
        "colab": {
          "base_uri": "https://localhost:8080/"
        },
        "id": "gqhpTz6fJBvz",
        "outputId": "2f1117cd-fe27-4b16-fb5d-d25fa08f0ee2"
      },
      "outputs": [
        {
          "name": "stdout",
          "output_type": "stream",
          "text": [
            "Downloading data from https://storage.googleapis.com/tensorflow/keras-applications/resnet/resnet50v2_weights_tf_dim_ordering_tf_kernels_notop.h5\n",
            "94668760/94668760 [==============================] - 5s 0us/step\n",
            "Model: \"sequential_1\"\n",
            "_________________________________________________________________\n",
            " Layer (type)                Output Shape              Param #   \n",
            "=================================================================\n",
            " resnet50v2 (Functional)     (None, 8, 8, 2048)        23564800  \n",
            "                                                                 \n",
            " flatten_1 (Flatten)         (None, 131072)            0         \n",
            "                                                                 \n",
            " dense_3 (Dense)             (None, 64)                8388672   \n",
            "                                                                 \n",
            " dense_4 (Dense)             (None, 32)                2080      \n",
            "                                                                 \n",
            " dense_5 (Dense)             (None, 8)                 264       \n",
            "                                                                 \n",
            "=================================================================\n",
            "Total params: 31,955,816\n",
            "Trainable params: 31,910,376\n",
            "Non-trainable params: 45,440\n",
            "_________________________________________________________________\n"
          ]
        }
      ],
      "source": [
        "resnet = tf.keras.applications.ResNet50V2(weights='imagenet', include_top=False, input_shape=input_shape)\n",
        "\n",
        "model_resnet = tf.keras.Sequential()\n",
        "model_resnet.add(resnet)\n",
        "model_resnet.add(tf.keras.layers.Flatten())\n",
        "model_resnet.add(tf.keras.layers.Dense(units=64, activation='relu', kernel_regularizer=tf.keras.regularizers.l2(0.0001)))\n",
        "model_resnet.add(tf.keras.layers.Dense(units=32, activation='relu', kernel_regularizer=tf.keras.regularizers.l2(0.0001)))\n",
        "model_resnet.add(tf.keras.layers.Dense(units=8, activation='softmax'))\n",
        "\n",
        "model_resnet.summary()"
      ]
    },
    {
      "cell_type": "code",
      "execution_count": null,
      "metadata": {
        "id": "VtaKjnuLKM1C"
      },
      "outputs": [],
      "source": [
        "loss = tf.keras.losses.CategoricalCrossentropy()\n",
        "lr = 1e-5\n",
        "optimizer = tf.keras.optimizers.Adam(learning_rate=lr)\n",
        "metrics = ['accuracy']\n",
        "model_resnet.compile(optimizer=optimizer, loss=loss, metrics=metrics)"
      ]
    },
    {
      "cell_type": "code",
      "execution_count": null,
      "metadata": {
        "colab": {
          "base_uri": "https://localhost:8080/"
        },
        "id": "DSNq7A1TKt38",
        "outputId": "b04adbef-b8a1-4217-ed03-de6c00967f21"
      },
      "outputs": [
        {
          "name": "stdout",
          "output_type": "stream",
          "text": [
            "Epoch 1/100\n",
            "23/23 [==============================] - 81s 3s/step - loss: 1.9217 - accuracy: 0.2817 - val_loss: 2.3552 - val_accuracy: 0.1926\n",
            "Epoch 2/100\n",
            "23/23 [==============================] - 66s 3s/step - loss: 1.5659 - accuracy: 0.4376 - val_loss: 2.4690 - val_accuracy: 0.2450\n",
            "Epoch 3/100\n",
            "23/23 [==============================] - 66s 3s/step - loss: 1.3425 - accuracy: 0.5261 - val_loss: 2.7071 - val_accuracy: 0.2790\n",
            "Epoch 4/100\n",
            "23/23 [==============================] - 66s 3s/step - loss: 1.1976 - accuracy: 0.5832 - val_loss: 2.6322 - val_accuracy: 0.3329\n",
            "Epoch 5/100\n",
            "23/23 [==============================] - 65s 3s/step - loss: 1.0665 - accuracy: 0.6382 - val_loss: 2.3952 - val_accuracy: 0.3810\n",
            "Epoch 6/100\n",
            "23/23 [==============================] - 65s 3s/step - loss: 0.9988 - accuracy: 0.6580 - val_loss: 2.1095 - val_accuracy: 0.4334\n",
            "Epoch 7/100\n",
            "23/23 [==============================] - 65s 3s/step - loss: 0.8868 - accuracy: 0.7031 - val_loss: 1.7643 - val_accuracy: 0.5142\n",
            "Epoch 8/100\n",
            "23/23 [==============================] - 64s 3s/step - loss: 0.8246 - accuracy: 0.7250 - val_loss: 1.5715 - val_accuracy: 0.5467\n",
            "Epoch 9/100\n",
            "23/23 [==============================] - 66s 3s/step - loss: 0.8033 - accuracy: 0.7281 - val_loss: 1.4655 - val_accuracy: 0.5751\n",
            "Epoch 10/100\n",
            "23/23 [==============================] - 65s 3s/step - loss: 0.7851 - accuracy: 0.7352 - val_loss: 1.2740 - val_accuracy: 0.6147\n",
            "Epoch 11/100\n",
            "23/23 [==============================] - 64s 3s/step - loss: 0.7401 - accuracy: 0.7553 - val_loss: 1.0754 - val_accuracy: 0.6586\n",
            "Epoch 12/100\n",
            "23/23 [==============================] - 64s 3s/step - loss: 0.6751 - accuracy: 0.7655 - val_loss: 1.0147 - val_accuracy: 0.6714\n",
            "Epoch 13/100\n",
            "23/23 [==============================] - 65s 3s/step - loss: 0.6419 - accuracy: 0.7839 - val_loss: 1.2649 - val_accuracy: 0.6374\n",
            "Epoch 14/100\n",
            "23/23 [==============================] - 63s 3s/step - loss: 0.6231 - accuracy: 0.7891 - val_loss: 0.8748 - val_accuracy: 0.7040\n",
            "Epoch 15/100\n",
            "23/23 [==============================] - 64s 3s/step - loss: 0.5839 - accuracy: 0.8078 - val_loss: 0.8328 - val_accuracy: 0.7210\n",
            "Epoch 16/100\n",
            "23/23 [==============================] - 64s 3s/step - loss: 0.5648 - accuracy: 0.8110 - val_loss: 0.8356 - val_accuracy: 0.7295\n",
            "Epoch 17/100\n",
            "23/23 [==============================] - 63s 3s/step - loss: 0.5558 - accuracy: 0.8121 - val_loss: 0.7847 - val_accuracy: 0.7450\n",
            "Epoch 18/100\n",
            "23/23 [==============================] - 65s 3s/step - loss: 0.5404 - accuracy: 0.8124 - val_loss: 0.7891 - val_accuracy: 0.7479\n",
            "Epoch 19/100\n",
            "23/23 [==============================] - 64s 3s/step - loss: 0.4842 - accuracy: 0.8311 - val_loss: 0.7090 - val_accuracy: 0.7762\n",
            "Epoch 20/100\n",
            "23/23 [==============================] - 64s 3s/step - loss: 0.4855 - accuracy: 0.8403 - val_loss: 0.7231 - val_accuracy: 0.7748\n",
            "Epoch 21/100\n",
            "23/23 [==============================] - 64s 3s/step - loss: 0.4821 - accuracy: 0.8325 - val_loss: 0.6520 - val_accuracy: 0.7989\n",
            "Epoch 22/100\n",
            "23/23 [==============================] - 65s 3s/step - loss: 0.4692 - accuracy: 0.8459 - val_loss: 0.5879 - val_accuracy: 0.8116\n",
            "Epoch 23/100\n",
            "23/23 [==============================] - 64s 3s/step - loss: 0.4294 - accuracy: 0.8551 - val_loss: 0.6499 - val_accuracy: 0.7989\n",
            "Epoch 24/100\n",
            "23/23 [==============================] - 64s 3s/step - loss: 0.4144 - accuracy: 0.8516 - val_loss: 0.6202 - val_accuracy: 0.8031\n",
            "Epoch 25/100\n",
            "23/23 [==============================] - 64s 3s/step - loss: 0.3937 - accuracy: 0.8731 - val_loss: 0.6222 - val_accuracy: 0.8017\n",
            "Epoch 26/100\n",
            "23/23 [==============================] - 64s 3s/step - loss: 0.3882 - accuracy: 0.8713 - val_loss: 0.7060 - val_accuracy: 0.7946\n",
            "Epoch 27/100\n",
            "23/23 [==============================] - 65s 3s/step - loss: 0.3779 - accuracy: 0.8766 - val_loss: 0.6003 - val_accuracy: 0.8144\n",
            "Epoch 28/100\n",
            "23/23 [==============================] - 64s 3s/step - loss: 0.3734 - accuracy: 0.8769 - val_loss: 0.7012 - val_accuracy: 0.8017\n",
            "Epoch 29/100\n",
            "23/23 [==============================] - 64s 3s/step - loss: 0.3601 - accuracy: 0.8755 - val_loss: 0.5512 - val_accuracy: 0.8343\n",
            "Epoch 30/100\n",
            "23/23 [==============================] - 64s 3s/step - loss: 0.3460 - accuracy: 0.8847 - val_loss: 0.5563 - val_accuracy: 0.8357\n",
            "Epoch 31/100\n",
            "23/23 [==============================] - 64s 3s/step - loss: 0.3371 - accuracy: 0.8932 - val_loss: 0.5564 - val_accuracy: 0.8343\n",
            "Epoch 32/100\n",
            "23/23 [==============================] - 66s 3s/step - loss: 0.3293 - accuracy: 0.8903 - val_loss: 0.5815 - val_accuracy: 0.8300\n",
            "Epoch 33/100\n",
            "23/23 [==============================] - 64s 3s/step - loss: 0.3197 - accuracy: 0.8925 - val_loss: 0.6377 - val_accuracy: 0.8215\n",
            "Epoch 34/100\n",
            "23/23 [==============================] - 64s 3s/step - loss: 0.2798 - accuracy: 0.9076 - val_loss: 0.5947 - val_accuracy: 0.8428\n",
            "Epoch 35/100\n",
            "23/23 [==============================] - 63s 3s/step - loss: 0.2910 - accuracy: 0.9034 - val_loss: 0.6241 - val_accuracy: 0.8456\n",
            "Epoch 36/100\n",
            "23/23 [==============================] - 64s 3s/step - loss: 0.2880 - accuracy: 0.9069 - val_loss: 0.6693 - val_accuracy: 0.8159\n",
            "Epoch 37/100\n",
            "23/23 [==============================] - 64s 3s/step - loss: 0.2946 - accuracy: 0.8981 - val_loss: 0.6012 - val_accuracy: 0.8329\n",
            "Epoch 38/100\n",
            "23/23 [==============================] - 63s 3s/step - loss: 0.2460 - accuracy: 0.9178 - val_loss: 0.6029 - val_accuracy: 0.8442\n",
            "Epoch 39/100\n",
            "23/23 [==============================] - 63s 3s/step - loss: 0.2761 - accuracy: 0.8995 - val_loss: 0.6508 - val_accuracy: 0.8272\n"
          ]
        }
      ],
      "source": [
        "# Create folders and callbacks and fit\n",
        "resnet50_callbacks = create_folders_and_callbacks(model_name='CNN_TF_RESNET50')\n",
        "\n",
        "# Train the model\n",
        "history = model_resnet.fit(\n",
        "    x = aug_train_gen,\n",
        "    epochs = epochs,\n",
        "    validation_data = valid_gen,\n",
        "    callbacks = resnet50_callbacks,\n",
        ").history"
      ]
    },
    {
      "cell_type": "code",
      "execution_count": null,
      "metadata": {
        "colab": {
          "base_uri": "https://localhost:8080/",
          "height": 655
        },
        "id": "j4TnLiKOfFnX",
        "outputId": "441493f3-005c-4aa2-d681-36357de11001"
      },
      "outputs": [
        {
          "data": {
            "image/png": "[encoded data removed]",
            "text/plain": [
              "<Figure size 1440x360 with 1 Axes>"
            ]
          },
          "metadata": {},
          "output_type": "display_data"
        },
        {
          "data": {
            "image/png": "[encoded data removed]",
            "text/plain": [
              "<Figure size 1440x360 with 1 Axes>"
            ]
          },
          "metadata": {},
          "output_type": "display_data"
        }
      ],
      "source": [
        "# Plot the training\n",
        "plt.figure(figsize=(20,5))\n",
        "plt.plot(history['loss'], label='Training', alpha=.8, color='#ff7f0e')\n",
        "plt.plot(history['val_loss'], label='Validation', alpha=.8, color='#4D61E2')\n",
        "plt.legend(loc='upper left')\n",
        "plt.title('Categorical Crossentropy')\n",
        "plt.grid(alpha=.3)\n",
        "\n",
        "plt.figure(figsize=(20,5))\n",
        "plt.plot(history['accuracy'], label='Training', alpha=.8, color='#ff7f0e')\n",
        "plt.plot(history['val_accuracy'], label='Validation', alpha=.8, color='#4D61E2')\n",
        "plt.legend(loc='upper left')\n",
        "plt.title('Accuracy')\n",
        "plt.grid(alpha=.3)\n",
        "\n",
        "plt.show()"
      ]
    },
    {
      "cell_type": "markdown",
      "source": [
        "# Transfer Learning - VGG19\n",
        "\n"
      ],
      "metadata": {
        "id": "7oxD4iYpd378"
      }
    },
    {
      "cell_type": "code",
      "execution_count": null,
      "metadata": {
        "colab": {
          "base_uri": "https://localhost:8080/"
        },
        "id": "WlrlbJj9L_8B",
        "outputId": "69f26df2-a195-4c95-e156-aeb77a256cdd"
      },
      "outputs": [
        {
          "name": "stdout",
          "output_type": "stream",
          "text": [
            "Model: \"sequential_3\"\n",
            "_________________________________________________________________\n",
            " Layer (type)                Output Shape              Param #   \n",
            "=================================================================\n",
            " vgg19 (Functional)          (None, 8, 8, 512)         20024384  \n",
            "                                                                 \n",
            " flatten_2 (Flatten)         (None, 32768)             0         \n",
            "                                                                 \n",
            " dense_6 (Dense)             (None, 128)               4194432   \n",
            "                                                                 \n",
            " dropout_4 (Dropout)         (None, 128)               0         \n",
            "                                                                 \n",
            " dense_7 (Dense)             (None, 8)                 1032      \n",
            "                                                                 \n",
            "=================================================================\n",
            "Total params: 24,219,848\n",
            "Trainable params: 4,195,464\n",
            "Non-trainable params: 20,024,384\n",
            "_________________________________________________________________\n"
          ]
        }
      ],
      "source": [
        "model_vgg19 = tf.keras.Sequential()\n",
        "vgg19 = tf.keras.applications.VGG19(weights='imagenet', include_top=False, input_shape=input_shape) \n",
        "model_vgg19.add(vgg19)\n",
        "model_vgg19.add(tf.keras.layers.Flatten())\n",
        "model_vgg19.add(tf.keras.layers.Dense(units=128, activation='relu'))\n",
        "model_vgg19.add(tf.keras.layers.Dropout(0.3))\n",
        "model_vgg19.add(tf.keras.layers.Dense(units=8, activation='softmax'))\n",
        "\n",
        "model_vgg19.compile(optimizer=optimizer, loss=loss, metrics=metrics)\n",
        "\n",
        "\n",
        "model_vgg19.summary()"
      ]
    },
    {
      "cell_type": "code",
      "execution_count": null,
      "metadata": {
        "id": "ibl5bdvqQ1xC"
      },
      "outputs": [],
      "source": [
        "# Create folders and callbacks and fit\n",
        "vgg19_callbacks = create_folders_and_callbacks(model_name='CNN_TF_VGG19')\n",
        "\n",
        "# Train the model\n",
        "history = model_vgg19.fit(\n",
        "    x = aug_train_gen,\n",
        "    epochs = epochs,\n",
        "    validation_data = valid_gen,\n",
        "    callbacks = vgg19_callbacks,\n",
        ").history"
      ]
    },
    {
      "cell_type": "markdown",
      "source": [
        "## Fine Tuning "
      ],
      "metadata": {
        "id": "mGDT2TQlfWgy"
      }
    },
    {
      "cell_type": "code",
      "execution_count": null,
      "metadata": {
        "colab": {
          "base_uri": "https://localhost:8080/"
        },
        "id": "Au85bwspp7aA",
        "outputId": "c0ad56d1-b87d-404a-823e-04fdce919d9f"
      },
      "outputs": [
        {
          "name": "stdout",
          "output_type": "stream",
          "text": [
            "Model: \"sequential_1\"\n",
            "_________________________________________________________________\n",
            " Layer (type)                Output Shape              Param #   \n",
            "=================================================================\n",
            " vgg19 (Functional)          (None, 8, 8, 512)         20024384  \n",
            "                                                                 \n",
            " flatten_1 (Flatten)         (None, 32768)             0         \n",
            "                                                                 \n",
            " dense_3 (Dense)             (None, 64)                2097216   \n",
            "                                                                 \n",
            " dense_4 (Dense)             (None, 32)                2080      \n",
            "                                                                 \n",
            " dense_5 (Dense)             (None, 8)                 264       \n",
            "                                                                 \n",
            "=================================================================\n",
            "Total params: 22,123,944\n",
            "Trainable params: 22,123,944\n",
            "Non-trainable params: 0\n",
            "_________________________________________________________________\n"
          ]
        }
      ],
      "source": [
        "## Fine Tuning\n",
        "ft_vgg19_model = tfk.models.load_model(\"data_augmentation_experiments/CNN_TL_VGG19_BS64\")\n",
        "ft_vgg19_model.summary()"
      ]
    },
    {
      "cell_type": "code",
      "execution_count": null,
      "metadata": {
        "colab": {
          "base_uri": "https://localhost:8080/"
        },
        "id": "i91kDMJHgMnW",
        "outputId": "c9566268-3553-49bd-951a-e2d17ae22856"
      },
      "outputs": [
        {
          "name": "stdout",
          "output_type": "stream",
          "text": [
            "0 input_2 True\n",
            "1 block1_conv1 True\n",
            "2 block1_conv2 True\n",
            "3 block1_pool True\n",
            "4 block2_conv1 True\n",
            "5 block2_conv2 True\n",
            "6 block2_pool True\n",
            "7 block3_conv1 True\n",
            "8 block3_conv2 True\n",
            "9 block3_conv3 True\n",
            "10 block3_conv4 True\n",
            "11 block3_pool True\n",
            "12 block4_conv1 True\n",
            "13 block4_conv2 True\n",
            "14 block4_conv3 True\n",
            "15 block4_conv4 True\n",
            "16 block4_pool True\n",
            "17 block5_conv1 True\n",
            "18 block5_conv2 True\n",
            "19 block5_conv3 True\n",
            "20 block5_conv4 True\n",
            "21 block5_pool True\n"
          ]
        }
      ],
      "source": [
        "ft_vgg19_model.get_layer('vgg19').trainable = True\n",
        "for i, layer in enumerate(ft_vgg19_model.get_layer('vgg19').layers):\n",
        "   print(i, layer.name, ft_vgg19_model.trainable)"
      ]
    },
    {
      "cell_type": "code",
      "execution_count": null,
      "metadata": {
        "colab": {
          "base_uri": "https://localhost:8080/"
        },
        "id": "LnISuf69gYk8",
        "outputId": "4a77f4d5-cf01-4be6-af01-ec19564f627d"
      },
      "outputs": [
        {
          "name": "stdout",
          "output_type": "stream",
          "text": [
            "0 input_2 False\n",
            "1 block1_conv1 False\n",
            "2 block1_conv2 False\n",
            "3 block1_pool False\n",
            "4 block2_conv1 False\n",
            "5 block2_conv2 False\n",
            "6 block2_pool False\n",
            "7 block3_conv1 False\n",
            "8 block3_conv2 False\n",
            "9 block3_conv3 False\n",
            "10 block3_conv4 False\n",
            "11 block3_pool False\n",
            "12 block4_conv1 False\n",
            "13 block4_conv2 False\n",
            "14 block4_conv3 False\n",
            "15 block4_conv4 False\n",
            "16 block4_pool False\n",
            "17 block5_conv1 True\n",
            "18 block5_conv2 True\n",
            "19 block5_conv3 True\n",
            "20 block5_conv4 True\n",
            "21 block5_pool True\n",
            "Model: \"sequential_1\"\n",
            "_________________________________________________________________\n",
            " Layer (type)                Output Shape              Param #   \n",
            "=================================================================\n",
            " vgg19 (Functional)          (None, 8, 8, 512)         20024384  \n",
            "                                                                 \n",
            " flatten_1 (Flatten)         (None, 32768)             0         \n",
            "                                                                 \n",
            " dense_3 (Dense)             (None, 64)                2097216   \n",
            "                                                                 \n",
            " dense_4 (Dense)             (None, 32)                2080      \n",
            "                                                                 \n",
            " dense_5 (Dense)             (None, 8)                 264       \n",
            "                                                                 \n",
            "=================================================================\n",
            "Total params: 22,123,944\n",
            "Trainable params: 11,538,792\n",
            "Non-trainable params: 10,585,152\n",
            "_________________________________________________________________\n"
          ]
        }
      ],
      "source": [
        "# Freeze first N layers\n",
        "for i, layer in enumerate(ft_vgg19_model.get_layer('vgg19').layers[:17]):\n",
        "  layer.trainable=False\n",
        "for i, layer in enumerate(ft_vgg19_model.get_layer('vgg19').layers):\n",
        "   print(i, layer.name, layer.trainable)\n",
        "ft_vgg19_model.summary()"
      ]
    },
    {
      "cell_type": "code",
      "execution_count": null,
      "metadata": {
        "id": "VTZHi1o2goem"
      },
      "outputs": [],
      "source": [
        "loss = tf.keras.losses.CategoricalCrossentropy()\n",
        "lr = 5e-5\n",
        "optimizer = tf.keras.optimizers.Adam(learning_rate=lr)\n",
        "metrics = ['accuracy']\n",
        "ft_vgg19_model.compile(loss=loss, optimizer=optimizer, metrics=metrics)"
      ]
    },
    {
      "cell_type": "code",
      "execution_count": null,
      "metadata": {
        "colab": {
          "base_uri": "https://localhost:8080/"
        },
        "id": "XUw4QxJVgvB5",
        "outputId": "690190cd-3968-4b27-91d8-ba1904c7e4f5"
      },
      "outputs": [
        {
          "name": "stdout",
          "output_type": "stream",
          "text": [
            "Epoch 1/200\n",
            "45/45 [==============================] - 1950s 43s/step - loss: 0.5869 - accuracy: 0.9556 - val_loss: 0.8801 - val_accuracy: 0.8853\n",
            "Epoch 2/200\n",
            "45/45 [==============================] - 58s 1s/step - loss: 0.5713 - accuracy: 0.9566 - val_loss: 0.8909 - val_accuracy: 0.8768\n",
            "Epoch 3/200\n",
            "45/45 [==============================] - 58s 1s/step - loss: 0.5374 - accuracy: 0.9676 - val_loss: 0.8676 - val_accuracy: 0.8909\n",
            "Epoch 4/200\n",
            "45/45 [==============================] - 57s 1s/step - loss: 0.5390 - accuracy: 0.9609 - val_loss: 0.8630 - val_accuracy: 0.8824\n",
            "Epoch 5/200\n",
            "45/45 [==============================] - 58s 1s/step - loss: 0.5419 - accuracy: 0.9587 - val_loss: 0.8370 - val_accuracy: 0.8796\n",
            "Epoch 6/200\n",
            "45/45 [==============================] - 58s 1s/step - loss: 0.5122 - accuracy: 0.9651 - val_loss: 0.8573 - val_accuracy: 0.8952\n",
            "Epoch 7/200\n",
            "45/45 [==============================] - 59s 1s/step - loss: 0.5064 - accuracy: 0.9679 - val_loss: 0.8177 - val_accuracy: 0.8938\n",
            "Epoch 8/200\n",
            "45/45 [==============================] - 57s 1s/step - loss: 0.4985 - accuracy: 0.9661 - val_loss: 0.8325 - val_accuracy: 0.8938\n",
            "Epoch 9/200\n",
            "45/45 [==============================] - 57s 1s/step - loss: 0.4800 - accuracy: 0.9732 - val_loss: 0.8264 - val_accuracy: 0.9037\n",
            "Epoch 10/200\n",
            "45/45 [==============================] - 57s 1s/step - loss: 0.4871 - accuracy: 0.9619 - val_loss: 0.8182 - val_accuracy: 0.8853\n",
            "Epoch 11/200\n",
            "45/45 [==============================] - 59s 1s/step - loss: 0.4727 - accuracy: 0.9686 - val_loss: 0.8503 - val_accuracy: 0.8853\n",
            "Epoch 12/200\n",
            "45/45 [==============================] - 57s 1s/step - loss: 0.4574 - accuracy: 0.9739 - val_loss: 0.8298 - val_accuracy: 0.8810\n",
            "Epoch 13/200\n",
            "45/45 [==============================] - 57s 1s/step - loss: 0.4625 - accuracy: 0.9711 - val_loss: 0.8085 - val_accuracy: 0.8754\n",
            "Epoch 14/200\n",
            "45/45 [==============================] - 57s 1s/step - loss: 0.4484 - accuracy: 0.9736 - val_loss: 0.8155 - val_accuracy: 0.8895\n",
            "Epoch 15/200\n",
            "45/45 [==============================] - 63s 1s/step - loss: 0.4296 - accuracy: 0.9760 - val_loss: 0.8512 - val_accuracy: 0.8824\n",
            "Epoch 16/200\n",
            "45/45 [==============================] - 57s 1s/step - loss: 0.4309 - accuracy: 0.9732 - val_loss: 0.8118 - val_accuracy: 0.8909\n",
            "Epoch 17/200\n",
            "45/45 [==============================] - 57s 1s/step - loss: 0.4251 - accuracy: 0.9753 - val_loss: 0.7776 - val_accuracy: 0.8895\n",
            "Epoch 18/200\n",
            "45/45 [==============================] - 57s 1s/step - loss: 0.4078 - accuracy: 0.9781 - val_loss: 0.7847 - val_accuracy: 0.8867\n",
            "Epoch 19/200\n",
            "45/45 [==============================] - 58s 1s/step - loss: 0.3894 - accuracy: 0.9810 - val_loss: 0.8152 - val_accuracy: 0.8867\n",
            "Epoch 20/200\n",
            "45/45 [==============================] - 57s 1s/step - loss: 0.4334 - accuracy: 0.9693 - val_loss: 0.7909 - val_accuracy: 0.8952\n",
            "Epoch 21/200\n",
            "45/45 [==============================] - 57s 1s/step - loss: 0.3896 - accuracy: 0.9824 - val_loss: 0.8703 - val_accuracy: 0.8867\n",
            "Epoch 22/200\n",
            "45/45 [==============================] - 57s 1s/step - loss: 0.3959 - accuracy: 0.9778 - val_loss: 0.8133 - val_accuracy: 0.8768\n",
            "Epoch 23/200\n",
            "45/45 [==============================] - 58s 1s/step - loss: 0.3664 - accuracy: 0.9862 - val_loss: 0.8094 - val_accuracy: 0.8938\n",
            "Epoch 24/200\n",
            "45/45 [==============================] - 58s 1s/step - loss: 0.4171 - accuracy: 0.9644 - val_loss: 0.8732 - val_accuracy: 0.8640\n",
            "Epoch 25/200\n",
            "45/45 [==============================] - 57s 1s/step - loss: 0.3743 - accuracy: 0.9813 - val_loss: 0.7794 - val_accuracy: 0.8853\n",
            "Epoch 26/200\n",
            "45/45 [==============================] - 58s 1s/step - loss: 0.3648 - accuracy: 0.9827 - val_loss: 0.8463 - val_accuracy: 0.8824\n",
            "Epoch 27/200\n",
            "45/45 [==============================] - 57s 1s/step - loss: 0.3663 - accuracy: 0.9778 - val_loss: 0.8216 - val_accuracy: 0.8824\n"
          ]
        }
      ],
      "source": [
        "# Create folders and callbacks and fit\n",
        "vgg19_ft_callbacks = create_folders_and_callbacks(model_name='CNN_TL_VGG19_BS64_FT')\n",
        "\n",
        "# Train the model\n",
        "ft_vgg19_history = ft_vgg19_model.fit(\n",
        "    x = aug_train_gen,\n",
        "    epochs = epochs,\n",
        "    validation_data = valid_gen,\n",
        "    callbacks = vgg19_ft_callbacks,\n",
        ").history"
      ]
    },
    {
      "cell_type": "code",
      "execution_count": null,
      "metadata": {
        "colab": {
          "base_uri": "https://localhost:8080/",
          "height": 613
        },
        "id": "xHz0NOPdzGiB",
        "outputId": "06baf8e6-606b-4d35-b587-e3889f7f8bad"
      },
      "outputs": [
        {
          "data": {
            "image/png": "[encoded data removed]",
            "text/plain": [
              "<Figure size 1440x360 with 1 Axes>"
            ]
          },
          "metadata": {},
          "output_type": "display_data"
        },
        {
          "data": {
            "image/png": "[encoded data removed]",
            "text/plain": [
              "<Figure size 1440x360 with 1 Axes>"
            ]
          },
          "metadata": {},
          "output_type": "display_data"
        }
      ],
      "source": [
        "# Plot the training\n",
        "plt.figure(figsize=(20,5))\n",
        "plt.plot(ft_vgg19_history['loss'], label='Training', alpha=.8, color='#ff7f0e')\n",
        "plt.plot(ft_vgg19_history['val_loss'], label='Validation', alpha=.8, color='#4D61E2')\n",
        "plt.legend(loc='upper left')\n",
        "plt.title('Categorical Crossentropy')\n",
        "plt.grid(alpha=.3)\n",
        "\n",
        "plt.figure(figsize=(20,5))\n",
        "plt.plot(ft_vgg19_history['accuracy'], label='Training', alpha=.8, color='#ff7f0e')\n",
        "plt.plot(ft_vgg19_history['val_accuracy'], label='Validation', alpha=.8, color='#4D61E2')\n",
        "plt.legend(loc='upper left')\n",
        "plt.title('Accuracy')\n",
        "plt.grid(alpha=.3)\n",
        "\n",
        "plt.show()"
      ]
    },
    {
      "cell_type": "code",
      "execution_count": null,
      "metadata": {
        "colab": {
          "base_uri": "https://localhost:8080/"
        },
        "id": "cg7IzMyTzWbW",
        "outputId": "91629220-4cf7-42ec-8dca-3b47e767e6c2"
      },
      "outputs": [
        {
          "name": "stderr",
          "output_type": "stream",
          "text": [
            "WARNING:absl:Found untraced functions such as _jit_compiled_convolution_op, _jit_compiled_convolution_op, _jit_compiled_convolution_op, _jit_compiled_convolution_op, _jit_compiled_convolution_op while saving (showing 5 of 16). These functions will not be directly callable after loading.\n"
          ]
        }
      ],
      "source": [
        "# Save best epoch model\n",
        "ft_vgg19_model.save(\"data_augmentation_experiments/CNN_TL_VGG19_BS64_FT\")"
      ]
    },
    {
      "cell_type": "markdown",
      "source": [
        "# Transfer Learning - InceptionV3\n",
        "Adam Optimizer"
      ],
      "metadata": {
        "id": "tUtICYMkeYb2"
      }
    },
    {
      "cell_type": "code",
      "execution_count": null,
      "metadata": {
        "colab": {
          "base_uri": "https://localhost:8080/"
        },
        "id": "QdraZgozj-ln",
        "outputId": "dac9f350-c763-41b8-95db-82201e4b6325"
      },
      "outputs": [
        {
          "name": "stdout",
          "output_type": "stream",
          "text": [
            "Downloading data from https://storage.googleapis.com/tensorflow/keras-applications/inception_v3/inception_v3_weights_tf_dim_ordering_tf_kernels_notop.h5\n",
            "87910968/87910968 [==============================] - 7s 0us/step\n",
            "Model: \"sequential\"\n",
            "_________________________________________________________________\n",
            " Layer (type)                Output Shape              Param #   \n",
            "=================================================================\n",
            " inception_v3 (Functional)   (None, 6, 6, 2048)        21802784  \n",
            "                                                                 \n",
            " flatten (Flatten)           (None, 73728)             0         \n",
            "                                                                 \n",
            " dense (Dense)               (None, 64)                4718656   \n",
            "                                                                 \n",
            " dense_1 (Dense)             (None, 32)                2080      \n",
            "                                                                 \n",
            " dense_2 (Dense)             (None, 8)                 264       \n",
            "                                                                 \n",
            "=================================================================\n",
            "Total params: 26,523,784\n",
            "Trainable params: 26,489,352\n",
            "Non-trainable params: 34,432\n",
            "_________________________________________________________________\n"
          ]
        }
      ],
      "source": [
        "iv3 = tf.keras.applications.InceptionV3(weights='imagenet', include_top=False, input_shape=input_shape)\n",
        "model_iv3 = tf.keras.Sequential()\n",
        "model_iv3.add(iv3)\n",
        "model_iv3.add(tf.keras.layers.Flatten())\n",
        "model_iv3.add(tf.keras.layers.Dense(units=64, activation='relu', kernel_regularizer=tf.keras.regularizers.l2(0.0001)))\n",
        "model_iv3.add(tf.keras.layers.Dense(units=32, activation='relu', kernel_regularizer=tf.keras.regularizers.l2(0.0001)))\n",
        "model_iv3.add(tf.keras.layers.Dense(units=8, activation='softmax'))\n",
        "\n",
        "model_iv3.summary()"
      ]
    },
    {
      "cell_type": "code",
      "execution_count": null,
      "metadata": {
        "id": "9nwXgzzhkdzs"
      },
      "outputs": [],
      "source": [
        "loss = tf.keras.losses.CategoricalCrossentropy()\n",
        "lr = 1e-5\n",
        "optimizer = tf.keras.optimizers.Adam(learning_rate=lr)\n",
        "metrics = ['accuracy']\n",
        "model_iv3.compile(optimizer=optimizer, loss=loss, metrics=metrics)"
      ]
    },
    {
      "cell_type": "code",
      "execution_count": null,
      "metadata": {
        "colab": {
          "base_uri": "https://localhost:8080/"
        },
        "id": "9QpBJclQkhzd",
        "outputId": "6fa8f852-da77-40b1-80e6-dd967d0ef4bf"
      },
      "outputs": [
        {
          "name": "stdout",
          "output_type": "stream",
          "text": [
            "Epoch 1/100\n",
            "45/45 [==============================] - 1813s 40s/step - loss: 2.0396 - accuracy: 0.1989 - val_loss: 1.9542 - val_accuracy: 0.2479\n",
            "Epoch 2/100\n",
            "45/45 [==============================] - 61s 1s/step - loss: 1.8843 - accuracy: 0.2831 - val_loss: 1.8264 - val_accuracy: 0.2918\n",
            "Epoch 3/100\n",
            "45/45 [==============================] - 61s 1s/step - loss: 1.7233 - accuracy: 0.3621 - val_loss: 1.7002 - val_accuracy: 0.3626\n",
            "Epoch 4/100\n",
            "45/45 [==============================] - 62s 1s/step - loss: 1.5857 - accuracy: 0.4425 - val_loss: 1.5593 - val_accuracy: 0.4306\n",
            "Epoch 5/100\n",
            "45/45 [==============================] - 63s 1s/step - loss: 1.4678 - accuracy: 0.4884 - val_loss: 1.4483 - val_accuracy: 0.4646\n",
            "Epoch 6/100\n",
            "45/45 [==============================] - 61s 1s/step - loss: 1.3494 - accuracy: 0.5381 - val_loss: 1.3595 - val_accuracy: 0.5057\n",
            "Epoch 7/100\n",
            "45/45 [==============================] - 62s 1s/step - loss: 1.2957 - accuracy: 0.5578 - val_loss: 1.2935 - val_accuracy: 0.5382\n",
            "Epoch 8/100\n",
            "45/45 [==============================] - 62s 1s/step - loss: 1.2370 - accuracy: 0.5783 - val_loss: 1.2115 - val_accuracy: 0.5779\n",
            "Epoch 9/100\n",
            "45/45 [==============================] - 63s 1s/step - loss: 1.1437 - accuracy: 0.6005 - val_loss: 1.1608 - val_accuracy: 0.5977\n",
            "Epoch 10/100\n",
            "45/45 [==============================] - 61s 1s/step - loss: 1.0964 - accuracy: 0.6262 - val_loss: 1.1105 - val_accuracy: 0.6105\n",
            "Epoch 11/100\n",
            "45/45 [==============================] - 61s 1s/step - loss: 1.0542 - accuracy: 0.6343 - val_loss: 1.0715 - val_accuracy: 0.6190\n",
            "Epoch 12/100\n",
            "45/45 [==============================] - 61s 1s/step - loss: 1.0142 - accuracy: 0.6583 - val_loss: 1.0556 - val_accuracy: 0.6232\n",
            "Epoch 13/100\n",
            "45/45 [==============================] - 61s 1s/step - loss: 0.9780 - accuracy: 0.6580 - val_loss: 0.9879 - val_accuracy: 0.6501\n",
            "Epoch 14/100\n",
            "45/45 [==============================] - 61s 1s/step - loss: 0.9566 - accuracy: 0.6696 - val_loss: 0.9330 - val_accuracy: 0.6686\n",
            "Epoch 15/100\n",
            "45/45 [==============================] - 61s 1s/step - loss: 0.9137 - accuracy: 0.6788 - val_loss: 0.9528 - val_accuracy: 0.6728\n",
            "Epoch 16/100\n",
            "45/45 [==============================] - 61s 1s/step - loss: 0.8928 - accuracy: 0.7003 - val_loss: 0.8891 - val_accuracy: 0.6884\n",
            "Epoch 17/100\n",
            "45/45 [==============================] - 61s 1s/step - loss: 0.8467 - accuracy: 0.7066 - val_loss: 0.8685 - val_accuracy: 0.6969\n",
            "Epoch 18/100\n",
            "45/45 [==============================] - 62s 1s/step - loss: 0.8420 - accuracy: 0.7123 - val_loss: 0.8390 - val_accuracy: 0.7011\n",
            "Epoch 19/100\n",
            "45/45 [==============================] - 61s 1s/step - loss: 0.8010 - accuracy: 0.7225 - val_loss: 0.8443 - val_accuracy: 0.6969\n",
            "Epoch 20/100\n",
            "45/45 [==============================] - 62s 1s/step - loss: 0.7784 - accuracy: 0.7341 - val_loss: 0.8057 - val_accuracy: 0.7054\n",
            "Epoch 21/100\n",
            "45/45 [==============================] - 61s 1s/step - loss: 0.7740 - accuracy: 0.7345 - val_loss: 0.7995 - val_accuracy: 0.7110\n",
            "Epoch 22/100\n",
            "45/45 [==============================] - 61s 1s/step - loss: 0.7646 - accuracy: 0.7489 - val_loss: 0.7806 - val_accuracy: 0.7295\n",
            "Epoch 23/100\n",
            "45/45 [==============================] - 63s 1s/step - loss: 0.7411 - accuracy: 0.7472 - val_loss: 0.7648 - val_accuracy: 0.7351\n",
            "Epoch 24/100\n",
            "45/45 [==============================] - 60s 1s/step - loss: 0.7382 - accuracy: 0.7437 - val_loss: 0.7388 - val_accuracy: 0.7408\n",
            "Epoch 25/100\n",
            "45/45 [==============================] - 60s 1s/step - loss: 0.7129 - accuracy: 0.7623 - val_loss: 0.7669 - val_accuracy: 0.7351\n",
            "Epoch 26/100\n",
            "45/45 [==============================] - 60s 1s/step - loss: 0.6912 - accuracy: 0.7606 - val_loss: 0.7355 - val_accuracy: 0.7521\n",
            "Epoch 27/100\n",
            "45/45 [==============================] - 63s 1s/step - loss: 0.6869 - accuracy: 0.7690 - val_loss: 0.7151 - val_accuracy: 0.7394\n",
            "Epoch 28/100\n",
            "45/45 [==============================] - 61s 1s/step - loss: 0.6726 - accuracy: 0.7729 - val_loss: 0.7038 - val_accuracy: 0.7635\n",
            "Epoch 29/100\n",
            "45/45 [==============================] - 61s 1s/step - loss: 0.6491 - accuracy: 0.7708 - val_loss: 0.6851 - val_accuracy: 0.7649\n",
            "Epoch 30/100\n",
            "45/45 [==============================] - 60s 1s/step - loss: 0.6394 - accuracy: 0.7782 - val_loss: 0.6557 - val_accuracy: 0.7734\n",
            "Epoch 31/100\n",
            "45/45 [==============================] - 62s 1s/step - loss: 0.5938 - accuracy: 0.8025 - val_loss: 0.6442 - val_accuracy: 0.7819\n",
            "Epoch 32/100\n",
            "45/45 [==============================] - 61s 1s/step - loss: 0.5947 - accuracy: 0.7962 - val_loss: 0.6441 - val_accuracy: 0.7762\n",
            "Epoch 33/100\n",
            "45/45 [==============================] - 61s 1s/step - loss: 0.6147 - accuracy: 0.7909 - val_loss: 0.6320 - val_accuracy: 0.7847\n",
            "Epoch 34/100\n",
            "45/45 [==============================] - 61s 1s/step - loss: 0.5758 - accuracy: 0.8068 - val_loss: 0.6220 - val_accuracy: 0.7975\n",
            "Epoch 35/100\n",
            "45/45 [==============================] - 60s 1s/step - loss: 0.6039 - accuracy: 0.7888 - val_loss: 0.6283 - val_accuracy: 0.7932\n",
            "Epoch 36/100\n",
            "45/45 [==============================] - 62s 1s/step - loss: 0.5780 - accuracy: 0.8082 - val_loss: 0.6117 - val_accuracy: 0.7989\n",
            "Epoch 37/100\n",
            "45/45 [==============================] - 61s 1s/step - loss: 0.5605 - accuracy: 0.8082 - val_loss: 0.5982 - val_accuracy: 0.7975\n",
            "Epoch 38/100\n",
            "45/45 [==============================] - 61s 1s/step - loss: 0.5644 - accuracy: 0.8054 - val_loss: 0.6075 - val_accuracy: 0.7734\n",
            "Epoch 39/100\n",
            "45/45 [==============================] - 60s 1s/step - loss: 0.5373 - accuracy: 0.8166 - val_loss: 0.6017 - val_accuracy: 0.7932\n",
            "Epoch 40/100\n",
            "45/45 [==============================] - 60s 1s/step - loss: 0.5245 - accuracy: 0.8216 - val_loss: 0.5746 - val_accuracy: 0.8031\n",
            "Epoch 41/100\n",
            "45/45 [==============================] - 62s 1s/step - loss: 0.5177 - accuracy: 0.8255 - val_loss: 0.5824 - val_accuracy: 0.7918\n",
            "Epoch 42/100\n",
            "45/45 [==============================] - 61s 1s/step - loss: 0.4995 - accuracy: 0.8240 - val_loss: 0.5880 - val_accuracy: 0.8031\n",
            "Epoch 43/100\n",
            "45/45 [==============================] - 61s 1s/step - loss: 0.5238 - accuracy: 0.8170 - val_loss: 0.5576 - val_accuracy: 0.8116\n",
            "Epoch 44/100\n",
            "45/45 [==============================] - 62s 1s/step - loss: 0.4897 - accuracy: 0.8353 - val_loss: 0.5481 - val_accuracy: 0.8144\n",
            "Epoch 45/100\n",
            "45/45 [==============================] - 60s 1s/step - loss: 0.4797 - accuracy: 0.8343 - val_loss: 0.5409 - val_accuracy: 0.8116\n",
            "Epoch 46/100\n",
            "45/45 [==============================] - 62s 1s/step - loss: 0.4960 - accuracy: 0.8262 - val_loss: 0.5281 - val_accuracy: 0.8201\n",
            "Epoch 47/100\n",
            "45/45 [==============================] - 61s 1s/step - loss: 0.4766 - accuracy: 0.8357 - val_loss: 0.5229 - val_accuracy: 0.8272\n",
            "Epoch 48/100\n",
            "45/45 [==============================] - 59s 1s/step - loss: 0.4483 - accuracy: 0.8452 - val_loss: 0.5279 - val_accuracy: 0.8314\n",
            "Epoch 49/100\n",
            "45/45 [==============================] - 59s 1s/step - loss: 0.4724 - accuracy: 0.8431 - val_loss: 0.5336 - val_accuracy: 0.8215\n",
            "Epoch 50/100\n",
            "45/45 [==============================] - 61s 1s/step - loss: 0.4307 - accuracy: 0.8590 - val_loss: 0.5289 - val_accuracy: 0.8229\n",
            "Epoch 51/100\n",
            "45/45 [==============================] - 62s 1s/step - loss: 0.4458 - accuracy: 0.8477 - val_loss: 0.5187 - val_accuracy: 0.8201\n",
            "Epoch 52/100\n",
            "45/45 [==============================] - 61s 1s/step - loss: 0.4308 - accuracy: 0.8533 - val_loss: 0.5296 - val_accuracy: 0.8314\n",
            "Epoch 53/100\n",
            "45/45 [==============================] - 60s 1s/step - loss: 0.4215 - accuracy: 0.8558 - val_loss: 0.5015 - val_accuracy: 0.8286\n",
            "Epoch 54/100\n",
            "45/45 [==============================] - 60s 1s/step - loss: 0.4135 - accuracy: 0.8572 - val_loss: 0.5109 - val_accuracy: 0.8173\n",
            "Epoch 55/100\n",
            "45/45 [==============================] - 61s 1s/step - loss: 0.4001 - accuracy: 0.8699 - val_loss: 0.5037 - val_accuracy: 0.8159\n",
            "Epoch 56/100\n",
            "45/45 [==============================] - 60s 1s/step - loss: 0.4042 - accuracy: 0.8614 - val_loss: 0.5014 - val_accuracy: 0.8244\n",
            "Epoch 57/100\n",
            "45/45 [==============================] - 60s 1s/step - loss: 0.4093 - accuracy: 0.8604 - val_loss: 0.4964 - val_accuracy: 0.8300\n",
            "Epoch 58/100\n",
            "45/45 [==============================] - 61s 1s/step - loss: 0.3906 - accuracy: 0.8650 - val_loss: 0.4868 - val_accuracy: 0.8357\n",
            "Epoch 59/100\n",
            "45/45 [==============================] - 61s 1s/step - loss: 0.4186 - accuracy: 0.8593 - val_loss: 0.4849 - val_accuracy: 0.8244\n",
            "Epoch 60/100\n",
            "45/45 [==============================] - 61s 1s/step - loss: 0.3709 - accuracy: 0.8843 - val_loss: 0.4827 - val_accuracy: 0.8300\n",
            "Epoch 61/100\n",
            "45/45 [==============================] - 61s 1s/step - loss: 0.3604 - accuracy: 0.8812 - val_loss: 0.4863 - val_accuracy: 0.8314\n",
            "Epoch 62/100\n",
            "45/45 [==============================] - 59s 1s/step - loss: 0.3551 - accuracy: 0.8787 - val_loss: 0.4933 - val_accuracy: 0.8258\n",
            "Epoch 63/100\n",
            "45/45 [==============================] - 60s 1s/step - loss: 0.3596 - accuracy: 0.8801 - val_loss: 0.4864 - val_accuracy: 0.8343\n",
            "Epoch 64/100\n",
            "45/45 [==============================] - 61s 1s/step - loss: 0.3668 - accuracy: 0.8745 - val_loss: 0.4681 - val_accuracy: 0.8456\n",
            "Epoch 65/100\n",
            "45/45 [==============================] - 61s 1s/step - loss: 0.3282 - accuracy: 0.8921 - val_loss: 0.4725 - val_accuracy: 0.8357\n",
            "Epoch 66/100\n",
            "45/45 [==============================] - 60s 1s/step - loss: 0.3324 - accuracy: 0.8889 - val_loss: 0.4630 - val_accuracy: 0.8470\n",
            "Epoch 67/100\n",
            "45/45 [==============================] - 61s 1s/step - loss: 0.3546 - accuracy: 0.8794 - val_loss: 0.4586 - val_accuracy: 0.8470\n",
            "Epoch 68/100\n",
            "45/45 [==============================] - 60s 1s/step - loss: 0.3308 - accuracy: 0.8889 - val_loss: 0.4819 - val_accuracy: 0.8300\n",
            "Epoch 69/100\n",
            "45/45 [==============================] - 61s 1s/step - loss: 0.3268 - accuracy: 0.8900 - val_loss: 0.4620 - val_accuracy: 0.8414\n",
            "Epoch 70/100\n",
            "45/45 [==============================] - 60s 1s/step - loss: 0.3199 - accuracy: 0.8970 - val_loss: 0.4482 - val_accuracy: 0.8442\n",
            "Epoch 71/100\n",
            "45/45 [==============================] - 60s 1s/step - loss: 0.3235 - accuracy: 0.8886 - val_loss: 0.4457 - val_accuracy: 0.8527\n",
            "Epoch 72/100\n",
            "45/45 [==============================] - 61s 1s/step - loss: 0.3271 - accuracy: 0.8879 - val_loss: 0.4563 - val_accuracy: 0.8541\n",
            "Epoch 73/100\n",
            "45/45 [==============================] - 59s 1s/step - loss: 0.3328 - accuracy: 0.8836 - val_loss: 0.4560 - val_accuracy: 0.8513\n",
            "Epoch 74/100\n",
            "45/45 [==============================] - 60s 1s/step - loss: 0.3188 - accuracy: 0.8886 - val_loss: 0.4509 - val_accuracy: 0.8555\n",
            "Epoch 75/100\n",
            "45/45 [==============================] - 59s 1s/step - loss: 0.3256 - accuracy: 0.8872 - val_loss: 0.4484 - val_accuracy: 0.8584\n",
            "Epoch 76/100\n",
            "45/45 [==============================] - 61s 1s/step - loss: 0.3085 - accuracy: 0.8963 - val_loss: 0.4654 - val_accuracy: 0.8484\n",
            "Epoch 77/100\n",
            "45/45 [==============================] - 61s 1s/step - loss: 0.3048 - accuracy: 0.9027 - val_loss: 0.4443 - val_accuracy: 0.8598\n",
            "Epoch 78/100\n",
            "45/45 [==============================] - 60s 1s/step - loss: 0.3117 - accuracy: 0.8960 - val_loss: 0.4377 - val_accuracy: 0.8499\n",
            "Epoch 79/100\n",
            "45/45 [==============================] - 61s 1s/step - loss: 0.2968 - accuracy: 0.8977 - val_loss: 0.4301 - val_accuracy: 0.8598\n",
            "Epoch 80/100\n",
            "45/45 [==============================] - 60s 1s/step - loss: 0.2706 - accuracy: 0.9108 - val_loss: 0.4299 - val_accuracy: 0.8640\n",
            "Epoch 81/100\n",
            "45/45 [==============================] - 59s 1s/step - loss: 0.2568 - accuracy: 0.9161 - val_loss: 0.4067 - val_accuracy: 0.8697\n",
            "Epoch 82/100\n",
            "45/45 [==============================] - 62s 1s/step - loss: 0.2785 - accuracy: 0.9083 - val_loss: 0.4138 - val_accuracy: 0.8654\n",
            "Epoch 83/100\n",
            "45/45 [==============================] - 60s 1s/step - loss: 0.2907 - accuracy: 0.8981 - val_loss: 0.4126 - val_accuracy: 0.8654\n",
            "Epoch 84/100\n",
            "45/45 [==============================] - 59s 1s/step - loss: 0.2742 - accuracy: 0.9108 - val_loss: 0.4120 - val_accuracy: 0.8697\n",
            "Epoch 85/100\n",
            "45/45 [==============================] - 59s 1s/step - loss: 0.2643 - accuracy: 0.9111 - val_loss: 0.4072 - val_accuracy: 0.8711\n",
            "Epoch 86/100\n",
            "45/45 [==============================] - 60s 1s/step - loss: 0.2838 - accuracy: 0.9097 - val_loss: 0.4088 - val_accuracy: 0.8640\n",
            "Epoch 87/100\n",
            "45/45 [==============================] - 62s 1s/step - loss: 0.2358 - accuracy: 0.9235 - val_loss: 0.4065 - val_accuracy: 0.8683\n",
            "Epoch 88/100\n",
            "45/45 [==============================] - 60s 1s/step - loss: 0.2496 - accuracy: 0.9193 - val_loss: 0.4077 - val_accuracy: 0.8711\n",
            "Epoch 89/100\n",
            "45/45 [==============================] - 60s 1s/step - loss: 0.2430 - accuracy: 0.9189 - val_loss: 0.4184 - val_accuracy: 0.8697\n",
            "Epoch 90/100\n",
            "45/45 [==============================] - 60s 1s/step - loss: 0.2576 - accuracy: 0.9224 - val_loss: 0.4271 - val_accuracy: 0.8697\n",
            "Epoch 91/100\n",
            "45/45 [==============================] - 60s 1s/step - loss: 0.2529 - accuracy: 0.9203 - val_loss: 0.4608 - val_accuracy: 0.8598\n",
            "Epoch 92/100\n",
            "45/45 [==============================] - 61s 1s/step - loss: 0.2390 - accuracy: 0.9242 - val_loss: 0.4163 - val_accuracy: 0.8683\n",
            "Epoch 93/100\n",
            "45/45 [==============================] - 60s 1s/step - loss: 0.2366 - accuracy: 0.9242 - val_loss: 0.4065 - val_accuracy: 0.8697\n",
            "Epoch 94/100\n",
            "45/45 [==============================] - 61s 1s/step - loss: 0.2341 - accuracy: 0.9231 - val_loss: 0.4257 - val_accuracy: 0.8754\n",
            "Epoch 95/100\n",
            "45/45 [==============================] - 60s 1s/step - loss: 0.2262 - accuracy: 0.9210 - val_loss: 0.4262 - val_accuracy: 0.8640\n",
            "Epoch 96/100\n",
            "45/45 [==============================] - 59s 1s/step - loss: 0.2418 - accuracy: 0.9196 - val_loss: 0.4014 - val_accuracy: 0.8640\n",
            "Epoch 97/100\n",
            "45/45 [==============================] - 60s 1s/step - loss: 0.2378 - accuracy: 0.9238 - val_loss: 0.3970 - val_accuracy: 0.8697\n",
            "Epoch 98/100\n",
            "45/45 [==============================] - 61s 1s/step - loss: 0.2171 - accuracy: 0.9295 - val_loss: 0.4056 - val_accuracy: 0.8640\n",
            "Epoch 99/100\n",
            "45/45 [==============================] - 61s 1s/step - loss: 0.2213 - accuracy: 0.9274 - val_loss: 0.4086 - val_accuracy: 0.8782\n",
            "Epoch 100/100\n",
            "45/45 [==============================] - 60s 1s/step - loss: 0.2242 - accuracy: 0.9242 - val_loss: 0.3977 - val_accuracy: 0.8626\n"
          ]
        }
      ],
      "source": [
        "# Create folders and callbacks and fit\n",
        "iv3_callbacks = create_folders_and_callbacks(model_name='CNN_TF_IV3')\n",
        "\n",
        "# Train the model\n",
        "history = model_iv3.fit(\n",
        "    x = aug_train_gen,\n",
        "    epochs = epochs,\n",
        "    validation_data = valid_gen,\n",
        "    callbacks = iv3_callbacks,\n",
        ").history"
      ]
    },
    {
      "cell_type": "code",
      "execution_count": null,
      "metadata": {
        "colab": {
          "base_uri": "https://localhost:8080/",
          "height": 655
        },
        "id": "Hwhpqd8o6J2a",
        "outputId": "736138ce-6af8-4d99-e623-41d6b93ac4b1"
      },
      "outputs": [
        {
          "data": {
            "image/png": "[encoded data removed]",
            "text/plain": [
              "<Figure size 1440x360 with 1 Axes>"
            ]
          },
          "metadata": {},
          "output_type": "display_data"
        },
        {
          "data": {
            "image/png": "[encoded data removed]",
            "text/plain": [
              "<Figure size 1440x360 with 1 Axes>"
            ]
          },
          "metadata": {},
          "output_type": "display_data"
        }
      ],
      "source": [
        "# Plot the training\n",
        "plt.figure(figsize=(20,5))\n",
        "plt.plot(history['loss'], label='Training', alpha=.8, color='#ff7f0e')\n",
        "plt.plot(history['val_loss'], label='Validation', alpha=.8, color='#4D61E2')\n",
        "plt.legend(loc='upper left')\n",
        "plt.title('Categorical Crossentropy')\n",
        "plt.grid(alpha=.3)\n",
        "\n",
        "plt.figure(figsize=(20,5))\n",
        "plt.plot(history['accuracy'], label='Training', alpha=.8, color='#ff7f0e')\n",
        "plt.plot(history['val_accuracy'], label='Validation', alpha=.8, color='#4D61E2')\n",
        "plt.legend(loc='upper left')\n",
        "plt.title('Accuracy')\n",
        "plt.grid(alpha=.3)\n",
        "\n",
        "plt.show()"
      ]
    },
    {
      "cell_type": "code",
      "execution_count": null,
      "metadata": {
        "colab": {
          "base_uri": "https://localhost:8080/"
        },
        "id": "v2WceJnW6hpp",
        "outputId": "77ebb276-3b1c-4b2d-cae4-72c1949af86a"
      },
      "outputs": [
        {
          "name": "stderr",
          "output_type": "stream",
          "text": [
            "WARNING:absl:Found untraced functions such as _jit_compiled_convolution_op, _jit_compiled_convolution_op, _jit_compiled_convolution_op, _jit_compiled_convolution_op, _jit_compiled_convolution_op while saving (showing 5 of 94). These functions will not be directly callable after loading.\n"
          ]
        }
      ],
      "source": [
        "# Save best epoch model\n",
        "model_iv3.save(\"data_augmentation_experiments/CNN_TL_IV3_BS64\")"
      ]
    },
    {
      "cell_type": "markdown",
      "source": [
        "# Transfer Learning - EfficientNetB2"
      ],
      "metadata": {
        "id": "g9nMM20-eyHt"
      }
    },
    {
      "cell_type": "code",
      "execution_count": null,
      "metadata": {
        "colab": {
          "base_uri": "https://localhost:8080/"
        },
        "id": "wlgN83PyWG-_",
        "outputId": "d67c527b-0c3d-4916-c452-941b6230393b"
      },
      "outputs": [
        {
          "name": "stdout",
          "output_type": "stream",
          "text": [
            "Model: \"sequential\"\n",
            "_________________________________________________________________\n",
            " Layer (type)                Output Shape              Param #   \n",
            "=================================================================\n",
            " efficientnetb2 (Functional)  (None, 8, 8, 1408)       7768569   \n",
            "                                                                 \n",
            " flatten (Flatten)           (None, 90112)             0         \n",
            "                                                                 \n",
            " dense (Dense)               (None, 64)                5767232   \n",
            "                                                                 \n",
            " dense_1 (Dense)             (None, 32)                2080      \n",
            "                                                                 \n",
            " dense_2 (Dense)             (None, 8)                 264       \n",
            "                                                                 \n",
            "=================================================================\n",
            "Total params: 13,538,145\n",
            "Trainable params: 13,470,570\n",
            "Non-trainable params: 67,575\n",
            "_________________________________________________________________\n"
          ]
        }
      ],
      "source": [
        "effb2 = tf.keras.applications.EfficientNetB2(weights='imagenet', include_top=False, input_shape=input_shape)\n",
        "\n",
        "model_effb2 = tf.keras.Sequential()\n",
        "model_effb2.add(effb2)\n",
        "model_effb2.add(tf.keras.layers.Flatten())\n",
        "model_effb2.add(tf.keras.layers.Dense(units=64, activation='relu', kernel_regularizer=tf.keras.regularizers.l2(0.0001)))\n",
        "model_effb2.add(tf.keras.layers.Dense(units=32, activation='relu', kernel_regularizer=tf.keras.regularizers.l2(0.0001)))\n",
        "model_effb2.add(tf.keras.layers.Dense(units=8, activation='softmax'))\n",
        "\n",
        "model_effb2.summary()"
      ]
    },
    {
      "cell_type": "code",
      "execution_count": null,
      "metadata": {
        "id": "n7Htp1hbWA6G"
      },
      "outputs": [],
      "source": [
        "loss = tf.keras.losses.CategoricalCrossentropy()\n",
        "lr = 1e-4\n",
        "optimizer = tf.keras.optimizers.Adam(learning_rate=lr)\n",
        "metrics = ['accuracy']\n",
        "model_effb2.compile(optimizer=optimizer, loss=loss, metrics=metrics)"
      ]
    },
    {
      "cell_type": "code",
      "execution_count": null,
      "metadata": {
        "colab": {
          "background_save": true,
          "base_uri": "https://localhost:8080/"
        },
        "id": "XNSmszF3XXaz",
        "outputId": "4445d2f7-e828-4756-ddd2-f31b50467634"
      },
      "outputs": [
        {
          "name": "stdout",
          "output_type": "stream",
          "text": [
            "Epoch 1/200\n",
            "45/45 [==============================] - 1755s 38s/step - loss: 1.7383 - accuracy: 0.3593 - val_loss: 3.5949 - val_accuracy: 0.1459\n",
            "Epoch 2/200\n",
            "45/45 [==============================] - 1690s 38s/step - loss: 1.2997 - accuracy: 0.5444 - val_loss: 4.9069 - val_accuracy: 0.1459\n",
            "Epoch 3/200\n",
            " 3/45 [=>............................] - ETA: 24:51 - loss: 1.1004 - accuracy: 0.6094"
          ]
        }
      ],
      "source": [
        "# Create folders and callbacks and fit\n",
        "effb2_callbacks = create_folders_and_callbacks(model_name='CNN_TF_EFFB2')\n",
        "\n",
        "# Train the model\n",
        "history = model_effb2.fit(\n",
        "    x = aug_train_gen,\n",
        "    epochs = epochs,\n",
        "    validation_data = valid_gen,\n",
        "    callbacks = effb2_callbacks,\n",
        ").history"
      ]
    },
    {
      "cell_type": "markdown",
      "source": [
        "# Transfer Learning - InceptionV3\n",
        "SGD Optimizer"
      ],
      "metadata": {
        "id": "SbNp44ezgBZ-"
      }
    },
    {
      "cell_type": "code",
      "execution_count": null,
      "metadata": {
        "colab": {
          "base_uri": "https://localhost:8080/"
        },
        "id": "NO5QIzK63xBX",
        "outputId": "1227a555-3cbc-4ff7-c477-980c0d551212"
      },
      "outputs": [
        {
          "name": "stdout",
          "output_type": "stream",
          "text": [
            "Model: \"tl_model\"\n",
            "_________________________________________________________________\n",
            " Layer (type)                Output Shape              Param #   \n",
            "=================================================================\n",
            " input_4 (InputLayer)        [(None, 256, 256, 3)]     0         \n",
            "                                                                 \n",
            " inception_v3 (Functional)   (None, 6, 6, 2048)        21802784  \n",
            "                                                                 \n",
            " Flattening (Flatten)        (None, 73728)             0         \n",
            "                                                                 \n",
            " dropout_1 (Dropout)         (None, 73728)             0         \n",
            "                                                                 \n",
            " dense_1 (Dense)             (None, 8)                 589832    \n",
            "                                                                 \n",
            "=================================================================\n",
            "Total params: 22,392,616\n",
            "Trainable params: 22,358,184\n",
            "Non-trainable params: 34,432\n",
            "_________________________________________________________________\n"
          ]
        }
      ],
      "source": [
        "## InceptionV3\n",
        "iv3 = tf.keras.applications.InceptionV3(weights='imagenet', include_top=False, input_shape=input_shape)\n",
        "inputs = tfk.Input(shape=input_shape)\n",
        "x = iv3(inputs)\n",
        "x = tfkl.Flatten(name='Flattening')(x)\n",
        "x = tfkl.Dropout(0.3, seed=seed)(x)  \n",
        "output_layer = tfkl.Dense(\n",
        "    8, \n",
        "    activation='softmax',\n",
        "    kernel_initializer = tfk.initializers.GlorotUniform(seed))(x)\n",
        "\n",
        "\n",
        "tl_model = tfk.Model(inputs=inputs, outputs=output_layer, name='tl_model')\n",
        "\n",
        "# Compile the model\n",
        "tl_model.compile(loss=tfk.losses.CategoricalCrossentropy(), optimizer=tfk.optimizers.SGD(), metrics=['accuracy'])\n",
        "\n",
        "\n",
        "tl_model.summary()\n"
      ]
    },
    {
      "cell_type": "code",
      "execution_count": null,
      "metadata": {
        "colab": {
          "base_uri": "https://localhost:8080/"
        },
        "id": "AB2E-CSK5g75",
        "outputId": "21dc33d5-4314-4780-ce25-76e43917fc6f"
      },
      "outputs": [
        {
          "name": "stdout",
          "output_type": "stream",
          "text": [
            "Epoch 1/200\n",
            "45/45 [==============================] - 64s 1s/step - loss: 2.5292 - accuracy: 0.2013 - val_loss: 1.9758 - val_accuracy: 0.2507\n",
            "Epoch 2/200\n",
            "45/45 [==============================] - 58s 1s/step - loss: 1.8134 - accuracy: 0.3575 - val_loss: 1.8527 - val_accuracy: 0.2960\n",
            "Epoch 3/200\n",
            "45/45 [==============================] - 57s 1s/step - loss: 1.4499 - accuracy: 0.5035 - val_loss: 1.3509 - val_accuracy: 0.5127\n",
            "Epoch 4/200\n",
            "45/45 [==============================] - 57s 1s/step - loss: 1.1949 - accuracy: 0.5945 - val_loss: 1.3322 - val_accuracy: 0.5722\n",
            "Epoch 5/200\n",
            "45/45 [==============================] - 59s 1s/step - loss: 1.0664 - accuracy: 0.6361 - val_loss: 0.9730 - val_accuracy: 0.6586\n",
            "Epoch 6/200\n",
            "45/45 [==============================] - 60s 1s/step - loss: 0.8907 - accuracy: 0.7035 - val_loss: 0.8946 - val_accuracy: 0.6898\n",
            "Epoch 7/200\n",
            "45/45 [==============================] - 59s 1s/step - loss: 0.7978 - accuracy: 0.7253 - val_loss: 0.6761 - val_accuracy: 0.7790\n",
            "Epoch 8/200\n",
            "45/45 [==============================] - 59s 1s/step - loss: 0.7026 - accuracy: 0.7507 - val_loss: 0.6680 - val_accuracy: 0.7691\n",
            "Epoch 9/200\n",
            "45/45 [==============================] - 59s 1s/step - loss: 0.6640 - accuracy: 0.7712 - val_loss: 0.5693 - val_accuracy: 0.8116\n",
            "Epoch 10/200\n",
            "45/45 [==============================] - 58s 1s/step - loss: 0.5512 - accuracy: 0.8135 - val_loss: 0.5526 - val_accuracy: 0.8244\n",
            "Epoch 11/200\n",
            "45/45 [==============================] - 59s 1s/step - loss: 0.5520 - accuracy: 0.8071 - val_loss: 0.5735 - val_accuracy: 0.8003\n",
            "Epoch 12/200\n",
            "45/45 [==============================] - 59s 1s/step - loss: 0.5142 - accuracy: 0.8209 - val_loss: 0.5981 - val_accuracy: 0.8187\n",
            "Epoch 13/200\n",
            "45/45 [==============================] - 59s 1s/step - loss: 0.5198 - accuracy: 0.8205 - val_loss: 0.5244 - val_accuracy: 0.8385\n",
            "Epoch 14/200\n",
            "45/45 [==============================] - 60s 1s/step - loss: 0.4510 - accuracy: 0.8484 - val_loss: 0.5913 - val_accuracy: 0.8187\n",
            "Epoch 15/200\n",
            "45/45 [==============================] - 61s 1s/step - loss: 0.4522 - accuracy: 0.8357 - val_loss: 0.5409 - val_accuracy: 0.8286\n",
            "Epoch 16/200\n",
            "45/45 [==============================] - 61s 1s/step - loss: 0.4227 - accuracy: 0.8516 - val_loss: 0.4512 - val_accuracy: 0.8513\n",
            "Epoch 17/200\n",
            "45/45 [==============================] - 61s 1s/step - loss: 0.4103 - accuracy: 0.8533 - val_loss: 0.5908 - val_accuracy: 0.8244\n",
            "Epoch 18/200\n",
            "45/45 [==============================] - 61s 1s/step - loss: 0.3755 - accuracy: 0.8653 - val_loss: 0.4915 - val_accuracy: 0.8442\n",
            "Epoch 19/200\n",
            "45/45 [==============================] - 61s 1s/step - loss: 0.3645 - accuracy: 0.8688 - val_loss: 0.4974 - val_accuracy: 0.8414\n",
            "Epoch 20/200\n",
            "45/45 [==============================] - 62s 1s/step - loss: 0.3483 - accuracy: 0.8801 - val_loss: 0.5045 - val_accuracy: 0.8414\n",
            "Epoch 21/200\n",
            "45/45 [==============================] - 61s 1s/step - loss: 0.3126 - accuracy: 0.8956 - val_loss: 0.4851 - val_accuracy: 0.8612\n",
            "Epoch 22/200\n",
            "45/45 [==============================] - 61s 1s/step - loss: 0.3318 - accuracy: 0.8910 - val_loss: 0.3930 - val_accuracy: 0.8697\n",
            "Epoch 23/200\n",
            "45/45 [==============================] - 60s 1s/step - loss: 0.2997 - accuracy: 0.9009 - val_loss: 0.4162 - val_accuracy: 0.8754\n",
            "Epoch 24/200\n",
            "45/45 [==============================] - 61s 1s/step - loss: 0.2981 - accuracy: 0.8939 - val_loss: 0.5218 - val_accuracy: 0.8612\n",
            "Epoch 25/200\n",
            "45/45 [==============================] - 62s 1s/step - loss: 0.2938 - accuracy: 0.8903 - val_loss: 0.4219 - val_accuracy: 0.8739\n",
            "Epoch 26/200\n",
            "45/45 [==============================] - 62s 1s/step - loss: 0.2824 - accuracy: 0.9034 - val_loss: 0.3897 - val_accuracy: 0.8824\n",
            "Epoch 27/200\n",
            "45/45 [==============================] - 62s 1s/step - loss: 0.2495 - accuracy: 0.9129 - val_loss: 0.3521 - val_accuracy: 0.8867\n",
            "Epoch 28/200\n",
            "45/45 [==============================] - 61s 1s/step - loss: 0.2677 - accuracy: 0.9048 - val_loss: 0.3473 - val_accuracy: 0.8810\n",
            "Epoch 29/200\n",
            "45/45 [==============================] - 60s 1s/step - loss: 0.2469 - accuracy: 0.9066 - val_loss: 0.3518 - val_accuracy: 0.8853\n",
            "Epoch 30/200\n",
            "45/45 [==============================] - 60s 1s/step - loss: 0.2323 - accuracy: 0.9147 - val_loss: 0.4632 - val_accuracy: 0.8612\n",
            "Epoch 31/200\n",
            "45/45 [==============================] - 59s 1s/step - loss: 0.2415 - accuracy: 0.9108 - val_loss: 0.4032 - val_accuracy: 0.8867\n",
            "Epoch 32/200\n",
            "45/45 [==============================] - 61s 1s/step - loss: 0.2364 - accuracy: 0.9175 - val_loss: 0.3916 - val_accuracy: 0.8867\n",
            "Epoch 33/200\n",
            "45/45 [==============================] - 61s 1s/step - loss: 0.2072 - accuracy: 0.9302 - val_loss: 0.3795 - val_accuracy: 0.8966\n",
            "Epoch 34/200\n",
            "45/45 [==============================] - 60s 1s/step - loss: 0.2186 - accuracy: 0.9238 - val_loss: 0.3468 - val_accuracy: 0.9008\n",
            "Epoch 35/200\n",
            "45/45 [==============================] - 59s 1s/step - loss: 0.2121 - accuracy: 0.9252 - val_loss: 0.3561 - val_accuracy: 0.8952\n",
            "Epoch 36/200\n",
            "45/45 [==============================] - 59s 1s/step - loss: 0.2055 - accuracy: 0.9231 - val_loss: 0.4483 - val_accuracy: 0.8640\n",
            "Epoch 37/200\n",
            "45/45 [==============================] - 60s 1s/step - loss: 0.1880 - accuracy: 0.9337 - val_loss: 0.5053 - val_accuracy: 0.8626\n",
            "Epoch 38/200\n",
            "45/45 [==============================] - 62s 1s/step - loss: 0.1863 - accuracy: 0.9316 - val_loss: 0.3440 - val_accuracy: 0.8924\n",
            "Epoch 39/200\n",
            "45/45 [==============================] - 60s 1s/step - loss: 0.1776 - accuracy: 0.9376 - val_loss: 0.3549 - val_accuracy: 0.8924\n",
            "Epoch 40/200\n",
            "45/45 [==============================] - 59s 1s/step - loss: 0.1669 - accuracy: 0.9408 - val_loss: 0.4646 - val_accuracy: 0.8584\n",
            "Epoch 41/200\n",
            "45/45 [==============================] - 59s 1s/step - loss: 0.1820 - accuracy: 0.9394 - val_loss: 0.3757 - val_accuracy: 0.8867\n",
            "Epoch 42/200\n",
            "45/45 [==============================] - 59s 1s/step - loss: 0.1632 - accuracy: 0.9425 - val_loss: 0.4447 - val_accuracy: 0.8881\n",
            "Epoch 43/200\n",
            "45/45 [==============================] - 58s 1s/step - loss: 0.1435 - accuracy: 0.9499 - val_loss: 0.3391 - val_accuracy: 0.8980\n",
            "Epoch 44/200\n",
            "45/45 [==============================] - 57s 1s/step - loss: 0.1649 - accuracy: 0.9394 - val_loss: 0.4265 - val_accuracy: 0.8711\n",
            "Epoch 45/200\n",
            "45/45 [==============================] - 56s 1s/step - loss: 0.1474 - accuracy: 0.9496 - val_loss: 0.4756 - val_accuracy: 0.8626\n",
            "Epoch 46/200\n",
            "45/45 [==============================] - 57s 1s/step - loss: 0.1285 - accuracy: 0.9538 - val_loss: 0.5122 - val_accuracy: 0.8470\n",
            "Epoch 47/200\n",
            "45/45 [==============================] - 58s 1s/step - loss: 0.1397 - accuracy: 0.9528 - val_loss: 0.4335 - val_accuracy: 0.8895\n",
            "Epoch 48/200\n",
            "45/45 [==============================] - 57s 1s/step - loss: 0.1346 - accuracy: 0.9524 - val_loss: 0.3847 - val_accuracy: 0.8966\n",
            "Epoch 49/200\n",
            "45/45 [==============================] - 57s 1s/step - loss: 0.1326 - accuracy: 0.9535 - val_loss: 0.3646 - val_accuracy: 0.9051\n",
            "Epoch 50/200\n",
            "45/45 [==============================] - 57s 1s/step - loss: 0.1232 - accuracy: 0.9570 - val_loss: 0.4257 - val_accuracy: 0.8867\n",
            "Epoch 51/200\n",
            "45/45 [==============================] - 57s 1s/step - loss: 0.1493 - accuracy: 0.9482 - val_loss: 0.4152 - val_accuracy: 0.8909\n",
            "Epoch 52/200\n",
            "45/45 [==============================] - 57s 1s/step - loss: 0.1503 - accuracy: 0.9506 - val_loss: 0.4516 - val_accuracy: 0.8654\n",
            "Epoch 53/200\n",
            "45/45 [==============================] - 60s 1s/step - loss: 0.1400 - accuracy: 0.9496 - val_loss: 0.4423 - val_accuracy: 0.8796\n"
          ]
        }
      ],
      "source": [
        "# Create folders and callbacks and fit\n",
        "iv3_tl_callbacks = create_folders_and_callbacks(model_name='CNN_TL_EX_IV3_BS64_SGD')\n",
        "\n",
        "# Train the model\n",
        "iv3_tl_history = tl_model.fit(\n",
        "    x = aug_train_gen,\n",
        "    epochs = epochs,\n",
        "    validation_data = valid_gen,\n",
        "    callbacks = iv3_tl_callbacks,\n",
        ").history"
      ]
    },
    {
      "cell_type": "code",
      "execution_count": null,
      "metadata": {
        "colab": {
          "base_uri": "https://localhost:8080/",
          "height": 615
        },
        "id": "iqhEXZb1zy6n",
        "outputId": "c70b7489-9eac-4d71-fe94-f2556672d6bb"
      },
      "outputs": [
        {
          "data": {
            "image/png": "[encoded data removed]",
            "text/plain": [
              "<Figure size 1440x360 with 1 Axes>"
            ]
          },
          "metadata": {},
          "output_type": "display_data"
        },
        {
          "data": {
            "image/png": "[encoded data removed]",
            "text/plain": [
              "<Figure size 1440x360 with 1 Axes>"
            ]
          },
          "metadata": {},
          "output_type": "display_data"
        }
      ],
      "source": [
        "# Plot the training\n",
        "plt.figure(figsize=(20,5))\n",
        "plt.plot(iv3_tl_history['loss'], label='Training', alpha=.8, color='#ff7f0e')\n",
        "plt.plot(iv3_tl_history['val_loss'], label='Validation', alpha=.8, color='#4D61E2')\n",
        "plt.legend(loc='upper left')\n",
        "plt.title('Categorical Crossentropy')\n",
        "plt.grid(alpha=.3)\n",
        "\n",
        "plt.figure(figsize=(20,5))\n",
        "plt.plot(iv3_tl_history['accuracy'], label='Training', alpha=.8, color='#ff7f0e')\n",
        "plt.plot(iv3_tl_history['val_accuracy'], label='Validation', alpha=.8, color='#4D61E2')\n",
        "plt.legend(loc='upper left')\n",
        "plt.title('Accuracy')\n",
        "plt.grid(alpha=.3)\n",
        "\n",
        "plt.show()"
      ]
    },
    {
      "cell_type": "markdown",
      "source": [
        "# Transfer Learning - InceptionResNetV2"
      ],
      "metadata": {
        "id": "CsT45X8jgQbp"
      }
    },
    {
      "cell_type": "code",
      "execution_count": null,
      "metadata": {
        "colab": {
          "base_uri": "https://localhost:8080/"
        },
        "id": "U3ISlYAu0Bxi",
        "outputId": "ef6fe5ef-c8c9-4c0c-ccd1-b5d9608ebf06"
      },
      "outputs": [
        {
          "name": "stdout",
          "output_type": "stream",
          "text": [
            "Downloading data from https://storage.googleapis.com/tensorflow/keras-applications/inception_resnet_v2/inception_resnet_v2_weights_tf_dim_ordering_tf_kernels_notop.h5\n",
            "219055592/219055592 [==============================] - 1s 0us/step\n",
            "Model: \"irv2_model\"\n",
            "_________________________________________________________________\n",
            " Layer (type)                Output Shape              Param #   \n",
            "=================================================================\n",
            " input_2 (InputLayer)        [(None, 256, 256, 3)]     0         \n",
            "                                                                 \n",
            " inception_resnet_v2 (Functi  (None, 6, 6, 1536)       54336736  \n",
            " onal)                                                           \n",
            "                                                                 \n",
            " Flattening (Flatten)        (None, 55296)             0         \n",
            "                                                                 \n",
            " dropout (Dropout)           (None, 55296)             0         \n",
            "                                                                 \n",
            " dense (Dense)               (None, 8)                 442376    \n",
            "                                                                 \n",
            "=================================================================\n",
            "Total params: 54,779,112\n",
            "Trainable params: 54,718,568\n",
            "Non-trainable params: 60,544\n",
            "_________________________________________________________________\n"
          ]
        }
      ],
      "source": [
        "## InceptionResNet\n",
        "irv2 = tf.keras.applications.InceptionResNetV2(weights='imagenet', include_top=False, input_shape=input_shape)\n",
        "inputs = tfk.Input(shape=input_shape)\n",
        "x = irv2(inputs)\n",
        "x = tfkl.Flatten(name='Flattening')(x)\n",
        "x = tfkl.Dropout(0.4, seed=seed)(x)  \n",
        "output_layer = tfkl.Dense(\n",
        "    8, \n",
        "    activation='softmax',\n",
        "    kernel_initializer = tfk.initializers.GlorotUniform(seed),\n",
        "    kernel_regularizer=tf.keras.regularizers.l2(0.0001))(x)\n",
        "\n",
        "\n",
        "irv2_model = tfk.Model(inputs=inputs, outputs=output_layer, name='irv2_model')\n",
        "\n",
        "# Compile the model\n",
        "irv2_model.compile(loss=tfk.losses.CategoricalCrossentropy(), optimizer=tfk.optimizers.SGD(momentum=0.7), metrics=['accuracy'])\n",
        "\n",
        "\n",
        "irv2_model.summary()\n"
      ]
    },
    {
      "cell_type": "code",
      "execution_count": null,
      "metadata": {
        "colab": {
          "base_uri": "https://localhost:8080/"
        },
        "id": "o8l_WV0nK7Gv",
        "outputId": "6cb68d81-bf6d-493a-8cb7-fc26bee7282a"
      },
      "outputs": [
        {
          "name": "stdout",
          "output_type": "stream",
          "text": [
            "Epoch 1/200\n",
            "45/45 [==============================] - 529s 11s/step - loss: 2.8228 - accuracy: 0.3265 - val_loss: 4.2277 - val_accuracy: 0.1487\n",
            "Epoch 2/200\n",
            "45/45 [==============================] - 81s 2s/step - loss: 1.2935 - accuracy: 0.5843 - val_loss: 1.8271 - val_accuracy: 0.3173\n",
            "Epoch 3/200\n",
            "45/45 [==============================] - 81s 2s/step - loss: 0.9946 - accuracy: 0.6597 - val_loss: 1.4666 - val_accuracy: 0.5028\n",
            "Epoch 4/200\n",
            "45/45 [==============================] - 83s 2s/step - loss: 0.8499 - accuracy: 0.7186 - val_loss: 1.2760 - val_accuracy: 0.6020\n",
            "Epoch 5/200\n",
            "45/45 [==============================] - 80s 2s/step - loss: 0.7481 - accuracy: 0.7429 - val_loss: 1.2887 - val_accuracy: 0.6261\n",
            "Epoch 6/200\n",
            "45/45 [==============================] - 82s 2s/step - loss: 0.6735 - accuracy: 0.7701 - val_loss: 1.6680 - val_accuracy: 0.6601\n",
            "Epoch 7/200\n",
            "45/45 [==============================] - 81s 2s/step - loss: 0.6402 - accuracy: 0.7916 - val_loss: 1.0593 - val_accuracy: 0.7479\n",
            "Epoch 8/200\n",
            "45/45 [==============================] - 81s 2s/step - loss: 0.6016 - accuracy: 0.8025 - val_loss: 0.8724 - val_accuracy: 0.7606\n",
            "Epoch 9/200\n",
            "45/45 [==============================] - 81s 2s/step - loss: 0.5704 - accuracy: 0.8061 - val_loss: 0.5042 - val_accuracy: 0.8385\n",
            "Epoch 10/200\n",
            "45/45 [==============================] - 83s 2s/step - loss: 0.4810 - accuracy: 0.8438 - val_loss: 0.7076 - val_accuracy: 0.7776\n",
            "Epoch 11/200\n",
            "45/45 [==============================] - 81s 2s/step - loss: 0.4639 - accuracy: 0.8424 - val_loss: 0.5665 - val_accuracy: 0.8017\n",
            "Epoch 12/200\n",
            "45/45 [==============================] - 81s 2s/step - loss: 0.4175 - accuracy: 0.8512 - val_loss: 0.5474 - val_accuracy: 0.8229\n",
            "Epoch 13/200\n",
            "45/45 [==============================] - 82s 2s/step - loss: 0.4060 - accuracy: 0.8533 - val_loss: 0.4808 - val_accuracy: 0.8456\n",
            "Epoch 14/200\n",
            "45/45 [==============================] - 81s 2s/step - loss: 0.3766 - accuracy: 0.8632 - val_loss: 0.4734 - val_accuracy: 0.8456\n",
            "Epoch 15/200\n",
            "45/45 [==============================] - 82s 2s/step - loss: 0.3752 - accuracy: 0.8646 - val_loss: 0.6532 - val_accuracy: 0.8484\n",
            "Epoch 16/200\n",
            "45/45 [==============================] - 82s 2s/step - loss: 0.3507 - accuracy: 0.8783 - val_loss: 0.5803 - val_accuracy: 0.8244\n",
            "Epoch 17/200\n",
            "45/45 [==============================] - 80s 2s/step - loss: 0.3218 - accuracy: 0.8847 - val_loss: 0.4490 - val_accuracy: 0.8541\n",
            "Epoch 18/200\n",
            "45/45 [==============================] - 81s 2s/step - loss: 0.2817 - accuracy: 0.9009 - val_loss: 0.5002 - val_accuracy: 0.8555\n",
            "Epoch 19/200\n",
            "45/45 [==============================] - 81s 2s/step - loss: 0.3053 - accuracy: 0.8893 - val_loss: 0.4051 - val_accuracy: 0.8768\n",
            "Epoch 20/200\n",
            "45/45 [==============================] - 82s 2s/step - loss: 0.2699 - accuracy: 0.9062 - val_loss: 0.5232 - val_accuracy: 0.8258\n",
            "Epoch 21/200\n",
            "45/45 [==============================] - 81s 2s/step - loss: 0.2668 - accuracy: 0.9051 - val_loss: 0.4736 - val_accuracy: 0.8640\n",
            "Epoch 22/200\n",
            "45/45 [==============================] - 82s 2s/step - loss: 0.2570 - accuracy: 0.9059 - val_loss: 0.4085 - val_accuracy: 0.8796\n",
            "Epoch 23/200\n",
            "45/45 [==============================] - 80s 2s/step - loss: 0.2458 - accuracy: 0.9196 - val_loss: 0.5170 - val_accuracy: 0.8258\n",
            "Epoch 24/200\n",
            "45/45 [==============================] - 81s 2s/step - loss: 0.2192 - accuracy: 0.9238 - val_loss: 0.4593 - val_accuracy: 0.8569\n",
            "Epoch 25/200\n",
            "45/45 [==============================] - 81s 2s/step - loss: 0.1902 - accuracy: 0.9319 - val_loss: 0.3557 - val_accuracy: 0.8796\n",
            "Epoch 26/200\n",
            "45/45 [==============================] - 81s 2s/step - loss: 0.2164 - accuracy: 0.9235 - val_loss: 0.4847 - val_accuracy: 0.8555\n",
            "Epoch 27/200\n",
            "45/45 [==============================] - 82s 2s/step - loss: 0.2064 - accuracy: 0.9291 - val_loss: 0.4085 - val_accuracy: 0.8711\n",
            "Epoch 28/200\n",
            "45/45 [==============================] - 81s 2s/step - loss: 0.1895 - accuracy: 0.9316 - val_loss: 0.5363 - val_accuracy: 0.8428\n",
            "Epoch 29/200\n",
            "45/45 [==============================] - 81s 2s/step - loss: 0.1895 - accuracy: 0.9337 - val_loss: 0.3915 - val_accuracy: 0.8824\n",
            "Epoch 30/200\n",
            "45/45 [==============================] - 81s 2s/step - loss: 0.1823 - accuracy: 0.9446 - val_loss: 0.4308 - val_accuracy: 0.8527\n",
            "Epoch 31/200\n",
            "45/45 [==============================] - 81s 2s/step - loss: 0.1783 - accuracy: 0.9383 - val_loss: 0.3577 - val_accuracy: 0.8952\n",
            "Epoch 32/200\n",
            "45/45 [==============================] - 81s 2s/step - loss: 0.1354 - accuracy: 0.9559 - val_loss: 0.3994 - val_accuracy: 0.8824\n",
            "Epoch 33/200\n",
            "45/45 [==============================] - 81s 2s/step - loss: 0.1290 - accuracy: 0.9496 - val_loss: 0.4358 - val_accuracy: 0.8839\n",
            "Epoch 34/200\n",
            "45/45 [==============================] - 82s 2s/step - loss: 0.1791 - accuracy: 0.9418 - val_loss: 0.4749 - val_accuracy: 0.8782\n",
            "Epoch 35/200\n",
            "45/45 [==============================] - 81s 2s/step - loss: 0.1479 - accuracy: 0.9535 - val_loss: 0.6071 - val_accuracy: 0.8371\n"
          ]
        }
      ],
      "source": [
        "# Create folders and callbacks and fit\n",
        "irv2_tl_callbacks = create_folders_and_callbacks(model_name='CNN_TL_IRV2_BS16_SGD')\n",
        "\n",
        "# Train the model\n",
        "irv2_tl_history = irv2_model.fit(\n",
        "    x = aug_train_gen,\n",
        "    epochs = epochs,\n",
        "    validation_data = valid_gen,\n",
        "    callbacks = irv2_tl_callbacks,\n",
        ").history"
      ]
    },
    {
      "cell_type": "code",
      "execution_count": null,
      "metadata": {
        "colab": {
          "base_uri": "https://localhost:8080/"
        },
        "id": "y2V8cIu-QKa5",
        "outputId": "e3f402c6-b1c2-4571-c97a-7620d5d820b4"
      },
      "outputs": [
        {
          "name": "stderr",
          "output_type": "stream",
          "text": [
            "WARNING:absl:Found untraced functions such as _jit_compiled_convolution_op, _jit_compiled_convolution_op, _jit_compiled_convolution_op, _jit_compiled_convolution_op, _jit_compiled_convolution_op while saving (showing 5 of 244). These functions will not be directly callable after loading.\n"
          ]
        }
      ],
      "source": [
        "# Save best epoch model\n",
        "irv2_model.save(\"data_augmentation_experiments/CNN_TL_IRV2_BS16_SGD\")"
      ]
    },
    {
      "cell_type": "code",
      "execution_count": null,
      "metadata": {
        "colab": {
          "base_uri": "https://localhost:8080/",
          "height": 655
        },
        "id": "7BW0wj7jW4Jt",
        "outputId": "8dd0d289-369a-43ce-d330-cafade3480c3"
      },
      "outputs": [
        {
          "data": {
            "image/png": "[encoded data removed]",
            "text/plain": [
              "<Figure size 1440x360 with 1 Axes>"
            ]
          },
          "metadata": {},
          "output_type": "display_data"
        },
        {
          "data": {
            "image/png": "[encoded data removed]",
            "text/plain": [
              "<Figure size 1440x360 with 1 Axes>"
            ]
          },
          "metadata": {},
          "output_type": "display_data"
        }
      ],
      "source": [
        "# Plot the training\n",
        "plt.figure(figsize=(20,5))\n",
        "plt.plot(irv2_tl_history['loss'], label='Training', alpha=.8, color='#ff7f0e')\n",
        "plt.plot(irv2_tl_history['val_loss'], label='Validation', alpha=.8, color='#4D61E2')\n",
        "plt.legend(loc='upper left')\n",
        "plt.title('Categorical Crossentropy')\n",
        "plt.grid(alpha=.3)\n",
        "\n",
        "plt.figure(figsize=(20,5))\n",
        "plt.plot(irv2_tl_history['accuracy'], label='Training', alpha=.8, color='#ff7f0e')\n",
        "plt.plot(irv2_tl_history['val_accuracy'], label='Validation', alpha=.8, color='#4D61E2')\n",
        "plt.legend(loc='upper left')\n",
        "plt.title('Accuracy')\n",
        "plt.grid(alpha=.3)\n",
        "\n",
        "plt.show()"
      ]
    },
    {
      "cell_type": "markdown",
      "source": [
        "# Generating class weights\n",
        "To handle imbalanced classes"
      ],
      "metadata": {
        "id": "4iGw0QJ-gdtc"
      }
    },
    {
      "cell_type": "code",
      "execution_count": 16,
      "metadata": {
        "colab": {
          "base_uri": "https://localhost:8080/",
          "height": 314
        },
        "id": "VEDsxPo-IceM",
        "outputId": "d733544b-5f42-43ba-e3ab-99e317748205"
      },
      "outputs": [
        {
          "output_type": "stream",
          "name": "stdout",
          "text": [
            "dict_items([(0, 149), (1, 426), (2, 412), (3, 409), (4, 425), (5, 178), (6, 430), (7, 407)])\n"
          ]
        },
        {
          "output_type": "execute_result",
          "data": {
            "text/plain": [
              "Text(0, 0.5, 'Number of Images')"
            ]
          },
          "metadata": {},
          "execution_count": 16
        },
        {
          "output_type": "display_data",
          "data": {
            "text/plain": [
              "<Figure size 432x288 with 1 Axes>"
            ],
            "image/png": "[encoded data removed]"
          },
          "metadata": {
            "needs_background": "light"
          }
        }
      ],
      "source": [
        "from collections import Counter\n",
        "\n",
        "counter = Counter(aug_train_gen.classes)\n",
        "\n",
        "print(counter.items())\n",
        "\n",
        "plt.bar(list(counter.keys()),list(counter.values()))\n",
        "plt.xlabel(\"Species\")\n",
        "plt.ylabel(\"Number of Images\")"
      ]
    },
    {
      "cell_type": "code",
      "execution_count": 11,
      "metadata": {
        "colab": {
          "base_uri": "https://localhost:8080/"
        },
        "id": "2_dfbJkiIfv2",
        "outputId": "36c7d735-5597-465a-9386-caea17ce5a53"
      },
      "outputs": [
        {
          "output_type": "execute_result",
          "data": {
            "text/plain": [
              "{0: 2.379194630872483,\n",
              " 1: 0.8321596244131455,\n",
              " 2: 0.8604368932038835,\n",
              " 3: 0.8667481662591687,\n",
              " 4: 0.8341176470588235,\n",
              " 5: 1.9915730337078652,\n",
              " 6: 0.8244186046511628,\n",
              " 7: 0.871007371007371}"
            ]
          },
          "metadata": {},
          "execution_count": 11
        }
      ],
      "source": [
        "from sklearn.utils import class_weight \n",
        "class_weights = class_weight.compute_class_weight(\n",
        "           class_weight='balanced',\n",
        "            classes=np.unique(aug_train_gen.classes), \n",
        "            y=aug_train_gen.classes)\n",
        "class_weights_dict = dict(zip(np.unique(aug_train_gen.classes), class_weights))\n",
        "class_weights_dict"
      ]
    },
    {
      "cell_type": "markdown",
      "source": [
        "# Transfer Learning - InceptionV3\n",
        "Traind using class weights, SGD Optimizer and L2 regularization penalty"
      ],
      "metadata": {
        "id": "mQ4M8TAQguDj"
      }
    },
    {
      "cell_type": "code",
      "execution_count": null,
      "metadata": {
        "colab": {
          "base_uri": "https://localhost:8080/"
        },
        "id": "CvPeqmxiIlv5",
        "outputId": "6807a9ea-ac1b-4921-bd99-ba9809a8a87d"
      },
      "outputs": [
        {
          "name": "stdout",
          "output_type": "stream",
          "text": [
            "Model: \"tl_model\"\n",
            "_________________________________________________________________\n",
            " Layer (type)                Output Shape              Param #   \n",
            "=================================================================\n",
            " input_8 (InputLayer)        [(None, 256, 256, 3)]     0         \n",
            "                                                                 \n",
            " inception_v3 (Functional)   (None, 6, 6, 2048)        21802784  \n",
            "                                                                 \n",
            " Flattening (Flatten)        (None, 73728)             0         \n",
            "                                                                 \n",
            " dropout_3 (Dropout)         (None, 73728)             0         \n",
            "                                                                 \n",
            " dense_3 (Dense)             (None, 8)                 589832    \n",
            "                                                                 \n",
            "=================================================================\n",
            "Total params: 22,392,616\n",
            "Trainable params: 22,358,184\n",
            "Non-trainable params: 34,432\n",
            "_________________________________________________________________\n"
          ]
        }
      ],
      "source": [
        "## InceptionV3\n",
        "iv3 = tf.keras.applications.InceptionV3(weights='imagenet', include_top=False, input_shape=input_shape)\n",
        "inputs = tfk.Input(shape=input_shape)\n",
        "x = iv3(inputs)\n",
        "x = tfkl.Flatten(name='Flattening')(x)\n",
        "x = tfkl.Dropout(0.4, seed=seed)(x)  \n",
        "output_layer = tfkl.Dense(\n",
        "    8, \n",
        "    activation='softmax',\n",
        "    kernel_initializer = tfk.initializers.GlorotUniform(seed),\n",
        "    kernel_regularizer=tf.keras.regularizers.l2(0.0001))(x)\n",
        "\n",
        "\n",
        "tl_model = tfk.Model(inputs=inputs, outputs=output_layer, name='tl_model')\n",
        "\n",
        "# Compile the model\n",
        "tl_model.compile(loss=tfk.losses.CategoricalCrossentropy(), optimizer=tfk.optimizers.SGD(), metrics=['accuracy'])\n",
        "\n",
        "\n",
        "tl_model.summary()"
      ]
    },
    {
      "cell_type": "code",
      "execution_count": null,
      "metadata": {
        "colab": {
          "base_uri": "https://localhost:8080/"
        },
        "id": "Mc5LBUqRIoTv",
        "outputId": "60e362a4-810f-43bc-f892-7b6dafd76611"
      },
      "outputs": [
        {
          "name": "stdout",
          "output_type": "stream",
          "text": [
            "Epoch 1/200\n",
            "45/45 [==============================] - 64s 1s/step - loss: 2.8342 - accuracy: 0.1714 - val_loss: 2.0723 - val_accuracy: 0.1870\n",
            "Epoch 2/200\n",
            "45/45 [==============================] - 57s 1s/step - loss: 2.1081 - accuracy: 0.2814 - val_loss: 2.3734 - val_accuracy: 0.1501\n",
            "Epoch 3/200\n",
            "45/45 [==============================] - 57s 1s/step - loss: 1.8764 - accuracy: 0.3149 - val_loss: 1.7829 - val_accuracy: 0.3144\n",
            "Epoch 4/200\n",
            "45/45 [==============================] - 57s 1s/step - loss: 1.6188 - accuracy: 0.3935 - val_loss: 1.3784 - val_accuracy: 0.4575\n",
            "Epoch 5/200\n",
            "45/45 [==============================] - 57s 1s/step - loss: 1.5651 - accuracy: 0.4866 - val_loss: 1.2777 - val_accuracy: 0.5312\n",
            "Epoch 6/200\n",
            "45/45 [==============================] - 57s 1s/step - loss: 1.2693 - accuracy: 0.5578 - val_loss: 1.1680 - val_accuracy: 0.4958\n",
            "Epoch 7/200\n",
            "45/45 [==============================] - 57s 1s/step - loss: 1.1111 - accuracy: 0.6238 - val_loss: 0.9787 - val_accuracy: 0.6176\n",
            "Epoch 8/200\n",
            "45/45 [==============================] - 57s 1s/step - loss: 1.0318 - accuracy: 0.6548 - val_loss: 0.9188 - val_accuracy: 0.6487\n",
            "Epoch 9/200\n",
            "45/45 [==============================] - 57s 1s/step - loss: 0.8954 - accuracy: 0.6964 - val_loss: 0.9095 - val_accuracy: 0.6799\n",
            "Epoch 10/200\n",
            "45/45 [==============================] - 60s 1s/step - loss: 0.8026 - accuracy: 0.7236 - val_loss: 0.8635 - val_accuracy: 0.6671\n",
            "Epoch 11/200\n",
            "45/45 [==============================] - 58s 1s/step - loss: 0.7808 - accuracy: 0.7398 - val_loss: 0.7556 - val_accuracy: 0.7323\n",
            "Epoch 12/200\n",
            "45/45 [==============================] - 57s 1s/step - loss: 0.7010 - accuracy: 0.7546 - val_loss: 0.7335 - val_accuracy: 0.7422\n",
            "Epoch 13/200\n",
            "45/45 [==============================] - 57s 1s/step - loss: 0.6840 - accuracy: 0.7715 - val_loss: 0.7613 - val_accuracy: 0.7238\n",
            "Epoch 14/200\n",
            "45/45 [==============================] - 58s 1s/step - loss: 0.6596 - accuracy: 0.7782 - val_loss: 0.5947 - val_accuracy: 0.7904\n",
            "Epoch 15/200\n",
            "45/45 [==============================] - 58s 1s/step - loss: 0.6069 - accuracy: 0.7916 - val_loss: 0.5892 - val_accuracy: 0.8003\n",
            "Epoch 16/200\n",
            "45/45 [==============================] - 57s 1s/step - loss: 0.5757 - accuracy: 0.8039 - val_loss: 0.5335 - val_accuracy: 0.8130\n",
            "Epoch 17/200\n",
            "45/45 [==============================] - 57s 1s/step - loss: 0.5428 - accuracy: 0.8145 - val_loss: 0.6015 - val_accuracy: 0.8045\n",
            "Epoch 18/200\n",
            "45/45 [==============================] - 57s 1s/step - loss: 0.5228 - accuracy: 0.8240 - val_loss: 0.8245 - val_accuracy: 0.7266\n",
            "Epoch 19/200\n",
            "45/45 [==============================] - 58s 1s/step - loss: 0.5056 - accuracy: 0.8325 - val_loss: 0.5132 - val_accuracy: 0.8343\n",
            "Epoch 20/200\n",
            "45/45 [==============================] - 56s 1s/step - loss: 0.4675 - accuracy: 0.8385 - val_loss: 0.4831 - val_accuracy: 0.8456\n",
            "Epoch 21/200\n",
            "45/45 [==============================] - 57s 1s/step - loss: 0.4600 - accuracy: 0.8505 - val_loss: 0.4946 - val_accuracy: 0.8244\n",
            "Epoch 22/200\n",
            "45/45 [==============================] - 57s 1s/step - loss: 0.4118 - accuracy: 0.8650 - val_loss: 0.5160 - val_accuracy: 0.8159\n",
            "Epoch 23/200\n",
            "45/45 [==============================] - 57s 1s/step - loss: 0.3631 - accuracy: 0.8702 - val_loss: 0.4488 - val_accuracy: 0.8428\n",
            "Epoch 24/200\n",
            "45/45 [==============================] - 57s 1s/step - loss: 0.3764 - accuracy: 0.8692 - val_loss: 0.4747 - val_accuracy: 0.8428\n",
            "Epoch 25/200\n",
            "45/45 [==============================] - 56s 1s/step - loss: 0.3650 - accuracy: 0.8731 - val_loss: 0.4503 - val_accuracy: 0.8484\n",
            "Epoch 26/200\n",
            "45/45 [==============================] - 58s 1s/step - loss: 0.3980 - accuracy: 0.8667 - val_loss: 0.4975 - val_accuracy: 0.8456\n",
            "Epoch 27/200\n",
            "45/45 [==============================] - 57s 1s/step - loss: 0.3644 - accuracy: 0.8709 - val_loss: 0.4763 - val_accuracy: 0.8399\n",
            "Epoch 28/200\n",
            "45/45 [==============================] - 57s 1s/step - loss: 0.3226 - accuracy: 0.8801 - val_loss: 0.4634 - val_accuracy: 0.8513\n",
            "Epoch 29/200\n",
            "45/45 [==============================] - 57s 1s/step - loss: 0.3413 - accuracy: 0.8801 - val_loss: 0.5106 - val_accuracy: 0.8470\n",
            "Epoch 30/200\n",
            "45/45 [==============================] - 57s 1s/step - loss: 0.3400 - accuracy: 0.8858 - val_loss: 0.4831 - val_accuracy: 0.8343\n",
            "Epoch 31/200\n",
            "45/45 [==============================] - 56s 1s/step - loss: 0.2950 - accuracy: 0.8925 - val_loss: 0.4635 - val_accuracy: 0.8527\n",
            "Epoch 32/200\n",
            "45/45 [==============================] - 56s 1s/step - loss: 0.2693 - accuracy: 0.9094 - val_loss: 0.4433 - val_accuracy: 0.8513\n",
            "Epoch 33/200\n",
            "45/45 [==============================] - 57s 1s/step - loss: 0.2772 - accuracy: 0.9073 - val_loss: 0.4012 - val_accuracy: 0.8626\n",
            "Epoch 34/200\n",
            "45/45 [==============================] - 58s 1s/step - loss: 0.2603 - accuracy: 0.9090 - val_loss: 0.4106 - val_accuracy: 0.8626\n",
            "Epoch 35/200\n",
            "45/45 [==============================] - 62s 1s/step - loss: 0.2559 - accuracy: 0.9108 - val_loss: 0.4482 - val_accuracy: 0.8640\n",
            "Epoch 36/200\n",
            "45/45 [==============================] - 63s 1s/step - loss: 0.2468 - accuracy: 0.9147 - val_loss: 0.4415 - val_accuracy: 0.8654\n",
            "Epoch 37/200\n",
            "45/45 [==============================] - 59s 1s/step - loss: 0.2169 - accuracy: 0.9238 - val_loss: 0.5808 - val_accuracy: 0.8088\n",
            "Epoch 38/200\n",
            "45/45 [==============================] - 61s 1s/step - loss: 0.2427 - accuracy: 0.9154 - val_loss: 0.3787 - val_accuracy: 0.8853\n",
            "Epoch 39/200\n",
            "45/45 [==============================] - 57s 1s/step - loss: 0.2463 - accuracy: 0.9221 - val_loss: 0.3992 - val_accuracy: 0.8711\n",
            "Epoch 40/200\n",
            "45/45 [==============================] - 57s 1s/step - loss: 0.2070 - accuracy: 0.9312 - val_loss: 0.5163 - val_accuracy: 0.8541\n",
            "Epoch 41/200\n",
            "45/45 [==============================] - 58s 1s/step - loss: 0.1965 - accuracy: 0.9270 - val_loss: 0.4315 - val_accuracy: 0.8768\n",
            "Epoch 42/200\n",
            "45/45 [==============================] - 58s 1s/step - loss: 0.1876 - accuracy: 0.9372 - val_loss: 0.3831 - val_accuracy: 0.8938\n",
            "Epoch 43/200\n",
            "45/45 [==============================] - 58s 1s/step - loss: 0.1998 - accuracy: 0.9298 - val_loss: 0.4409 - val_accuracy: 0.8768\n",
            "Epoch 44/200\n",
            "45/45 [==============================] - 56s 1s/step - loss: 0.2050 - accuracy: 0.9224 - val_loss: 0.3690 - val_accuracy: 0.9037\n",
            "Epoch 45/200\n",
            "45/45 [==============================] - 57s 1s/step - loss: 0.1582 - accuracy: 0.9415 - val_loss: 0.4136 - val_accuracy: 0.8782\n",
            "Epoch 46/200\n",
            "45/45 [==============================] - 58s 1s/step - loss: 0.1575 - accuracy: 0.9404 - val_loss: 0.3602 - val_accuracy: 0.8867\n",
            "Epoch 47/200\n",
            "45/45 [==============================] - 57s 1s/step - loss: 0.1721 - accuracy: 0.9418 - val_loss: 0.4080 - val_accuracy: 0.8909\n",
            "Epoch 48/200\n",
            "45/45 [==============================] - 57s 1s/step - loss: 0.1396 - accuracy: 0.9496 - val_loss: 0.3820 - val_accuracy: 0.8994\n",
            "Epoch 49/200\n",
            "45/45 [==============================] - 57s 1s/step - loss: 0.1753 - accuracy: 0.9429 - val_loss: 0.3914 - val_accuracy: 0.8909\n",
            "Epoch 50/200\n",
            "45/45 [==============================] - 58s 1s/step - loss: 0.1827 - accuracy: 0.9365 - val_loss: 0.4302 - val_accuracy: 0.8754\n",
            "Epoch 51/200\n",
            "45/45 [==============================] - 57s 1s/step - loss: 0.1809 - accuracy: 0.9376 - val_loss: 0.4929 - val_accuracy: 0.8810\n",
            "Epoch 52/200\n",
            "45/45 [==============================] - 57s 1s/step - loss: 0.1507 - accuracy: 0.9457 - val_loss: 0.3288 - val_accuracy: 0.9079\n",
            "Epoch 53/200\n",
            "45/45 [==============================] - 58s 1s/step - loss: 0.1648 - accuracy: 0.9386 - val_loss: 0.4390 - val_accuracy: 0.8810\n",
            "Epoch 54/200\n",
            "45/45 [==============================] - 57s 1s/step - loss: 0.1344 - accuracy: 0.9517 - val_loss: 0.4050 - val_accuracy: 0.8895\n",
            "Epoch 55/200\n",
            "45/45 [==============================] - 57s 1s/step - loss: 0.1577 - accuracy: 0.9408 - val_loss: 0.5103 - val_accuracy: 0.8711\n",
            "Epoch 56/200\n",
            "45/45 [==============================] - 59s 1s/step - loss: 0.1582 - accuracy: 0.9436 - val_loss: 0.5280 - val_accuracy: 0.8725\n",
            "Epoch 57/200\n",
            "45/45 [==============================] - 56s 1s/step - loss: 0.1332 - accuracy: 0.9503 - val_loss: 0.4222 - val_accuracy: 0.8739\n",
            "Epoch 58/200\n",
            "45/45 [==============================] - 57s 1s/step - loss: 0.1471 - accuracy: 0.9485 - val_loss: 0.3808 - val_accuracy: 0.8938\n",
            "Epoch 59/200\n",
            "45/45 [==============================] - 58s 1s/step - loss: 0.1071 - accuracy: 0.9612 - val_loss: 0.3384 - val_accuracy: 0.8952\n",
            "Epoch 60/200\n",
            "45/45 [==============================] - 58s 1s/step - loss: 0.1386 - accuracy: 0.9517 - val_loss: 0.4107 - val_accuracy: 0.8924\n",
            "Epoch 61/200\n",
            "45/45 [==============================] - 57s 1s/step - loss: 0.1214 - accuracy: 0.9570 - val_loss: 0.3762 - val_accuracy: 0.8895\n",
            "Epoch 62/200\n",
            "45/45 [==============================] - 57s 1s/step - loss: 0.1410 - accuracy: 0.9496 - val_loss: 0.4194 - val_accuracy: 0.8839\n"
          ]
        }
      ],
      "source": [
        "# Create folders and callbacks and fit\n",
        "iv3_tl_callbacks = create_folders_and_callbacks(model_name='CNN_IV3_BS64_SGD_CW')\n",
        "\n",
        "# Train the model\n",
        "iv3_tl_history = tl_model.fit(\n",
        "    x = aug_train_gen,\n",
        "    epochs = epochs,\n",
        "    validation_data = valid_gen,\n",
        "    callbacks = iv3_tl_callbacks,\n",
        "    class_weight = class_weights_dict,\n",
        ").history"
      ]
    },
    {
      "cell_type": "code",
      "execution_count": null,
      "metadata": {
        "id": "b2KkkmjETgWA"
      },
      "outputs": [],
      "source": [
        "# Save best epoch model\n",
        "tl_model.save(\"data_augmentation_experiments/CNN_IV3_BS64_SGD_CW\")"
      ]
    },
    {
      "cell_type": "code",
      "execution_count": null,
      "metadata": {
        "colab": {
          "base_uri": "https://localhost:8080/",
          "height": 655
        },
        "id": "YkyP853-TrDZ",
        "outputId": "b41eeb13-5c26-406a-8906-4913a76bedfa"
      },
      "outputs": [
        {
          "data": {
            "image/png": "[encoded data removed]",
            "text/plain": [
              "<Figure size 1440x360 with 1 Axes>"
            ]
          },
          "metadata": {},
          "output_type": "display_data"
        },
        {
          "data": {
            "image/png": "[encoded data removed]",
            "text/plain": [
              "<Figure size 1440x360 with 1 Axes>"
            ]
          },
          "metadata": {},
          "output_type": "display_data"
        }
      ],
      "source": [
        "# Plot the training\n",
        "plt.figure(figsize=(20,5))\n",
        "plt.plot(iv3_tl_history['loss'], label='Training', alpha=.8, color='#ff7f0e')\n",
        "plt.plot(iv3_tl_history['val_loss'], label='Validation', alpha=.8, color='#4D61E2')\n",
        "plt.legend(loc='upper left')\n",
        "plt.title('Categorical Crossentropy')\n",
        "plt.grid(alpha=.3)\n",
        "\n",
        "plt.figure(figsize=(20,5))\n",
        "plt.plot(iv3_tl_history['accuracy'], label='Training', alpha=.8, color='#ff7f0e')\n",
        "plt.plot(iv3_tl_history['val_accuracy'], label='Validation', alpha=.8, color='#4D61E2')\n",
        "plt.legend(loc='upper left')\n",
        "plt.title('Accuracy')\n",
        "plt.grid(alpha=.3)\n",
        "\n",
        "plt.show()"
      ]
    },
    {
      "cell_type": "markdown",
      "source": [
        "## Fine Tuning InceptionV3 trained with class weights"
      ],
      "metadata": {
        "id": "nNfrv5gDhPOv"
      }
    },
    {
      "cell_type": "code",
      "execution_count": null,
      "metadata": {
        "colab": {
          "base_uri": "https://localhost:8080/"
        },
        "id": "Zdi6yMAMI13e",
        "outputId": "fdd6cd3a-58b8-4bc1-949f-1641603f1f7e"
      },
      "outputs": [
        {
          "name": "stdout",
          "output_type": "stream",
          "text": [
            "Model: \"tl_model\"\n",
            "_________________________________________________________________\n",
            " Layer (type)                Output Shape              Param #   \n",
            "=================================================================\n",
            " input_8 (InputLayer)        [(None, 256, 256, 3)]     0         \n",
            "                                                                 \n",
            " inception_v3 (Functional)   (None, 6, 6, 2048)        21802784  \n",
            "                                                                 \n",
            " Flattening (Flatten)        (None, 73728)             0         \n",
            "                                                                 \n",
            " dropout_3 (Dropout)         (None, 73728)             0         \n",
            "                                                                 \n",
            " dense_3 (Dense)             (None, 8)                 589832    \n",
            "                                                                 \n",
            "=================================================================\n",
            "Total params: 22,392,616\n",
            "Trainable params: 22,358,184\n",
            "Non-trainable params: 34,432\n",
            "_________________________________________________________________\n"
          ]
        }
      ],
      "source": [
        "## Fine Tuning IV3 model with class weights\n",
        "ft_iv3_cw_model = tfk.models.load_model(\"data_augmentation_experiments/CNN_IV3_BS64_SGD_CW\")\n",
        "ft_iv3_cw_model.summary()"
      ]
    },
    {
      "cell_type": "code",
      "execution_count": null,
      "metadata": {
        "colab": {
          "base_uri": "https://localhost:8080/"
        },
        "id": "MlliNNEzJFjF",
        "outputId": "5b2027e7-caa7-411d-c217-a891d88bec6e"
      },
      "outputs": [
        {
          "name": "stdout",
          "output_type": "stream",
          "text": [
            "0 input_7 True\n",
            "1 conv2d_391 True\n",
            "2 batch_normalization_391 True\n",
            "3 activation_391 True\n",
            "4 conv2d_392 True\n",
            "5 batch_normalization_392 True\n",
            "6 activation_392 True\n",
            "7 conv2d_393 True\n",
            "8 batch_normalization_393 True\n",
            "9 activation_393 True\n",
            "10 max_pooling2d_12 True\n",
            "11 conv2d_394 True\n",
            "12 batch_normalization_394 True\n",
            "13 activation_394 True\n",
            "14 conv2d_395 True\n",
            "15 batch_normalization_395 True\n",
            "16 activation_395 True\n",
            "17 max_pooling2d_13 True\n",
            "18 conv2d_399 True\n",
            "19 batch_normalization_399 True\n",
            "20 activation_399 True\n",
            "21 conv2d_397 True\n",
            "22 conv2d_400 True\n",
            "23 batch_normalization_397 True\n",
            "24 batch_normalization_400 True\n",
            "25 activation_397 True\n",
            "26 activation_400 True\n",
            "27 average_pooling2d_19 True\n",
            "28 conv2d_396 True\n",
            "29 conv2d_398 True\n",
            "30 conv2d_401 True\n",
            "31 conv2d_402 True\n",
            "32 batch_normalization_396 True\n",
            "33 batch_normalization_398 True\n",
            "34 batch_normalization_401 True\n",
            "35 batch_normalization_402 True\n",
            "36 activation_396 True\n",
            "37 activation_398 True\n",
            "38 activation_401 True\n",
            "39 activation_402 True\n",
            "40 mixed0 True\n",
            "41 conv2d_406 True\n",
            "42 batch_normalization_406 True\n",
            "43 activation_406 True\n",
            "44 conv2d_404 True\n",
            "45 conv2d_407 True\n",
            "46 batch_normalization_404 True\n",
            "47 batch_normalization_407 True\n",
            "48 activation_404 True\n",
            "49 activation_407 True\n",
            "50 average_pooling2d_20 True\n",
            "51 conv2d_403 True\n",
            "52 conv2d_405 True\n",
            "53 conv2d_408 True\n",
            "54 conv2d_409 True\n",
            "55 batch_normalization_403 True\n",
            "56 batch_normalization_405 True\n",
            "57 batch_normalization_408 True\n",
            "58 batch_normalization_409 True\n",
            "59 activation_403 True\n",
            "60 activation_405 True\n",
            "61 activation_408 True\n",
            "62 activation_409 True\n",
            "63 mixed1 True\n",
            "64 conv2d_413 True\n",
            "65 batch_normalization_413 True\n",
            "66 activation_413 True\n",
            "67 conv2d_411 True\n",
            "68 conv2d_414 True\n",
            "69 batch_normalization_411 True\n",
            "70 batch_normalization_414 True\n",
            "71 activation_411 True\n",
            "72 activation_414 True\n",
            "73 average_pooling2d_21 True\n",
            "74 conv2d_410 True\n",
            "75 conv2d_412 True\n",
            "76 conv2d_415 True\n",
            "77 conv2d_416 True\n",
            "78 batch_normalization_410 True\n",
            "79 batch_normalization_412 True\n",
            "80 batch_normalization_415 True\n",
            "81 batch_normalization_416 True\n",
            "82 activation_410 True\n",
            "83 activation_412 True\n",
            "84 activation_415 True\n",
            "85 activation_416 True\n",
            "86 mixed2 True\n",
            "87 conv2d_418 True\n",
            "88 batch_normalization_418 True\n",
            "89 activation_418 True\n",
            "90 conv2d_419 True\n",
            "91 batch_normalization_419 True\n",
            "92 activation_419 True\n",
            "93 conv2d_417 True\n",
            "94 conv2d_420 True\n",
            "95 batch_normalization_417 True\n",
            "96 batch_normalization_420 True\n",
            "97 activation_417 True\n",
            "98 activation_420 True\n",
            "99 max_pooling2d_14 True\n",
            "100 mixed3 True\n",
            "101 conv2d_425 True\n",
            "102 batch_normalization_425 True\n",
            "103 activation_425 True\n",
            "104 conv2d_426 True\n",
            "105 batch_normalization_426 True\n",
            "106 activation_426 True\n",
            "107 conv2d_422 True\n",
            "108 conv2d_427 True\n",
            "109 batch_normalization_422 True\n",
            "110 batch_normalization_427 True\n",
            "111 activation_422 True\n",
            "112 activation_427 True\n",
            "113 conv2d_423 True\n",
            "114 conv2d_428 True\n",
            "115 batch_normalization_423 True\n",
            "116 batch_normalization_428 True\n",
            "117 activation_423 True\n",
            "118 activation_428 True\n",
            "119 average_pooling2d_22 True\n",
            "120 conv2d_421 True\n",
            "121 conv2d_424 True\n",
            "122 conv2d_429 True\n",
            "123 conv2d_430 True\n",
            "124 batch_normalization_421 True\n",
            "125 batch_normalization_424 True\n",
            "126 batch_normalization_429 True\n",
            "127 batch_normalization_430 True\n",
            "128 activation_421 True\n",
            "129 activation_424 True\n",
            "130 activation_429 True\n",
            "131 activation_430 True\n",
            "132 mixed4 True\n",
            "133 conv2d_435 True\n",
            "134 batch_normalization_435 True\n",
            "135 activation_435 True\n",
            "136 conv2d_436 True\n",
            "137 batch_normalization_436 True\n",
            "138 activation_436 True\n",
            "139 conv2d_432 True\n",
            "140 conv2d_437 True\n",
            "141 batch_normalization_432 True\n",
            "142 batch_normalization_437 True\n",
            "143 activation_432 True\n",
            "144 activation_437 True\n",
            "145 conv2d_433 True\n",
            "146 conv2d_438 True\n",
            "147 batch_normalization_433 True\n",
            "148 batch_normalization_438 True\n",
            "149 activation_433 True\n",
            "150 activation_438 True\n",
            "151 average_pooling2d_23 True\n",
            "152 conv2d_431 True\n",
            "153 conv2d_434 True\n",
            "154 conv2d_439 True\n",
            "155 conv2d_440 True\n",
            "156 batch_normalization_431 True\n",
            "157 batch_normalization_434 True\n",
            "158 batch_normalization_439 True\n",
            "159 batch_normalization_440 True\n",
            "160 activation_431 True\n",
            "161 activation_434 True\n",
            "162 activation_439 True\n",
            "163 activation_440 True\n",
            "164 mixed5 True\n",
            "165 conv2d_445 True\n",
            "166 batch_normalization_445 True\n",
            "167 activation_445 True\n",
            "168 conv2d_446 True\n",
            "169 batch_normalization_446 True\n",
            "170 activation_446 True\n",
            "171 conv2d_442 True\n",
            "172 conv2d_447 True\n",
            "173 batch_normalization_442 True\n",
            "174 batch_normalization_447 True\n",
            "175 activation_442 True\n",
            "176 activation_447 True\n",
            "177 conv2d_443 True\n",
            "178 conv2d_448 True\n",
            "179 batch_normalization_443 True\n",
            "180 batch_normalization_448 True\n",
            "181 activation_443 True\n",
            "182 activation_448 True\n",
            "183 average_pooling2d_24 True\n",
            "184 conv2d_441 True\n",
            "185 conv2d_444 True\n",
            "186 conv2d_449 True\n",
            "187 conv2d_450 True\n",
            "188 batch_normalization_441 True\n",
            "189 batch_normalization_444 True\n",
            "190 batch_normalization_449 True\n",
            "191 batch_normalization_450 True\n",
            "192 activation_441 True\n",
            "193 activation_444 True\n",
            "194 activation_449 True\n",
            "195 activation_450 True\n",
            "196 mixed6 True\n",
            "197 conv2d_455 True\n",
            "198 batch_normalization_455 True\n",
            "199 activation_455 True\n",
            "200 conv2d_456 True\n",
            "201 batch_normalization_456 True\n",
            "202 activation_456 True\n",
            "203 conv2d_452 True\n",
            "204 conv2d_457 True\n",
            "205 batch_normalization_452 True\n",
            "206 batch_normalization_457 True\n",
            "207 activation_452 True\n",
            "208 activation_457 True\n",
            "209 conv2d_453 True\n",
            "210 conv2d_458 True\n",
            "211 batch_normalization_453 True\n",
            "212 batch_normalization_458 True\n",
            "213 activation_453 True\n",
            "214 activation_458 True\n",
            "215 average_pooling2d_25 True\n",
            "216 conv2d_451 True\n",
            "217 conv2d_454 True\n",
            "218 conv2d_459 True\n",
            "219 conv2d_460 True\n",
            "220 batch_normalization_451 True\n",
            "221 batch_normalization_454 True\n",
            "222 batch_normalization_459 True\n",
            "223 batch_normalization_460 True\n",
            "224 activation_451 True\n",
            "225 activation_454 True\n",
            "226 activation_459 True\n",
            "227 activation_460 True\n",
            "228 mixed7 True\n",
            "229 conv2d_463 True\n",
            "230 batch_normalization_463 True\n",
            "231 activation_463 True\n",
            "232 conv2d_464 True\n",
            "233 batch_normalization_464 True\n",
            "234 activation_464 True\n",
            "235 conv2d_461 True\n",
            "236 conv2d_465 True\n",
            "237 batch_normalization_461 True\n",
            "238 batch_normalization_465 True\n",
            "239 activation_461 True\n",
            "240 activation_465 True\n",
            "241 conv2d_462 True\n",
            "242 conv2d_466 True\n",
            "243 batch_normalization_462 True\n",
            "244 batch_normalization_466 True\n",
            "245 activation_462 True\n",
            "246 activation_466 True\n",
            "247 max_pooling2d_15 True\n",
            "248 mixed8 True\n",
            "249 conv2d_471 True\n",
            "250 batch_normalization_471 True\n",
            "251 activation_471 True\n",
            "252 conv2d_468 True\n",
            "253 conv2d_472 True\n",
            "254 batch_normalization_468 True\n",
            "255 batch_normalization_472 True\n",
            "256 activation_468 True\n",
            "257 activation_472 True\n",
            "258 conv2d_469 True\n",
            "259 conv2d_470 True\n",
            "260 conv2d_473 True\n",
            "261 conv2d_474 True\n",
            "262 average_pooling2d_26 True\n",
            "263 conv2d_467 True\n",
            "264 batch_normalization_469 True\n",
            "265 batch_normalization_470 True\n",
            "266 batch_normalization_473 True\n",
            "267 batch_normalization_474 True\n",
            "268 conv2d_475 True\n",
            "269 batch_normalization_467 True\n",
            "270 activation_469 True\n",
            "271 activation_470 True\n",
            "272 activation_473 True\n",
            "273 activation_474 True\n",
            "274 batch_normalization_475 True\n",
            "275 activation_467 True\n",
            "276 mixed9_0 True\n",
            "277 concatenate_4 True\n",
            "278 activation_475 True\n",
            "279 mixed9 True\n",
            "280 conv2d_480 True\n",
            "281 batch_normalization_480 True\n",
            "282 activation_480 True\n",
            "283 conv2d_477 True\n",
            "284 conv2d_481 True\n",
            "285 batch_normalization_477 True\n",
            "286 batch_normalization_481 True\n",
            "287 activation_477 True\n",
            "288 activation_481 True\n",
            "289 conv2d_478 True\n",
            "290 conv2d_479 True\n",
            "291 conv2d_482 True\n",
            "292 conv2d_483 True\n",
            "293 average_pooling2d_27 True\n",
            "294 conv2d_476 True\n",
            "295 batch_normalization_478 True\n",
            "296 batch_normalization_479 True\n",
            "297 batch_normalization_482 True\n",
            "298 batch_normalization_483 True\n",
            "299 conv2d_484 True\n",
            "300 batch_normalization_476 True\n",
            "301 activation_478 True\n",
            "302 activation_479 True\n",
            "303 activation_482 True\n",
            "304 activation_483 True\n",
            "305 batch_normalization_484 True\n",
            "306 activation_476 True\n",
            "307 mixed9_1 True\n",
            "308 concatenate_5 True\n",
            "309 activation_484 True\n",
            "310 mixed10 True\n"
          ]
        }
      ],
      "source": [
        "ft_iv3_cw_model.get_layer('inception_v3').trainable = True\n",
        "for i, layer in enumerate(ft_iv3_cw_model.get_layer('inception_v3').layers):\n",
        "   print(i, layer.name, ft_iv3_cw_model.trainable)"
      ]
    },
    {
      "cell_type": "code",
      "execution_count": null,
      "metadata": {
        "colab": {
          "base_uri": "https://localhost:8080/"
        },
        "id": "gUaEJiPcJPrM",
        "outputId": "ee195199-c585-45ea-f84c-1b4dab85b638"
      },
      "outputs": [
        {
          "name": "stdout",
          "output_type": "stream",
          "text": [
            "0 input_7 False\n",
            "1 conv2d_391 False\n",
            "2 batch_normalization_391 False\n",
            "3 activation_391 False\n",
            "4 conv2d_392 False\n",
            "5 batch_normalization_392 False\n",
            "6 activation_392 False\n",
            "7 conv2d_393 False\n",
            "8 batch_normalization_393 False\n",
            "9 activation_393 False\n",
            "10 max_pooling2d_12 False\n",
            "11 conv2d_394 False\n",
            "12 batch_normalization_394 False\n",
            "13 activation_394 False\n",
            "14 conv2d_395 False\n",
            "15 batch_normalization_395 False\n",
            "16 activation_395 False\n",
            "17 max_pooling2d_13 False\n",
            "18 conv2d_399 False\n",
            "19 batch_normalization_399 False\n",
            "20 activation_399 False\n",
            "21 conv2d_397 False\n",
            "22 conv2d_400 False\n",
            "23 batch_normalization_397 False\n",
            "24 batch_normalization_400 False\n",
            "25 activation_397 False\n",
            "26 activation_400 False\n",
            "27 average_pooling2d_19 False\n",
            "28 conv2d_396 False\n",
            "29 conv2d_398 False\n",
            "30 conv2d_401 False\n",
            "31 conv2d_402 False\n",
            "32 batch_normalization_396 False\n",
            "33 batch_normalization_398 False\n",
            "34 batch_normalization_401 False\n",
            "35 batch_normalization_402 False\n",
            "36 activation_396 False\n",
            "37 activation_398 False\n",
            "38 activation_401 False\n",
            "39 activation_402 False\n",
            "40 mixed0 False\n",
            "41 conv2d_406 False\n",
            "42 batch_normalization_406 False\n",
            "43 activation_406 False\n",
            "44 conv2d_404 False\n",
            "45 conv2d_407 False\n",
            "46 batch_normalization_404 False\n",
            "47 batch_normalization_407 False\n",
            "48 activation_404 False\n",
            "49 activation_407 False\n",
            "50 average_pooling2d_20 False\n",
            "51 conv2d_403 False\n",
            "52 conv2d_405 False\n",
            "53 conv2d_408 False\n",
            "54 conv2d_409 False\n",
            "55 batch_normalization_403 False\n",
            "56 batch_normalization_405 False\n",
            "57 batch_normalization_408 False\n",
            "58 batch_normalization_409 False\n",
            "59 activation_403 False\n",
            "60 activation_405 False\n",
            "61 activation_408 False\n",
            "62 activation_409 False\n",
            "63 mixed1 False\n",
            "64 conv2d_413 False\n",
            "65 batch_normalization_413 False\n",
            "66 activation_413 False\n",
            "67 conv2d_411 False\n",
            "68 conv2d_414 False\n",
            "69 batch_normalization_411 False\n",
            "70 batch_normalization_414 False\n",
            "71 activation_411 False\n",
            "72 activation_414 False\n",
            "73 average_pooling2d_21 False\n",
            "74 conv2d_410 False\n",
            "75 conv2d_412 False\n",
            "76 conv2d_415 False\n",
            "77 conv2d_416 False\n",
            "78 batch_normalization_410 False\n",
            "79 batch_normalization_412 False\n",
            "80 batch_normalization_415 False\n",
            "81 batch_normalization_416 False\n",
            "82 activation_410 False\n",
            "83 activation_412 False\n",
            "84 activation_415 False\n",
            "85 activation_416 False\n",
            "86 mixed2 False\n",
            "87 conv2d_418 False\n",
            "88 batch_normalization_418 False\n",
            "89 activation_418 False\n",
            "90 conv2d_419 False\n",
            "91 batch_normalization_419 False\n",
            "92 activation_419 False\n",
            "93 conv2d_417 False\n",
            "94 conv2d_420 False\n",
            "95 batch_normalization_417 False\n",
            "96 batch_normalization_420 False\n",
            "97 activation_417 False\n",
            "98 activation_420 False\n",
            "99 max_pooling2d_14 False\n",
            "100 mixed3 False\n",
            "101 conv2d_425 False\n",
            "102 batch_normalization_425 False\n",
            "103 activation_425 False\n",
            "104 conv2d_426 False\n",
            "105 batch_normalization_426 False\n",
            "106 activation_426 False\n",
            "107 conv2d_422 False\n",
            "108 conv2d_427 False\n",
            "109 batch_normalization_422 False\n",
            "110 batch_normalization_427 False\n",
            "111 activation_422 False\n",
            "112 activation_427 False\n",
            "113 conv2d_423 False\n",
            "114 conv2d_428 False\n",
            "115 batch_normalization_423 False\n",
            "116 batch_normalization_428 False\n",
            "117 activation_423 False\n",
            "118 activation_428 False\n",
            "119 average_pooling2d_22 False\n",
            "120 conv2d_421 False\n",
            "121 conv2d_424 False\n",
            "122 conv2d_429 False\n",
            "123 conv2d_430 False\n",
            "124 batch_normalization_421 False\n",
            "125 batch_normalization_424 False\n",
            "126 batch_normalization_429 False\n",
            "127 batch_normalization_430 False\n",
            "128 activation_421 False\n",
            "129 activation_424 False\n",
            "130 activation_429 False\n",
            "131 activation_430 False\n",
            "132 mixed4 False\n",
            "133 conv2d_435 False\n",
            "134 batch_normalization_435 False\n",
            "135 activation_435 False\n",
            "136 conv2d_436 False\n",
            "137 batch_normalization_436 False\n",
            "138 activation_436 False\n",
            "139 conv2d_432 False\n",
            "140 conv2d_437 False\n",
            "141 batch_normalization_432 False\n",
            "142 batch_normalization_437 False\n",
            "143 activation_432 False\n",
            "144 activation_437 False\n",
            "145 conv2d_433 False\n",
            "146 conv2d_438 False\n",
            "147 batch_normalization_433 False\n",
            "148 batch_normalization_438 False\n",
            "149 activation_433 False\n",
            "150 activation_438 False\n",
            "151 average_pooling2d_23 False\n",
            "152 conv2d_431 False\n",
            "153 conv2d_434 False\n",
            "154 conv2d_439 False\n",
            "155 conv2d_440 False\n",
            "156 batch_normalization_431 False\n",
            "157 batch_normalization_434 False\n",
            "158 batch_normalization_439 False\n",
            "159 batch_normalization_440 False\n",
            "160 activation_431 False\n",
            "161 activation_434 False\n",
            "162 activation_439 False\n",
            "163 activation_440 False\n",
            "164 mixed5 False\n",
            "165 conv2d_445 False\n",
            "166 batch_normalization_445 False\n",
            "167 activation_445 False\n",
            "168 conv2d_446 False\n",
            "169 batch_normalization_446 False\n",
            "170 activation_446 False\n",
            "171 conv2d_442 False\n",
            "172 conv2d_447 False\n",
            "173 batch_normalization_442 False\n",
            "174 batch_normalization_447 False\n",
            "175 activation_442 False\n",
            "176 activation_447 False\n",
            "177 conv2d_443 False\n",
            "178 conv2d_448 False\n",
            "179 batch_normalization_443 False\n",
            "180 batch_normalization_448 False\n",
            "181 activation_443 False\n",
            "182 activation_448 False\n",
            "183 average_pooling2d_24 False\n",
            "184 conv2d_441 False\n",
            "185 conv2d_444 False\n",
            "186 conv2d_449 False\n",
            "187 conv2d_450 False\n",
            "188 batch_normalization_441 False\n",
            "189 batch_normalization_444 False\n",
            "190 batch_normalization_449 False\n",
            "191 batch_normalization_450 False\n",
            "192 activation_441 False\n",
            "193 activation_444 False\n",
            "194 activation_449 False\n",
            "195 activation_450 False\n",
            "196 mixed6 False\n",
            "197 conv2d_455 False\n",
            "198 batch_normalization_455 False\n",
            "199 activation_455 False\n",
            "200 conv2d_456 False\n",
            "201 batch_normalization_456 False\n",
            "202 activation_456 False\n",
            "203 conv2d_452 False\n",
            "204 conv2d_457 False\n",
            "205 batch_normalization_452 False\n",
            "206 batch_normalization_457 False\n",
            "207 activation_452 False\n",
            "208 activation_457 False\n",
            "209 conv2d_453 False\n",
            "210 conv2d_458 False\n",
            "211 batch_normalization_453 False\n",
            "212 batch_normalization_458 False\n",
            "213 activation_453 False\n",
            "214 activation_458 False\n",
            "215 average_pooling2d_25 False\n",
            "216 conv2d_451 False\n",
            "217 conv2d_454 False\n",
            "218 conv2d_459 False\n",
            "219 conv2d_460 False\n",
            "220 batch_normalization_451 False\n",
            "221 batch_normalization_454 False\n",
            "222 batch_normalization_459 False\n",
            "223 batch_normalization_460 False\n",
            "224 activation_451 False\n",
            "225 activation_454 False\n",
            "226 activation_459 False\n",
            "227 activation_460 False\n",
            "228 mixed7 False\n",
            "229 conv2d_463 True\n",
            "230 batch_normalization_463 True\n",
            "231 activation_463 True\n",
            "232 conv2d_464 True\n",
            "233 batch_normalization_464 True\n",
            "234 activation_464 True\n",
            "235 conv2d_461 True\n",
            "236 conv2d_465 True\n",
            "237 batch_normalization_461 True\n",
            "238 batch_normalization_465 True\n",
            "239 activation_461 True\n",
            "240 activation_465 True\n",
            "241 conv2d_462 True\n",
            "242 conv2d_466 True\n",
            "243 batch_normalization_462 True\n",
            "244 batch_normalization_466 True\n",
            "245 activation_462 True\n",
            "246 activation_466 True\n",
            "247 max_pooling2d_15 True\n",
            "248 mixed8 True\n",
            "249 conv2d_471 True\n",
            "250 batch_normalization_471 True\n",
            "251 activation_471 True\n",
            "252 conv2d_468 True\n",
            "253 conv2d_472 True\n",
            "254 batch_normalization_468 True\n",
            "255 batch_normalization_472 True\n",
            "256 activation_468 True\n",
            "257 activation_472 True\n",
            "258 conv2d_469 True\n",
            "259 conv2d_470 True\n",
            "260 conv2d_473 True\n",
            "261 conv2d_474 True\n",
            "262 average_pooling2d_26 True\n",
            "263 conv2d_467 True\n",
            "264 batch_normalization_469 True\n",
            "265 batch_normalization_470 True\n",
            "266 batch_normalization_473 True\n",
            "267 batch_normalization_474 True\n",
            "268 conv2d_475 True\n",
            "269 batch_normalization_467 True\n",
            "270 activation_469 True\n",
            "271 activation_470 True\n",
            "272 activation_473 True\n",
            "273 activation_474 True\n",
            "274 batch_normalization_475 True\n",
            "275 activation_467 True\n",
            "276 mixed9_0 True\n",
            "277 concatenate_4 True\n",
            "278 activation_475 True\n",
            "279 mixed9 True\n",
            "280 conv2d_480 True\n",
            "281 batch_normalization_480 True\n",
            "282 activation_480 True\n",
            "283 conv2d_477 True\n",
            "284 conv2d_481 True\n",
            "285 batch_normalization_477 True\n",
            "286 batch_normalization_481 True\n",
            "287 activation_477 True\n",
            "288 activation_481 True\n",
            "289 conv2d_478 True\n",
            "290 conv2d_479 True\n",
            "291 conv2d_482 True\n",
            "292 conv2d_483 True\n",
            "293 average_pooling2d_27 True\n",
            "294 conv2d_476 True\n",
            "295 batch_normalization_478 True\n",
            "296 batch_normalization_479 True\n",
            "297 batch_normalization_482 True\n",
            "298 batch_normalization_483 True\n",
            "299 conv2d_484 True\n",
            "300 batch_normalization_476 True\n",
            "301 activation_478 True\n",
            "302 activation_479 True\n",
            "303 activation_482 True\n",
            "304 activation_483 True\n",
            "305 batch_normalization_484 True\n",
            "306 activation_476 True\n",
            "307 mixed9_1 True\n",
            "308 concatenate_5 True\n",
            "309 activation_484 True\n",
            "310 mixed10 True\n",
            "Model: \"tl_model\"\n",
            "_________________________________________________________________\n",
            " Layer (type)                Output Shape              Param #   \n",
            "=================================================================\n",
            " input_8 (InputLayer)        [(None, 256, 256, 3)]     0         \n",
            "                                                                 \n",
            " inception_v3 (Functional)   (None, 6, 6, 2048)        21802784  \n",
            "                                                                 \n",
            " Flattening (Flatten)        (None, 73728)             0         \n",
            "                                                                 \n",
            " dropout_3 (Dropout)         (None, 73728)             0         \n",
            "                                                                 \n",
            " dense_3 (Dense)             (None, 8)                 589832    \n",
            "                                                                 \n",
            "=================================================================\n",
            "Total params: 22,392,616\n",
            "Trainable params: 13,401,736\n",
            "Non-trainable params: 8,990,880\n",
            "_________________________________________________________________\n"
          ]
        }
      ],
      "source": [
        "# Freeze first 229 layers \n",
        "for i, layer in enumerate(ft_iv3_cw_model.get_layer('inception_v3').layers[:229]):\n",
        "  layer.trainable=False\n",
        "for i, layer in enumerate(ft_iv3_cw_model.get_layer('inception_v3').layers):\n",
        "   print(i, layer.name, layer.trainable)\n",
        "ft_iv3_cw_model.summary()"
      ]
    },
    {
      "cell_type": "code",
      "execution_count": null,
      "metadata": {
        "id": "lU1ORV_1JXd2"
      },
      "outputs": [],
      "source": [
        "# Various learning rates were experimented but smaller rates were preferred for fine tuning\n",
        "loss = tf.keras.losses.CategoricalCrossentropy()\n",
        "lr = 5e-4\n",
        "m = 0.9\n",
        "optimizer = tf.keras.optimizers.SGD(learning_rate=lr, momentum=m)\n",
        "metrics = ['accuracy']\n",
        "ft_iv3_cw_model.compile(loss=loss, optimizer=optimizer, metrics=metrics)"
      ]
    },
    {
      "cell_type": "code",
      "execution_count": null,
      "metadata": {
        "colab": {
          "base_uri": "https://localhost:8080/"
        },
        "id": "Rk_mnfjtJbdF",
        "outputId": "94f25314-aa71-4258-fe79-5a281a630d0c"
      },
      "outputs": [
        {
          "name": "stdout",
          "output_type": "stream",
          "text": [
            "Epoch 1/200\n",
            "45/45 [==============================] - 1190s 26s/step - loss: 0.1203 - accuracy: 0.9573 - val_loss: 0.3192 - val_accuracy: 0.9122\n",
            "Epoch 2/200\n",
            "45/45 [==============================] - 53s 1s/step - loss: 0.1217 - accuracy: 0.9573 - val_loss: 0.3247 - val_accuracy: 0.9065\n",
            "Epoch 3/200\n",
            "45/45 [==============================] - 53s 1s/step - loss: 0.1170 - accuracy: 0.9591 - val_loss: 0.3145 - val_accuracy: 0.9122\n",
            "Epoch 4/200\n",
            "45/45 [==============================] - 53s 1s/step - loss: 0.1222 - accuracy: 0.9580 - val_loss: 0.3079 - val_accuracy: 0.9108\n",
            "Epoch 5/200\n",
            "45/45 [==============================] - 54s 1s/step - loss: 0.0920 - accuracy: 0.9693 - val_loss: 0.3180 - val_accuracy: 0.9093\n",
            "Epoch 6/200\n",
            "45/45 [==============================] - 54s 1s/step - loss: 0.0925 - accuracy: 0.9661 - val_loss: 0.3212 - val_accuracy: 0.9079\n",
            "Epoch 7/200\n",
            "45/45 [==============================] - 53s 1s/step - loss: 0.0935 - accuracy: 0.9658 - val_loss: 0.3077 - val_accuracy: 0.9193\n",
            "Epoch 8/200\n",
            "45/45 [==============================] - 53s 1s/step - loss: 0.1001 - accuracy: 0.9647 - val_loss: 0.3126 - val_accuracy: 0.9193\n",
            "Epoch 9/200\n",
            "45/45 [==============================] - 55s 1s/step - loss: 0.1056 - accuracy: 0.9587 - val_loss: 0.3170 - val_accuracy: 0.9108\n",
            "Epoch 10/200\n",
            "45/45 [==============================] - 53s 1s/step - loss: 0.0931 - accuracy: 0.9665 - val_loss: 0.3211 - val_accuracy: 0.9108\n",
            "Epoch 11/200\n",
            "45/45 [==============================] - 53s 1s/step - loss: 0.1008 - accuracy: 0.9647 - val_loss: 0.3135 - val_accuracy: 0.9136\n",
            "Epoch 12/200\n",
            "45/45 [==============================] - 53s 1s/step - loss: 0.0906 - accuracy: 0.9700 - val_loss: 0.3124 - val_accuracy: 0.9193\n",
            "Epoch 13/200\n",
            "45/45 [==============================] - 53s 1s/step - loss: 0.1034 - accuracy: 0.9669 - val_loss: 0.3062 - val_accuracy: 0.9164\n",
            "Epoch 14/200\n",
            "45/45 [==============================] - 53s 1s/step - loss: 0.0927 - accuracy: 0.9658 - val_loss: 0.3078 - val_accuracy: 0.9136\n",
            "Epoch 15/200\n",
            "45/45 [==============================] - 55s 1s/step - loss: 0.0943 - accuracy: 0.9679 - val_loss: 0.3041 - val_accuracy: 0.9108\n",
            "Epoch 16/200\n",
            "45/45 [==============================] - 53s 1s/step - loss: 0.0982 - accuracy: 0.9637 - val_loss: 0.2996 - val_accuracy: 0.9150\n",
            "Epoch 17/200\n",
            "45/45 [==============================] - 53s 1s/step - loss: 0.0983 - accuracy: 0.9661 - val_loss: 0.2967 - val_accuracy: 0.9207\n",
            "Epoch 18/200\n",
            "45/45 [==============================] - 53s 1s/step - loss: 0.0726 - accuracy: 0.9725 - val_loss: 0.3004 - val_accuracy: 0.9221\n",
            "Epoch 19/200\n",
            "45/45 [==============================] - 53s 1s/step - loss: 0.0909 - accuracy: 0.9672 - val_loss: 0.3080 - val_accuracy: 0.9207\n",
            "Epoch 20/200\n",
            "45/45 [==============================] - 53s 1s/step - loss: 0.0791 - accuracy: 0.9690 - val_loss: 0.3142 - val_accuracy: 0.9150\n",
            "Epoch 21/200\n",
            "45/45 [==============================] - 53s 1s/step - loss: 0.0889 - accuracy: 0.9679 - val_loss: 0.3047 - val_accuracy: 0.9150\n",
            "Epoch 22/200\n",
            "45/45 [==============================] - 53s 1s/step - loss: 0.0868 - accuracy: 0.9693 - val_loss: 0.3165 - val_accuracy: 0.9164\n",
            "Epoch 23/200\n",
            "45/45 [==============================] - 53s 1s/step - loss: 0.0892 - accuracy: 0.9633 - val_loss: 0.3093 - val_accuracy: 0.9122\n",
            "Epoch 24/200\n",
            "45/45 [==============================] - 54s 1s/step - loss: 0.0832 - accuracy: 0.9693 - val_loss: 0.3063 - val_accuracy: 0.9136\n",
            "Epoch 25/200\n",
            "45/45 [==============================] - 53s 1s/step - loss: 0.0809 - accuracy: 0.9714 - val_loss: 0.3161 - val_accuracy: 0.9122\n",
            "Epoch 26/200\n",
            "45/45 [==============================] - 52s 1s/step - loss: 0.0894 - accuracy: 0.9690 - val_loss: 0.3243 - val_accuracy: 0.9150\n",
            "Epoch 27/200\n",
            "45/45 [==============================] - 52s 1s/step - loss: 0.0855 - accuracy: 0.9704 - val_loss: 0.3148 - val_accuracy: 0.9136\n"
          ]
        }
      ],
      "source": [
        "# Create folders and callbacks and fit\n",
        "iv3_cw_ft_callbacks = create_folders_and_callbacks(model_name='CNN_TL_IV3_BS64_CW_FT')\n",
        "\n",
        "# Train the model\n",
        "ft_iv3_cw_history = ft_iv3_cw_model.fit(\n",
        "    x = aug_train_gen,\n",
        "    epochs = epochs,\n",
        "    validation_data = valid_gen,\n",
        "    callbacks = iv3_cw_ft_callbacks,\n",
        "    class_weight = class_weights_dict,\n",
        ").history"
      ]
    },
    {
      "cell_type": "code",
      "execution_count": null,
      "metadata": {
        "colab": {
          "base_uri": "https://localhost:8080/"
        },
        "id": "EJT4KzeBMu7W",
        "outputId": "88471986-8841-4c72-ed46-5af457ad4f42"
      },
      "outputs": [
        {
          "name": "stderr",
          "output_type": "stream",
          "text": [
            "WARNING:absl:Found untraced functions such as _jit_compiled_convolution_op, _jit_compiled_convolution_op, _jit_compiled_convolution_op, _jit_compiled_convolution_op, _jit_compiled_convolution_op while saving (showing 5 of 94). These functions will not be directly callable after loading.\n"
          ]
        }
      ],
      "source": [
        "# Save best epoch model\n",
        "ft_iv3_cw_model.save(\"data_augmentation_experiments/CNN_IV3_BS64_SGD_CW_FT\")"
      ]
    },
    {
      "cell_type": "code",
      "execution_count": null,
      "metadata": {
        "colab": {
          "base_uri": "https://localhost:8080/",
          "height": 655
        },
        "id": "BZrYE6uraXWn",
        "outputId": "84c1f56f-3624-4a11-f99f-18f7c316e856"
      },
      "outputs": [
        {
          "data": {
            "image/png": "[encoded data removed]",
            "text/plain": [
              "<Figure size 1440x360 with 1 Axes>"
            ]
          },
          "metadata": {},
          "output_type": "display_data"
        },
        {
          "data": {
            "image/png": "[encoded data removed]",
            "text/plain": [
              "<Figure size 1440x360 with 1 Axes>"
            ]
          },
          "metadata": {},
          "output_type": "display_data"
        }
      ],
      "source": [
        "# Plot the training\n",
        "plt.figure(figsize=(20,5))\n",
        "plt.plot(ft_iv3_cw_history['loss'], label='Training', alpha=.8, color='#ff7f0e')\n",
        "plt.plot(ft_iv3_cw_history['val_loss'], label='Validation', alpha=.8, color='#4D61E2')\n",
        "plt.legend(loc='upper left')\n",
        "plt.title('Categorical Crossentropy')\n",
        "plt.grid(alpha=.3)\n",
        "\n",
        "plt.figure(figsize=(20,5))\n",
        "plt.plot(ft_iv3_cw_history['accuracy'], label='Training', alpha=.8, color='#ff7f0e')\n",
        "plt.plot(ft_iv3_cw_history['val_accuracy'], label='Validation', alpha=.8, color='#4D61E2')\n",
        "plt.legend(loc='upper left')\n",
        "plt.title('Accuracy')\n",
        "plt.grid(alpha=.3)\n",
        "\n",
        "plt.show()"
      ]
    },
    {
      "cell_type": "markdown",
      "source": [
        "# Generators with input size 96x96"
      ],
      "metadata": {
        "id": "pNC3KoJGhsqv"
      }
    },
    {
      "cell_type": "code",
      "execution_count": null,
      "metadata": {
        "colab": {
          "base_uri": "https://localhost:8080/"
        },
        "id": "O41_EGVzan_W",
        "outputId": "71c563b8-2d97-4829-82ff-c94b68d8877c"
      },
      "outputs": [
        {
          "name": "stdout",
          "output_type": "stream",
          "text": [
            "Found 2836 images belonging to 8 classes.\n",
            "Found 706 images belonging to 8 classes.\n"
          ]
        }
      ],
      "source": [
        "from keras.preprocessing.image import ImageDataGenerator\n",
        "\n",
        "valid_data_gen = ImageDataGenerator(rescale=1/255., validation_split=0.2)\n",
        "\n",
        "# Create an instance of ImageDataGenerator with Data Augmentation\n",
        "aug_train_data_gen = ImageDataGenerator(rotation_range=90,\n",
        "                                        height_shift_range=50,\n",
        "                                        width_shift_range=50,\n",
        "                                        zoom_range=0.3,\n",
        "                                        horizontal_flip=True,\n",
        "                                        vertical_flip=True, \n",
        "                                        fill_mode='reflect',\n",
        "                                        shear_range=0.2,\n",
        "                                        validation_split=0.2,\n",
        "                                        rescale=1/255.) # rescale value is multiplied to the image\n",
        "\n",
        "# Obtain a data generator with the 'ImageDataGenerator.flow_from_directory' method\n",
        "aug_train_gen = aug_train_data_gen.flow_from_directory(directory='/gdrive/My Drive/AN2DL/training_data_final',\n",
        "                                                       target_size=(96,96),\n",
        "                                                       color_mode='rgb',\n",
        "                                                       classes=None, # can be set to labels\n",
        "                                                       class_mode='categorical',\n",
        "                                                       batch_size=64,\n",
        "                                                       subset='training',\n",
        "                                                       shuffle=True,\n",
        "                                                       seed=seed)\n",
        "\n",
        "valid_gen = valid_data_gen.flow_from_directory('/gdrive/My Drive/AN2DL/training_data_final',\n",
        "                                              target_size=(96,96),\n",
        "                                              batch_size=64,\n",
        "                                              color_mode='rgb',\n",
        "                                              class_mode='categorical',\n",
        "                                              classes=None,\n",
        "                                              subset='validation',\n",
        "                                              shuffle=True,\n",
        "                                              seed=seed)"
      ]
    },
    {
      "cell_type": "code",
      "execution_count": null,
      "metadata": {
        "id": "bdBRemzzg6Gr"
      },
      "outputs": [],
      "source": [
        "input_shape = (96, 96, 3)\n",
        "epochs = 200"
      ]
    },
    {
      "cell_type": "code",
      "execution_count": null,
      "metadata": {
        "colab": {
          "base_uri": "https://localhost:8080/"
        },
        "id": "t18cLhJJhDR1",
        "outputId": "67c48c11-008b-4e56-b510-7ac69ba156a0"
      },
      "outputs": [
        {
          "name": "stdout",
          "output_type": "stream",
          "text": [
            "Model: \"tl_model\"\n",
            "_________________________________________________________________\n",
            " Layer (type)                Output Shape              Param #   \n",
            "=================================================================\n",
            " input_4 (InputLayer)        [(None, 96, 96, 3)]       0         \n",
            "                                                                 \n",
            " inception_v3 (Functional)   (None, 1, 1, 2048)        21802784  \n",
            "                                                                 \n",
            " Flattening (Flatten)        (None, 2048)              0         \n",
            "                                                                 \n",
            " dropout_1 (Dropout)         (None, 2048)              0         \n",
            "                                                                 \n",
            " dense_1 (Dense)             (None, 8)                 16392     \n",
            "                                                                 \n",
            "=================================================================\n",
            "Total params: 21,819,176\n",
            "Trainable params: 21,784,744\n",
            "Non-trainable params: 34,432\n",
            "_________________________________________________________________\n"
          ]
        }
      ],
      "source": [
        "## InceptionV3\n",
        "iv3 = tf.keras.applications.InceptionV3(weights='imagenet', include_top=False, input_shape=input_shape)\n",
        "inputs = tfk.Input(shape=input_shape)\n",
        "x = iv3(inputs)\n",
        "x = tfkl.Flatten(name='Flattening')(x)\n",
        "x = tfkl.Dropout(0.4, seed=seed)(x)  \n",
        "output_layer = tfkl.Dense(\n",
        "    8, \n",
        "    activation='softmax',\n",
        "    kernel_initializer = tfk.initializers.GlorotUniform(seed),\n",
        "    kernel_regularizer=tf.keras.regularizers.l2(0.0001))(x)\n",
        "\n",
        "\n",
        "tl_model = tfk.Model(inputs=inputs, outputs=output_layer, name='tl_model')\n",
        "\n",
        "# Compile the model\n",
        "tl_model.compile(loss=tfk.losses.CategoricalCrossentropy(), optimizer=tfk.optimizers.SGD(), metrics=['accuracy'])\n",
        "\n",
        "\n",
        "tl_model.summary()"
      ]
    },
    {
      "cell_type": "code",
      "execution_count": null,
      "metadata": {
        "colab": {
          "base_uri": "https://localhost:8080/"
        },
        "id": "QeMglG7ahdJ_",
        "outputId": "eb2a5ad4-d1f5-442e-9842-a8b2cdbeb7ee"
      },
      "outputs": [
        {
          "name": "stdout",
          "output_type": "stream",
          "text": [
            "Epoch 1/200\n",
            "45/45 [==============================] - 1114s 25s/step - loss: 2.1027 - accuracy: 0.1657 - val_loss: 2.5699 - val_accuracy: 0.1856\n",
            "Epoch 2/200\n",
            "45/45 [==============================] - 19s 418ms/step - loss: 1.8738 - accuracy: 0.2821 - val_loss: 2.0798 - val_accuracy: 0.1388\n",
            "Epoch 3/200\n",
            "45/45 [==============================] - 19s 414ms/step - loss: 1.6832 - accuracy: 0.3706 - val_loss: 2.1515 - val_accuracy: 0.1941\n",
            "Epoch 4/200\n",
            "45/45 [==============================] - 20s 441ms/step - loss: 1.5791 - accuracy: 0.4182 - val_loss: 2.3007 - val_accuracy: 0.2167\n",
            "Epoch 5/200\n",
            "45/45 [==============================] - 20s 447ms/step - loss: 1.4631 - accuracy: 0.4714 - val_loss: 1.6320 - val_accuracy: 0.3867\n",
            "Epoch 6/200\n",
            "45/45 [==============================] - 20s 437ms/step - loss: 1.3812 - accuracy: 0.5085 - val_loss: 1.3634 - val_accuracy: 0.4759\n",
            "Epoch 7/200\n",
            "45/45 [==============================] - 19s 416ms/step - loss: 1.3287 - accuracy: 0.5205 - val_loss: 1.4211 - val_accuracy: 0.5156\n",
            "Epoch 8/200\n",
            "45/45 [==============================] - 19s 433ms/step - loss: 1.2698 - accuracy: 0.5550 - val_loss: 1.3974 - val_accuracy: 0.5227\n",
            "Epoch 9/200\n",
            "45/45 [==============================] - 20s 452ms/step - loss: 1.2331 - accuracy: 0.5469 - val_loss: 1.1392 - val_accuracy: 0.5552\n",
            "Epoch 10/200\n",
            "45/45 [==============================] - 19s 432ms/step - loss: 1.1664 - accuracy: 0.5807 - val_loss: 1.1521 - val_accuracy: 0.5552\n",
            "Epoch 11/200\n",
            "45/45 [==============================] - 19s 419ms/step - loss: 1.1552 - accuracy: 0.5896 - val_loss: 1.0981 - val_accuracy: 0.5878\n",
            "Epoch 12/200\n",
            "45/45 [==============================] - 19s 430ms/step - loss: 1.1158 - accuracy: 0.6083 - val_loss: 1.0148 - val_accuracy: 0.6034\n",
            "Epoch 13/200\n",
            "45/45 [==============================] - 18s 410ms/step - loss: 1.0942 - accuracy: 0.6227 - val_loss: 1.1527 - val_accuracy: 0.5765\n",
            "Epoch 14/200\n",
            "45/45 [==============================] - 20s 442ms/step - loss: 1.0693 - accuracy: 0.6160 - val_loss: 1.0971 - val_accuracy: 0.6020\n",
            "Epoch 15/200\n",
            "45/45 [==============================] - 19s 428ms/step - loss: 1.0425 - accuracy: 0.6248 - val_loss: 0.9351 - val_accuracy: 0.6544\n",
            "Epoch 16/200\n",
            "45/45 [==============================] - 19s 413ms/step - loss: 0.9866 - accuracy: 0.6435 - val_loss: 0.9652 - val_accuracy: 0.6346\n",
            "Epoch 17/200\n",
            "45/45 [==============================] - 20s 436ms/step - loss: 0.9893 - accuracy: 0.6477 - val_loss: 1.0681 - val_accuracy: 0.6133\n",
            "Epoch 18/200\n",
            "45/45 [==============================] - 20s 449ms/step - loss: 0.9628 - accuracy: 0.6569 - val_loss: 0.9411 - val_accuracy: 0.6459\n",
            "Epoch 19/200\n",
            "45/45 [==============================] - 20s 450ms/step - loss: 0.9636 - accuracy: 0.6530 - val_loss: 0.9251 - val_accuracy: 0.6643\n",
            "Epoch 20/200\n",
            "45/45 [==============================] - 20s 433ms/step - loss: 0.9222 - accuracy: 0.6668 - val_loss: 1.0168 - val_accuracy: 0.6275\n",
            "Epoch 21/200\n",
            "45/45 [==============================] - 20s 452ms/step - loss: 0.9164 - accuracy: 0.6756 - val_loss: 0.9394 - val_accuracy: 0.6473\n",
            "Epoch 22/200\n",
            "45/45 [==============================] - 20s 447ms/step - loss: 0.9155 - accuracy: 0.6618 - val_loss: 0.8356 - val_accuracy: 0.6884\n",
            "Epoch 23/200\n",
            "45/45 [==============================] - 20s 444ms/step - loss: 0.8977 - accuracy: 0.6788 - val_loss: 0.8489 - val_accuracy: 0.6785\n",
            "Epoch 24/200\n",
            "45/45 [==============================] - 19s 422ms/step - loss: 0.8757 - accuracy: 0.6922 - val_loss: 0.9002 - val_accuracy: 0.6629\n",
            "Epoch 25/200\n",
            "45/45 [==============================] - 20s 438ms/step - loss: 0.8535 - accuracy: 0.7017 - val_loss: 0.8867 - val_accuracy: 0.6799\n",
            "Epoch 26/200\n",
            "45/45 [==============================] - 19s 420ms/step - loss: 0.8812 - accuracy: 0.6879 - val_loss: 0.9871 - val_accuracy: 0.6530\n",
            "Epoch 27/200\n",
            "45/45 [==============================] - 21s 460ms/step - loss: 0.8240 - accuracy: 0.7094 - val_loss: 0.9414 - val_accuracy: 0.6629\n",
            "Epoch 28/200\n",
            "45/45 [==============================] - 20s 448ms/step - loss: 0.8175 - accuracy: 0.7070 - val_loss: 1.1533 - val_accuracy: 0.6034\n",
            "Epoch 29/200\n",
            "45/45 [==============================] - 19s 421ms/step - loss: 0.8323 - accuracy: 0.7017 - val_loss: 1.1658 - val_accuracy: 0.5992\n",
            "Epoch 30/200\n",
            "45/45 [==============================] - 21s 479ms/step - loss: 0.7937 - accuracy: 0.7169 - val_loss: 0.9914 - val_accuracy: 0.6615\n",
            "Epoch 31/200\n",
            "45/45 [==============================] - 19s 416ms/step - loss: 0.8420 - accuracy: 0.7151 - val_loss: 0.8025 - val_accuracy: 0.7110\n",
            "Epoch 32/200\n",
            "45/45 [==============================] - 20s 440ms/step - loss: 0.7796 - accuracy: 0.7197 - val_loss: 0.8670 - val_accuracy: 0.6941\n",
            "Epoch 33/200\n",
            "45/45 [==============================] - 19s 421ms/step - loss: 0.7213 - accuracy: 0.7468 - val_loss: 0.9445 - val_accuracy: 0.6700\n",
            "Epoch 34/200\n",
            "45/45 [==============================] - 20s 448ms/step - loss: 0.7660 - accuracy: 0.7267 - val_loss: 1.0081 - val_accuracy: 0.6601\n",
            "Epoch 35/200\n",
            "45/45 [==============================] - 21s 454ms/step - loss: 0.7803 - accuracy: 0.7207 - val_loss: 0.8375 - val_accuracy: 0.7110\n",
            "Epoch 36/200\n",
            "45/45 [==============================] - 19s 415ms/step - loss: 0.7575 - accuracy: 0.7327 - val_loss: 0.8075 - val_accuracy: 0.7408\n",
            "Epoch 37/200\n",
            "45/45 [==============================] - 20s 441ms/step - loss: 0.7509 - accuracy: 0.7338 - val_loss: 0.9224 - val_accuracy: 0.6827\n",
            "Epoch 38/200\n",
            "45/45 [==============================] - 20s 448ms/step - loss: 0.7316 - accuracy: 0.7482 - val_loss: 0.9241 - val_accuracy: 0.6629\n",
            "Epoch 39/200\n",
            "45/45 [==============================] - 19s 420ms/step - loss: 0.7398 - accuracy: 0.7334 - val_loss: 0.8175 - val_accuracy: 0.7153\n",
            "Epoch 40/200\n",
            "45/45 [==============================] - 20s 443ms/step - loss: 0.6967 - accuracy: 0.7662 - val_loss: 1.0463 - val_accuracy: 0.6586\n",
            "Epoch 41/200\n",
            "45/45 [==============================] - 19s 414ms/step - loss: 0.7423 - accuracy: 0.7482 - val_loss: 0.8052 - val_accuracy: 0.7280\n"
          ]
        }
      ],
      "source": [
        "# Create folders and callbacks and fit\n",
        "iv3_tl_callbacks = create_folders_and_callbacks(model_name='CNN_IV3_BS64_SGD_CW_ORIG')\n",
        "\n",
        "# Train the model\n",
        "iv3_tl_history = tl_model.fit(\n",
        "    x = aug_train_gen,\n",
        "    epochs = epochs,\n",
        "    validation_data = valid_gen,\n",
        "    callbacks = iv3_tl_callbacks,\n",
        "    class_weight = class_weights_dict,\n",
        ").history"
      ]
    },
    {
      "cell_type": "markdown",
      "source": [
        "# Training InceptionV3 with larger batch size (128)"
      ],
      "metadata": {
        "id": "7VaQOZEaiLYQ"
      }
    },
    {
      "cell_type": "code",
      "source": [
        "## InceptionV3 with 128 batch size\n",
        "iv3 = tf.keras.applications.InceptionV3(weights='imagenet', include_top=False, input_shape=input_shape)\n",
        "inputs = tfk.Input(shape=input_shape)\n",
        "x = iv3(inputs)\n",
        "x = tfkl.Flatten(name='Flattening')(x)\n",
        "x = tfkl.Dropout(0.4, seed=seed)(x)  \n",
        "output_layer = tfkl.Dense(\n",
        "    8, \n",
        "    activation='softmax',\n",
        "    kernel_initializer = tfk.initializers.GlorotUniform(seed),\n",
        "    kernel_regularizer=tf.keras.regularizers.l2(0.0001))(x)\n",
        "\n",
        "\n",
        "tl_model = tfk.Model(inputs=inputs, outputs=output_layer, name='tl_model')\n",
        "\n",
        "# Compile the model\n",
        "tl_model.compile(loss=tfk.losses.CategoricalCrossentropy(), optimizer=tfk.optimizers.SGD(), metrics=['accuracy'])\n",
        "\n",
        "\n",
        "tl_model.summary()"
      ],
      "metadata": {
        "colab": {
          "base_uri": "https://localhost:8080/"
        },
        "id": "C4oAHsjDDgwE",
        "outputId": "4ab6ffa1-9bd2-475b-84b3-822365fe0155"
      },
      "execution_count": 18,
      "outputs": [
        {
          "output_type": "stream",
          "name": "stdout",
          "text": [
            "Downloading data from https://storage.googleapis.com/tensorflow/keras-applications/inception_v3/inception_v3_weights_tf_dim_ordering_tf_kernels_notop.h5\n",
            "87910968/87910968 [==============================] - 5s 0us/step\n",
            "Model: \"tl_model\"\n",
            "_________________________________________________________________\n",
            " Layer (type)                Output Shape              Param #   \n",
            "=================================================================\n",
            " input_2 (InputLayer)        [(None, 256, 256, 3)]     0         \n",
            "                                                                 \n",
            " inception_v3 (Functional)   (None, 6, 6, 2048)        21802784  \n",
            "                                                                 \n",
            " Flattening (Flatten)        (None, 73728)             0         \n",
            "                                                                 \n",
            " dropout (Dropout)           (None, 73728)             0         \n",
            "                                                                 \n",
            " dense (Dense)               (None, 8)                 589832    \n",
            "                                                                 \n",
            "=================================================================\n",
            "Total params: 22,392,616\n",
            "Trainable params: 22,358,184\n",
            "Non-trainable params: 34,432\n",
            "_________________________________________________________________\n"
          ]
        }
      ]
    },
    {
      "cell_type": "code",
      "source": [
        "# Create folders and callbacks and fit\n",
        "iv3_tl_callbacks = create_folders_and_callbacks(model_name='CNN_IV3_BS128_SGD_CW')\n",
        "\n",
        "# Train the model\n",
        "iv3_tl_history = tl_model.fit(\n",
        "    x = aug_train_gen,\n",
        "    epochs = epochs,\n",
        "    validation_data = valid_gen,\n",
        "    callbacks = iv3_tl_callbacks,\n",
        "    class_weight = class_weights_dict,\n",
        ").history"
      ],
      "metadata": {
        "colab": {
          "base_uri": "https://localhost:8080/"
        },
        "id": "Q_knv4GhD47V",
        "outputId": "aee71b42-1cbe-4002-8787-389742fbaa68"
      },
      "execution_count": null,
      "outputs": [
        {
          "output_type": "stream",
          "name": "stdout",
          "text": [
            "Epoch 1/200\n",
            "23/23 [==============================] - 1948s 84s/step - loss: 3.8841 - accuracy: 0.1481 - val_loss: 2.5873 - val_accuracy: 0.1445\n",
            "Epoch 2/200\n",
            "23/23 [==============================] - 55s 2s/step - loss: 2.2406 - accuracy: 0.1382 - val_loss: 5.6150 - val_accuracy: 0.1530\n",
            "Epoch 3/200\n",
            "23/23 [==============================] - 55s 2s/step - loss: 2.2536 - accuracy: 0.1696 - val_loss: 9.8839 - val_accuracy: 0.1487\n",
            "Epoch 4/200\n",
            "23/23 [==============================] - 55s 2s/step - loss: 2.1506 - accuracy: 0.1894 - val_loss: 8.5609 - val_accuracy: 0.1459\n",
            "Epoch 5/200\n",
            "23/23 [==============================] - 55s 2s/step - loss: 2.0693 - accuracy: 0.1929 - val_loss: 5.3337 - val_accuracy: 0.1530\n",
            "Epoch 6/200\n",
            "23/23 [==============================] - 55s 2s/step - loss: 1.8971 - accuracy: 0.2616 - val_loss: 3.3648 - val_accuracy: 0.1686\n",
            "Epoch 7/200\n",
            "23/23 [==============================] - 55s 2s/step - loss: 1.7966 - accuracy: 0.3558 - val_loss: 2.5272 - val_accuracy: 0.1714\n",
            "Epoch 8/200\n",
            "23/23 [==============================] - 55s 2s/step - loss: 1.7543 - accuracy: 0.3762 - val_loss: 2.3798 - val_accuracy: 0.1955\n",
            "Epoch 9/200\n",
            "23/23 [==============================] - 55s 2s/step - loss: 1.7133 - accuracy: 0.3780 - val_loss: 2.2564 - val_accuracy: 0.2054\n",
            "Epoch 10/200\n",
            "23/23 [==============================] - 55s 2s/step - loss: 1.6507 - accuracy: 0.4810 - val_loss: 2.1811 - val_accuracy: 0.3300\n",
            "Epoch 11/200\n",
            "23/23 [==============================] - 56s 2s/step - loss: 1.4881 - accuracy: 0.5138 - val_loss: 1.6013 - val_accuracy: 0.3598\n",
            "Epoch 12/200\n",
            "23/23 [==============================] - 55s 2s/step - loss: 1.3722 - accuracy: 0.5328 - val_loss: 1.5145 - val_accuracy: 0.4037\n",
            "Epoch 13/200\n",
            "23/23 [==============================] - 55s 2s/step - loss: 1.3585 - accuracy: 0.5501 - val_loss: 1.4143 - val_accuracy: 0.4547\n",
            "Epoch 14/200\n",
            "23/23 [==============================] - 55s 2s/step - loss: 1.2044 - accuracy: 0.5561 - val_loss: 1.2800 - val_accuracy: 0.5028\n",
            "Epoch 15/200\n",
            "23/23 [==============================] - 55s 2s/step - loss: 1.1727 - accuracy: 0.5966 - val_loss: 1.1296 - val_accuracy: 0.5538\n",
            "Epoch 16/200\n",
            "23/23 [==============================] - 55s 2s/step - loss: 1.0881 - accuracy: 0.6294 - val_loss: 1.1607 - val_accuracy: 0.5567\n",
            "Epoch 17/200\n",
            "23/23 [==============================] - 54s 2s/step - loss: 1.1627 - accuracy: 0.6280 - val_loss: 1.1509 - val_accuracy: 0.5425\n",
            "Epoch 18/200\n",
            "23/23 [==============================] - 55s 2s/step - loss: 1.0442 - accuracy: 0.6291 - val_loss: 1.0857 - val_accuracy: 0.5779\n",
            "Epoch 19/200\n",
            "23/23 [==============================] - 55s 2s/step - loss: 1.0925 - accuracy: 0.6668 - val_loss: 0.9511 - val_accuracy: 0.6289\n",
            "Epoch 20/200\n",
            "23/23 [==============================] - 55s 2s/step - loss: 1.0383 - accuracy: 0.6555 - val_loss: 1.0004 - val_accuracy: 0.5807\n",
            "Epoch 21/200\n",
            "23/23 [==============================] - 55s 2s/step - loss: 0.9573 - accuracy: 0.6760 - val_loss: 0.9318 - val_accuracy: 0.6303\n",
            "Epoch 22/200\n",
            "23/23 [==============================] - 55s 2s/step - loss: 0.8998 - accuracy: 0.6950 - val_loss: 0.8500 - val_accuracy: 0.6926\n",
            "Epoch 23/200\n",
            "23/23 [==============================] - 55s 2s/step - loss: 0.9316 - accuracy: 0.6869 - val_loss: 0.9463 - val_accuracy: 0.6615\n",
            "Epoch 24/200\n",
            "23/23 [==============================] - 55s 2s/step - loss: 0.8723 - accuracy: 0.7119 - val_loss: 0.8480 - val_accuracy: 0.6657\n",
            "Epoch 25/200\n",
            "23/23 [==============================] - 55s 2s/step - loss: 0.7986 - accuracy: 0.7405 - val_loss: 0.9730 - val_accuracy: 0.7096\n",
            "Epoch 26/200\n",
            "23/23 [==============================] - 55s 2s/step - loss: 0.8047 - accuracy: 0.7398 - val_loss: 0.9820 - val_accuracy: 0.7040\n",
            "Epoch 27/200\n",
            "23/23 [==============================] - 55s 2s/step - loss: 0.7599 - accuracy: 0.7514 - val_loss: 0.8151 - val_accuracy: 0.7195\n",
            "Epoch 28/200\n",
            "23/23 [==============================] - 55s 2s/step - loss: 0.7466 - accuracy: 0.7630 - val_loss: 0.8148 - val_accuracy: 0.7195\n",
            "Epoch 29/200\n",
            "23/23 [==============================] - 55s 2s/step - loss: 0.7411 - accuracy: 0.7659 - val_loss: 0.7045 - val_accuracy: 0.7465\n",
            "Epoch 30/200\n",
            "23/23 [==============================] - 55s 2s/step - loss: 0.8471 - accuracy: 0.7246 - val_loss: 1.2163 - val_accuracy: 0.5595\n",
            "Epoch 31/200\n",
            "23/23 [==============================] - ETA: 0s - loss: 0.8677 - accuracy: 0.7200"
          ]
        }
      ]
    },
    {
      "cell_type": "markdown",
      "source": [
        "# ResNet50V2 with SGD Optmizer"
      ],
      "metadata": {
        "id": "iKmR_37ciWnp"
      }
    },
    {
      "cell_type": "code",
      "source": [
        "## Resnet50V2 with 64 batch size\n",
        "resnet_cw = tf.keras.applications.ResNet50V2(weights='imagenet', include_top=False, input_shape=input_shape)\n",
        "inputs = tfk.Input(shape=input_shape)\n",
        "x = resnet_cw(inputs)\n",
        "x = tfkl.Flatten(name='Flattening')(x)\n",
        "x = tfkl.Dropout(0.4, seed=seed)(x)  \n",
        "output_layer = tfkl.Dense(\n",
        "    8, \n",
        "    activation='softmax',\n",
        "    kernel_initializer = tfk.initializers.GlorotUniform(seed),\n",
        "    kernel_regularizer=tf.keras.regularizers.l2(0.0001))(x)\n",
        "\n",
        "\n",
        "resnet_tl_model = tfk.Model(inputs=inputs, outputs=output_layer, name='resnet_tl_model')\n",
        "\n",
        "# Compile the model\n",
        "resnet_tl_model.compile(loss=tfk.losses.CategoricalCrossentropy(), optimizer=tfk.optimizers.SGD(), metrics=['accuracy'])\n",
        "\n",
        "\n",
        "resnet_tl_model.summary()"
      ],
      "metadata": {
        "colab": {
          "base_uri": "https://localhost:8080/"
        },
        "id": "ZdajjKoQJVDT",
        "outputId": "93b95182-76a9-4f17-ad7e-efd4bae92c47"
      },
      "execution_count": 10,
      "outputs": [
        {
          "output_type": "stream",
          "name": "stdout",
          "text": [
            "Downloading data from https://storage.googleapis.com/tensorflow/keras-applications/resnet/resnet50v2_weights_tf_dim_ordering_tf_kernels_notop.h5\n",
            "94668760/94668760 [==============================] - 4s 0us/step\n",
            "Model: \"resnet_tl_model\"\n",
            "_________________________________________________________________\n",
            " Layer (type)                Output Shape              Param #   \n",
            "=================================================================\n",
            " input_2 (InputLayer)        [(None, 256, 256, 3)]     0         \n",
            "                                                                 \n",
            " resnet50v2 (Functional)     (None, 8, 8, 2048)        23564800  \n",
            "                                                                 \n",
            " Flattening (Flatten)        (None, 131072)            0         \n",
            "                                                                 \n",
            " dropout (Dropout)           (None, 131072)            0         \n",
            "                                                                 \n",
            " dense (Dense)               (None, 8)                 1048584   \n",
            "                                                                 \n",
            "=================================================================\n",
            "Total params: 24,613,384\n",
            "Trainable params: 24,567,944\n",
            "Non-trainable params: 45,440\n",
            "_________________________________________________________________\n"
          ]
        }
      ]
    },
    {
      "cell_type": "code",
      "source": [
        "# Create folders and callbacks and fit\n",
        "resnet_tl_callbacks = create_folders_and_callbacks(model_name='CNN_RES50V2_BS64_SGD_CW')\n",
        "\n",
        "# Train the model\n",
        "resnet_tl_history = resnet_tl_model.fit(\n",
        "    x = aug_train_gen,\n",
        "    epochs = epochs,\n",
        "    validation_data = valid_gen,\n",
        "    callbacks = resnet_tl_callbacks,\n",
        "    class_weight = class_weights_dict,\n",
        ").history"
      ],
      "metadata": {
        "colab": {
          "base_uri": "https://localhost:8080/"
        },
        "id": "cPCIFWxWJ1o3",
        "outputId": "80eeceec-b7ca-4462-a5d0-dc793b131199"
      },
      "execution_count": 12,
      "outputs": [
        {
          "output_type": "stream",
          "name": "stdout",
          "text": [
            "Epoch 1/200\n",
            "45/45 [==============================] - 1108s 24s/step - loss: 3.2422 - accuracy: 0.1551 - val_loss: 3089.2659 - val_accuracy: 0.1048\n",
            "Epoch 2/200\n",
            "45/45 [==============================] - 62s 1s/step - loss: 2.3531 - accuracy: 0.2035 - val_loss: 94.9525 - val_accuracy: 0.2054\n",
            "Epoch 3/200\n",
            "45/45 [==============================] - 60s 1s/step - loss: 2.5079 - accuracy: 0.2278 - val_loss: 39.8536 - val_accuracy: 0.2422\n",
            "Epoch 4/200\n",
            "45/45 [==============================] - 67s 1s/step - loss: 2.4925 - accuracy: 0.2676 - val_loss: 2.1619 - val_accuracy: 0.2535\n",
            "Epoch 5/200\n",
            "45/45 [==============================] - 61s 1s/step - loss: 1.8783 - accuracy: 0.3255 - val_loss: 30.1753 - val_accuracy: 0.3144\n",
            "Epoch 6/200\n",
            "45/45 [==============================] - 61s 1s/step - loss: 1.8627 - accuracy: 0.4055 - val_loss: 2.4286 - val_accuracy: 0.2238\n",
            "Epoch 7/200\n",
            "45/45 [==============================] - 61s 1s/step - loss: 1.5800 - accuracy: 0.4774 - val_loss: 1.8073 - val_accuracy: 0.3938\n",
            "Epoch 8/200\n",
            "45/45 [==============================] - 62s 1s/step - loss: 1.2795 - accuracy: 0.5455 - val_loss: 1.4880 - val_accuracy: 0.4320\n",
            "Epoch 9/200\n",
            "45/45 [==============================] - 61s 1s/step - loss: 1.1902 - accuracy: 0.5860 - val_loss: 1.3290 - val_accuracy: 0.5099\n",
            "Epoch 10/200\n",
            "45/45 [==============================] - 61s 1s/step - loss: 1.0885 - accuracy: 0.6135 - val_loss: 1.1987 - val_accuracy: 0.5793\n",
            "Epoch 11/200\n",
            "45/45 [==============================] - 62s 1s/step - loss: 1.0662 - accuracy: 0.6340 - val_loss: 1.2486 - val_accuracy: 0.5992\n",
            "Epoch 12/200\n",
            "45/45 [==============================] - 63s 1s/step - loss: 0.9692 - accuracy: 0.6622 - val_loss: 1.0416 - val_accuracy: 0.6062\n",
            "Epoch 13/200\n",
            "45/45 [==============================] - 62s 1s/step - loss: 0.9780 - accuracy: 0.6611 - val_loss: 0.8593 - val_accuracy: 0.6841\n",
            "Epoch 14/200\n",
            "45/45 [==============================] - 62s 1s/step - loss: 0.8849 - accuracy: 0.6939 - val_loss: 0.8606 - val_accuracy: 0.7110\n",
            "Epoch 15/200\n",
            "45/45 [==============================] - 62s 1s/step - loss: 0.8567 - accuracy: 0.7063 - val_loss: 1.1886 - val_accuracy: 0.6076\n",
            "Epoch 16/200\n",
            "45/45 [==============================] - 62s 1s/step - loss: 0.8251 - accuracy: 0.7179 - val_loss: 0.8974 - val_accuracy: 0.6771\n",
            "Epoch 17/200\n",
            "45/45 [==============================] - 61s 1s/step - loss: 0.7810 - accuracy: 0.7292 - val_loss: 0.9361 - val_accuracy: 0.6756\n",
            "Epoch 18/200\n",
            "45/45 [==============================] - 61s 1s/step - loss: 0.7030 - accuracy: 0.7553 - val_loss: 0.8489 - val_accuracy: 0.7550\n",
            "Epoch 19/200\n",
            "45/45 [==============================] - 61s 1s/step - loss: 0.6969 - accuracy: 0.7507 - val_loss: 0.9242 - val_accuracy: 0.6912\n",
            "Epoch 20/200\n",
            "45/45 [==============================] - 60s 1s/step - loss: 0.6945 - accuracy: 0.7563 - val_loss: 0.7719 - val_accuracy: 0.7606\n",
            "Epoch 21/200\n",
            "45/45 [==============================] - 61s 1s/step - loss: 0.6480 - accuracy: 0.7687 - val_loss: 0.7531 - val_accuracy: 0.7578\n",
            "Epoch 22/200\n",
            "45/45 [==============================] - 61s 1s/step - loss: 0.6094 - accuracy: 0.7807 - val_loss: 0.6977 - val_accuracy: 0.7748\n",
            "Epoch 23/200\n",
            "45/45 [==============================] - 61s 1s/step - loss: 0.6281 - accuracy: 0.7747 - val_loss: 0.7811 - val_accuracy: 0.7380\n",
            "Epoch 24/200\n",
            "45/45 [==============================] - 60s 1s/step - loss: 0.5880 - accuracy: 0.7955 - val_loss: 0.7643 - val_accuracy: 0.7620\n",
            "Epoch 25/200\n",
            "45/45 [==============================] - 61s 1s/step - loss: 0.5532 - accuracy: 0.8089 - val_loss: 0.6193 - val_accuracy: 0.8045\n",
            "Epoch 26/200\n",
            "45/45 [==============================] - 61s 1s/step - loss: 0.5516 - accuracy: 0.8032 - val_loss: 1.1462 - val_accuracy: 0.7776\n",
            "Epoch 27/200\n",
            "45/45 [==============================] - 60s 1s/step - loss: 0.5233 - accuracy: 0.8209 - val_loss: 0.6432 - val_accuracy: 0.7819\n",
            "Epoch 28/200\n",
            "45/45 [==============================] - 60s 1s/step - loss: 0.5146 - accuracy: 0.8226 - val_loss: 0.6641 - val_accuracy: 0.7890\n",
            "Epoch 29/200\n",
            "45/45 [==============================] - 59s 1s/step - loss: 0.5007 - accuracy: 0.8290 - val_loss: 0.6399 - val_accuracy: 0.7932\n",
            "Epoch 30/200\n",
            "45/45 [==============================] - 60s 1s/step - loss: 0.4776 - accuracy: 0.8262 - val_loss: 0.6302 - val_accuracy: 0.7875\n",
            "Epoch 31/200\n",
            "45/45 [==============================] - 61s 1s/step - loss: 0.5025 - accuracy: 0.8251 - val_loss: 0.9083 - val_accuracy: 0.7195\n",
            "Epoch 32/200\n",
            "45/45 [==============================] - 60s 1s/step - loss: 0.4602 - accuracy: 0.8420 - val_loss: 0.6346 - val_accuracy: 0.7975\n",
            "Epoch 33/200\n",
            "45/45 [==============================] - 60s 1s/step - loss: 0.4491 - accuracy: 0.8473 - val_loss: 0.7232 - val_accuracy: 0.7805\n",
            "Epoch 34/200\n",
            "45/45 [==============================] - 61s 1s/step - loss: 0.4428 - accuracy: 0.8494 - val_loss: 0.6733 - val_accuracy: 0.7904\n",
            "Epoch 35/200\n",
            "45/45 [==============================] - 61s 1s/step - loss: 0.4152 - accuracy: 0.8561 - val_loss: 0.6546 - val_accuracy: 0.8059\n"
          ]
        }
      ]
    },
    {
      "cell_type": "code",
      "source": [
        "# Save best epoch model\n",
        "resnet_tl_model.save(\"data_augmentation_experiments/CNN_RES50V2_BS64_SGD_CW\")"
      ],
      "metadata": {
        "colab": {
          "base_uri": "https://localhost:8080/"
        },
        "id": "USr_SZJXPT-5",
        "outputId": "232f392f-7df2-488d-837a-898268d04bb6"
      },
      "execution_count": 13,
      "outputs": [
        {
          "output_type": "stream",
          "name": "stderr",
          "text": [
            "WARNING:absl:Found untraced functions such as _jit_compiled_convolution_op, _jit_compiled_convolution_op, _jit_compiled_convolution_op, _jit_compiled_convolution_op, _jit_compiled_convolution_op while saving (showing 5 of 53). These functions will not be directly callable after loading.\n"
          ]
        }
      ]
    },
    {
      "cell_type": "code",
      "source": [
        "# Plot the training\n",
        "plt.figure(figsize=(20,5))\n",
        "plt.plot(resnet_tl_history['loss'], label='Training', alpha=.8, color='#ff7f0e')\n",
        "plt.plot(resnet_tl_history['val_loss'], label='Validation', alpha=.8, color='#4D61E2')\n",
        "plt.legend(loc='upper left')\n",
        "plt.title('Categorical Crossentropy')\n",
        "plt.grid(alpha=.3)\n",
        "\n",
        "plt.figure(figsize=(20,5))\n",
        "plt.plot(resnet_tl_history['accuracy'], label='Training', alpha=.8, color='#ff7f0e')\n",
        "plt.plot(resnet_tl_history['val_accuracy'], label='Validation', alpha=.8, color='#4D61E2')\n",
        "plt.legend(loc='upper left')\n",
        "plt.title('Accuracy')\n",
        "plt.grid(alpha=.3)\n",
        "\n",
        "plt.show()"
      ],
      "metadata": {
        "colab": {
          "base_uri": "https://localhost:8080/",
          "height": 655
        },
        "id": "h2pyrnTEYQ8s",
        "outputId": "52f3de20-4ff3-47a8-c869-2c3c74ca6e98"
      },
      "execution_count": 14,
      "outputs": [
        {
          "output_type": "display_data",
          "data": {
            "text/plain": [
              "<Figure size 1440x360 with 1 Axes>"
            ],
            "image/png": "[encoded data removed]"
          },
          "metadata": {
            "needs_background": "light"
          }
        },
        {
          "output_type": "display_data",
          "data": {
            "text/plain": [
              "<Figure size 1440x360 with 1 Axes>"
            ],
            "image/png": "[encoded data removed]"
          },
          "metadata": {
            "needs_background": "light"
          }
        }
      ]
    },
    {
      "cell_type": "markdown",
      "source": [
        "# Training on Original and Augmented Data"
      ],
      "metadata": {
        "id": "hLMolVJ-inrt"
      }
    },
    {
      "cell_type": "code",
      "source": [
        "## Train on original and augmented data\n",
        "from keras.preprocessing.image import ImageDataGenerator\n",
        "\n",
        "valid_data_gen = ImageDataGenerator(rescale=1/255., validation_split=0.2)\n",
        "\n",
        "# Create an instance of ImageDataGenerator with Data Augmentation\n",
        "comb_train_data_gen = ImageDataGenerator(validation_split=0.2,\n",
        "                                        rescale=1/255.) # rescale value is multiplied to the image\n",
        "\n",
        "# Obtain a data generator with the 'ImageDataGenerator.flow_from_directory' method\n",
        "comb_train_gen = comb_train_data_gen.flow_from_directory(directory='/gdrive/My Drive/AN2DL/training_data_combined/training_data_combined',\n",
        "                                                       target_size=(256,256),\n",
        "                                                       color_mode='rgb',\n",
        "                                                       classes=None, # can be set to labels\n",
        "                                                       class_mode='categorical',\n",
        "                                                       batch_size=64,\n",
        "                                                       subset='training',\n",
        "                                                       shuffle=True,\n",
        "                                                       seed=seed)\n",
        "\n",
        "comb_valid_gen = valid_data_gen.flow_from_directory('/gdrive/My Drive/AN2DL/training_data_combined/training_data_combined',\n",
        "                                              target_size=(256,256),\n",
        "                                              batch_size=64,\n",
        "                                              color_mode='rgb',\n",
        "                                              class_mode='categorical',\n",
        "                                              classes=None,\n",
        "                                              subset='validation',\n",
        "                                              shuffle=True,\n",
        "                                              seed=seed)"
      ],
      "metadata": {
        "colab": {
          "base_uri": "https://localhost:8080/"
        },
        "id": "i0E4UI6Hp8fp",
        "outputId": "e5b48d62-2517-4bb1-962b-9f5e7c3b3ec1"
      },
      "execution_count": 9,
      "outputs": [
        {
          "output_type": "stream",
          "name": "stdout",
          "text": [
            "Found 5671 images belonging to 8 classes.\n",
            "Found 1413 images belonging to 8 classes.\n"
          ]
        }
      ]
    },
    {
      "cell_type": "code",
      "source": [
        "from sklearn.utils import class_weight \n",
        "class_weights = class_weight.compute_class_weight(\n",
        "           class_weight='balanced',\n",
        "            classes=np.unique(comb_train_gen.classes), \n",
        "            y=comb_train_gen.classes)\n",
        "class_weights_dict = dict(zip(np.unique(comb_train_gen.classes), class_weights))\n",
        "class_weights_dict"
      ],
      "metadata": {
        "colab": {
          "base_uri": "https://localhost:8080/"
        },
        "id": "cEJAZU-3qHvs",
        "outputId": "8062fdaf-21e0-4a60-9e05-005d4ce51b44"
      },
      "execution_count": 28,
      "outputs": [
        {
          "output_type": "execute_result",
          "data": {
            "text/plain": [
              "{0: 2.3787751677852347,\n",
              " 1: 0.8320129107981221,\n",
              " 2: 0.8602851941747572,\n",
              " 3: 0.8665953545232273,\n",
              " 4: 0.8339705882352941,\n",
              " 5: 1.9912219101123596,\n",
              " 6: 0.8242732558139535,\n",
              " 7: 0.8719249692496925}"
            ]
          },
          "metadata": {},
          "execution_count": 28
        }
      ]
    },
    {
      "cell_type": "code",
      "source": [
        "## InceptionV3\n",
        "iv3 = tf.keras.applications.InceptionV3(weights='imagenet', include_top=False, input_shape=input_shape)\n",
        "inputs = tfk.Input(shape=input_shape)\n",
        "x = iv3(inputs)\n",
        "x = tfkl.Flatten(name='Flattening')(x)\n",
        "x = tfkl.Dropout(0.5, seed=seed)(x)  \n",
        "output_layer = tfkl.Dense(\n",
        "    8, \n",
        "    activation='softmax',\n",
        "    kernel_initializer = tfk.initializers.GlorotUniform(seed),\n",
        "    kernel_regularizer=tf.keras.regularizers.l2(0.0001))(x)\n",
        "\n",
        "\n",
        "tl_model = tfk.Model(inputs=inputs, outputs=output_layer, name='tl_model')\n",
        "\n",
        "# Compile the model\n",
        "tl_model.compile(loss=tfk.losses.CategoricalCrossentropy(), optimizer=tfk.optimizers.SGD(learning_rate=0.0001), metrics=['accuracy'])\n",
        "\n",
        "\n",
        "tl_model.summary()"
      ],
      "metadata": {
        "colab": {
          "base_uri": "https://localhost:8080/"
        },
        "id": "JlpnYvINqasZ",
        "outputId": "83a40747-a1db-45c3-b434-b8fab337684d"
      },
      "execution_count": 31,
      "outputs": [
        {
          "output_type": "stream",
          "name": "stdout",
          "text": [
            "Model: \"tl_model\"\n",
            "_________________________________________________________________\n",
            " Layer (type)                Output Shape              Param #   \n",
            "=================================================================\n",
            " input_18 (InputLayer)       [(None, 256, 256, 3)]     0         \n",
            "                                                                 \n",
            " inception_v3 (Functional)   (None, 6, 6, 2048)        21802784  \n",
            "                                                                 \n",
            " Flattening (Flatten)        (None, 73728)             0         \n",
            "                                                                 \n",
            " dropout_8 (Dropout)         (None, 73728)             0         \n",
            "                                                                 \n",
            " dense_8 (Dense)             (None, 8)                 589832    \n",
            "                                                                 \n",
            "=================================================================\n",
            "Total params: 22,392,616\n",
            "Trainable params: 22,358,184\n",
            "Non-trainable params: 34,432\n",
            "_________________________________________________________________\n"
          ]
        }
      ]
    },
    {
      "cell_type": "code",
      "source": [
        "# Create folders and callbacks and fit\n",
        "iv3_tl_callbacks = create_folders_and_callbacks(model_name='CNN_IV3_BS64_SGD_CW_ALLDATA')\n",
        "\n",
        "# Train the model\n",
        "iv3_tl_history = tl_model.fit(\n",
        "    x = comb_train_gen,\n",
        "    epochs = epochs,\n",
        "    validation_data = comb_valid_gen,\n",
        "    class_weight = class_weights_dict,\n",
        "    callbacks = iv3_tl_callbacks,\n",
        ").history"
      ],
      "metadata": {
        "colab": {
          "base_uri": "https://localhost:8080/"
        },
        "id": "y6BnOFbVqhSW",
        "outputId": "2b981d6e-617f-47a6-b224-40995ed21aa1"
      },
      "execution_count": null,
      "outputs": [
        {
          "output_type": "stream",
          "name": "stdout",
          "text": [
            "Epoch 1/200\n",
            "89/89 [==============================] - 70s 728ms/step - loss: 2.5477 - accuracy: 0.1435 - val_loss: 2.1667 - val_accuracy: 0.1805\n",
            "Epoch 2/200\n",
            "89/89 [==============================] - 63s 711ms/step - loss: 2.3149 - accuracy: 0.1867 - val_loss: 2.0347 - val_accuracy: 0.2222\n",
            "Epoch 3/200\n",
            "89/89 [==============================] - 63s 708ms/step - loss: 2.1692 - accuracy: 0.2116 - val_loss: 1.9208 - val_accuracy: 0.2838\n",
            "Epoch 4/200\n",
            "89/89 [==============================] - 63s 709ms/step - loss: 2.0726 - accuracy: 0.2435 - val_loss: 1.8385 - val_accuracy: 0.3255\n",
            "Epoch 5/200\n",
            "89/89 [==============================] - 63s 712ms/step - loss: 1.9720 - accuracy: 0.2760 - val_loss: 1.7536 - val_accuracy: 0.3687\n",
            "Epoch 6/200\n",
            "31/89 [=========>....................] - ETA: 34s - loss: 1.9126 - accuracy: 0.2894"
          ]
        }
      ]
    },
    {
      "cell_type": "code",
      "source": [
        "# Save best epoch model\n",
        "tl_model.save(\"data_augmentation_experiments/CNN_IV3_BS64_SGD_CW_ALLDATA\")"
      ],
      "metadata": {
        "id": "tpm7qsuRNa4d"
      },
      "execution_count": null,
      "outputs": []
    },
    {
      "cell_type": "markdown",
      "source": [
        "# Confusion Matrix on validation data"
      ],
      "metadata": {
        "id": "SFnx339ni3ou"
      }
    },
    {
      "cell_type": "code",
      "source": [
        "best_model = tfk.models.load_model(\"data_augmentation_experiments/CNN_IV3_BS64_SGD_CW_FT\")\n",
        "best_model.summary()"
      ],
      "metadata": {
        "colab": {
          "base_uri": "https://localhost:8080/"
        },
        "id": "sz4A0oFV_vKZ",
        "outputId": "3364f4df-804c-44f4-c9ff-0320465eaf95"
      },
      "execution_count": 10,
      "outputs": [
        {
          "output_type": "stream",
          "name": "stdout",
          "text": [
            "Model: \"tl_model\"\n",
            "_________________________________________________________________\n",
            " Layer (type)                Output Shape              Param #   \n",
            "=================================================================\n",
            " input_8 (InputLayer)        [(None, 256, 256, 3)]     0         \n",
            "                                                                 \n",
            " inception_v3 (Functional)   (None, 6, 6, 2048)        21802784  \n",
            "                                                                 \n",
            " Flattening (Flatten)        (None, 73728)             0         \n",
            "                                                                 \n",
            " dropout_3 (Dropout)         (None, 73728)             0         \n",
            "                                                                 \n",
            " dense_3 (Dense)             (None, 8)                 589832    \n",
            "                                                                 \n",
            "=================================================================\n",
            "Total params: 22,392,616\n",
            "Trainable params: 13,401,736\n",
            "Non-trainable params: 8,990,880\n",
            "_________________________________________________________________\n"
          ]
        }
      ]
    },
    {
      "cell_type": "code",
      "source": [
        "### Setting shuffle=False for validation generator in order to obtain confusion matrix\n",
        "\n",
        "from keras.preprocessing.image import ImageDataGenerator\n",
        "\n",
        "valid_data_gen = ImageDataGenerator(rescale=1/255., validation_split=0.2)\n",
        "\n",
        "# Create an instance of ImageDataGenerator with Data Augmentation\n",
        "aug_train_data_gen = ImageDataGenerator(rotation_range=90,\n",
        "                                        height_shift_range=50,\n",
        "                                        width_shift_range=50,\n",
        "                                        zoom_range=0.3,\n",
        "                                        horizontal_flip=True,\n",
        "                                        vertical_flip=True, \n",
        "                                        fill_mode='reflect',\n",
        "                                        shear_range=0.2,\n",
        "                                        validation_split=0.2,\n",
        "                                        rescale=1/255.) # rescale value is multiplied to the image\n",
        "\n",
        "# Obtain a data generator with the 'ImageDataGenerator.flow_from_directory' method\n",
        "aug_train_gen = aug_train_data_gen.flow_from_directory(directory='/gdrive/My Drive/AN2DL/training_data_final',\n",
        "                                                       target_size=(256,256),\n",
        "                                                       color_mode='rgb',\n",
        "                                                       classes=None, # can be set to labels\n",
        "                                                       class_mode='categorical',\n",
        "                                                       batch_size=64,\n",
        "                                                       subset='training',\n",
        "                                                       shuffle=True,\n",
        "                                                       seed=seed)\n",
        "\n",
        "valid_gen = valid_data_gen.flow_from_directory('/gdrive/My Drive/AN2DL/training_data_final',\n",
        "                                              target_size=(256,256),\n",
        "                                              batch_size=64,\n",
        "                                              color_mode='rgb',\n",
        "                                              class_mode='categorical',\n",
        "                                              classes=None,\n",
        "                                              subset='validation',\n",
        "                                              shuffle=False,\n",
        "                                              seed=seed)"
      ],
      "metadata": {
        "colab": {
          "base_uri": "https://localhost:8080/"
        },
        "id": "QLYXdrtdQ9a6",
        "outputId": "9affc97f-ed2c-49f5-a6e9-7cb1fc64ac69"
      },
      "execution_count": 38,
      "outputs": [
        {
          "output_type": "stream",
          "name": "stdout",
          "text": [
            "Found 2836 images belonging to 8 classes.\n",
            "Found 706 images belonging to 8 classes.\n"
          ]
        }
      ]
    },
    {
      "cell_type": "code",
      "source": [
        "batch_size=64\n",
        "\n",
        "Y_pred = best_model.predict_generator(valid_gen, valid_gen.samples // batch_size+1)\n",
        "y_pred = np.argmax(Y_pred, axis=-1)\n",
        "\n",
        "print('Confusion Matrix')\n",
        "print(confusion_matrix(valid_gen.classes, y_pred))\n",
        "\n",
        "print('Classification Report')\n",
        "target_names = ['Species1', 'Species2', 'Species3', 'Species4', 'Species5', 'Species6', 'Species7', 'Species8']\n",
        "print(classification_report(valid_gen.classes, y_pred, target_names=target_names))"
      ],
      "metadata": {
        "colab": {
          "base_uri": "https://localhost:8080/"
        },
        "id": "WVvr7R-KA1-M",
        "outputId": "9a5729cd-ad41-46c4-e73e-5acc9118bab4"
      },
      "execution_count": 39,
      "outputs": [
        {
          "output_type": "stream",
          "name": "stderr",
          "text": [
            "/usr/local/lib/python3.7/dist-packages/ipykernel_launcher.py:6: UserWarning: `Model.predict_generator` is deprecated and will be removed in a future version. Please use `Model.predict`, which supports generators.\n",
            "  \n"
          ]
        },
        {
          "output_type": "stream",
          "name": "stdout",
          "text": [
            "Confusion Matrix\n",
            "[[ 28   2   2   1   0   2   0   2]\n",
            " [  0  99   1   1   0   1   1   3]\n",
            " [  1   0  97   0   5   0   0   0]\n",
            " [  0   1   2  94   5   0   0   0]\n",
            " [  1   1   2   4  97   1   0   0]\n",
            " [  2   0   0   0   0  41   0   1]\n",
            " [  0   2   0   0   0   0 103   2]\n",
            " [  5   2   1   0   0   1   1  91]]\n",
            "Classification Report\n",
            "              precision    recall  f1-score   support\n",
            "\n",
            "    Species1       0.76      0.76      0.76        37\n",
            "    Species2       0.93      0.93      0.93       106\n",
            "    Species3       0.92      0.94      0.93       103\n",
            "    Species4       0.94      0.92      0.93       102\n",
            "    Species5       0.91      0.92      0.91       106\n",
            "    Species6       0.89      0.93      0.91        44\n",
            "    Species7       0.98      0.96      0.97       107\n",
            "    Species8       0.92      0.90      0.91       101\n",
            "\n",
            "    accuracy                           0.92       706\n",
            "   macro avg       0.91      0.91      0.91       706\n",
            "weighted avg       0.92      0.92      0.92       706\n",
            "\n"
          ]
        }
      ]
    },
    {
      "cell_type": "code",
      "source": [
        "cm = confusion_matrix(valid_gen.classes, y_pred)\n",
        "label_names=['1', '2', '3', '4', '5', '6', '7', '8']\n",
        "disp = ConfusionMatrixDisplay(confusion_matrix=cm, display_labels=label_names)\n",
        "\n",
        "disp.plot(cmap=plt.cm.PuBu)\n",
        "plt.show()\n",
        "accuracy = accuracy_score(valid_gen.classes, y_pred)\n",
        "precision = precision_score(valid_gen.classes, y_pred, average='macro')\n",
        "recall = recall_score(valid_gen.classes, y_pred, average='macro')\n",
        "f1 = f1_score(valid_gen.classes, y_pred, average='macro')\n",
        "print('Accuracy:',accuracy.round(4))\n",
        "print('Precision:',precision.round(4))\n",
        "print('Recall:',recall.round(4))\n",
        "print('F1 Score:',f1.round(4))\n"
      ],
      "metadata": {
        "colab": {
          "base_uri": "https://localhost:8080/",
          "height": 348
        },
        "id": "V0DoIQlaSL1S",
        "outputId": "90ec6520-fd7a-46c3-8e33-178dd7ed61cc"
      },
      "execution_count": 69,
      "outputs": [
        {
          "output_type": "display_data",
          "data": {
            "text/plain": [
              "<Figure size 432x288 with 2 Axes>"
            ],
            "image/png": "[encoded data removed]"
          },
          "metadata": {
            "needs_background": "light"
          }
        },
        {
          "output_type": "stream",
          "name": "stdout",
          "text": [
            "Accuracy: 0.9207\n",
            "Precision: 0.9055\n",
            "Recall: 0.9081\n",
            "F1 Score: 0.9067\n"
          ]
        }
      ]
    }
  ],
  "metadata": {
    "colab": {
      "provenance": [],
      "collapsed_sections": [
        "jIP7fh_Zjksp",
        "X5uZVUG1b_-u",
        "7oxD4iYpd378",
        "mGDT2TQlfWgy",
        "tUtICYMkeYb2",
        "g9nMM20-eyHt",
        "SbNp44ezgBZ-",
        "CsT45X8jgQbp",
        "4iGw0QJ-gdtc",
        "mQ4M8TAQguDj",
        "nNfrv5gDhPOv",
        "pNC3KoJGhsqv",
        "7VaQOZEaiLYQ",
        "iKmR_37ciWnp",
        "hLMolVJ-inrt",
        "SFnx339ni3ou"
      ]
    },
    "gpuClass": "standard",
    "kernelspec": {
      "display_name": "Python 3",
      "name": "python3"
    },
    "language_info": {
      "name": "python"
    }
  },
  "nbformat": 4,
  "nbformat_minor": 0
}